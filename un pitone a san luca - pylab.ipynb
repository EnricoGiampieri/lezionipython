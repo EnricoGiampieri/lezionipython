{
 "metadata": {
  "name": ""
 },
 "nbformat": 3,
 "nbformat_minor": 0,
 "worksheets": [
  {
   "cells": [
    {
     "cell_type": "code",
     "collapsed": false,
     "input": [
      "import __builtin__ \n",
      "npall, all = all, __builtin__.all \n",
      "npany, any = any, __builtin__.any"
     ],
     "language": "python",
     "metadata": {},
     "outputs": [],
     "prompt_number": 2
    },
    {
     "cell_type": "markdown",
     "metadata": {},
     "source": [
      "# Un pitone a San Luca - Pylab #\n",
      "***\n",
      "\n",
      "<img src=\"files/example_spherical_harmonics.jpg\">\n",
      "***\n"
     ]
    },
    {
     "cell_type": "markdown",
     "metadata": {},
     "source": [
      "##Introduzione a Pylab\n",
      "\n",
      "Con pylab si intende l'unione dei tre pilastri del calcolo numerico in python:\n",
      "\n",
      "* **numpy**, che permette di manipolare in maniera estremamente efficiente array multidimensionali\n",
      "* **scipy**, che contiene una vasta collezione di algoritmi di calcolo numerico (derivate parziali, ottimizzazioni, etc...)\n",
      "* **matplotlib**, libreria di plotting grafico.\n",
      "\n",
      "Pylab raccoglie tutte e tre queste librerie sotto un unico tetto per dare un'interfaccia unificata a tutte le operazioni pi\u00f9 comuni. In seguito vedremo meglio i dettagli di ciascuna libreria, ma per ora ci limiteremo a prendere tutto l'insieme.\n",
      "\n",
      "Per caricare pylab, una volta installate le sue componenti, \u00e8 sufficiente digitare:"
     ]
    },
    {
     "cell_type": "code",
     "collapsed": false,
     "input": [
      "import pylab as plt"
     ],
     "language": "python",
     "metadata": {},
     "outputs": [],
     "prompt_number": 3
    },
    {
     "cell_type": "markdown",
     "metadata": {},
     "source": [
      "Pylab arriva insieme a **matplotlib**, per cui non \u00e8 necessario installare alcun componente aggiuntivo.\n",
      "\n",
      "Per semplificare la comprensione di quali sia la libreria da cui arriva una certa funzione, non faremo riferimento a pylab ma ai seguenti import:\n",
      "\n",
      "    import numpy as np\n",
      "    import matplotlib as mp\n",
      "    import scipy as sp\n",
      "\n",
      "Tutte le principali librerie di calcolo scientifico di python sono costruite intorno alla libreria **numpy**, che fornisce una classe per array multidimensionali ad alta efficienza. Questi array sono molto potenti sia in termini di velocit\u00e0 di calcolo (possono arrivare a diverse centinaia di volte la velocit\u00e0 del python standard, raggiungendo spesso quella di un codice scritto direttamente in C) sia in termini di semplicit\u00e0 d'uso.\n",
      "\n",
      "Contrariamente alle liste python, gli array numpy contengono informazioni dettagliate sia sulla loro struttura dimensionale che sul tipo di dati che contengono. Queste array infatti contengono solo oggetti di tipo uniforme, come ad esempio tutti elementi di tipo float."
     ]
    },
    {
     "cell_type": "markdown",
     "metadata": {},
     "source": [
      "#Analizzare una serie dati\n",
      "\n",
      "Vediamo come usare pylab per esaminare una serie dati.\n",
      "\n",
      "Iniziamo creando una serie di dati casuali distributi con una distribuzione gaussiana ($\\mu=0$,$\\sigma^2=1$). Per fare questo usiamo la funzione **plt.randn**: questa crea un array numpy della forma data. Nel nostro caso consideriamo 4 osservazioni di 10 elementi."
     ]
    },
    {
     "cell_type": "code",
     "collapsed": false,
     "input": [
      "plt.randn(2,5)"
     ],
     "language": "python",
     "metadata": {},
     "outputs": [
      {
       "output_type": "pyout",
       "prompt_number": 16,
       "text": [
        "array([[-0.50006781, -0.07111615, -0.21605968, -1.16990018, -0.21727895],\n",
        "       [ 1.36626311,  1.12029128,  0.65636634,  0.28306488, -0.28463857]])"
       ]
      }
     ],
     "prompt_number": 16
    },
    {
     "cell_type": "code",
     "collapsed": false,
     "input": [
      "data = plt.randn(4,10)"
     ],
     "language": "python",
     "metadata": {},
     "outputs": [],
     "prompt_number": 18
    },
    {
     "cell_type": "markdown",
     "metadata": {},
     "source": [
      "per selezionare solo una delle 4 osservazioni possiamo utilizzare l'indicizzazione come se fosse una normale lista"
     ]
    },
    {
     "cell_type": "code",
     "collapsed": false,
     "input": [
      "data[0]"
     ],
     "language": "python",
     "metadata": {},
     "outputs": [
      {
       "output_type": "pyout",
       "prompt_number": 20,
       "text": [
        "array([ 1.54756316, -0.62228796, -0.80589863,  1.45900674,  0.86514118,\n",
        "       -0.72037621, -2.11475322, -1.40788661,  0.8511506 , -0.70391045])"
       ]
      }
     ],
     "prompt_number": 20
    },
    {
     "cell_type": "markdown",
     "metadata": {},
     "source": [
      "L'indicizzazione degli array numpy \u00e8 per\u00f2 molto pi\u00f9 ricca di quella delle liste. \u00c8 infatti possibile indicizzare su varie dimensioni contemporaneamente. Volendo prendere i primi 5 elementi della seconda e terza osservazioni possiamo usare il seguente comando:"
     ]
    },
    {
     "cell_type": "code",
     "collapsed": false,
     "input": [
      "data[2:4,:5]"
     ],
     "language": "python",
     "metadata": {},
     "outputs": [
      {
       "output_type": "pyout",
       "prompt_number": 24,
       "text": [
        "array([[-1.00823771, -1.54244113, -1.40879892, -0.05470634, -1.40824995],\n",
        "       [ 1.10865836,  0.99403161, -0.48030347,  0.00986498, -2.10121276]])"
       ]
      }
     ],
     "prompt_number": 24
    },
    {
     "cell_type": "markdown",
     "metadata": {},
     "source": [
      "##Gli array\n",
      "\n",
      "Tutte le librerie di calcolo scientifico di python sono costruite intorno alla libreria **numpy**, che fornisce una classe per array multidimensionali ad alta efficienza. Questi array sono molto potenti sia in termini di velocit\u00e0 di calcolo (potete arrivare a diverse centinaia di volte la velocit\u00e0 del python standard) sia in termini di semplicit\u00e0 d'uso.\n",
      "\n",
      "Faremo ora una carrellata dei principi d'uso di questi array e di quali funzioni vi si possono applicare in modo utile.\n",
      "\n",
      "###Creazione di un array\n",
      "Esistono svariati modi per creare un nuovo array. il pi\u00f9 semplice \u00e8 sicuramente crearlo a partire da una normale lista."
     ]
    },
    {
     "cell_type": "code",
     "collapsed": false,
     "input": [
      "array([0, 8, 3])"
     ],
     "language": "python",
     "metadata": {},
     "outputs": [
      {
       "output_type": "pyout",
       "prompt_number": 4,
       "text": [
        "array([0, 8, 3])"
       ]
      }
     ],
     "prompt_number": 4
    },
    {
     "cell_type": "markdown",
     "metadata": {},
     "source": [
      "\u00c8 importanto per\u00f2 notare che gli array di numpy sono pensati per contenere oggetti tutti dello stesso tipo e se necessario converte gli elementi nel tipo appropriato. Se ad esempio trova una float in una lista di interi, tutto l'array risulter\u00e0 essere composto di float"
     ]
    },
    {
     "cell_type": "code",
     "collapsed": false,
     "input": [
      "array([0, 8, 3, 1.0])"
     ],
     "language": "python",
     "metadata": {},
     "outputs": [
      {
       "output_type": "pyout",
       "prompt_number": 6,
       "text": [
        "array([ 0.,  8.,  3.,  1.])"
       ]
      }
     ],
     "prompt_number": 6
    },
    {
     "cell_type": "markdown",
     "metadata": {},
     "source": [
      "se contiene un carattere (o una stringa), l'intero array viene convertito in caratteri (o stringhe di caratteri della lunghezza appropriata).\n",
      "Il tipo viene indicato dalla variabile dtype che vediamo in fondo."
     ]
    },
    {
     "cell_type": "code",
     "collapsed": false,
     "input": [
      "array([0, 8, 3, 's'])"
     ],
     "language": "python",
     "metadata": {},
     "outputs": [
      {
       "output_type": "pyout",
       "prompt_number": 9,
       "text": [
        "array(['0', '8', '3', 's'], \n",
        "      dtype='|S1')"
       ]
      }
     ],
     "prompt_number": 9
    },
    {
     "cell_type": "code",
     "collapsed": false,
     "input": [
      "array([0, 8, 3, 'salve'])"
     ],
     "language": "python",
     "metadata": {},
     "outputs": [
      {
       "output_type": "pyout",
       "prompt_number": 10,
       "text": [
        "array(['0', '8', '3', 'salve'], \n",
        "      dtype='|S5')"
       ]
      }
     ],
     "prompt_number": 10
    },
    {
     "cell_type": "markdown",
     "metadata": {},
     "source": [
      "Possiamo usare questo parametro per forzare la conversione nel caso ad esempio si volesse forzare l'array ad essere di tipo intero.\n",
      "\n",
      "Questo pu\u00f2 portare a dei problemi se cerco per\u00e0 di convertire cose che non sono convertibili (nupmy cercher\u00e0 comunque di fare il suo meglio, ad esempio convertendo le stringhe in numeri quando possibile)"
     ]
    },
    {
     "cell_type": "code",
     "collapsed": false,
     "input": [
      "#converto in int anche un valore float, che avrebbe forzato l'array come float\n",
      "array([0, 8, 3, 3.],dtype=int)"
     ],
     "language": "python",
     "metadata": {},
     "outputs": [
      {
       "output_type": "pyout",
       "prompt_number": 17,
       "text": [
        "array([0, 8, 3, 3])"
       ]
      }
     ],
     "prompt_number": 17
    },
    {
     "cell_type": "code",
     "collapsed": false,
     "input": [
      "#converto i unsigned int a 64 bit\n",
      "array([0, 8, 3, 3.],dtype=np.uint64)"
     ],
     "language": "python",
     "metadata": {},
     "outputs": [
      {
       "output_type": "pyout",
       "prompt_number": 35,
       "text": [
        "array([0, 8, 3, 3], dtype=uint64)"
       ]
      }
     ],
     "prompt_number": 35
    },
    {
     "cell_type": "code",
     "collapsed": false,
     "input": [
      "#riesco a convertire stringhe contenenti numeri del tipo appropriato\n",
      "print array([0, 8, 3, '3'],dtype=int)\n",
      "print array([0, 8, 3, '3.4'],dtype=float)\n",
      "print array([0, 8, 3, 2],dtype=complex)"
     ],
     "language": "python",
     "metadata": {},
     "outputs": [
      {
       "output_type": "stream",
       "stream": "stdout",
       "text": [
        "[0 8 3 3]\n",
        "[ 0.   8.   3.   3.4]\n",
        "[ 0.+0.j  8.+0.j  3.+0.j  2.+0.j]\n"
       ]
      }
     ],
     "prompt_number": 40
    },
    {
     "cell_type": "code",
     "collapsed": false,
     "input": [
      "#ma si rifiuta di lavorare con dati insensati\n",
      "array([0, 8, 3, 'a'],dtype=int)"
     ],
     "language": "python",
     "metadata": {},
     "outputs": [
      {
       "ename": "ValueError",
       "evalue": "invalid literal for long() with base 10: 'a'",
       "output_type": "pyerr",
       "traceback": [
        "\u001b[0;31m---------------------------------------------------------------------------\u001b[0m\n\u001b[0;31mValueError\u001b[0m                                Traceback (most recent call last)",
        "\u001b[0;32m<ipython-input-41-75f8516c7354>\u001b[0m in \u001b[0;36m<module>\u001b[0;34m()\u001b[0m\n\u001b[1;32m      1\u001b[0m \u001b[0;31m#ma si rifiuta di lavorare con dati insensati\u001b[0m\u001b[0;34m\u001b[0m\u001b[0;34m\u001b[0m\u001b[0m\n\u001b[0;32m----> 2\u001b[0;31m \u001b[0marray\u001b[0m\u001b[0;34m(\u001b[0m\u001b[0;34m[\u001b[0m\u001b[0;36m0\u001b[0m\u001b[0;34m,\u001b[0m \u001b[0;36m8\u001b[0m\u001b[0;34m,\u001b[0m \u001b[0;36m3\u001b[0m\u001b[0;34m,\u001b[0m \u001b[0;34m'a'\u001b[0m\u001b[0;34m]\u001b[0m\u001b[0;34m,\u001b[0m\u001b[0mdtype\u001b[0m\u001b[0;34m=\u001b[0m\u001b[0mint\u001b[0m\u001b[0;34m)\u001b[0m\u001b[0;34m\u001b[0m\u001b[0m\n\u001b[0m",
        "\u001b[0;31mValueError\u001b[0m: invalid literal for long() with base 10: 'a'"
       ]
      }
     ],
     "prompt_number": 41
    },
    {
     "cell_type": "markdown",
     "metadata": {},
     "source": [
      "array multidimensionali possono essere creati inizializzandoli con liste di liste (di liste di liste ...)"
     ]
    },
    {
     "cell_type": "code",
     "collapsed": false,
     "input": [
      "#bidimensionale\n",
      "array([[0, 8, 3], [5, 2, 7]])"
     ],
     "language": "python",
     "metadata": {},
     "outputs": [
      {
       "output_type": "pyout",
       "prompt_number": 1,
       "text": [
        "array([[0, 8, 3],\n",
        "       [5, 2, 7]])"
       ]
      }
     ],
     "prompt_number": 1
    },
    {
     "cell_type": "code",
     "collapsed": false,
     "input": [
      "#tridimensionale\n",
      "array([[[0, 8, 3], [5, 2, 7]],[[1, 2, 3],[4, 5, 6]]])"
     ],
     "language": "python",
     "metadata": {},
     "outputs": [
      {
       "output_type": "pyout",
       "prompt_number": 2,
       "text": [
        "array([[[0, 8, 3],\n",
        "        [5, 2, 7]],\n",
        "\n",
        "       [[1, 2, 3],\n",
        "        [4, 5, 6]]])"
       ]
      }
     ],
     "prompt_number": 2
    },
    {
     "cell_type": "markdown",
     "metadata": {},
     "source": [
      "Esistono anche dei costruttori speciali per vari tipi di matrici di uso comune:\n",
      "\n",
      "* **zeros** per le array piene di zeri\n",
      "* **ones** per le array pieni di uno\n",
      "* **eye** per le matrici quadrate diagonali unitarie\n",
      "\n",
      "A **zeros** ed **ones** basta passare la forma desiderata della matrice sotto forma di tupla, mentre ad **eye** bisogna passare il numero di righe e colonne desiderate"
     ]
    },
    {
     "cell_type": "code",
     "collapsed": false,
     "input": [
      "shape = (5,5)\n",
      "np.ones(shape)"
     ],
     "language": "python",
     "metadata": {},
     "outputs": [
      {
       "output_type": "pyout",
       "prompt_number": 4,
       "text": [
        "array([[ 1.,  1.,  1.,  1.,  1.],\n",
        "       [ 1.,  1.,  1.,  1.,  1.],\n",
        "       [ 1.,  1.,  1.,  1.,  1.],\n",
        "       [ 1.,  1.,  1.,  1.,  1.],\n",
        "       [ 1.,  1.,  1.,  1.,  1.]])"
       ]
      }
     ],
     "prompt_number": 4
    },
    {
     "cell_type": "code",
     "collapsed": false,
     "input": [
      "shape = (3,3,3)\n",
      "np.zeros(shape)"
     ],
     "language": "python",
     "metadata": {},
     "outputs": [
      {
       "output_type": "pyout",
       "prompt_number": 7,
       "text": [
        "array([[[ 0.,  0.,  0.],\n",
        "        [ 0.,  0.,  0.],\n",
        "        [ 0.,  0.,  0.]],\n",
        "\n",
        "       [[ 0.,  0.,  0.],\n",
        "        [ 0.,  0.,  0.],\n",
        "        [ 0.,  0.,  0.]],\n",
        "\n",
        "       [[ 0.,  0.,  0.],\n",
        "        [ 0.,  0.,  0.],\n",
        "        [ 0.,  0.,  0.]]])"
       ]
      }
     ],
     "prompt_number": 7
    },
    {
     "cell_type": "markdown",
     "metadata": {},
     "source": [
      "\u00c8 possibile costruire array contenenti numeri casuali estratti da varie distribuzioni tramite i metodi forniti dal sottomodulo random, specificando oltre ai parametri della distribuzione anche la forma dell'array che si vuole generare"
     ]
    },
    {
     "cell_type": "code",
     "collapsed": false,
     "input": [
      "print dir(np.random)"
     ],
     "language": "python",
     "metadata": {},
     "outputs": [
      {
       "output_type": "stream",
       "stream": "stdout",
       "text": [
        "['RandomState', 'Tester', '__RandomState_ctor', '__all__', '__builtins__', '__doc__', '__file__', '__name__', '__package__', '__path__', 'bench', 'beta', 'binomial', 'bytes', 'chisquare', 'dirichlet', 'exponential', 'f', 'gamma', 'geometric', 'get_state', 'gumbel', 'hypergeometric', 'info', 'laplace', 'logistic', 'lognormal', 'logseries', 'mtrand', 'multinomial', 'multivariate_normal', 'negative_binomial', 'noncentral_chisquare', 'noncentral_f', 'normal', 'np', 'pareto', 'permutation', 'poisson', 'power', 'rand', 'randint', 'randn', 'random', 'random_integers', 'random_sample', 'ranf', 'rayleigh', 'sample', 'seed', 'set_state', 'shuffle', 'standard_cauchy', 'standard_exponential', 'standard_gamma', 'standard_normal', 'standard_t', 'test', 'triangular', 'uniform', 'vonmises', 'wald', 'weibull', 'zipf']\n"
       ]
      }
     ],
     "prompt_number": 13
    },
    {
     "cell_type": "code",
     "collapsed": false,
     "input": [
      "np.random.random()"
     ],
     "language": "python",
     "metadata": {},
     "outputs": [
      {
       "output_type": "pyout",
       "prompt_number": 15,
       "text": [
        "0.8675009916400219"
       ]
      }
     ],
     "prompt_number": 15
    },
    {
     "cell_type": "code",
     "collapsed": false,
     "input": [
      "np.random.normal(size=(7,2))"
     ],
     "language": "python",
     "metadata": {},
     "outputs": [
      {
       "output_type": "pyout",
       "prompt_number": 21,
       "text": [
        "array([[ 0.49125009,  1.06339969],\n",
        "       [ 0.83834718,  0.09261877],\n",
        "       [-1.30949672,  0.36442366],\n",
        "       [ 0.29210591, -0.66219091],\n",
        "       [ 0.98238834,  0.43988122],\n",
        "       [ 2.12240828, -0.50536833],\n",
        "       [ 0.11424164,  1.58253295]])"
       ]
      }
     ],
     "prompt_number": 21
    },
    {
     "cell_type": "markdown",
     "metadata": {},
     "source": [
      "In questo module tre metodi risultano utili per lavorare sulle sequenze:\n",
      "\n",
      "* **permutation**, che restituisce una permutazione casuale degli elementi dell'array fornito\n",
      "* **shuffle**, che compie lo stesso identico lavoro ma modificando l'array sul posto, senza crearne una copia\n",
      "\n",
      "Se fosse necessario effettuare dei test su di una sequenza casuale, \u00e8 possibile impostare il seed random iniziale tramite la funzione **seed**. impostare"
     ]
    },
    {
     "cell_type": "markdown",
     "metadata": {},
     "source": [
      "###Manipolare la forma degli array\n",
      "\n",
      "Modificare la forma degli array \u00e8 estremamente facile e molto efficiente. L'unico vincolo \u00e8 che il numero complessivo di elementi rimanga lo stesso"
     ]
    },
    {
     "cell_type": "code",
     "collapsed": false,
     "input": [],
     "language": "python",
     "metadata": {},
     "outputs": []
    },
    {
     "cell_type": "markdown",
     "metadata": {},
     "source": [
      "###Operazioni sugli array\n",
      "\n",
      "Uno dei grandi vantaggi degli array di numpy \u00e8 che permettono di esprimere in modo molto smeplice le operazioni matematiche sull'intero array.\n",
      "Sommare un intero ad un array aumenta il valore di tutti i suoi elementi, mentre sommare due array con le stesse dimensioni effettua la somma elemento per elemento"
     ]
    },
    {
     "cell_type": "code",
     "collapsed": false,
     "input": [
      "array([1,2,3]) + 1"
     ],
     "language": "python",
     "metadata": {},
     "outputs": [
      {
       "output_type": "pyout",
       "prompt_number": 35,
       "text": [
        "array([2, 3, 4])"
       ]
      }
     ],
     "prompt_number": 35
    },
    {
     "cell_type": "code",
     "collapsed": false,
     "input": [
      "array([1,2,3]) + array([9,8,7])"
     ],
     "language": "python",
     "metadata": {},
     "outputs": [
      {
       "output_type": "pyout",
       "prompt_number": 36,
       "text": [
        "array([10, 10, 10])"
       ]
      }
     ],
     "prompt_number": 36
    },
    {
     "cell_type": "markdown",
     "metadata": {},
     "source": [
      "Operazioni fra array con lunghezza della dimensione corrispondente differente comportano errore, quindi non \u00e8 possibile sommare un array lungo 3 ad uno lungo 4.\n",
      "\n",
      "Se per\u00f2 la lunghezza di una di queste dimensioni fosse 1, viene effettuato il cosiddetto **broadcasting**, ripetendo l'array lungo la dimensione 1 pi\u00f9 volte fino ad avere una dimensione compatibile con quella del secondo array"
     ]
    },
    {
     "cell_type": "code",
     "collapsed": false,
     "input": [
      "array(range(6)).shape"
     ],
     "language": "python",
     "metadata": {},
     "outputs": [
      {
       "output_type": "pyout",
       "prompt_number": 42,
       "text": [
        "(6,)"
       ]
      }
     ],
     "prompt_number": 42
    },
    {
     "cell_type": "code",
     "collapsed": false,
     "input": [
      "import sys\n",
      "from PyQt4.QtGui import *\n",
      "app = QApplication(sys.argv)\n",
      "button = QPushButton(\"Hello World\", None)\n",
      "button.show()\n",
      "app.exec_()"
     ],
     "language": "python",
     "metadata": {},
     "outputs": [
      {
       "output_type": "pyout",
       "prompt_number": 43,
       "text": [
        "0"
       ]
      }
     ],
     "prompt_number": 43
    },
    {
     "cell_type": "code",
     "collapsed": false,
     "input": [],
     "language": "python",
     "metadata": {},
     "outputs": []
    }
   ],
   "metadata": {}
  }
 ]
}