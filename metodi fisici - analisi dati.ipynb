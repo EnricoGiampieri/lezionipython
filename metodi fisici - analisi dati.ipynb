{
 "cells": [
  {
   "cell_type": "markdown",
   "metadata": {},
   "source": [
    "----\n",
    "# analisi dati in Python\n",
    "\n",
    "----\n",
    "\n",
    "Oggi vedremo quali siano le possibilità fornite dal linguaggio Python per l'analisi dati. Non entrerò nel dettaglio delle potenzialità delle singole librerie, ma mi limiterò soltanto a darvene un'assaggio per farvi rendere conto delle potenzialità. Tutte le librerie di cui vi parlerò sono ampiamente testate e *production-ready*, nonchè guidati da sviluppatori attivi ed una comunità pronta a dare una mano.\n",
    "\n",
    "Potete trovare questa lezione (ed altre) sul mio sito github:\n",
    "\n",
    "https://github.com/EnricoGiampieri/lezionipython\n",
    "\n",
    "In generale, quando ci prepariamo a fare dell'analisi dati, possiamo dividere il nostro lavoro concettualmente in tre fasi:\n",
    "\n",
    "- preparazione, pulizia e normalizzazione dei dati\n",
    "- creazione ed esplorazione dei modelli\n",
    "- test dei risultati\n",
    "\n",
    "La prima parte viene gestita dalla libreria **pandas**, mentre la terza è affidata principalmente al buon senso ed all'esperienza. Per quanto rigurda la fase centrale, la più interessante, vi parlerò di tre librerie che a mio parere sono le punte di diamante dell'analisi dati in python, pur essendo lontane dall'essere le uniche.\n",
    "\n",
    "Queste tre librerie rappresentano i tre principali metodi disponibili in python per tre differenti approcci ai dati. Questi tre approcci condividono moltissime caratteristiche ed una distinzione precisa risulta impossibile.\n",
    "\n",
    "- il **machine learning** si preoccupa soprattutto di creare delle \"macchine\" che siano in grado di **prevedere** dei dati. Ad esempio siano in grado di prevedere l'evolvere di una malattia date le caratteristiche del paziente. Questo approccio non si preoccupa molto di quale sia la maniera in cui si arriva al risultato, ed è spesso una maniera di lavorare che sfrutta le cosiddette **black-box**, ovvero macchine il cui funzionamento non è facilmente comprensibile in termini umani. Il risultato classico di questo approccio è una macchina di previsione di cui sia nota la capacità di previsione (quante volte indica la risposta corretta). Esempi classici sono le reti neurali e le support vector machine\n",
    "- la **statistica inferenziale** cerca invece di descrivere un modello a partire dai dati, e si preoccupa molto dell'interpretabilità delle componenti del modello stesso, della loro significatività e della loro interazione. Il risultato delle procedure è un modello (con relativa interpretazione) del quale sia specificato il p-value, ovvero il grado di significatività (quanto è plausibile che il modello stia descrivendo fornendo informazioni sui dati), sia a livello di intero modello che di singole componenti. Tipici esempi sono i fit lineari o i fit logistici.\n",
    "- la **statistica bayesiana** invece si preoccupa dell'adattamento di un singolo modello ad dei dati andando da definire non un p-value bensì una distribuzione di probabilità congiunta per tutti i parametri che descrivono quel modello. Questo caratterizza quindi la bontà del modello in termini di precisione di queste distribuzioni. È un metodo computazionalmente oneroso che ha però il vantaggio di permettere di inserire la conoscenza a priori possieduta sui dati, ad esempio analizzando il risultato di un sintomo medico in termini della frequenza delle varie malattie che possono dare quel sintomo.\n",
    "\n",
    "Per la statistica inferenziale vedremo **statsmodels**, per il machine learning vedremo **scikits.learn** mentre per la statistica bayesiana utilizzeremo **pymc**.\n",
    "\n",
    "Ricordatevi che tutte queste librerie vi forniscono vari metodi di analizzare i dati, ed altrettanti per impiccarvi da soli. Scegliere il giusto modello da applicare di caso in caso e, soprattutto, testare che i risultati del modello scelto siano sensati e non della spazzatura richiedono un lavoro meticoloso di test sia dei dati in ingresso che dei dati in uscita.\n",
    "\n",
    "**Ricordate sempre che se date in pasto al computer dati o modelli spazzatura, non avrete che spazzatura in uscita.**\n",
    "\n",
    "Ognuna di queste librerie fornisce metodi di diagnostica dei risultati, ma come sempre è necessaria l'applicazione di una buona dose di buon senso, pazienza e meticolosità."
   ]
  },
  {
   "cell_type": "markdown",
   "metadata": {},
   "source": [
    "----\n",
    "## Installare le librerie\n",
    "\n",
    "le librerie che sono necessarie per riprodurre questa lezione, oltre a quelle già citate, sono:\n",
    "\n",
    "- *numpy*, che fornisce la struttura dati degli array numerici multidimensionali ed è la base di tutto il calcolo scientifico in python\n",
    "- *scipy*, che contiene moltissime funzioni di calcolo scientifico applicare agli array di numpy\n",
    "- *matplotlib*, che fornisce le routine di visualizzazione grafica\n",
    "- *ipython*, che è il programma che permette di creare questi notebook misti HTML/codice\n",
    "\n",
    "Per installare tutte le librerie si puà sfruttare il programma pip, che permette di scaricare e compilare tutte le librerie python richieste e le loro dipendenze. Sotto ubuntu posso ottenere tutto il necessario con le seguenti righe di codice:\n",
    "\n",
    "    sudo apt-get install python-pip build-essential\n",
    "\n",
    "    sudo pip install -U numpy\n",
    "    sudo pip install -U scipy\n",
    "    sudo pip install -U matplotlib\n",
    "    sudo pip install -U ipython\n",
    "    sudo pip install -U pandas\n",
    "    sudo pip install -U seaborn\n",
    "    sudo pip install -U patsy\n",
    "    sudo pip install -U statsmodels\n",
    "    sudo pip install -U scikit-learn\n",
    "    sudo pip install -U pymc\n",
    "\n",
    "Una maniera più smeplice per procurarsi (quasi) tutto il necessario è richiedere un'account accademico alla Entought per scaricare la Enthought Python Distribution (EPD, http://www.enthought.com/products/epd.php), un pacchetto che racchiude molte delle librerie più famose di python già predisposte a funzionare per il sistema di riferimento.\n",
    "\n",
    "In ogni caso sono sempre disponibile per dare una mano con l'installazione e la configurazione :)"
   ]
  },
  {
   "cell_type": "markdown",
   "metadata": {},
   "source": [
    "----\n",
    "# Pandas - Gestione di Dataframe\n",
    "\n",
    "http://pandas.pydata.org/\n",
    "\n",
    "Pandas è una libreria molto potente per la **gestione** dei dati, ovvero lettura e manipolazione in preparazione di una successiva elaborazione."
   ]
  },
  {
   "cell_type": "code",
   "execution_count": 31,
   "metadata": {
    "collapsed": false
   },
   "outputs": [],
   "source": [
    "import pandas as pd\n",
    "import pandas\n",
    "%matplotlib inline"
   ]
  },
  {
   "cell_type": "markdown",
   "metadata": {},
   "source": [
    "Pandas è composto da due oggetti fondamentali, la **Series** ed il **DataFrame**. La *Series* è un insieme ordinato di coppie chiave-valore, in cui il tipo di valori è omogeneo "
   ]
  },
  {
   "cell_type": "code",
   "execution_count": 2,
   "metadata": {
    "collapsed": false
   },
   "outputs": [
    {
     "data": {
      "text/plain": [
       "a    1\n",
       "b    2\n",
       "c    3\n",
       "d    4\n",
       "dtype: int64"
      ]
     },
     "execution_count": 2,
     "metadata": {},
     "output_type": "execute_result"
    }
   ],
   "source": [
    "serie = pd.Series([1,2,3,4], ['a', 'b', 'c', 'd'])\n",
    "serie"
   ]
  },
  {
   "cell_type": "markdown",
   "metadata": {},
   "source": [
    "Ogni Serie possiede un indice e dei valori, rappresentati internamente come un array numpy, ed ha associato quindi anche il tipo di dati contenuti dentro l'array"
   ]
  },
  {
   "cell_type": "code",
   "execution_count": 4,
   "metadata": {
    "collapsed": false
   },
   "outputs": [
    {
     "name": "stdout",
     "output_type": "stream",
     "text": [
      "Index(['a', 'b', 'c', 'd'], dtype='object')\n",
      "[1 2 3 4]\n",
      "int64\n"
     ]
    }
   ],
   "source": [
    "print(serie.index)\n",
    "print(serie.values)\n",
    "print(serie.dtype)"
   ]
  },
  {
   "cell_type": "markdown",
   "metadata": {},
   "source": [
    "Diverse funzioni statistiche (di cui qui sono sono rappresentate sono una minima parte) sono disponibili sulla serie, ed inoltre quasi tutte le funzioni delle librerie numpy, scipy e matplotlib funzionano egregiamente"
   ]
  },
  {
   "cell_type": "code",
   "execution_count": 5,
   "metadata": {
    "collapsed": false
   },
   "outputs": [
    {
     "name": "stdout",
     "output_type": "stream",
     "text": [
      "2.5\n",
      "10\n",
      "1\n"
     ]
    }
   ],
   "source": [
    "print(serie.mean())\n",
    "print(serie.sum())\n",
    "print(serie.min())"
   ]
  },
  {
   "cell_type": "markdown",
   "metadata": {},
   "source": [
    "È possibile ottenere gli elementi della serie in varie maniere, sia tramite indicizzazione diretta che tramite condizioni logiche"
   ]
  },
  {
   "cell_type": "code",
   "execution_count": 6,
   "metadata": {
    "collapsed": false
   },
   "outputs": [
    {
     "data": {
      "text/plain": [
       "1"
      ]
     },
     "execution_count": 6,
     "metadata": {},
     "output_type": "execute_result"
    }
   ],
   "source": [
    "serie['a']"
   ]
  },
  {
   "cell_type": "code",
   "execution_count": 7,
   "metadata": {
    "collapsed": false
   },
   "outputs": [
    {
     "data": {
      "text/plain": [
       "a    False\n",
       "b    False\n",
       "c     True\n",
       "d     True\n",
       "dtype: bool"
      ]
     },
     "execution_count": 7,
     "metadata": {},
     "output_type": "execute_result"
    }
   ],
   "source": [
    "serie > 2"
   ]
  },
  {
   "cell_type": "code",
   "execution_count": 8,
   "metadata": {
    "collapsed": false
   },
   "outputs": [
    {
     "data": {
      "text/plain": [
       "c    3\n",
       "d    4\n",
       "dtype: int64"
      ]
     },
     "execution_count": 8,
     "metadata": {},
     "output_type": "execute_result"
    }
   ],
   "source": [
    "a = serie[serie>2]\n",
    "a"
   ]
  },
  {
   "cell_type": "markdown",
   "metadata": {},
   "source": [
    "Una delle funzioni però più utili delle Serie è la capacità di allineare direttamente gli indici di due serie differenti. Se ho ad esempio una serie con indici in parziale sovrapposizione con quelli della mia serie iniziale, posso compiere operazioni come somma e prodotti e pandas si occuperà automaticamente di sommare gli indici giusti fra di loro"
   ]
  },
  {
   "cell_type": "code",
   "execution_count": 9,
   "metadata": {
    "collapsed": false
   },
   "outputs": [
    {
     "data": {
      "text/plain": [
       "a    5\n",
       "c    6\n",
       "e    9\n",
       "dtype: int64"
      ]
     },
     "execution_count": 9,
     "metadata": {},
     "output_type": "execute_result"
    }
   ],
   "source": [
    "serie2 = pd.Series([5, 6, 9], ['a', 'c', 'e'])\n",
    "serie2"
   ]
  },
  {
   "cell_type": "code",
   "execution_count": 10,
   "metadata": {
    "collapsed": false
   },
   "outputs": [
    {
     "data": {
      "text/plain": [
       "a     6\n",
       "b   NaN\n",
       "c     9\n",
       "d   NaN\n",
       "e   NaN\n",
       "dtype: float64"
      ]
     },
     "execution_count": 10,
     "metadata": {},
     "output_type": "execute_result"
    }
   ],
   "source": [
    "serie+serie2"
   ]
  },
  {
   "cell_type": "code",
   "execution_count": 11,
   "metadata": {
    "collapsed": false
   },
   "outputs": [
    {
     "data": {
      "text/plain": [
       "a    6\n",
       "b    2\n",
       "c    9\n",
       "d    4\n",
       "e    9\n",
       "dtype: float64"
      ]
     },
     "execution_count": 11,
     "metadata": {},
     "output_type": "execute_result"
    }
   ],
   "source": [
    "serie.add(serie2, fill_value=0)"
   ]
  },
  {
   "cell_type": "markdown",
   "metadata": {},
   "source": [
    "----\n",
    "Un **DataFrame** rappresenta invece una tabella di dati, divisi in colonne di tipo omogeneo che condividono un'indicizzazione per riga. Ogni colonna è rappresentata da una serie, e quindi il DataFrame eredita naturalmente le capacità di allineamento delle serie."
   ]
  },
  {
   "cell_type": "code",
   "execution_count": 12,
   "metadata": {
    "collapsed": false
   },
   "outputs": [
    {
     "data": {
      "text/html": [
       "<div>\n",
       "<table border=\"1\" class=\"dataframe\">\n",
       "  <thead>\n",
       "    <tr style=\"text-align: right;\">\n",
       "      <th></th>\n",
       "      <th>A</th>\n",
       "      <th>B</th>\n",
       "      <th>C</th>\n",
       "    </tr>\n",
       "  </thead>\n",
       "  <tbody>\n",
       "    <tr>\n",
       "      <th>one</th>\n",
       "      <td>1</td>\n",
       "      <td>4</td>\n",
       "      <td>7</td>\n",
       "    </tr>\n",
       "    <tr>\n",
       "      <th>two</th>\n",
       "      <td>2</td>\n",
       "      <td>5</td>\n",
       "      <td>8</td>\n",
       "    </tr>\n",
       "    <tr>\n",
       "      <th>three</th>\n",
       "      <td>3</td>\n",
       "      <td>6</td>\n",
       "      <td>9</td>\n",
       "    </tr>\n",
       "  </tbody>\n",
       "</table>\n",
       "</div>"
      ],
      "text/plain": [
       "       A  B  C\n",
       "one    1  4  7\n",
       "two    2  5  8\n",
       "three  3  6  9"
      ]
     },
     "execution_count": 12,
     "metadata": {},
     "output_type": "execute_result"
    }
   ],
   "source": [
    "pd.DataFrame({'A': [1, 2, 3], 'B': [4, 5, 6], 'C':[7, 8, 9]}, \n",
    "            index=[\"one\", \"two\", \"three\"])"
   ]
  },
  {
   "cell_type": "code",
   "execution_count": 13,
   "metadata": {
    "collapsed": false
   },
   "outputs": [
    {
     "data": {
      "text/html": [
       "<div>\n",
       "<table border=\"1\" class=\"dataframe\">\n",
       "  <thead>\n",
       "    <tr style=\"text-align: right;\">\n",
       "      <th></th>\n",
       "      <th>A</th>\n",
       "      <th>B</th>\n",
       "      <th>C</th>\n",
       "    </tr>\n",
       "  </thead>\n",
       "  <tbody>\n",
       "    <tr>\n",
       "      <th>one</th>\n",
       "      <td>1</td>\n",
       "      <td>2</td>\n",
       "      <td>3</td>\n",
       "    </tr>\n",
       "    <tr>\n",
       "      <th>two</th>\n",
       "      <td>4</td>\n",
       "      <td>5</td>\n",
       "      <td>6</td>\n",
       "    </tr>\n",
       "    <tr>\n",
       "      <th>three</th>\n",
       "      <td>7</td>\n",
       "      <td>8</td>\n",
       "      <td>9</td>\n",
       "    </tr>\n",
       "  </tbody>\n",
       "</table>\n",
       "</div>"
      ],
      "text/plain": [
       "       A  B  C\n",
       "one    1  2  3\n",
       "two    4  5  6\n",
       "three  7  8  9"
      ]
     },
     "execution_count": 13,
     "metadata": {},
     "output_type": "execute_result"
    }
   ],
   "source": [
    "data = [[1, 2, 3], [4, 5, 6], [7, 8, 9]]\n",
    "dataframe = pd.DataFrame(data, index=['one', 'two', 'three'], columns=[\"A\", \"B\", \"C\"])\n",
    "dataframe"
   ]
  },
  {
   "cell_type": "markdown",
   "metadata": {},
   "source": [
    "È possibile accedere alle colonne di un dataframe come se fosse un dizionario (in modo quindi simile a quanto visto con le serie)"
   ]
  },
  {
   "cell_type": "code",
   "execution_count": 14,
   "metadata": {
    "collapsed": false
   },
   "outputs": [
    {
     "data": {
      "text/plain": [
       "one      1\n",
       "two      4\n",
       "three    7\n",
       "Name: A, dtype: int64"
      ]
     },
     "execution_count": 14,
     "metadata": {},
     "output_type": "execute_result"
    }
   ],
   "source": [
    "dataframe['A']"
   ]
  },
  {
   "cell_type": "code",
   "execution_count": 15,
   "metadata": {
    "collapsed": false
   },
   "outputs": [
    {
     "data": {
      "text/plain": [
       "1"
      ]
     },
     "execution_count": 15,
     "metadata": {},
     "output_type": "execute_result"
    }
   ],
   "source": [
    "dataframe['A']['one']"
   ]
  },
  {
   "cell_type": "markdown",
   "metadata": {},
   "source": [
    "**pandas** possiede delle eccezionali routines di lettura, estremamente rapide, robuste e configurabili. Permette di leggere file di testo, excel, ma anche tabelle HDF5, stata, ed addirittura scaricare direttamente dei dataset online, formattando anche le tabelle html presenti nelle varie pagine."
   ]
  },
  {
   "cell_type": "code",
   "execution_count": 143,
   "metadata": {
    "collapsed": false
   },
   "outputs": [],
   "source": [
    "res = pd.read_html('https://en.wikipedia.org/wiki/List_of_United_States_cities_by_population',\n",
    "                  header=0)"
   ]
  },
  {
   "cell_type": "code",
   "execution_count": 145,
   "metadata": {
    "collapsed": false
   },
   "outputs": [
    {
     "data": {
      "text/html": [
       "<div>\n",
       "<table border=\"1\" class=\"dataframe\">\n",
       "  <thead>\n",
       "    <tr style=\"text-align: right;\">\n",
       "      <th></th>\n",
       "      <th>City</th>\n",
       "      <th>State[5]</th>\n",
       "      <th>2014 estimate</th>\n",
       "      <th>2010 Census</th>\n",
       "      <th>Change</th>\n",
       "      <th>2014 land area</th>\n",
       "      <th>2010 population density</th>\n",
       "      <th>Location</th>\n",
       "    </tr>\n",
       "    <tr>\n",
       "      <th>2014 rank</th>\n",
       "      <th></th>\n",
       "      <th></th>\n",
       "      <th></th>\n",
       "      <th></th>\n",
       "      <th></th>\n",
       "      <th></th>\n",
       "      <th></th>\n",
       "      <th></th>\n",
       "    </tr>\n",
       "  </thead>\n",
       "  <tbody>\n",
       "    <tr>\n",
       "      <th>1</th>\n",
       "      <td>New York[6]</td>\n",
       "      <td>New York</td>\n",
       "      <td>8491079</td>\n",
       "      <td>8175133</td>\n",
       "      <td>7000386471999905080♠+3.86%</td>\n",
       "      <td>7002302600000000000♠302.6 sq mi 783.8 km2</td>\n",
       "      <td>7004270120000000000♠27,012 per sq mi 10,430 km−2</td>\n",
       "      <td>40°39′51″N 73°56′19″W﻿ / ﻿40.6643°N 73.9385°W﻿...</td>\n",
       "    </tr>\n",
       "    <tr>\n",
       "      <th>2</th>\n",
       "      <td>Los Angeles</td>\n",
       "      <td>California</td>\n",
       "      <td>3928864</td>\n",
       "      <td>3792621</td>\n",
       "      <td>7000359231781926010♠+3.59%</td>\n",
       "      <td>7002468700000000000♠468.7 sq mi 1,213.9 km2</td>\n",
       "      <td>7003809200000000000♠8,092 per sq mi 3,124 km−2</td>\n",
       "      <td>34°01′10″N 118°24′39″W﻿ / ﻿34.0194°N 118.4108°...</td>\n",
       "    </tr>\n",
       "    <tr>\n",
       "      <th>3</th>\n",
       "      <td>Chicago</td>\n",
       "      <td>Illinois</td>\n",
       "      <td>2722389</td>\n",
       "      <td>2695598</td>\n",
       "      <td>6999993879651194280♠+0.99%</td>\n",
       "      <td>7002227600000000000♠227.6 sq mi 589.6 km2</td>\n",
       "      <td>7004118420000000000♠11,842 per sq mi 4,572 km−2</td>\n",
       "      <td>41°50′15″N 87°40′54″W﻿ / ﻿41.8376°N 87.6818°W﻿...</td>\n",
       "    </tr>\n",
       "    <tr>\n",
       "      <th>4</th>\n",
       "      <td>Houston[7]</td>\n",
       "      <td>Texas</td>\n",
       "      <td>2239558</td>\n",
       "      <td>2100263</td>\n",
       "      <td>7000663226462590640♠+6.63%</td>\n",
       "      <td>7002599600000000000♠599.6 sq mi 1,552.9 km2</td>\n",
       "      <td>7003350100000000000♠3,501 per sq mi 1,352 km−2</td>\n",
       "      <td>29°46′50″N 95°23′11″W﻿ / ﻿29.7805°N 95.3863°W﻿...</td>\n",
       "    </tr>\n",
       "    <tr>\n",
       "      <th>5</th>\n",
       "      <td>Philadelphia[8]</td>\n",
       "      <td>Pennsylvania</td>\n",
       "      <td>1560297</td>\n",
       "      <td>1526006</td>\n",
       "      <td>7000224710780953680♠+2.25%</td>\n",
       "      <td>7002134100000000000♠134.1 sq mi 347.3 km2</td>\n",
       "      <td>7004113790000000000♠11,379 per sq mi 4,394 km−2</td>\n",
       "      <td>40°00′34″N 75°08′00″W﻿ / ﻿40.0094°N 75.1333°W﻿...</td>\n",
       "    </tr>\n",
       "  </tbody>\n",
       "</table>\n",
       "</div>"
      ],
      "text/plain": [
       "                      City      State[5]  2014 estimate  2010 Census  \\\n",
       "2014 rank                                                              \n",
       "1              New York[6]      New York        8491079      8175133   \n",
       "2              Los Angeles    California        3928864      3792621   \n",
       "3                  Chicago      Illinois        2722389      2695598   \n",
       "4               Houston[7]         Texas        2239558      2100263   \n",
       "5          Philadelphia[8]  Pennsylvania        1560297      1526006   \n",
       "\n",
       "                               Change  \\\n",
       "2014 rank                               \n",
       "1          7000386471999905080♠+3.86%   \n",
       "2          7000359231781926010♠+3.59%   \n",
       "3          6999993879651194280♠+0.99%   \n",
       "4          7000663226462590640♠+6.63%   \n",
       "5          7000224710780953680♠+2.25%   \n",
       "\n",
       "                                        2014 land area  \\\n",
       "2014 rank                                                \n",
       "1            7002302600000000000♠302.6 sq mi 783.8 km2   \n",
       "2          7002468700000000000♠468.7 sq mi 1,213.9 km2   \n",
       "3            7002227600000000000♠227.6 sq mi 589.6 km2   \n",
       "4          7002599600000000000♠599.6 sq mi 1,552.9 km2   \n",
       "5            7002134100000000000♠134.1 sq mi 347.3 km2   \n",
       "\n",
       "                                    2010 population density  \\\n",
       "2014 rank                                                     \n",
       "1          7004270120000000000♠27,012 per sq mi 10,430 km−2   \n",
       "2            7003809200000000000♠8,092 per sq mi 3,124 km−2   \n",
       "3           7004118420000000000♠11,842 per sq mi 4,572 km−2   \n",
       "4            7003350100000000000♠3,501 per sq mi 1,352 km−2   \n",
       "5           7004113790000000000♠11,379 per sq mi 4,394 km−2   \n",
       "\n",
       "                                                    Location  \n",
       "2014 rank                                                     \n",
       "1          40°39′51″N 73°56′19″W﻿ / ﻿40.6643°N 73.9385°W﻿...  \n",
       "2          34°01′10″N 118°24′39″W﻿ / ﻿34.0194°N 118.4108°...  \n",
       "3          41°50′15″N 87°40′54″W﻿ / ﻿41.8376°N 87.6818°W﻿...  \n",
       "4          29°46′50″N 95°23′11″W﻿ / ﻿29.7805°N 95.3863°W﻿...  \n",
       "5          40°00′34″N 75°08′00″W﻿ / ﻿40.0094°N 75.1333°W﻿...  "
      ]
     },
     "execution_count": 145,
     "metadata": {},
     "output_type": "execute_result"
    }
   ],
   "source": [
    "res[3].set_index('2014 rank').head()"
   ]
  },
  {
   "cell_type": "markdown",
   "metadata": {},
   "source": [
    "----\n",
    "## gestione di un dataframe reale\n",
    "\n",
    "Vediamo ora come usare Pandas per gestire un dataset reale, tratto dall'articolo \n",
    "\n",
    "    Fair, Ray. 1978. \"A Theory of Extramarital Affairs\" \n",
    "    \"Journal of Political Economy\", February, 45-61.\n",
    "\n",
    "Possiamo importare questo dataset dalla libreria statsmodels, di cui ci occuperemo a breve"
   ]
  },
  {
   "cell_type": "code",
   "execution_count": 16,
   "metadata": {
    "collapsed": false
   },
   "outputs": [
    {
     "name": "stdout",
     "output_type": "stream",
     "text": [
      "\n",
      "Fair, Ray. 1978. \"A Theory of Extramarital Affairs,\" `Journal of Political\n",
      "    Economy`, February, 45-61.\n",
      "\n",
      "The data is available at http://fairmodel.econ.yale.edu/rayfair/pdf/2011b.htm\n",
      "\n",
      "Extramarital affair data used to explain the allocation\n",
      "of an individual's time among work, time spent with a spouse, and time\n",
      "spent with a paramour. The data is used as an example of regression\n",
      "with censored data.\n",
      "::\n",
      "\n",
      "    Number of observations: 6366\n",
      "    Number of variables: 9\n",
      "    Variable name definitions:\n",
      "\n",
      "        rate_marriage   : How rate marriage, 1 = very poor, 2 = poor, 3 = fair,\n",
      "                        4 = good, 5 = very good\n",
      "        age             : Age\n",
      "        yrs_married     : No. years married. Interval approximations. See\n",
      "                        original paper for detailed explanation.\n",
      "        children        : No. children\n",
      "        religious       : How relgious, 1 = not, 2 = mildly, 3 = fairly,\n",
      "                        4 = strongly\n",
      "        educ            : Level of education, 9 = grade school, 12 = high\n",
      "                        school, 14 = some college, 16 = college graduate,\n",
      "                        17 = some graduate school, 20 = advanced degree\n",
      "        occupation      : 1 = student, 2 = farming, agriculture; semi-skilled,\n",
      "                        or unskilled worker; 3 = white-colloar; 4 = teacher\n",
      "                        counselor social worker, nurse; artist, writers;\n",
      "                        technician, skilled worker, 5 = managerial,\n",
      "                        administrative, business, 6 = professional with\n",
      "                        advanced degree\n",
      "        occupation_husb : Husband's occupation. Same as occupation.\n",
      "        affairs         : measure of time spent in extramarital affairs\n",
      "\n",
      "    See the original paper for more details.\n",
      "\n",
      "Included with permission of the author.\n"
     ]
    }
   ],
   "source": [
    "import statsmodels.api as sm\n",
    "print(sm.datasets.fair.SOURCE)\n",
    "print(sm.datasets.fair.DESCRLONG)\n",
    "print(sm.datasets.fair.NOTE)\n",
    "print(sm.datasets.fair.COPYRIGHT)"
   ]
  },
  {
   "cell_type": "markdown",
   "metadata": {},
   "source": [
    "Carichiamo il dataset come DataFrame di pandas e possiamo ottenere un riassunto del contenuto richiedendone la stampa. Vedo subito che ho 6366 campioni (ovvero soggetti intervistati) di cui possiedo diverse informazioni."
   ]
  },
  {
   "cell_type": "code",
   "execution_count": 17,
   "metadata": {
    "collapsed": false
   },
   "outputs": [
    {
     "name": "stdout",
     "output_type": "stream",
     "text": [
      "      rate_marriage   age  yrs_married  children  religious  educ  occupation  \\\n",
      "0                 3  32.0          9.0       3.0          3    17           2   \n",
      "1                 3  27.0         13.0       3.0          1    14           3   \n",
      "2                 4  22.0          2.5       0.0          1    16           3   \n",
      "3                 4  37.0         16.5       4.0          3    16           5   \n",
      "4                 5  27.0          9.0       1.0          1    14           3   \n",
      "5                 4  27.0          9.0       0.0          2    14           3   \n",
      "6                 5  37.0         23.0       5.5          2    12           5   \n",
      "7                 5  37.0         23.0       5.5          2    12           2   \n",
      "8                 3  22.0          2.5       0.0          2    12           3   \n",
      "9                 3  27.0          6.0       0.0          1    16           3   \n",
      "10                2  27.0          6.0       2.0          1    16           3   \n",
      "11                5  27.0          6.0       2.0          3    14           3   \n",
      "12                3  37.0         16.5       5.5          1    12           2   \n",
      "13                5  27.0          6.0       0.0          2    14           3   \n",
      "14                4  22.0          6.0       1.0          1    14           4   \n",
      "15                4  37.0          9.0       2.0          2    14           3   \n",
      "16                4  27.0          6.0       1.0          1    12           3   \n",
      "17                1  37.0         23.0       5.5          4    14           5   \n",
      "18                2  42.0         23.0       2.0          2    20           4   \n",
      "19                4  37.0          6.0       0.0          2    16           5   \n",
      "20                5  22.0          2.5       0.0          2    14           3   \n",
      "21                3  37.0         16.5       5.5          2     9           3   \n",
      "22                3  42.0         23.0       5.5          3    12           5   \n",
      "23                2  27.0          9.0       2.0          4    20           3   \n",
      "24                4  27.0          6.0       1.0          2    12           5   \n",
      "25                5  27.0          2.5       0.0          3    16           4   \n",
      "26                2  27.0          6.0       2.0          2    12           2   \n",
      "27                5  37.0         13.0       1.0          3    12           3   \n",
      "28                2  32.0         16.5       2.0          2    12           4   \n",
      "29                3  27.0          6.0       1.0          1    14           3   \n",
      "...             ...   ...          ...       ...        ...   ...         ...   \n",
      "6336              5  42.0         23.0       4.0          3    14           5   \n",
      "6337              5  27.0          6.0       0.0          4    14           4   \n",
      "6338              5  42.0         23.0       2.0          3    12           2   \n",
      "6339              4  32.0         13.0       3.0          3    16           4   \n",
      "6340              5  27.0         13.0       3.0          3    16           4   \n",
      "6341              5  27.0          9.0       1.0          2    14           4   \n",
      "6342              4  22.0          2.5       0.0          2    16           4   \n",
      "6343              5  17.5          2.5       0.0          4    12           3   \n",
      "6344              4  32.0         16.5       2.0          2    12           3   \n",
      "6345              5  27.0          9.0       1.0          3    12           3   \n",
      "6346              4  22.0          2.5       0.0          4    14           4   \n",
      "6347              5  22.0          2.5       1.0          2    12           3   \n",
      "6348              5  27.0          0.5       0.0          4    20           4   \n",
      "6349              5  37.0         16.5       3.0          3    14           5   \n",
      "6350              5  32.0         13.0       2.0          4    14           3   \n",
      "6351              4  22.0          0.5       0.0          2    16           3   \n",
      "6352              5  42.0         23.0       2.0          4    12           3   \n",
      "6353              5  22.0          2.5       2.0          2    14           3   \n",
      "6354              5  42.0         23.0       4.0          4    12           3   \n",
      "6355              4  27.0          6.0       0.0          3    12           3   \n",
      "6356              5  32.0         13.0       3.0          3    12           3   \n",
      "6357              5  32.0         13.0       4.0          2    14           4   \n",
      "6358              3  27.0          6.0       2.0          4    14           3   \n",
      "6359              4  22.0          2.5       0.0          3    16           5   \n",
      "6360              5  22.0          2.5       0.0          2    14           3   \n",
      "6361              5  32.0         13.0       2.0          3    17           4   \n",
      "6362              4  32.0         13.0       1.0          1    16           5   \n",
      "6363              5  22.0          2.5       0.0          2    14           3   \n",
      "6364              5  32.0          6.0       1.0          3    14           3   \n",
      "6365              4  22.0          2.5       0.0          2    16           2   \n",
      "\n",
      "      occupation_husb    affairs  \n",
      "0                   5   0.111111  \n",
      "1                   4   3.230769  \n",
      "2                   5   1.400000  \n",
      "3                   5   0.727273  \n",
      "4                   4   4.666666  \n",
      "5                   4   4.666666  \n",
      "6                   4   0.852174  \n",
      "7                   3   1.826086  \n",
      "8                   3   4.799999  \n",
      "9                   5   1.333333  \n",
      "10                  5   3.266665  \n",
      "11                  5   2.041666  \n",
      "12                  3   0.484848  \n",
      "13                  2   2.000000  \n",
      "14                  4   3.266665  \n",
      "15                  6   1.361111  \n",
      "16                  5   2.000000  \n",
      "17                  2   1.826086  \n",
      "18                  4   1.826086  \n",
      "19                  4   2.041666  \n",
      "20                  4   7.839996  \n",
      "21                  2   2.545454  \n",
      "22                  4   0.532609  \n",
      "23                  4   0.622222  \n",
      "24                  4   0.583333  \n",
      "25                  1   4.799999  \n",
      "26                  5   0.166667  \n",
      "27                  4   0.615385  \n",
      "28                  2   1.187878  \n",
      "29                  6  11.199999  \n",
      "...               ...        ...  \n",
      "6336                4   0.000000  \n",
      "6337                4   0.000000  \n",
      "6338                2   0.000000  \n",
      "6339                2   0.000000  \n",
      "6340                2   0.000000  \n",
      "6341                5   0.000000  \n",
      "6342                1   0.000000  \n",
      "6343                5   0.000000  \n",
      "6344                4   0.000000  \n",
      "6345                5   0.000000  \n",
      "6346                2   0.000000  \n",
      "6347                2   0.000000  \n",
      "6348                4   0.000000  \n",
      "6349                5   0.000000  \n",
      "6350                6   0.000000  \n",
      "6351                1   0.000000  \n",
      "6352                2   0.000000  \n",
      "6353                5   0.000000  \n",
      "6354                5   0.000000  \n",
      "6355                4   0.000000  \n",
      "6356                5   0.000000  \n",
      "6357                4   0.000000  \n",
      "6358                1   0.000000  \n",
      "6359                5   0.000000  \n",
      "6360                3   0.000000  \n",
      "6361                3   0.000000  \n",
      "6362                5   0.000000  \n",
      "6363                1   0.000000  \n",
      "6364                4   0.000000  \n",
      "6365                4   0.000000  \n",
      "\n",
      "[6366 rows x 9 columns]\n"
     ]
    }
   ],
   "source": [
    "affair = sm.datasets.fair.load_pandas().data\n",
    "print(affair)"
   ]
  },
  {
   "cell_type": "code",
   "execution_count": 18,
   "metadata": {
    "collapsed": false
   },
   "outputs": [
    {
     "data": {
      "text/html": [
       "<div>\n",
       "<table border=\"1\" class=\"dataframe\">\n",
       "  <thead>\n",
       "    <tr style=\"text-align: right;\">\n",
       "      <th></th>\n",
       "      <th>rate_marriage</th>\n",
       "      <th>age</th>\n",
       "      <th>yrs_married</th>\n",
       "      <th>children</th>\n",
       "      <th>religious</th>\n",
       "      <th>educ</th>\n",
       "      <th>occupation</th>\n",
       "      <th>occupation_husb</th>\n",
       "      <th>affairs</th>\n",
       "    </tr>\n",
       "  </thead>\n",
       "  <tbody>\n",
       "    <tr>\n",
       "      <th>0</th>\n",
       "      <td>3</td>\n",
       "      <td>32</td>\n",
       "      <td>9.0</td>\n",
       "      <td>3</td>\n",
       "      <td>3</td>\n",
       "      <td>17</td>\n",
       "      <td>2</td>\n",
       "      <td>5</td>\n",
       "      <td>0.111111</td>\n",
       "    </tr>\n",
       "    <tr>\n",
       "      <th>1</th>\n",
       "      <td>3</td>\n",
       "      <td>27</td>\n",
       "      <td>13.0</td>\n",
       "      <td>3</td>\n",
       "      <td>1</td>\n",
       "      <td>14</td>\n",
       "      <td>3</td>\n",
       "      <td>4</td>\n",
       "      <td>3.230769</td>\n",
       "    </tr>\n",
       "    <tr>\n",
       "      <th>2</th>\n",
       "      <td>4</td>\n",
       "      <td>22</td>\n",
       "      <td>2.5</td>\n",
       "      <td>0</td>\n",
       "      <td>1</td>\n",
       "      <td>16</td>\n",
       "      <td>3</td>\n",
       "      <td>5</td>\n",
       "      <td>1.400000</td>\n",
       "    </tr>\n",
       "    <tr>\n",
       "      <th>3</th>\n",
       "      <td>4</td>\n",
       "      <td>37</td>\n",
       "      <td>16.5</td>\n",
       "      <td>4</td>\n",
       "      <td>3</td>\n",
       "      <td>16</td>\n",
       "      <td>5</td>\n",
       "      <td>5</td>\n",
       "      <td>0.727273</td>\n",
       "    </tr>\n",
       "  </tbody>\n",
       "</table>\n",
       "</div>"
      ],
      "text/plain": [
       "   rate_marriage  age  yrs_married  children  religious  educ  occupation  \\\n",
       "0              3   32          9.0         3          3    17           2   \n",
       "1              3   27         13.0         3          1    14           3   \n",
       "2              4   22          2.5         0          1    16           3   \n",
       "3              4   37         16.5         4          3    16           5   \n",
       "\n",
       "   occupation_husb   affairs  \n",
       "0                5  0.111111  \n",
       "1                4  3.230769  \n",
       "2                5  1.400000  \n",
       "3                5  0.727273  "
      ]
     },
     "execution_count": 18,
     "metadata": {},
     "output_type": "execute_result"
    }
   ],
   "source": [
    "affair[:4]"
   ]
  },
  {
   "cell_type": "markdown",
   "metadata": {},
   "source": [
    "----\n",
    "I dati forniti sono puramente numerici, li trasformo in categorie di testo mnemoniche secondo le indicazioni fornite dal dataset. Usiamo dei dizionari e la funzione *apply* delle serie, che applica una funzione data a tutti gli elementi della serie"
   ]
  },
  {
   "cell_type": "code",
   "execution_count": 19,
   "metadata": {
    "collapsed": false
   },
   "outputs": [],
   "source": [
    "rate_marriage = {1: '1 very poor', 2: '2 poor', 3: '3 fair', \n",
    "    4: '4 good', 5: '5 very good'}\n",
    "affair['rate_marriage'] = affair['rate_marriage'].apply(lambda s: rate_marriage[s])"
   ]
  },
  {
   "cell_type": "code",
   "execution_count": 20,
   "metadata": {
    "collapsed": false
   },
   "outputs": [],
   "source": [
    "religious = {1: '1 not', 2: '2 mildly', 3: '3 fairly', 4: '4 strongly'}\n",
    "affair['religious'] = affair['religious'].apply(lambda s: religious[s])"
   ]
  },
  {
   "cell_type": "code",
   "execution_count": 21,
   "metadata": {
    "collapsed": false
   },
   "outputs": [],
   "source": [
    "occupation = {1: 'student', \n",
    "    2: 'farming, agriculture; semi-skilled, or unskilled worker', \n",
    "    3: 'white-colloar' ,\n",
    "    4: ('teacher counselor social worker, nurse; artist, writers; '\n",
    "        'technician, skilled worker'), \n",
    "    5: 'managerial, administrative, business', \n",
    "    6: 'professional with advanced degree'}\n",
    "affair['occupation'] = affair['occupation'].apply(lambda s: occupation[s])\n",
    "affair['occupation_husb'] = affair['occupation_husb'].apply(lambda s: occupation[s])"
   ]
  },
  {
   "cell_type": "markdown",
   "metadata": {},
   "source": [
    "Creo inoltre una nuova colonna con un'informazione binaria sul fatto che la persona abbia tradito o meno"
   ]
  },
  {
   "cell_type": "code",
   "execution_count": 22,
   "metadata": {
    "collapsed": false
   },
   "outputs": [],
   "source": [
    "affair['cheated'] = affair.affairs > 0"
   ]
  },
  {
   "cell_type": "code",
   "execution_count": 23,
   "metadata": {
    "collapsed": false
   },
   "outputs": [
    {
     "data": {
      "text/html": [
       "<div>\n",
       "<table border=\"1\" class=\"dataframe\">\n",
       "  <thead>\n",
       "    <tr style=\"text-align: right;\">\n",
       "      <th></th>\n",
       "      <th>rate_marriage</th>\n",
       "      <th>age</th>\n",
       "      <th>yrs_married</th>\n",
       "      <th>children</th>\n",
       "      <th>religious</th>\n",
       "      <th>educ</th>\n",
       "      <th>occupation</th>\n",
       "      <th>occupation_husb</th>\n",
       "      <th>affairs</th>\n",
       "      <th>cheated</th>\n",
       "    </tr>\n",
       "  </thead>\n",
       "  <tbody>\n",
       "    <tr>\n",
       "      <th>0</th>\n",
       "      <td>3 fair</td>\n",
       "      <td>32</td>\n",
       "      <td>9.0</td>\n",
       "      <td>3</td>\n",
       "      <td>3 fairly</td>\n",
       "      <td>17</td>\n",
       "      <td>farming, agriculture; semi-skilled, or unskill...</td>\n",
       "      <td>managerial, administrative, business</td>\n",
       "      <td>0.111111</td>\n",
       "      <td>True</td>\n",
       "    </tr>\n",
       "    <tr>\n",
       "      <th>1</th>\n",
       "      <td>3 fair</td>\n",
       "      <td>27</td>\n",
       "      <td>13.0</td>\n",
       "      <td>3</td>\n",
       "      <td>1 not</td>\n",
       "      <td>14</td>\n",
       "      <td>white-colloar</td>\n",
       "      <td>teacher counselor social worker, nurse; artist...</td>\n",
       "      <td>3.230769</td>\n",
       "      <td>True</td>\n",
       "    </tr>\n",
       "    <tr>\n",
       "      <th>2</th>\n",
       "      <td>4 good</td>\n",
       "      <td>22</td>\n",
       "      <td>2.5</td>\n",
       "      <td>0</td>\n",
       "      <td>1 not</td>\n",
       "      <td>16</td>\n",
       "      <td>white-colloar</td>\n",
       "      <td>managerial, administrative, business</td>\n",
       "      <td>1.400000</td>\n",
       "      <td>True</td>\n",
       "    </tr>\n",
       "    <tr>\n",
       "      <th>3</th>\n",
       "      <td>4 good</td>\n",
       "      <td>37</td>\n",
       "      <td>16.5</td>\n",
       "      <td>4</td>\n",
       "      <td>3 fairly</td>\n",
       "      <td>16</td>\n",
       "      <td>managerial, administrative, business</td>\n",
       "      <td>managerial, administrative, business</td>\n",
       "      <td>0.727273</td>\n",
       "      <td>True</td>\n",
       "    </tr>\n",
       "  </tbody>\n",
       "</table>\n",
       "</div>"
      ],
      "text/plain": [
       "  rate_marriage  age  yrs_married  children religious  educ  \\\n",
       "0        3 fair   32          9.0         3  3 fairly    17   \n",
       "1        3 fair   27         13.0         3     1 not    14   \n",
       "2        4 good   22          2.5         0     1 not    16   \n",
       "3        4 good   37         16.5         4  3 fairly    16   \n",
       "\n",
       "                                          occupation  \\\n",
       "0  farming, agriculture; semi-skilled, or unskill...   \n",
       "1                                      white-colloar   \n",
       "2                                      white-colloar   \n",
       "3               managerial, administrative, business   \n",
       "\n",
       "                                     occupation_husb   affairs cheated  \n",
       "0               managerial, administrative, business  0.111111    True  \n",
       "1  teacher counselor social worker, nurse; artist...  3.230769    True  \n",
       "2               managerial, administrative, business  1.400000    True  \n",
       "3               managerial, administrative, business  0.727273    True  "
      ]
     },
     "execution_count": 23,
     "metadata": {},
     "output_type": "execute_result"
    }
   ],
   "source": [
    "affair[:4]"
   ]
  },
  {
   "cell_type": "markdown",
   "metadata": {},
   "source": [
    "----\n",
    "Il DataFrame ossiede moltissimi metodi statistici (media, varianza, mediana, covarianza, correlazione, etc...) sia normali che cumulativi, con finestra o incrementali"
   ]
  },
  {
   "cell_type": "code",
   "execution_count": 24,
   "metadata": {
    "collapsed": false
   },
   "outputs": [
    {
     "data": {
      "text/html": [
       "<div>\n",
       "<table border=\"1\" class=\"dataframe\">\n",
       "  <thead>\n",
       "    <tr style=\"text-align: right;\">\n",
       "      <th></th>\n",
       "      <th>age</th>\n",
       "      <th>yrs_married</th>\n",
       "      <th>children</th>\n",
       "      <th>educ</th>\n",
       "      <th>affairs</th>\n",
       "      <th>cheated</th>\n",
       "    </tr>\n",
       "  </thead>\n",
       "  <tbody>\n",
       "    <tr>\n",
       "      <th>count</th>\n",
       "      <td>6366.000000</td>\n",
       "      <td>6366.000000</td>\n",
       "      <td>6366.000000</td>\n",
       "      <td>6366.000000</td>\n",
       "      <td>6366.000000</td>\n",
       "      <td>6366</td>\n",
       "    </tr>\n",
       "    <tr>\n",
       "      <th>mean</th>\n",
       "      <td>29.082862</td>\n",
       "      <td>9.009425</td>\n",
       "      <td>1.396874</td>\n",
       "      <td>14.209865</td>\n",
       "      <td>0.705374</td>\n",
       "      <td>0.322495</td>\n",
       "    </tr>\n",
       "    <tr>\n",
       "      <th>std</th>\n",
       "      <td>6.847882</td>\n",
       "      <td>7.280120</td>\n",
       "      <td>1.433471</td>\n",
       "      <td>2.178003</td>\n",
       "      <td>2.203374</td>\n",
       "      <td>0.467468</td>\n",
       "    </tr>\n",
       "    <tr>\n",
       "      <th>min</th>\n",
       "      <td>17.500000</td>\n",
       "      <td>0.500000</td>\n",
       "      <td>0.000000</td>\n",
       "      <td>9.000000</td>\n",
       "      <td>0.000000</td>\n",
       "      <td>False</td>\n",
       "    </tr>\n",
       "    <tr>\n",
       "      <th>25%</th>\n",
       "      <td>22.000000</td>\n",
       "      <td>2.500000</td>\n",
       "      <td>0.000000</td>\n",
       "      <td>12.000000</td>\n",
       "      <td>0.000000</td>\n",
       "      <td>0</td>\n",
       "    </tr>\n",
       "    <tr>\n",
       "      <th>50%</th>\n",
       "      <td>27.000000</td>\n",
       "      <td>6.000000</td>\n",
       "      <td>1.000000</td>\n",
       "      <td>14.000000</td>\n",
       "      <td>0.000000</td>\n",
       "      <td>0</td>\n",
       "    </tr>\n",
       "    <tr>\n",
       "      <th>75%</th>\n",
       "      <td>32.000000</td>\n",
       "      <td>16.500000</td>\n",
       "      <td>2.000000</td>\n",
       "      <td>16.000000</td>\n",
       "      <td>0.484848</td>\n",
       "      <td>1</td>\n",
       "    </tr>\n",
       "    <tr>\n",
       "      <th>max</th>\n",
       "      <td>42.000000</td>\n",
       "      <td>23.000000</td>\n",
       "      <td>5.500000</td>\n",
       "      <td>20.000000</td>\n",
       "      <td>57.599991</td>\n",
       "      <td>True</td>\n",
       "    </tr>\n",
       "  </tbody>\n",
       "</table>\n",
       "</div>"
      ],
      "text/plain": [
       "               age  yrs_married     children         educ      affairs  \\\n",
       "count  6366.000000  6366.000000  6366.000000  6366.000000  6366.000000   \n",
       "mean     29.082862     9.009425     1.396874    14.209865     0.705374   \n",
       "std       6.847882     7.280120     1.433471     2.178003     2.203374   \n",
       "min      17.500000     0.500000     0.000000     9.000000     0.000000   \n",
       "25%      22.000000     2.500000     0.000000    12.000000     0.000000   \n",
       "50%      27.000000     6.000000     1.000000    14.000000     0.000000   \n",
       "75%      32.000000    16.500000     2.000000    16.000000     0.484848   \n",
       "max      42.000000    23.000000     5.500000    20.000000    57.599991   \n",
       "\n",
       "        cheated  \n",
       "count      6366  \n",
       "mean   0.322495  \n",
       "std    0.467468  \n",
       "min       False  \n",
       "25%           0  \n",
       "50%           0  \n",
       "75%           1  \n",
       "max        True  "
      ]
     },
     "execution_count": 24,
     "metadata": {},
     "output_type": "execute_result"
    }
   ],
   "source": [
    "affair.describe()"
   ]
  },
  {
   "cell_type": "code",
   "execution_count": 25,
   "metadata": {
    "collapsed": false
   },
   "outputs": [
    {
     "data": {
      "text/plain": [
       "age            29.082862\n",
       "yrs_married     9.009425\n",
       "children        1.396874\n",
       "educ           14.209865\n",
       "affairs         0.705374\n",
       "cheated         0.322495\n",
       "dtype: float64"
      ]
     },
     "execution_count": 25,
     "metadata": {},
     "output_type": "execute_result"
    }
   ],
   "source": [
    "affair.mean()"
   ]
  },
  {
   "cell_type": "code",
   "execution_count": 26,
   "metadata": {
    "collapsed": false
   },
   "outputs": [
    {
     "data": {
      "text/html": [
       "<div>\n",
       "<table border=\"1\" class=\"dataframe\">\n",
       "  <thead>\n",
       "    <tr style=\"text-align: right;\">\n",
       "      <th></th>\n",
       "      <th>age</th>\n",
       "      <th>yrs_married</th>\n",
       "      <th>children</th>\n",
       "      <th>educ</th>\n",
       "      <th>affairs</th>\n",
       "      <th>cheated</th>\n",
       "    </tr>\n",
       "  </thead>\n",
       "  <tbody>\n",
       "    <tr>\n",
       "      <th>age</th>\n",
       "      <td>1.000000</td>\n",
       "      <td>0.894082</td>\n",
       "      <td>0.673902</td>\n",
       "      <td>0.027960</td>\n",
       "      <td>-0.089964</td>\n",
       "      <td>0.146519</td>\n",
       "    </tr>\n",
       "    <tr>\n",
       "      <th>yrs_married</th>\n",
       "      <td>0.894082</td>\n",
       "      <td>1.000000</td>\n",
       "      <td>0.772806</td>\n",
       "      <td>-0.109058</td>\n",
       "      <td>-0.087737</td>\n",
       "      <td>0.203109</td>\n",
       "    </tr>\n",
       "    <tr>\n",
       "      <th>children</th>\n",
       "      <td>0.673902</td>\n",
       "      <td>0.772806</td>\n",
       "      <td>1.000000</td>\n",
       "      <td>-0.141918</td>\n",
       "      <td>-0.070278</td>\n",
       "      <td>0.159833</td>\n",
       "    </tr>\n",
       "    <tr>\n",
       "      <th>educ</th>\n",
       "      <td>0.027960</td>\n",
       "      <td>-0.109058</td>\n",
       "      <td>-0.141918</td>\n",
       "      <td>1.000000</td>\n",
       "      <td>-0.017740</td>\n",
       "      <td>-0.075280</td>\n",
       "    </tr>\n",
       "    <tr>\n",
       "      <th>affairs</th>\n",
       "      <td>-0.089964</td>\n",
       "      <td>-0.087737</td>\n",
       "      <td>-0.070278</td>\n",
       "      <td>-0.017740</td>\n",
       "      <td>1.000000</td>\n",
       "      <td>0.464046</td>\n",
       "    </tr>\n",
       "    <tr>\n",
       "      <th>cheated</th>\n",
       "      <td>0.146519</td>\n",
       "      <td>0.203109</td>\n",
       "      <td>0.159833</td>\n",
       "      <td>-0.075280</td>\n",
       "      <td>0.464046</td>\n",
       "      <td>1.000000</td>\n",
       "    </tr>\n",
       "  </tbody>\n",
       "</table>\n",
       "</div>"
      ],
      "text/plain": [
       "                  age  yrs_married  children      educ   affairs   cheated\n",
       "age          1.000000     0.894082  0.673902  0.027960 -0.089964  0.146519\n",
       "yrs_married  0.894082     1.000000  0.772806 -0.109058 -0.087737  0.203109\n",
       "children     0.673902     0.772806  1.000000 -0.141918 -0.070278  0.159833\n",
       "educ         0.027960    -0.109058 -0.141918  1.000000 -0.017740 -0.075280\n",
       "affairs     -0.089964    -0.087737 -0.070278 -0.017740  1.000000  0.464046\n",
       "cheated      0.146519     0.203109  0.159833 -0.075280  0.464046  1.000000"
      ]
     },
     "execution_count": 26,
     "metadata": {},
     "output_type": "execute_result"
    }
   ],
   "source": [
    "affair.corr()"
   ]
  },
  {
   "cell_type": "markdown",
   "metadata": {},
   "source": [
    "----\n",
    "È disponibile una potente funzione di raggruppamento, in modo da poter dividere per categorie i dati e farci sopra delle operazioni sulla base di queste categorie"
   ]
  },
  {
   "cell_type": "code",
   "execution_count": 27,
   "metadata": {
    "collapsed": false
   },
   "outputs": [
    {
     "data": {
      "text/html": [
       "<div>\n",
       "<table border=\"1\" class=\"dataframe\">\n",
       "  <thead>\n",
       "    <tr style=\"text-align: right;\">\n",
       "      <th></th>\n",
       "      <th></th>\n",
       "      <th>age</th>\n",
       "      <th>yrs_married</th>\n",
       "      <th>children</th>\n",
       "      <th>educ</th>\n",
       "      <th>affairs</th>\n",
       "      <th>cheated</th>\n",
       "    </tr>\n",
       "    <tr>\n",
       "      <th>religious</th>\n",
       "      <th>rate_marriage</th>\n",
       "      <th></th>\n",
       "      <th></th>\n",
       "      <th></th>\n",
       "      <th></th>\n",
       "      <th></th>\n",
       "      <th></th>\n",
       "    </tr>\n",
       "  </thead>\n",
       "  <tbody>\n",
       "    <tr>\n",
       "      <th rowspan=\"5\" valign=\"top\">1 not</th>\n",
       "      <th>1 very poor</th>\n",
       "      <td>32.000000</td>\n",
       "      <td>10.916667</td>\n",
       "      <td>1.777778</td>\n",
       "      <td>14.166667</td>\n",
       "      <td>1.334104</td>\n",
       "      <td>0.666667</td>\n",
       "    </tr>\n",
       "    <tr>\n",
       "      <th>2 poor</th>\n",
       "      <td>30.482143</td>\n",
       "      <td>10.696429</td>\n",
       "      <td>1.500000</td>\n",
       "      <td>14.464286</td>\n",
       "      <td>3.299485</td>\n",
       "      <td>0.714286</td>\n",
       "    </tr>\n",
       "    <tr>\n",
       "      <th>3 fair</th>\n",
       "      <td>28.247191</td>\n",
       "      <td>8.058989</td>\n",
       "      <td>1.157303</td>\n",
       "      <td>14.275281</td>\n",
       "      <td>2.382038</td>\n",
       "      <td>0.617978</td>\n",
       "    </tr>\n",
       "    <tr>\n",
       "      <th>4 good</th>\n",
       "      <td>27.476879</td>\n",
       "      <td>7.156069</td>\n",
       "      <td>1.014451</td>\n",
       "      <td>14.471098</td>\n",
       "      <td>1.005887</td>\n",
       "      <td>0.375723</td>\n",
       "    </tr>\n",
       "    <tr>\n",
       "      <th>5 very good</th>\n",
       "      <td>27.111111</td>\n",
       "      <td>6.832151</td>\n",
       "      <td>0.923168</td>\n",
       "      <td>14.496454</td>\n",
       "      <td>0.691137</td>\n",
       "      <td>0.274232</td>\n",
       "    </tr>\n",
       "    <tr>\n",
       "      <th rowspan=\"5\" valign=\"top\">2 mildly</th>\n",
       "      <th>1 very poor</th>\n",
       "      <td>31.736111</td>\n",
       "      <td>12.138889</td>\n",
       "      <td>2.291667</td>\n",
       "      <td>13.472222</td>\n",
       "      <td>1.448427</td>\n",
       "      <td>0.777778</td>\n",
       "    </tr>\n",
       "    <tr>\n",
       "      <th>2 poor</th>\n",
       "      <td>30.130137</td>\n",
       "      <td>10.592466</td>\n",
       "      <td>1.698630</td>\n",
       "      <td>13.719178</td>\n",
       "      <td>1.603516</td>\n",
       "      <td>0.684932</td>\n",
       "    </tr>\n",
       "    <tr>\n",
       "      <th>3 fair</th>\n",
       "      <td>29.625935</td>\n",
       "      <td>10.034913</td>\n",
       "      <td>1.600998</td>\n",
       "      <td>13.810474</td>\n",
       "      <td>1.305844</td>\n",
       "      <td>0.553616</td>\n",
       "    </tr>\n",
       "    <tr>\n",
       "      <th>4 good</th>\n",
       "      <td>28.490419</td>\n",
       "      <td>8.708982</td>\n",
       "      <td>1.353293</td>\n",
       "      <td>13.819162</td>\n",
       "      <td>0.770306</td>\n",
       "      <td>0.368862</td>\n",
       "    </tr>\n",
       "    <tr>\n",
       "      <th>5 very good</th>\n",
       "      <td>27.875736</td>\n",
       "      <td>7.457597</td>\n",
       "      <td>1.087750</td>\n",
       "      <td>14.297998</td>\n",
       "      <td>0.337247</td>\n",
       "      <td>0.189635</td>\n",
       "    </tr>\n",
       "    <tr>\n",
       "      <th rowspan=\"5\" valign=\"top\">3 fairly</th>\n",
       "      <th>1 very poor</th>\n",
       "      <td>35.552632</td>\n",
       "      <td>16.210526</td>\n",
       "      <td>2.460526</td>\n",
       "      <td>13.710526</td>\n",
       "      <td>0.992806</td>\n",
       "      <td>0.763158</td>\n",
       "    </tr>\n",
       "    <tr>\n",
       "      <th>2 poor</th>\n",
       "      <td>30.272727</td>\n",
       "      <td>10.404959</td>\n",
       "      <td>1.723140</td>\n",
       "      <td>13.595041</td>\n",
       "      <td>1.087526</td>\n",
       "      <td>0.586777</td>\n",
       "    </tr>\n",
       "    <tr>\n",
       "      <th>3 fair</th>\n",
       "      <td>30.812500</td>\n",
       "      <td>11.037791</td>\n",
       "      <td>1.831395</td>\n",
       "      <td>14.020349</td>\n",
       "      <td>1.066625</td>\n",
       "      <td>0.534884</td>\n",
       "    </tr>\n",
       "    <tr>\n",
       "      <th>4 good</th>\n",
       "      <td>29.186431</td>\n",
       "      <td>8.911631</td>\n",
       "      <td>1.412201</td>\n",
       "      <td>14.246294</td>\n",
       "      <td>0.531323</td>\n",
       "      <td>0.280502</td>\n",
       "    </tr>\n",
       "    <tr>\n",
       "      <th>5 very good</th>\n",
       "      <td>29.106046</td>\n",
       "      <td>8.989923</td>\n",
       "      <td>1.387236</td>\n",
       "      <td>14.251440</td>\n",
       "      <td>0.305064</td>\n",
       "      <td>0.169866</td>\n",
       "    </tr>\n",
       "    <tr>\n",
       "      <th rowspan=\"5\" valign=\"top\">4 strongly</th>\n",
       "      <th>1 very poor</th>\n",
       "      <td>39.857143</td>\n",
       "      <td>18.285714</td>\n",
       "      <td>2.928571</td>\n",
       "      <td>15.714286</td>\n",
       "      <td>0.725943</td>\n",
       "      <td>0.714286</td>\n",
       "    </tr>\n",
       "    <tr>\n",
       "      <th>2 poor</th>\n",
       "      <td>33.400000</td>\n",
       "      <td>13.140000</td>\n",
       "      <td>2.540000</td>\n",
       "      <td>14.680000</td>\n",
       "      <td>0.472174</td>\n",
       "      <td>0.400000</td>\n",
       "    </tr>\n",
       "    <tr>\n",
       "      <th>3 fair</th>\n",
       "      <td>32.721429</td>\n",
       "      <td>13.028571</td>\n",
       "      <td>2.128571</td>\n",
       "      <td>14.300000</td>\n",
       "      <td>0.673102</td>\n",
       "      <td>0.442857</td>\n",
       "    </tr>\n",
       "    <tr>\n",
       "      <th>4 good</th>\n",
       "      <td>31.540761</td>\n",
       "      <td>11.978261</td>\n",
       "      <td>1.907609</td>\n",
       "      <td>14.521739</td>\n",
       "      <td>0.303108</td>\n",
       "      <td>0.217391</td>\n",
       "    </tr>\n",
       "    <tr>\n",
       "      <th>5 very good</th>\n",
       "      <td>30.355405</td>\n",
       "      <td>10.052703</td>\n",
       "      <td>1.629730</td>\n",
       "      <td>14.940541</td>\n",
       "      <td>0.102562</td>\n",
       "      <td>0.089189</td>\n",
       "    </tr>\n",
       "  </tbody>\n",
       "</table>\n",
       "</div>"
      ],
      "text/plain": [
       "                                age  yrs_married  children       educ  \\\n",
       "religious  rate_marriage                                                \n",
       "1 not      1 very poor    32.000000    10.916667  1.777778  14.166667   \n",
       "           2 poor         30.482143    10.696429  1.500000  14.464286   \n",
       "           3 fair         28.247191     8.058989  1.157303  14.275281   \n",
       "           4 good         27.476879     7.156069  1.014451  14.471098   \n",
       "           5 very good    27.111111     6.832151  0.923168  14.496454   \n",
       "2 mildly   1 very poor    31.736111    12.138889  2.291667  13.472222   \n",
       "           2 poor         30.130137    10.592466  1.698630  13.719178   \n",
       "           3 fair         29.625935    10.034913  1.600998  13.810474   \n",
       "           4 good         28.490419     8.708982  1.353293  13.819162   \n",
       "           5 very good    27.875736     7.457597  1.087750  14.297998   \n",
       "3 fairly   1 very poor    35.552632    16.210526  2.460526  13.710526   \n",
       "           2 poor         30.272727    10.404959  1.723140  13.595041   \n",
       "           3 fair         30.812500    11.037791  1.831395  14.020349   \n",
       "           4 good         29.186431     8.911631  1.412201  14.246294   \n",
       "           5 very good    29.106046     8.989923  1.387236  14.251440   \n",
       "4 strongly 1 very poor    39.857143    18.285714  2.928571  15.714286   \n",
       "           2 poor         33.400000    13.140000  2.540000  14.680000   \n",
       "           3 fair         32.721429    13.028571  2.128571  14.300000   \n",
       "           4 good         31.540761    11.978261  1.907609  14.521739   \n",
       "           5 very good    30.355405    10.052703  1.629730  14.940541   \n",
       "\n",
       "                           affairs   cheated  \n",
       "religious  rate_marriage                      \n",
       "1 not      1 very poor    1.334104  0.666667  \n",
       "           2 poor         3.299485  0.714286  \n",
       "           3 fair         2.382038  0.617978  \n",
       "           4 good         1.005887  0.375723  \n",
       "           5 very good    0.691137  0.274232  \n",
       "2 mildly   1 very poor    1.448427  0.777778  \n",
       "           2 poor         1.603516  0.684932  \n",
       "           3 fair         1.305844  0.553616  \n",
       "           4 good         0.770306  0.368862  \n",
       "           5 very good    0.337247  0.189635  \n",
       "3 fairly   1 very poor    0.992806  0.763158  \n",
       "           2 poor         1.087526  0.586777  \n",
       "           3 fair         1.066625  0.534884  \n",
       "           4 good         0.531323  0.280502  \n",
       "           5 very good    0.305064  0.169866  \n",
       "4 strongly 1 very poor    0.725943  0.714286  \n",
       "           2 poor         0.472174  0.400000  \n",
       "           3 fair         0.673102  0.442857  \n",
       "           4 good         0.303108  0.217391  \n",
       "           5 very good    0.102562  0.089189  "
      ]
     },
     "execution_count": 27,
     "metadata": {},
     "output_type": "execute_result"
    }
   ],
   "source": [
    "affair.groupby(['religious', 'rate_marriage']).mean()"
   ]
  },
  {
   "cell_type": "code",
   "execution_count": 28,
   "metadata": {
    "collapsed": false
   },
   "outputs": [
    {
     "data": {
      "text/html": [
       "<div>\n",
       "<table border=\"1\" class=\"dataframe\">\n",
       "  <thead>\n",
       "    <tr style=\"text-align: right;\">\n",
       "      <th></th>\n",
       "      <th>age</th>\n",
       "      <th>yrs_married</th>\n",
       "      <th>children</th>\n",
       "      <th>educ</th>\n",
       "      <th>affairs</th>\n",
       "      <th>cheated</th>\n",
       "    </tr>\n",
       "    <tr>\n",
       "      <th>rate_marriage</th>\n",
       "      <th></th>\n",
       "      <th></th>\n",
       "      <th></th>\n",
       "      <th></th>\n",
       "      <th></th>\n",
       "      <th></th>\n",
       "    </tr>\n",
       "  </thead>\n",
       "  <tbody>\n",
       "    <tr>\n",
       "      <th>1 very poor</th>\n",
       "      <td>39.857143</td>\n",
       "      <td>18.285714</td>\n",
       "      <td>2.928571</td>\n",
       "      <td>15.714286</td>\n",
       "      <td>0.725943</td>\n",
       "      <td>0.714286</td>\n",
       "    </tr>\n",
       "    <tr>\n",
       "      <th>2 poor</th>\n",
       "      <td>33.400000</td>\n",
       "      <td>13.140000</td>\n",
       "      <td>2.540000</td>\n",
       "      <td>14.680000</td>\n",
       "      <td>0.472174</td>\n",
       "      <td>0.400000</td>\n",
       "    </tr>\n",
       "    <tr>\n",
       "      <th>3 fair</th>\n",
       "      <td>32.721429</td>\n",
       "      <td>13.028571</td>\n",
       "      <td>2.128571</td>\n",
       "      <td>14.300000</td>\n",
       "      <td>0.673102</td>\n",
       "      <td>0.442857</td>\n",
       "    </tr>\n",
       "    <tr>\n",
       "      <th>4 good</th>\n",
       "      <td>31.540761</td>\n",
       "      <td>11.978261</td>\n",
       "      <td>1.907609</td>\n",
       "      <td>14.521739</td>\n",
       "      <td>0.303108</td>\n",
       "      <td>0.217391</td>\n",
       "    </tr>\n",
       "    <tr>\n",
       "      <th>5 very good</th>\n",
       "      <td>30.355405</td>\n",
       "      <td>10.052703</td>\n",
       "      <td>1.629730</td>\n",
       "      <td>14.940541</td>\n",
       "      <td>0.102562</td>\n",
       "      <td>0.089189</td>\n",
       "    </tr>\n",
       "  </tbody>\n",
       "</table>\n",
       "</div>"
      ],
      "text/plain": [
       "                     age  yrs_married  children       educ   affairs   cheated\n",
       "rate_marriage                                                                 \n",
       "1 very poor    39.857143    18.285714  2.928571  15.714286  0.725943  0.714286\n",
       "2 poor         33.400000    13.140000  2.540000  14.680000  0.472174  0.400000\n",
       "3 fair         32.721429    13.028571  2.128571  14.300000  0.673102  0.442857\n",
       "4 good         31.540761    11.978261  1.907609  14.521739  0.303108  0.217391\n",
       "5 very good    30.355405    10.052703  1.629730  14.940541  0.102562  0.089189"
      ]
     },
     "execution_count": 28,
     "metadata": {},
     "output_type": "execute_result"
    }
   ],
   "source": [
    "affair.groupby(['religious', 'rate_marriage']).mean().ix['4 strongly']"
   ]
  },
  {
   "cell_type": "markdown",
   "metadata": {},
   "source": [
    "I metodi di rimodellamento dei dataframe sono estremamente potenti e pandas ne offre un'ampia collezione:\n",
    "\n",
    "- groupby\n",
    "- pivoting\n",
    "- stack / unstack\n",
    "- melting\n",
    "- cross tabulazione\n",
    "- tiling, merging, concatenazione\n",
    "\n",
    "È possibile selezionare soltanto una parte dei soggetti tramite l'indicizzazione binaria, in questo caso facendo una statistica solo su coloro che hanno tradito almeno una volta"
   ]
  },
  {
   "cell_type": "code",
   "execution_count": 29,
   "metadata": {
    "collapsed": false
   },
   "outputs": [
    {
     "data": {
      "text/html": [
       "<div>\n",
       "<table border=\"1\" class=\"dataframe\">\n",
       "  <thead>\n",
       "    <tr style=\"text-align: right;\">\n",
       "      <th></th>\n",
       "      <th></th>\n",
       "      <th>age</th>\n",
       "      <th>yrs_married</th>\n",
       "      <th>children</th>\n",
       "      <th>educ</th>\n",
       "      <th>affairs</th>\n",
       "      <th>cheated</th>\n",
       "    </tr>\n",
       "    <tr>\n",
       "      <th>religious</th>\n",
       "      <th>rate_marriage</th>\n",
       "      <th></th>\n",
       "      <th></th>\n",
       "      <th></th>\n",
       "      <th></th>\n",
       "      <th></th>\n",
       "      <th></th>\n",
       "    </tr>\n",
       "  </thead>\n",
       "  <tbody>\n",
       "    <tr>\n",
       "      <th rowspan=\"5\" valign=\"top\">1 not</th>\n",
       "      <th>1 very poor</th>\n",
       "      <td>32.000000</td>\n",
       "      <td>12.541667</td>\n",
       "      <td>1.666667</td>\n",
       "      <td>13.833333</td>\n",
       "      <td>2.001155</td>\n",
       "      <td>True</td>\n",
       "    </tr>\n",
       "    <tr>\n",
       "      <th>2 poor</th>\n",
       "      <td>29.875000</td>\n",
       "      <td>10.250000</td>\n",
       "      <td>1.350000</td>\n",
       "      <td>14.450000</td>\n",
       "      <td>4.619279</td>\n",
       "      <td>True</td>\n",
       "    </tr>\n",
       "    <tr>\n",
       "      <th>3 fair</th>\n",
       "      <td>28.781818</td>\n",
       "      <td>8.877273</td>\n",
       "      <td>1.277273</td>\n",
       "      <td>14.281818</td>\n",
       "      <td>3.854571</td>\n",
       "      <td>True</td>\n",
       "    </tr>\n",
       "    <tr>\n",
       "      <th>4 good</th>\n",
       "      <td>28.738462</td>\n",
       "      <td>8.807692</td>\n",
       "      <td>1.253846</td>\n",
       "      <td>14.407692</td>\n",
       "      <td>2.677208</td>\n",
       "      <td>True</td>\n",
       "    </tr>\n",
       "    <tr>\n",
       "      <th>5 very good</th>\n",
       "      <td>29.155172</td>\n",
       "      <td>9.586207</td>\n",
       "      <td>1.323276</td>\n",
       "      <td>14.275862</td>\n",
       "      <td>2.520268</td>\n",
       "      <td>True</td>\n",
       "    </tr>\n",
       "    <tr>\n",
       "      <th rowspan=\"5\" valign=\"top\">2 mildly</th>\n",
       "      <th>1 very poor</th>\n",
       "      <td>33.071429</td>\n",
       "      <td>13.357143</td>\n",
       "      <td>2.500000</td>\n",
       "      <td>13.321429</td>\n",
       "      <td>1.862264</td>\n",
       "      <td>True</td>\n",
       "    </tr>\n",
       "    <tr>\n",
       "      <th>2 poor</th>\n",
       "      <td>30.605000</td>\n",
       "      <td>11.450000</td>\n",
       "      <td>1.845000</td>\n",
       "      <td>13.710000</td>\n",
       "      <td>2.341133</td>\n",
       "      <td>True</td>\n",
       "    </tr>\n",
       "    <tr>\n",
       "      <th>3 fair</th>\n",
       "      <td>30.288288</td>\n",
       "      <td>11.155405</td>\n",
       "      <td>1.810811</td>\n",
       "      <td>13.662162</td>\n",
       "      <td>2.358753</td>\n",
       "      <td>True</td>\n",
       "    </tr>\n",
       "    <tr>\n",
       "      <th>4 good</th>\n",
       "      <td>29.813312</td>\n",
       "      <td>10.493506</td>\n",
       "      <td>1.647727</td>\n",
       "      <td>13.714286</td>\n",
       "      <td>2.088330</td>\n",
       "      <td>True</td>\n",
       "    </tr>\n",
       "    <tr>\n",
       "      <th>5 very good</th>\n",
       "      <td>30.201863</td>\n",
       "      <td>10.658385</td>\n",
       "      <td>1.562112</td>\n",
       "      <td>14.229814</td>\n",
       "      <td>1.778400</td>\n",
       "      <td>True</td>\n",
       "    </tr>\n",
       "    <tr>\n",
       "      <th rowspan=\"5\" valign=\"top\">3 fairly</th>\n",
       "      <th>1 very poor</th>\n",
       "      <td>35.620690</td>\n",
       "      <td>16.310345</td>\n",
       "      <td>2.258621</td>\n",
       "      <td>13.793103</td>\n",
       "      <td>1.300918</td>\n",
       "      <td>True</td>\n",
       "    </tr>\n",
       "    <tr>\n",
       "      <th>2 poor</th>\n",
       "      <td>30.739437</td>\n",
       "      <td>11.492958</td>\n",
       "      <td>1.816901</td>\n",
       "      <td>13.408451</td>\n",
       "      <td>1.853389</td>\n",
       "      <td>True</td>\n",
       "    </tr>\n",
       "    <tr>\n",
       "      <th>3 fair</th>\n",
       "      <td>31.051630</td>\n",
       "      <td>11.766304</td>\n",
       "      <td>1.929348</td>\n",
       "      <td>14.038043</td>\n",
       "      <td>1.994125</td>\n",
       "      <td>True</td>\n",
       "    </tr>\n",
       "    <tr>\n",
       "      <th>4 good</th>\n",
       "      <td>31.006098</td>\n",
       "      <td>11.711382</td>\n",
       "      <td>1.861789</td>\n",
       "      <td>13.821138</td>\n",
       "      <td>1.894188</td>\n",
       "      <td>True</td>\n",
       "    </tr>\n",
       "    <tr>\n",
       "      <th>5 very good</th>\n",
       "      <td>31.152542</td>\n",
       "      <td>11.598870</td>\n",
       "      <td>1.689266</td>\n",
       "      <td>14.101695</td>\n",
       "      <td>1.795915</td>\n",
       "      <td>True</td>\n",
       "    </tr>\n",
       "    <tr>\n",
       "      <th rowspan=\"5\" valign=\"top\">4 strongly</th>\n",
       "      <th>1 very poor</th>\n",
       "      <td>40.000000</td>\n",
       "      <td>18.400000</td>\n",
       "      <td>2.700000</td>\n",
       "      <td>15.400000</td>\n",
       "      <td>1.016320</td>\n",
       "      <td>True</td>\n",
       "    </tr>\n",
       "    <tr>\n",
       "      <th>2 poor</th>\n",
       "      <td>36.000000</td>\n",
       "      <td>15.150000</td>\n",
       "      <td>2.700000</td>\n",
       "      <td>15.700000</td>\n",
       "      <td>1.180434</td>\n",
       "      <td>True</td>\n",
       "    </tr>\n",
       "    <tr>\n",
       "      <th>3 fair</th>\n",
       "      <td>32.661290</td>\n",
       "      <td>14.274194</td>\n",
       "      <td>2.370968</td>\n",
       "      <td>13.741935</td>\n",
       "      <td>1.519907</td>\n",
       "      <td>True</td>\n",
       "    </tr>\n",
       "    <tr>\n",
       "      <th>4 good</th>\n",
       "      <td>32.750000</td>\n",
       "      <td>15.112500</td>\n",
       "      <td>2.400000</td>\n",
       "      <td>14.075000</td>\n",
       "      <td>1.394295</td>\n",
       "      <td>True</td>\n",
       "    </tr>\n",
       "    <tr>\n",
       "      <th>5 very good</th>\n",
       "      <td>33.969697</td>\n",
       "      <td>14.545455</td>\n",
       "      <td>2.621212</td>\n",
       "      <td>15.000000</td>\n",
       "      <td>1.149939</td>\n",
       "      <td>True</td>\n",
       "    </tr>\n",
       "  </tbody>\n",
       "</table>\n",
       "</div>"
      ],
      "text/plain": [
       "                                age  yrs_married  children       educ  \\\n",
       "religious  rate_marriage                                                \n",
       "1 not      1 very poor    32.000000    12.541667  1.666667  13.833333   \n",
       "           2 poor         29.875000    10.250000  1.350000  14.450000   \n",
       "           3 fair         28.781818     8.877273  1.277273  14.281818   \n",
       "           4 good         28.738462     8.807692  1.253846  14.407692   \n",
       "           5 very good    29.155172     9.586207  1.323276  14.275862   \n",
       "2 mildly   1 very poor    33.071429    13.357143  2.500000  13.321429   \n",
       "           2 poor         30.605000    11.450000  1.845000  13.710000   \n",
       "           3 fair         30.288288    11.155405  1.810811  13.662162   \n",
       "           4 good         29.813312    10.493506  1.647727  13.714286   \n",
       "           5 very good    30.201863    10.658385  1.562112  14.229814   \n",
       "3 fairly   1 very poor    35.620690    16.310345  2.258621  13.793103   \n",
       "           2 poor         30.739437    11.492958  1.816901  13.408451   \n",
       "           3 fair         31.051630    11.766304  1.929348  14.038043   \n",
       "           4 good         31.006098    11.711382  1.861789  13.821138   \n",
       "           5 very good    31.152542    11.598870  1.689266  14.101695   \n",
       "4 strongly 1 very poor    40.000000    18.400000  2.700000  15.400000   \n",
       "           2 poor         36.000000    15.150000  2.700000  15.700000   \n",
       "           3 fair         32.661290    14.274194  2.370968  13.741935   \n",
       "           4 good         32.750000    15.112500  2.400000  14.075000   \n",
       "           5 very good    33.969697    14.545455  2.621212  15.000000   \n",
       "\n",
       "                           affairs cheated  \n",
       "religious  rate_marriage                    \n",
       "1 not      1 very poor    2.001155    True  \n",
       "           2 poor         4.619279    True  \n",
       "           3 fair         3.854571    True  \n",
       "           4 good         2.677208    True  \n",
       "           5 very good    2.520268    True  \n",
       "2 mildly   1 very poor    1.862264    True  \n",
       "           2 poor         2.341133    True  \n",
       "           3 fair         2.358753    True  \n",
       "           4 good         2.088330    True  \n",
       "           5 very good    1.778400    True  \n",
       "3 fairly   1 very poor    1.300918    True  \n",
       "           2 poor         1.853389    True  \n",
       "           3 fair         1.994125    True  \n",
       "           4 good         1.894188    True  \n",
       "           5 very good    1.795915    True  \n",
       "4 strongly 1 very poor    1.016320    True  \n",
       "           2 poor         1.180434    True  \n",
       "           3 fair         1.519907    True  \n",
       "           4 good         1.394295    True  \n",
       "           5 very good    1.149939    True  "
      ]
     },
     "execution_count": 29,
     "metadata": {},
     "output_type": "execute_result"
    }
   ],
   "source": [
    "affair[affair.cheated].groupby(['religious', 'rate_marriage']).mean()"
   ]
  },
  {
   "cell_type": "markdown",
   "metadata": {},
   "source": [
    "è possibile inoltre effettuare una prima esplorazione dei dati sfruttando i metodi di **seaborn**"
   ]
  },
  {
   "cell_type": "code",
   "execution_count": 39,
   "metadata": {
    "collapsed": true
   },
   "outputs": [],
   "source": [
    "import pylab as plt\n",
    "import seaborn"
   ]
  },
  {
   "cell_type": "code",
   "execution_count": 60,
   "metadata": {
    "collapsed": false
   },
   "outputs": [
    {
     "data": {
      "image/png": "[encoded data removed]",
      "text/plain": [
       "<matplotlib.figure.Figure at 0x7fefd483bc50>"
      ]
     },
     "metadata": {},
     "output_type": "display_data"
    }
   ],
   "source": [
    "seaborn.boxplot(x=\"religious\", y=\"age\", data=affair);"
   ]
  },
  {
   "cell_type": "code",
   "execution_count": 75,
   "metadata": {
    "collapsed": false
   },
   "outputs": [
    {
     "name": "stderr",
     "output_type": "stream",
     "text": [
      "/home/PERSONALE/enrico.giampieri2/.local/lib/python3.4/site-packages/matplotlib/collections.py:590: FutureWarning: elementwise comparison failed; returning scalar instead, but in the future will perform elementwise comparison\n",
      "  if self._edgecolors == str('face'):\n"
     ]
    },
    {
     "data": {
      "text/plain": [
       "<seaborn.axisgrid.FacetGrid at 0x7fefd2d0b9e8>"
      ]
     },
     "execution_count": 75,
     "metadata": {},
     "output_type": "execute_result"
    },
    {
     "data": {
      "image/png": "[encoded data removed]",
      "text/plain": [
       "<matplotlib.figure.Figure at 0x7fefd2d0bef0>"
      ]
     },
     "metadata": {},
     "output_type": "display_data"
    }
   ],
   "source": [
    "seaborn.lmplot(x='age',\n",
    "               y='yrs_married',\n",
    "               hue='cheated',\n",
    "               row='religious',\n",
    "               data=affair,\n",
    "               x_jitter=1,\n",
    "               y_jitter=1,\n",
    "              )"
   ]
  },
  {
   "cell_type": "code",
   "execution_count": 76,
   "metadata": {
    "collapsed": false
   },
   "outputs": [
    {
     "data": {
      "text/plain": [
       "<matplotlib.axes._subplots.AxesSubplot at 0x7fefd2cf3400>"
      ]
     },
     "execution_count": 76,
     "metadata": {},
     "output_type": "execute_result"
    },
    {
     "data": {
      "image/png": "[encoded data removed]",
      "text/plain": [
       "<matplotlib.figure.Figure at 0x7fefd2affe48>"
      ]
     },
     "metadata": {},
     "output_type": "display_data"
    }
   ],
   "source": [
    "seaborn.countplot(x=\"age\", data=affair, palette=\"Greens_d\")"
   ]
  },
  {
   "cell_type": "markdown",
   "metadata": {},
   "source": [
    "----\n",
    "# statsmodels - statistica classica\n",
    "\n",
    "http://statsmodels.sourceforge.net/\n",
    "\n",
    "Statsmodels contiene tutti i metodi necessari per l'implementazione della statistica inferenziale classica. Tutti i metodi e le classi esposte sono state validate con i risultati forniti da R e STATA. L'utilizzo principale è la scelta di uno dei vari regressori possibili, fittarlo sui dati e ricavarne informazioni sul modelle scelto. Vi mostrerò soltanto la classica regressione ai minimi quadrati, chiamata OLS (Ordinary Least Square)."
   ]
  },
  {
   "cell_type": "code",
   "execution_count": 77,
   "metadata": {
    "collapsed": false
   },
   "outputs": [],
   "source": [
    "import statsmodels.api as sm\n",
    "import statsmodels.formula.api as smf"
   ]
  },
  {
   "cell_type": "code",
   "execution_count": 78,
   "metadata": {
    "collapsed": false
   },
   "outputs": [
    {
     "name": "stdout",
     "output_type": "stream",
     "text": [
      "\n",
      "The classic 1967 Longley Data\n",
      "\n",
      "http://www.itl.nist.gov/div898/strd/lls/data/Longley.shtml\n",
      "\n",
      "::\n",
      "\n",
      "    Longley, J.W. (1967) \"An Appraisal of Least Squares Programs for the\n",
      "        Electronic Comptuer from the Point of View of the User.\"  Journal of\n",
      "        the American Statistical Association.  62.319, 819-41.\n",
      "\n",
      "The Longley dataset contains various US macroeconomic\n",
      "variables that are known to be highly collinear.  It has been used to appraise\n",
      "the accuracy of least squares routines.\n",
      "::\n",
      "\n",
      "    Number of Observations - 16\n",
      "\n",
      "    Number of Variables - 6\n",
      "\n",
      "    Variable name definitions::\n",
      "\n",
      "            TOTEMP - Total Employment\n",
      "            GNPDEFL - GNP deflator\n",
      "            GNP - GNP\n",
      "            UNEMP - Number of unemployed\n",
      "            ARMED - Size of armed forces\n",
      "            POP - Population\n",
      "            YEAR - Year (1947 - 1962)\n",
      "\n",
      "This is public domain.\n"
     ]
    },
    {
     "data": {
      "text/html": [
       "<div>\n",
       "<table border=\"1\" class=\"dataframe\">\n",
       "  <thead>\n",
       "    <tr style=\"text-align: right;\">\n",
       "      <th></th>\n",
       "      <th>TOTEMP</th>\n",
       "      <th>GNPDEFL</th>\n",
       "      <th>GNP</th>\n",
       "      <th>UNEMP</th>\n",
       "      <th>ARMED</th>\n",
       "      <th>POP</th>\n",
       "      <th>YEAR</th>\n",
       "    </tr>\n",
       "  </thead>\n",
       "  <tbody>\n",
       "    <tr>\n",
       "      <th>0</th>\n",
       "      <td>60323</td>\n",
       "      <td>83.0</td>\n",
       "      <td>234289</td>\n",
       "      <td>2356</td>\n",
       "      <td>1590</td>\n",
       "      <td>107608</td>\n",
       "      <td>1947</td>\n",
       "    </tr>\n",
       "    <tr>\n",
       "      <th>1</th>\n",
       "      <td>61122</td>\n",
       "      <td>88.5</td>\n",
       "      <td>259426</td>\n",
       "      <td>2325</td>\n",
       "      <td>1456</td>\n",
       "      <td>108632</td>\n",
       "      <td>1948</td>\n",
       "    </tr>\n",
       "    <tr>\n",
       "      <th>2</th>\n",
       "      <td>60171</td>\n",
       "      <td>88.2</td>\n",
       "      <td>258054</td>\n",
       "      <td>3682</td>\n",
       "      <td>1616</td>\n",
       "      <td>109773</td>\n",
       "      <td>1949</td>\n",
       "    </tr>\n",
       "    <tr>\n",
       "      <th>3</th>\n",
       "      <td>61187</td>\n",
       "      <td>89.5</td>\n",
       "      <td>284599</td>\n",
       "      <td>3351</td>\n",
       "      <td>1650</td>\n",
       "      <td>110929</td>\n",
       "      <td>1950</td>\n",
       "    </tr>\n",
       "    <tr>\n",
       "      <th>4</th>\n",
       "      <td>63221</td>\n",
       "      <td>96.2</td>\n",
       "      <td>328975</td>\n",
       "      <td>2099</td>\n",
       "      <td>3099</td>\n",
       "      <td>112075</td>\n",
       "      <td>1951</td>\n",
       "    </tr>\n",
       "    <tr>\n",
       "      <th>5</th>\n",
       "      <td>63639</td>\n",
       "      <td>98.1</td>\n",
       "      <td>346999</td>\n",
       "      <td>1932</td>\n",
       "      <td>3594</td>\n",
       "      <td>113270</td>\n",
       "      <td>1952</td>\n",
       "    </tr>\n",
       "    <tr>\n",
       "      <th>6</th>\n",
       "      <td>64989</td>\n",
       "      <td>99.0</td>\n",
       "      <td>365385</td>\n",
       "      <td>1870</td>\n",
       "      <td>3547</td>\n",
       "      <td>115094</td>\n",
       "      <td>1953</td>\n",
       "    </tr>\n",
       "    <tr>\n",
       "      <th>7</th>\n",
       "      <td>63761</td>\n",
       "      <td>100.0</td>\n",
       "      <td>363112</td>\n",
       "      <td>3578</td>\n",
       "      <td>3350</td>\n",
       "      <td>116219</td>\n",
       "      <td>1954</td>\n",
       "    </tr>\n",
       "    <tr>\n",
       "      <th>8</th>\n",
       "      <td>66019</td>\n",
       "      <td>101.2</td>\n",
       "      <td>397469</td>\n",
       "      <td>2904</td>\n",
       "      <td>3048</td>\n",
       "      <td>117388</td>\n",
       "      <td>1955</td>\n",
       "    </tr>\n",
       "    <tr>\n",
       "      <th>9</th>\n",
       "      <td>67857</td>\n",
       "      <td>104.6</td>\n",
       "      <td>419180</td>\n",
       "      <td>2822</td>\n",
       "      <td>2857</td>\n",
       "      <td>118734</td>\n",
       "      <td>1956</td>\n",
       "    </tr>\n",
       "    <tr>\n",
       "      <th>10</th>\n",
       "      <td>68169</td>\n",
       "      <td>108.4</td>\n",
       "      <td>442769</td>\n",
       "      <td>2936</td>\n",
       "      <td>2798</td>\n",
       "      <td>120445</td>\n",
       "      <td>1957</td>\n",
       "    </tr>\n",
       "    <tr>\n",
       "      <th>11</th>\n",
       "      <td>66513</td>\n",
       "      <td>110.8</td>\n",
       "      <td>444546</td>\n",
       "      <td>4681</td>\n",
       "      <td>2637</td>\n",
       "      <td>121950</td>\n",
       "      <td>1958</td>\n",
       "    </tr>\n",
       "    <tr>\n",
       "      <th>12</th>\n",
       "      <td>68655</td>\n",
       "      <td>112.6</td>\n",
       "      <td>482704</td>\n",
       "      <td>3813</td>\n",
       "      <td>2552</td>\n",
       "      <td>123366</td>\n",
       "      <td>1959</td>\n",
       "    </tr>\n",
       "    <tr>\n",
       "      <th>13</th>\n",
       "      <td>69564</td>\n",
       "      <td>114.2</td>\n",
       "      <td>502601</td>\n",
       "      <td>3931</td>\n",
       "      <td>2514</td>\n",
       "      <td>125368</td>\n",
       "      <td>1960</td>\n",
       "    </tr>\n",
       "    <tr>\n",
       "      <th>14</th>\n",
       "      <td>69331</td>\n",
       "      <td>115.7</td>\n",
       "      <td>518173</td>\n",
       "      <td>4806</td>\n",
       "      <td>2572</td>\n",
       "      <td>127852</td>\n",
       "      <td>1961</td>\n",
       "    </tr>\n",
       "    <tr>\n",
       "      <th>15</th>\n",
       "      <td>70551</td>\n",
       "      <td>116.9</td>\n",
       "      <td>554894</td>\n",
       "      <td>4007</td>\n",
       "      <td>2827</td>\n",
       "      <td>130081</td>\n",
       "      <td>1962</td>\n",
       "    </tr>\n",
       "  </tbody>\n",
       "</table>\n",
       "</div>"
      ],
      "text/plain": [
       "    TOTEMP  GNPDEFL     GNP  UNEMP  ARMED     POP  YEAR\n",
       "0    60323     83.0  234289   2356   1590  107608  1947\n",
       "1    61122     88.5  259426   2325   1456  108632  1948\n",
       "2    60171     88.2  258054   3682   1616  109773  1949\n",
       "3    61187     89.5  284599   3351   1650  110929  1950\n",
       "4    63221     96.2  328975   2099   3099  112075  1951\n",
       "5    63639     98.1  346999   1932   3594  113270  1952\n",
       "6    64989     99.0  365385   1870   3547  115094  1953\n",
       "7    63761    100.0  363112   3578   3350  116219  1954\n",
       "8    66019    101.2  397469   2904   3048  117388  1955\n",
       "9    67857    104.6  419180   2822   2857  118734  1956\n",
       "10   68169    108.4  442769   2936   2798  120445  1957\n",
       "11   66513    110.8  444546   4681   2637  121950  1958\n",
       "12   68655    112.6  482704   3813   2552  123366  1959\n",
       "13   69564    114.2  502601   3931   2514  125368  1960\n",
       "14   69331    115.7  518173   4806   2572  127852  1961\n",
       "15   70551    116.9  554894   4007   2827  130081  1962"
      ]
     },
     "execution_count": 78,
     "metadata": {},
     "output_type": "execute_result"
    }
   ],
   "source": [
    "longley = sm.datasets.longley.load_pandas()\n",
    "exog = longley.exog\n",
    "endog = longley.endog\n",
    "longley = longley.data\n",
    "\n",
    "print(sm.datasets.longley.SOURCE)\n",
    "print(sm.datasets.longley.DESCRLONG)\n",
    "print(sm.datasets.longley.NOTE)\n",
    "print(sm.datasets.longley.COPYRIGHT)\n",
    "longley"
   ]
  },
  {
   "cell_type": "markdown",
   "metadata": {},
   "source": [
    "Possiamo visualizzare l'andamente nel tempo dell'occupazione complessiva e confrontarla con quella di un'altra variabile, ad esempio la deflazione del GNP"
   ]
  },
  {
   "cell_type": "code",
   "execution_count": 79,
   "metadata": {
    "collapsed": false
   },
   "outputs": [
    {
     "data": {
      "image/png": "[encoded data removed]",
      "text/plain": [
       "<matplotlib.figure.Figure at 0x7fefd2a52a20>"
      ]
     },
     "metadata": {},
     "output_type": "display_data"
    },
    {
     "data": {
      "image/png": "[encoded data removed]",
      "text/plain": [
       "<matplotlib.figure.Figure at 0x7fefd29f0898>"
      ]
     },
     "metadata": {},
     "output_type": "display_data"
    }
   ],
   "source": [
    "longley.plot('YEAR', 'TOTEMP')\n",
    "longley.plot('YEAR', 'GNPDEFL', secondary_y=True, color='r');"
   ]
  },
  {
   "cell_type": "markdown",
   "metadata": {},
   "source": [
    "Possiamo avere una visione d'insieme usando le funzioni fornite da pandas per l'analisi e la visualizzazione"
   ]
  },
  {
   "cell_type": "code",
   "execution_count": 80,
   "metadata": {
    "collapsed": false
   },
   "outputs": [
    {
     "data": {
      "text/html": [
       "<div>\n",
       "<table border=\"1\" class=\"dataframe\">\n",
       "  <thead>\n",
       "    <tr style=\"text-align: right;\">\n",
       "      <th></th>\n",
       "      <th>TOTEMP</th>\n",
       "      <th>GNPDEFL</th>\n",
       "      <th>GNP</th>\n",
       "      <th>UNEMP</th>\n",
       "      <th>ARMED</th>\n",
       "      <th>POP</th>\n",
       "      <th>YEAR</th>\n",
       "    </tr>\n",
       "  </thead>\n",
       "  <tbody>\n",
       "    <tr>\n",
       "      <th>TOTEMP</th>\n",
       "      <td>1.000000</td>\n",
       "      <td>0.970899</td>\n",
       "      <td>0.983552</td>\n",
       "      <td>0.502498</td>\n",
       "      <td>0.457307</td>\n",
       "      <td>0.960391</td>\n",
       "      <td>0.971329</td>\n",
       "    </tr>\n",
       "    <tr>\n",
       "      <th>GNPDEFL</th>\n",
       "      <td>0.970899</td>\n",
       "      <td>1.000000</td>\n",
       "      <td>0.991589</td>\n",
       "      <td>0.620633</td>\n",
       "      <td>0.464744</td>\n",
       "      <td>0.979163</td>\n",
       "      <td>0.991149</td>\n",
       "    </tr>\n",
       "    <tr>\n",
       "      <th>GNP</th>\n",
       "      <td>0.983552</td>\n",
       "      <td>0.991589</td>\n",
       "      <td>1.000000</td>\n",
       "      <td>0.604261</td>\n",
       "      <td>0.446437</td>\n",
       "      <td>0.991090</td>\n",
       "      <td>0.995273</td>\n",
       "    </tr>\n",
       "    <tr>\n",
       "      <th>UNEMP</th>\n",
       "      <td>0.502498</td>\n",
       "      <td>0.620633</td>\n",
       "      <td>0.604261</td>\n",
       "      <td>1.000000</td>\n",
       "      <td>-0.177421</td>\n",
       "      <td>0.686552</td>\n",
       "      <td>0.668257</td>\n",
       "    </tr>\n",
       "    <tr>\n",
       "      <th>ARMED</th>\n",
       "      <td>0.457307</td>\n",
       "      <td>0.464744</td>\n",
       "      <td>0.446437</td>\n",
       "      <td>-0.177421</td>\n",
       "      <td>1.000000</td>\n",
       "      <td>0.364416</td>\n",
       "      <td>0.417245</td>\n",
       "    </tr>\n",
       "    <tr>\n",
       "      <th>POP</th>\n",
       "      <td>0.960391</td>\n",
       "      <td>0.979163</td>\n",
       "      <td>0.991090</td>\n",
       "      <td>0.686552</td>\n",
       "      <td>0.364416</td>\n",
       "      <td>1.000000</td>\n",
       "      <td>0.993953</td>\n",
       "    </tr>\n",
       "    <tr>\n",
       "      <th>YEAR</th>\n",
       "      <td>0.971329</td>\n",
       "      <td>0.991149</td>\n",
       "      <td>0.995273</td>\n",
       "      <td>0.668257</td>\n",
       "      <td>0.417245</td>\n",
       "      <td>0.993953</td>\n",
       "      <td>1.000000</td>\n",
       "    </tr>\n",
       "  </tbody>\n",
       "</table>\n",
       "</div>"
      ],
      "text/plain": [
       "           TOTEMP   GNPDEFL       GNP     UNEMP     ARMED       POP      YEAR\n",
       "TOTEMP   1.000000  0.970899  0.983552  0.502498  0.457307  0.960391  0.971329\n",
       "GNPDEFL  0.970899  1.000000  0.991589  0.620633  0.464744  0.979163  0.991149\n",
       "GNP      0.983552  0.991589  1.000000  0.604261  0.446437  0.991090  0.995273\n",
       "UNEMP    0.502498  0.620633  0.604261  1.000000 -0.177421  0.686552  0.668257\n",
       "ARMED    0.457307  0.464744  0.446437 -0.177421  1.000000  0.364416  0.417245\n",
       "POP      0.960391  0.979163  0.991090  0.686552  0.364416  1.000000  0.993953\n",
       "YEAR     0.971329  0.991149  0.995273  0.668257  0.417245  0.993953  1.000000"
      ]
     },
     "execution_count": 80,
     "metadata": {},
     "output_type": "execute_result"
    }
   ],
   "source": [
    "longley.corr()"
   ]
  },
  {
   "cell_type": "code",
   "execution_count": 81,
   "metadata": {
    "collapsed": false
   },
   "outputs": [
    {
     "name": "stderr",
     "output_type": "stream",
     "text": [
      "/home/PERSONALE/enrico.giampieri2/.local/lib/python3.4/site-packages/matplotlib/collections.py:590: FutureWarning: elementwise comparison failed; returning scalar instead, but in the future will perform elementwise comparison\n",
      "  if self._edgecolors == str('face'):\n"
     ]
    },
    {
     "data": {
      "image/png": "[encoded data removed]",
      "text/plain": [
       "<matplotlib.figure.Figure at 0x7fefd2a522e8>"
      ]
     },
     "metadata": {},
     "output_type": "display_data"
    }
   ],
   "source": [
    "pd.scatter_matrix(longley, figsize=(12,12));"
   ]
  },
  {
   "cell_type": "markdown",
   "metadata": {},
   "source": [
    "E possiamo investigare le correlazioni fra le singole variabili e ciò che stiamo cercando di modellizzare:"
   ]
  },
  {
   "cell_type": "code",
   "execution_count": 82,
   "metadata": {
    "collapsed": false
   },
   "outputs": [
    {
     "name": "stderr",
     "output_type": "stream",
     "text": [
      "/usr/local/lib/python3.4/dist-packages/ipykernel/__main__.py:1: FutureWarning: order is deprecated, use sort_values(...)\n",
      "  if __name__ == '__main__':\n"
     ]
    },
    {
     "data": {
      "text/plain": [
       "ARMED      0.457307\n",
       "UNEMP      0.502498\n",
       "POP        0.960391\n",
       "GNPDEFL    0.970899\n",
       "YEAR       0.971329\n",
       "GNP        0.983552\n",
       "TOTEMP     1.000000\n",
       "dtype: float64"
      ]
     },
     "execution_count": 82,
     "metadata": {},
     "output_type": "execute_result"
    }
   ],
   "source": [
    "longley.corrwith(longley['TOTEMP']).order()"
   ]
  },
  {
   "cell_type": "markdown",
   "metadata": {},
   "source": [
    "Creare un modello lineare è molto semplice, basta dare al regressore scelto il vettore su cui fare la regressione (la y) e tutti i vettori da usare come regressori (le x).\n",
    "\n",
    "Tutte le classi di regressione hanno un metoto **summary** che restituisce una diagnostica molto approfondita del modello."
   ]
  },
  {
   "cell_type": "code",
   "execution_count": 83,
   "metadata": {
    "collapsed": false
   },
   "outputs": [
    {
     "name": "stderr",
     "output_type": "stream",
     "text": [
      "/usr/local/lib/python3.4/dist-packages/scipy/stats/stats.py:1285: UserWarning: kurtosistest only valid for n>=20 ... continuing anyway, n=16\n",
      "  \"anyway, n=%i\" % int(n))\n"
     ]
    },
    {
     "data": {
      "text/html": [
       "<table class=\"simpletable\">\n",
       "<caption>OLS Regression Results</caption>\n",
       "<tr>\n",
       "  <th>Dep. Variable:</th>         <td>TOTEMP</td>      <th>  R-squared:         </th> <td>   1.000</td> \n",
       "</tr>\n",
       "<tr>\n",
       "  <th>Model:</th>                   <td>OLS</td>       <th>  Adj. R-squared:    </th> <td>   1.000</td> \n",
       "</tr>\n",
       "<tr>\n",
       "  <th>Method:</th>             <td>Least Squares</td>  <th>  F-statistic:       </th> <td>5.052e+04</td>\n",
       "</tr>\n",
       "<tr>\n",
       "  <th>Date:</th>             <td>Fri, 30 Oct 2015</td> <th>  Prob (F-statistic):</th> <td>8.20e-22</td> \n",
       "</tr>\n",
       "<tr>\n",
       "  <th>Time:</th>                 <td>10:02:28</td>     <th>  Log-Likelihood:    </th> <td> -117.56</td> \n",
       "</tr>\n",
       "<tr>\n",
       "  <th>No. Observations:</th>      <td>    16</td>      <th>  AIC:               </th> <td>   247.1</td> \n",
       "</tr>\n",
       "<tr>\n",
       "  <th>Df Residuals:</th>          <td>    10</td>      <th>  BIC:               </th> <td>   251.8</td> \n",
       "</tr>\n",
       "<tr>\n",
       "  <th>Df Model:</th>              <td>     6</td>      <th>                     </th>     <td> </td>    \n",
       "</tr>\n",
       "<tr>\n",
       "  <th>Covariance Type:</th>      <td>nonrobust</td>    <th>                     </th>     <td> </td>    \n",
       "</tr>\n",
       "</table>\n",
       "<table class=\"simpletable\">\n",
       "<tr>\n",
       "     <td></td>        <th>coef</th>     <th>std err</th>      <th>t</th>      <th>P>|t|</th> <th>[95.0% Conf. Int.]</th> \n",
       "</tr>\n",
       "<tr>\n",
       "  <th>GNPDEFL</th> <td>  -52.9936</td> <td>  129.545</td> <td>   -0.409</td> <td> 0.691</td> <td> -341.638   235.650</td>\n",
       "</tr>\n",
       "<tr>\n",
       "  <th>GNP</th>     <td>    0.0711</td> <td>    0.030</td> <td>    2.356</td> <td> 0.040</td> <td>    0.004     0.138</td>\n",
       "</tr>\n",
       "<tr>\n",
       "  <th>UNEMP</th>   <td>   -0.4235</td> <td>    0.418</td> <td>   -1.014</td> <td> 0.335</td> <td>   -1.354     0.507</td>\n",
       "</tr>\n",
       "<tr>\n",
       "  <th>ARMED</th>   <td>   -0.5726</td> <td>    0.279</td> <td>   -2.052</td> <td> 0.067</td> <td>   -1.194     0.049</td>\n",
       "</tr>\n",
       "<tr>\n",
       "  <th>POP</th>     <td>   -0.4142</td> <td>    0.321</td> <td>   -1.289</td> <td> 0.226</td> <td>   -1.130     0.302</td>\n",
       "</tr>\n",
       "<tr>\n",
       "  <th>YEAR</th>    <td>   48.4179</td> <td>   17.689</td> <td>    2.737</td> <td> 0.021</td> <td>    9.003    87.832</td>\n",
       "</tr>\n",
       "</table>\n",
       "<table class=\"simpletable\">\n",
       "<tr>\n",
       "  <th>Omnibus:</th>       <td> 1.443</td> <th>  Durbin-Watson:     </th> <td>   1.277</td>\n",
       "</tr>\n",
       "<tr>\n",
       "  <th>Prob(Omnibus):</th> <td> 0.486</td> <th>  Jarque-Bera (JB):  </th> <td>   0.605</td>\n",
       "</tr>\n",
       "<tr>\n",
       "  <th>Skew:</th>          <td> 0.476</td> <th>  Prob(JB):          </th> <td>   0.739</td>\n",
       "</tr>\n",
       "<tr>\n",
       "  <th>Kurtosis:</th>      <td> 3.031</td> <th>  Cond. No.          </th> <td>4.56e+05</td>\n",
       "</tr>\n",
       "</table>"
      ],
      "text/plain": [
       "<class 'statsmodels.iolib.summary.Summary'>\n",
       "\"\"\"\n",
       "                            OLS Regression Results                            \n",
       "==============================================================================\n",
       "Dep. Variable:                 TOTEMP   R-squared:                       1.000\n",
       "Model:                            OLS   Adj. R-squared:                  1.000\n",
       "Method:                 Least Squares   F-statistic:                 5.052e+04\n",
       "Date:                Fri, 30 Oct 2015   Prob (F-statistic):           8.20e-22\n",
       "Time:                        10:02:28   Log-Likelihood:                -117.56\n",
       "No. Observations:                  16   AIC:                             247.1\n",
       "Df Residuals:                      10   BIC:                             251.8\n",
       "Df Model:                           6                                         \n",
       "Covariance Type:            nonrobust                                         \n",
       "==============================================================================\n",
       "                 coef    std err          t      P>|t|      [95.0% Conf. Int.]\n",
       "------------------------------------------------------------------------------\n",
       "GNPDEFL      -52.9936    129.545     -0.409      0.691      -341.638   235.650\n",
       "GNP            0.0711      0.030      2.356      0.040         0.004     0.138\n",
       "UNEMP         -0.4235      0.418     -1.014      0.335        -1.354     0.507\n",
       "ARMED         -0.5726      0.279     -2.052      0.067        -1.194     0.049\n",
       "POP           -0.4142      0.321     -1.289      0.226        -1.130     0.302\n",
       "YEAR          48.4179     17.689      2.737      0.021         9.003    87.832\n",
       "==============================================================================\n",
       "Omnibus:                        1.443   Durbin-Watson:                   1.277\n",
       "Prob(Omnibus):                  0.486   Jarque-Bera (JB):                0.605\n",
       "Skew:                           0.476   Prob(JB):                        0.739\n",
       "Kurtosis:                       3.031   Cond. No.                     4.56e+05\n",
       "==============================================================================\n",
       "\n",
       "Warnings:\n",
       "[1] Standard Errors assume that the covariance matrix of the errors is correctly specified.\n",
       "[2] The condition number is large, 4.56e+05. This might indicate that there are\n",
       "strong multicollinearity or other numerical problems.\n",
       "\"\"\""
      ]
     },
     "execution_count": 83,
     "metadata": {},
     "output_type": "execute_result"
    }
   ],
   "source": [
    "y, x = endog, exog\n",
    "res1 = sm.OLS(y, x).fit()\n",
    "res1.summary()"
   ]
  },
  {
   "cell_type": "markdown",
   "metadata": {},
   "source": [
    "Una maniera molto più comoda per creare i modelli è l'interfaccia a formula, che utilizza una sintassi identica a quella stabilita da molto tempo da programmi come R, S e Stata. In Statsmodels questo è implementato tramite una stringa che descrive il modello ed un dataframe su cui questa formula viene valutata.\n",
    "\n",
    "Con questa sintassi si separa la variabile dipendente da quelle indipendenti con una tilde (~) e la combinazione delle variabili indipendenti indica la struttura del modello:\n",
    "\n",
    "- la somma **+** rappresenta la combinazione dei due fattori in modo indipendente\n",
    "- la moltiplicazione __*__ rappresenta la combinazione tenendo conto delle interazioni\n",
    "- i due punti __:__ rappresentano la combinazione gerarchica dei due fattori\n",
    "\n",
    "Vediamo un esempio di modello elementare"
   ]
  },
  {
   "cell_type": "code",
   "execution_count": 84,
   "metadata": {
    "collapsed": false
   },
   "outputs": [
    {
     "name": "stderr",
     "output_type": "stream",
     "text": [
      "/usr/local/lib/python3.4/dist-packages/scipy/stats/stats.py:1285: UserWarning: kurtosistest only valid for n>=20 ... continuing anyway, n=16\n",
      "  \"anyway, n=%i\" % int(n))\n"
     ]
    },
    {
     "data": {
      "text/html": [
       "<table class=\"simpletable\">\n",
       "<caption>OLS Regression Results</caption>\n",
       "<tr>\n",
       "  <th>Dep. Variable:</th>         <td>TOTEMP</td>      <th>  R-squared:         </th> <td>   0.943</td>\n",
       "</tr>\n",
       "<tr>\n",
       "  <th>Model:</th>                   <td>OLS</td>       <th>  Adj. R-squared:    </th> <td>   0.939</td>\n",
       "</tr>\n",
       "<tr>\n",
       "  <th>Method:</th>             <td>Least Squares</td>  <th>  F-statistic:       </th> <td>   230.1</td>\n",
       "</tr>\n",
       "<tr>\n",
       "  <th>Date:</th>             <td>Fri, 30 Oct 2015</td> <th>  Prob (F-statistic):</th> <td>4.39e-10</td>\n",
       "</tr>\n",
       "<tr>\n",
       "  <th>Time:</th>                 <td>10:02:35</td>     <th>  Log-Likelihood:    </th> <td> -129.94</td>\n",
       "</tr>\n",
       "<tr>\n",
       "  <th>No. Observations:</th>      <td>    16</td>      <th>  AIC:               </th> <td>   263.9</td>\n",
       "</tr>\n",
       "<tr>\n",
       "  <th>Df Residuals:</th>          <td>    14</td>      <th>  BIC:               </th> <td>   265.4</td>\n",
       "</tr>\n",
       "<tr>\n",
       "  <th>Df Model:</th>              <td>     1</td>      <th>                     </th>     <td> </td>   \n",
       "</tr>\n",
       "<tr>\n",
       "  <th>Covariance Type:</th>      <td>nonrobust</td>    <th>                     </th>     <td> </td>   \n",
       "</tr>\n",
       "</table>\n",
       "<table class=\"simpletable\">\n",
       "<tr>\n",
       "      <td></td>         <th>coef</th>     <th>std err</th>      <th>t</th>      <th>P>|t|</th> <th>[95.0% Conf. Int.]</th> \n",
       "</tr>\n",
       "<tr>\n",
       "  <th>Intercept</th> <td> 3.319e+04</td> <td> 2129.189</td> <td>   15.588</td> <td> 0.000</td> <td> 2.86e+04  3.78e+04</td>\n",
       "</tr>\n",
       "<tr>\n",
       "  <th>GNPDEFL</th>   <td>  315.9661</td> <td>   20.830</td> <td>   15.169</td> <td> 0.000</td> <td>  271.290   360.642</td>\n",
       "</tr>\n",
       "</table>\n",
       "<table class=\"simpletable\">\n",
       "<tr>\n",
       "  <th>Omnibus:</th>       <td> 0.055</td> <th>  Durbin-Watson:     </th> <td>   1.896</td>\n",
       "</tr>\n",
       "<tr>\n",
       "  <th>Prob(Omnibus):</th> <td> 0.973</td> <th>  Jarque-Bera (JB):  </th> <td>   0.114</td>\n",
       "</tr>\n",
       "<tr>\n",
       "  <th>Skew:</th>          <td>-0.073</td> <th>  Prob(JB):          </th> <td>   0.945</td>\n",
       "</tr>\n",
       "<tr>\n",
       "  <th>Kurtosis:</th>      <td> 2.613</td> <th>  Cond. No.          </th> <td>1.00e+03</td>\n",
       "</tr>\n",
       "</table>"
      ],
      "text/plain": [
       "<class 'statsmodels.iolib.summary.Summary'>\n",
       "\"\"\"\n",
       "                            OLS Regression Results                            \n",
       "==============================================================================\n",
       "Dep. Variable:                 TOTEMP   R-squared:                       0.943\n",
       "Model:                            OLS   Adj. R-squared:                  0.939\n",
       "Method:                 Least Squares   F-statistic:                     230.1\n",
       "Date:                Fri, 30 Oct 2015   Prob (F-statistic):           4.39e-10\n",
       "Time:                        10:02:35   Log-Likelihood:                -129.94\n",
       "No. Observations:                  16   AIC:                             263.9\n",
       "Df Residuals:                      14   BIC:                             265.4\n",
       "Df Model:                           1                                         \n",
       "Covariance Type:            nonrobust                                         \n",
       "==============================================================================\n",
       "                 coef    std err          t      P>|t|      [95.0% Conf. Int.]\n",
       "------------------------------------------------------------------------------\n",
       "Intercept   3.319e+04   2129.189     15.588      0.000      2.86e+04  3.78e+04\n",
       "GNPDEFL      315.9661     20.830     15.169      0.000       271.290   360.642\n",
       "==============================================================================\n",
       "Omnibus:                        0.055   Durbin-Watson:                   1.896\n",
       "Prob(Omnibus):                  0.973   Jarque-Bera (JB):                0.114\n",
       "Skew:                          -0.073   Prob(JB):                        0.945\n",
       "Kurtosis:                       2.613   Cond. No.                     1.00e+03\n",
       "==============================================================================\n",
       "\n",
       "Warnings:\n",
       "[1] Standard Errors assume that the covariance matrix of the errors is correctly specified.\n",
       "[2] The condition number is large,  1e+03. This might indicate that there are\n",
       "strong multicollinearity or other numerical problems.\n",
       "\"\"\""
      ]
     },
     "execution_count": 84,
     "metadata": {},
     "output_type": "execute_result"
    }
   ],
   "source": [
    "res2 = smf.ols('TOTEMP ~ GNPDEFL', longley).fit()\n",
    "res2.summary()"
   ]
  },
  {
   "cell_type": "markdown",
   "metadata": {},
   "source": [
    "Un test aggiuntivo che possiamo fare separatamente è il rainbow test per la linearità, che ci fornisce una stima se i residui del modello sono compatibili con quelli attesi da un modello lineare (permettendo di identificare eventuali componenti non-lineari)."
   ]
  },
  {
   "cell_type": "code",
   "execution_count": 85,
   "metadata": {
    "collapsed": false
   },
   "outputs": [
    {
     "name": "stdout",
     "output_type": "stream",
     "text": [
      "p-value dell'ipotesi di linearità dei residui: 0.981815445326\n"
     ]
    }
   ],
   "source": [
    "from statsmodels.stats.diagnostic import linear_rainbow\n",
    "fstats, pvalue = linear_rainbow(res2)\n",
    "print(\"p-value dell'ipotesi di linearità dei residui:\", pvalue)"
   ]
  },
  {
   "cell_type": "markdown",
   "metadata": {},
   "source": [
    "Posso a questo punto confrontare due modelli lineari tramite un'**anova** fra di loro per vedere se sono significativamente diversi. Devo confrontare il modello più semplice contro quello più complicato per vedere se il secondo aggiunge qualcosa di nuovo.\n",
    "\n",
    "In questo caso vediamo che l'aggiunta di tutti i regressori disponibili (il primo modello che abbiamo descritto) aggiunga effettivamente informazione significativa, avendo un p-value $\\sim 4 \\cdot 10^{-3}$"
   ]
  },
  {
   "cell_type": "code",
   "execution_count": 86,
   "metadata": {
    "collapsed": false
   },
   "outputs": [
    {
     "data": {
      "text/html": [
       "<div>\n",
       "<table border=\"1\" class=\"dataframe\">\n",
       "  <thead>\n",
       "    <tr style=\"text-align: right;\">\n",
       "      <th></th>\n",
       "      <th>df_resid</th>\n",
       "      <th>ssr</th>\n",
       "      <th>df_diff</th>\n",
       "      <th>ss_diff</th>\n",
       "      <th>F</th>\n",
       "      <th>Pr(&gt;F)</th>\n",
       "    </tr>\n",
       "  </thead>\n",
       "  <tbody>\n",
       "    <tr>\n",
       "      <th>0</th>\n",
       "      <td>14</td>\n",
       "      <td>10611376.220872</td>\n",
       "      <td>0</td>\n",
       "      <td>NaN</td>\n",
       "      <td>NaN</td>\n",
       "      <td>NaN</td>\n",
       "    </tr>\n",
       "    <tr>\n",
       "      <th>1</th>\n",
       "      <td>10</td>\n",
       "      <td>2257822.599758</td>\n",
       "      <td>4</td>\n",
       "      <td>8353553.621115</td>\n",
       "      <td>9.249568</td>\n",
       "      <td>0.002153</td>\n",
       "    </tr>\n",
       "  </tbody>\n",
       "</table>\n",
       "</div>"
      ],
      "text/plain": [
       "   df_resid              ssr  df_diff         ss_diff         F    Pr(>F)\n",
       "0        14  10611376.220872        0             NaN       NaN       NaN\n",
       "1        10   2257822.599758        4  8353553.621115  9.249568  0.002153"
      ]
     },
     "execution_count": 86,
     "metadata": {},
     "output_type": "execute_result"
    }
   ],
   "source": [
    "from statsmodels.stats.anova import anova_lm\n",
    "anova_lm(res2, res1)"
   ]
  },
  {
   "cell_type": "markdown",
   "metadata": {},
   "source": [
    "In effetti possiamo vedere dal grafico del modello che i dati sono in buon accordo con il modello anche nel caso più semplice."
   ]
  },
  {
   "cell_type": "code",
   "execution_count": 88,
   "metadata": {
    "collapsed": false
   },
   "outputs": [
    {
     "name": "stderr",
     "output_type": "stream",
     "text": [
      "/home/PERSONALE/enrico.giampieri2/.local/lib/python3.4/site-packages/matplotlib/collections.py:590: FutureWarning: elementwise comparison failed; returning scalar instead, but in the future will perform elementwise comparison\n",
      "  if self._edgecolors == str('face'):\n"
     ]
    },
    {
     "data": {
      "image/png": "[encoded data removed]",
      "text/plain": [
       "<matplotlib.figure.Figure at 0x7fefd15b50b8>"
      ]
     },
     "metadata": {},
     "output_type": "display_data"
    }
   ],
   "source": [
    "plt.scatter(longley['GNPDEFL'], longley['TOTEMP'])\n",
    "plt.plot(longley['GNPDEFL'], res2.fittedvalues);"
   ]
  },
  {
   "cell_type": "markdown",
   "metadata": {},
   "source": [
    "Per confrontare i due modelli, visto che la visualizzazione dei modelli multidimensionali è abbastanza difficile, è possibile confrontare esteticamente i residui del modello, definiti come la differenza fra il valore previsto e quello osservato.\n",
    "\n",
    "Vediamo immediatamente come i residui del secondo modello siano nettamente meno variabili di quelli del primo, indice della maggior precisione del modello."
   ]
  },
  {
   "cell_type": "code",
   "execution_count": 146,
   "metadata": {
    "collapsed": false
   },
   "outputs": [
    {
     "data": {
      "text/plain": [
       "<matplotlib.axes._subplots.AxesSubplot at 0x7fefb721d3c8>"
      ]
     },
     "execution_count": 146,
     "metadata": {},
     "output_type": "execute_result"
    },
    {
     "data": {
      "image/png": "[encoded data removed]",
      "text/plain": [
       "<matplotlib.figure.Figure at 0x7fefb7216c50>"
      ]
     },
     "metadata": {},
     "output_type": "display_data"
    }
   ],
   "source": [
    "res2.resid.hist(color='b', alpha=0.5)\n",
    "res1.resid.hist(color='g', alpha=0.5)"
   ]
  },
  {
   "cell_type": "markdown",
   "metadata": {},
   "source": [
    "La verifica della linearità del modello è effettuabile anche visivamente facendo il plot dei residui, e constatando che il fit dei residui è sostanzialmente piatto"
   ]
  },
  {
   "cell_type": "code",
   "execution_count": 90,
   "metadata": {
    "collapsed": false
   },
   "outputs": [
    {
     "name": "stdout",
     "output_type": "stream",
     "text": [
      "pendenza dei residui,  valore 1.82524590402\n",
      "pendenza dei residui, p-value 0.940085366703\n"
     ]
    },
    {
     "data": {
      "image/png": "[encoded data removed]",
      "text/plain": [
       "<matplotlib.figure.Figure at 0x7fefd183fe10>"
      ]
     },
     "metadata": {},
     "output_type": "display_data"
    }
   ],
   "source": [
    "res2.resid.plot(alpha=0.5, color='b')\n",
    "model_res2 = sm.OLS(res2.resid, res2.resid.index).fit()\n",
    "print(\"pendenza dei residui,  valore\", model_res2.params['x1'])\n",
    "print(\"pendenza dei residui, p-value\", model_res2.pvalues['x1'])\n",
    "fittati = model_res2.fittedvalues\n",
    "fittati.plot(color='r');"
   ]
  },
  {
   "cell_type": "markdown",
   "metadata": {},
   "source": [
    "In caso di necessità è possibile utilizzare dei regressori più complicati, come il **Weighted Lineas Squares (WLS)**, che permette di includere una incertezza variabile sui valori da fittare.\n",
    "\n",
    "In questo caso creerò una incertezza fittizzia, che sposterà leggermente l'andamento del fit."
   ]
  },
  {
   "cell_type": "code",
   "execution_count": 92,
   "metadata": {
    "collapsed": false
   },
   "outputs": [
    {
     "name": "stderr",
     "output_type": "stream",
     "text": [
      "/usr/local/lib/python3.4/dist-packages/scipy/stats/stats.py:1285: UserWarning: kurtosistest only valid for n>=20 ... continuing anyway, n=16\n",
      "  \"anyway, n=%i\" % int(n))\n"
     ]
    },
    {
     "data": {
      "text/html": [
       "<table class=\"simpletable\">\n",
       "<caption>WLS Regression Results</caption>\n",
       "<tr>\n",
       "  <th>Dep. Variable:</th>         <td>TOTEMP</td>      <th>  R-squared:         </th> <td>   0.947</td>\n",
       "</tr>\n",
       "<tr>\n",
       "  <th>Model:</th>                   <td>WLS</td>       <th>  Adj. R-squared:    </th> <td>   0.943</td>\n",
       "</tr>\n",
       "<tr>\n",
       "  <th>Method:</th>             <td>Least Squares</td>  <th>  F-statistic:       </th> <td>   249.8</td>\n",
       "</tr>\n",
       "<tr>\n",
       "  <th>Date:</th>             <td>Fri, 30 Oct 2015</td> <th>  Prob (F-statistic):</th> <td>2.54e-10</td>\n",
       "</tr>\n",
       "<tr>\n",
       "  <th>Time:</th>                 <td>10:03:24</td>     <th>  Log-Likelihood:    </th> <td> -130.17</td>\n",
       "</tr>\n",
       "<tr>\n",
       "  <th>No. Observations:</th>      <td>    16</td>      <th>  AIC:               </th> <td>   264.3</td>\n",
       "</tr>\n",
       "<tr>\n",
       "  <th>Df Residuals:</th>          <td>    14</td>      <th>  BIC:               </th> <td>   265.9</td>\n",
       "</tr>\n",
       "<tr>\n",
       "  <th>Df Model:</th>              <td>     1</td>      <th>                     </th>     <td> </td>   \n",
       "</tr>\n",
       "<tr>\n",
       "  <th>Covariance Type:</th>      <td>nonrobust</td>    <th>                     </th>     <td> </td>   \n",
       "</tr>\n",
       "</table>\n",
       "<table class=\"simpletable\">\n",
       "<tr>\n",
       "      <td></td>         <th>coef</th>     <th>std err</th>      <th>t</th>      <th>P>|t|</th> <th>[95.0% Conf. Int.]</th> \n",
       "</tr>\n",
       "<tr>\n",
       "  <th>Intercept</th> <td> 3.426e+04</td> <td> 1870.292</td> <td>   18.317</td> <td> 0.000</td> <td> 3.02e+04  3.83e+04</td>\n",
       "</tr>\n",
       "<tr>\n",
       "  <th>GNPDEFL</th>   <td>  305.3945</td> <td>   19.323</td> <td>   15.805</td> <td> 0.000</td> <td>  263.952   346.837</td>\n",
       "</tr>\n",
       "</table>\n",
       "<table class=\"simpletable\">\n",
       "<tr>\n",
       "  <th>Omnibus:</th>       <td> 0.498</td> <th>  Durbin-Watson:     </th> <td>   1.706</td>\n",
       "</tr>\n",
       "<tr>\n",
       "  <th>Prob(Omnibus):</th> <td> 0.780</td> <th>  Jarque-Bera (JB):  </th> <td>   0.547</td>\n",
       "</tr>\n",
       "<tr>\n",
       "  <th>Skew:</th>          <td> 0.051</td> <th>  Prob(JB):          </th> <td>   0.761</td>\n",
       "</tr>\n",
       "<tr>\n",
       "  <th>Kurtosis:</th>      <td> 2.100</td> <th>  Cond. No.          </th> <td>    878.</td>\n",
       "</tr>\n",
       "</table>"
      ],
      "text/plain": [
       "<class 'statsmodels.iolib.summary.Summary'>\n",
       "\"\"\"\n",
       "                            WLS Regression Results                            \n",
       "==============================================================================\n",
       "Dep. Variable:                 TOTEMP   R-squared:                       0.947\n",
       "Model:                            WLS   Adj. R-squared:                  0.943\n",
       "Method:                 Least Squares   F-statistic:                     249.8\n",
       "Date:                Fri, 30 Oct 2015   Prob (F-statistic):           2.54e-10\n",
       "Time:                        10:03:24   Log-Likelihood:                -130.17\n",
       "No. Observations:                  16   AIC:                             264.3\n",
       "Df Residuals:                      14   BIC:                             265.9\n",
       "Df Model:                           1                                         \n",
       "Covariance Type:            nonrobust                                         \n",
       "==============================================================================\n",
       "                 coef    std err          t      P>|t|      [95.0% Conf. Int.]\n",
       "------------------------------------------------------------------------------\n",
       "Intercept   3.426e+04   1870.292     18.317      0.000      3.02e+04  3.83e+04\n",
       "GNPDEFL      305.3945     19.323     15.805      0.000       263.952   346.837\n",
       "==============================================================================\n",
       "Omnibus:                        0.498   Durbin-Watson:                   1.706\n",
       "Prob(Omnibus):                  0.780   Jarque-Bera (JB):                0.547\n",
       "Skew:                           0.051   Prob(JB):                        0.761\n",
       "Kurtosis:                       2.100   Cond. No.                         878.\n",
       "==============================================================================\n",
       "\n",
       "Warnings:\n",
       "[1] Standard Errors assume that the covariance matrix of the errors is correctly specified.\n",
       "\"\"\""
      ]
     },
     "execution_count": 92,
     "metadata": {},
     "output_type": "execute_result"
    }
   ],
   "source": [
    "pesi = 1.0/(longley['TOTEMP']*plt.arange(1, 1+len(longley['TOTEMP'])))**0.6\n",
    "res3 = smf.wls('TOTEMP ~ GNPDEFL',longley, weights=pesi).fit()\n",
    "res3.summary()"
   ]
  },
  {
   "cell_type": "code",
   "execution_count": 94,
   "metadata": {
    "collapsed": false
   },
   "outputs": [
    {
     "name": "stderr",
     "output_type": "stream",
     "text": [
      "/home/PERSONALE/enrico.giampieri2/.local/lib/python3.4/site-packages/matplotlib/collections.py:650: FutureWarning: elementwise comparison failed; returning scalar instead, but in the future will perform elementwise comparison\n",
      "  if self._edgecolors_original != str('face'):\n"
     ]
    },
    {
     "data": {
      "text/plain": [
       "<Container object of 3 artists>"
      ]
     },
     "execution_count": 94,
     "metadata": {},
     "output_type": "execute_result"
    },
    {
     "name": "stderr",
     "output_type": "stream",
     "text": [
      "/home/PERSONALE/enrico.giampieri2/.local/lib/python3.4/site-packages/matplotlib/collections.py:590: FutureWarning: elementwise comparison failed; returning scalar instead, but in the future will perform elementwise comparison\n",
      "  if self._edgecolors == str('face'):\n"
     ]
    },
    {
     "data": {
      "image/png": "[encoded data removed]",
      "text/plain": [
       "<matplotlib.figure.Figure at 0x7fefd17c8be0>"
      ]
     },
     "metadata": {},
     "output_type": "display_data"
    }
   ],
   "source": [
    "x = longley['GNPDEFL']\n",
    "y_real = longley['TOTEMP']\n",
    "\n",
    "#scatter(x, y_real)\n",
    "plt.figure(figsize=(8,6))\n",
    "plt.plot(x, res2.fittedvalues, 'b')\n",
    "plt.plot(x, res3.fittedvalues, 'r')\n",
    "incertezze = 1.0/pesi\n",
    "plt.errorbar(x, y_real, incertezze, fmt='o', alpha=0.3)"
   ]
  },
  {
   "cell_type": "markdown",
   "metadata": {},
   "source": [
    "Riprendiamo ora in considerazioni il dataset sulle relazione extraconiugali per vedere un esempio di OLS utilizzata per fare l'ANOVA in sue varie accezioni.\n",
    "\n",
    "Rivediamo per prima cosa quali erano le variabili a nostra disposizione:"
   ]
  },
  {
   "cell_type": "code",
   "execution_count": 95,
   "metadata": {
    "collapsed": false
   },
   "outputs": [
    {
     "name": "stdout",
     "output_type": "stream",
     "text": [
      "['rate_marriage' 'age' 'yrs_married' 'children' 'religious' 'educ'\n",
      " 'occupation' 'occupation_husb' 'affairs' 'cheated']\n"
     ]
    }
   ],
   "source": [
    "print(affair.columns.values)"
   ]
  },
  {
   "cell_type": "markdown",
   "metadata": {},
   "source": [
    "Effettuiamo ora una ANOVA ad una via fra coloro che hanno avuto una relazione extraconiugale in funzione del livello percepito del rapporto."
   ]
  },
  {
   "cell_type": "code",
   "execution_count": 96,
   "metadata": {
    "collapsed": false
   },
   "outputs": [
    {
     "data": {
      "text/html": [
       "<table class=\"simpletable\">\n",
       "<caption>OLS Regression Results</caption>\n",
       "<tr>\n",
       "  <th>Dep. Variable:</th>         <td>affairs</td>     <th>  R-squared:         </th> <td>   0.006</td> \n",
       "</tr>\n",
       "<tr>\n",
       "  <th>Model:</th>                   <td>OLS</td>       <th>  Adj. R-squared:    </th> <td>   0.004</td> \n",
       "</tr>\n",
       "<tr>\n",
       "  <th>Method:</th>             <td>Least Squares</td>  <th>  F-statistic:       </th> <td>   3.078</td> \n",
       "</tr>\n",
       "<tr>\n",
       "  <th>Date:</th>             <td>Fri, 30 Oct 2015</td> <th>  Prob (F-statistic):</th>  <td>0.0154</td>  \n",
       "</tr>\n",
       "<tr>\n",
       "  <th>Time:</th>                 <td>10:03:48</td>     <th>  Log-Likelihood:    </th> <td> -5441.3</td> \n",
       "</tr>\n",
       "<tr>\n",
       "  <th>No. Observations:</th>      <td>  2053</td>      <th>  AIC:               </th> <td>1.089e+04</td>\n",
       "</tr>\n",
       "<tr>\n",
       "  <th>Df Residuals:</th>          <td>  2048</td>      <th>  BIC:               </th> <td>1.092e+04</td>\n",
       "</tr>\n",
       "<tr>\n",
       "  <th>Df Model:</th>              <td>     4</td>      <th>                     </th>     <td> </td>    \n",
       "</tr>\n",
       "<tr>\n",
       "  <th>Covariance Type:</th>      <td>nonrobust</td>    <th>                     </th>     <td> </td>    \n",
       "</tr>\n",
       "</table>\n",
       "<table class=\"simpletable\">\n",
       "<tr>\n",
       "                <td></td>                  <th>coef</th>     <th>std err</th>      <th>t</th>      <th>P>|t|</th> <th>[95.0% Conf. Int.]</th> \n",
       "</tr>\n",
       "<tr>\n",
       "  <th>Intercept</th>                    <td>    1.6076</td> <td>    0.399</td> <td>    4.031</td> <td> 0.000</td> <td>    0.826     2.390</td>\n",
       "</tr>\n",
       "<tr>\n",
       "  <th>rate_marriage[T.2 poor]</th>      <td>    0.9366</td> <td>    0.461</td> <td>    2.033</td> <td> 0.042</td> <td>    0.033     1.840</td>\n",
       "</tr>\n",
       "<tr>\n",
       "  <th>rate_marriage[T.3 fair]</th>      <td>    0.8817</td> <td>    0.425</td> <td>    2.075</td> <td> 0.038</td> <td>    0.048     1.715</td>\n",
       "</tr>\n",
       "<tr>\n",
       "  <th>rate_marriage[T.4 good]</th>      <td>    0.4821</td> <td>    0.419</td> <td>    1.152</td> <td> 0.250</td> <td>   -0.339     1.303</td>\n",
       "</tr>\n",
       "<tr>\n",
       "  <th>rate_marriage[T.5 very good]</th> <td>    0.3112</td> <td>    0.428</td> <td>    0.727</td> <td> 0.467</td> <td>   -0.528     1.151</td>\n",
       "</tr>\n",
       "</table>\n",
       "<table class=\"simpletable\">\n",
       "<tr>\n",
       "  <th>Omnibus:</th>       <td>2366.549</td> <th>  Durbin-Watson:     </th>  <td>   1.941</td> \n",
       "</tr>\n",
       "<tr>\n",
       "  <th>Prob(Omnibus):</th>  <td> 0.000</td>  <th>  Jarque-Bera (JB):  </th> <td>290965.709</td>\n",
       "</tr>\n",
       "<tr>\n",
       "  <th>Skew:</th>           <td> 5.811</td>  <th>  Prob(JB):          </th>  <td>    0.00</td> \n",
       "</tr>\n",
       "<tr>\n",
       "  <th>Kurtosis:</th>       <td>60.152</td>  <th>  Cond. No.          </th>  <td>    13.5</td> \n",
       "</tr>\n",
       "</table>"
      ],
      "text/plain": [
       "<class 'statsmodels.iolib.summary.Summary'>\n",
       "\"\"\"\n",
       "                            OLS Regression Results                            \n",
       "==============================================================================\n",
       "Dep. Variable:                affairs   R-squared:                       0.006\n",
       "Model:                            OLS   Adj. R-squared:                  0.004\n",
       "Method:                 Least Squares   F-statistic:                     3.078\n",
       "Date:                Fri, 30 Oct 2015   Prob (F-statistic):             0.0154\n",
       "Time:                        10:03:48   Log-Likelihood:                -5441.3\n",
       "No. Observations:                2053   AIC:                         1.089e+04\n",
       "Df Residuals:                    2048   BIC:                         1.092e+04\n",
       "Df Model:                           4                                         \n",
       "Covariance Type:            nonrobust                                         \n",
       "================================================================================================\n",
       "                                   coef    std err          t      P>|t|      [95.0% Conf. Int.]\n",
       "------------------------------------------------------------------------------------------------\n",
       "Intercept                        1.6076      0.399      4.031      0.000         0.826     2.390\n",
       "rate_marriage[T.2 poor]          0.9366      0.461      2.033      0.042         0.033     1.840\n",
       "rate_marriage[T.3 fair]          0.8817      0.425      2.075      0.038         0.048     1.715\n",
       "rate_marriage[T.4 good]          0.4821      0.419      1.152      0.250        -0.339     1.303\n",
       "rate_marriage[T.5 very good]     0.3112      0.428      0.727      0.467        -0.528     1.151\n",
       "==============================================================================\n",
       "Omnibus:                     2366.549   Durbin-Watson:                   1.941\n",
       "Prob(Omnibus):                  0.000   Jarque-Bera (JB):           290965.709\n",
       "Skew:                           5.811   Prob(JB):                         0.00\n",
       "Kurtosis:                      60.152   Cond. No.                         13.5\n",
       "==============================================================================\n",
       "\n",
       "Warnings:\n",
       "[1] Standard Errors assume that the covariance matrix of the errors is correctly specified.\n",
       "\"\"\""
      ]
     },
     "execution_count": 96,
     "metadata": {},
     "output_type": "execute_result"
    }
   ],
   "source": [
    "smf.ols('affairs ~ rate_marriage', data=affair, subset=affair.cheated).fit().summary()"
   ]
  },
  {
   "cell_type": "markdown",
   "metadata": {},
   "source": [
    "Questo modello risulta significativo, ma la descrizione in termini di controllo e trattamente risulta piuttosto innaturale; Possiamo in modo semplice spiegare a statsmodels che deve interpretare le categorie di **rate_marriage** non come trattamenti rispetto ad un controllo base ma come incrementi successivi rispetto ad un livello base. Il modello complessivo non viene modificato (la varianza descritta è esattamente la stessa), ma la sua interpretazione risulta molto più naturale"
   ]
  },
  {
   "cell_type": "code",
   "execution_count": 97,
   "metadata": {
    "collapsed": false
   },
   "outputs": [
    {
     "data": {
      "text/html": [
       "<table class=\"simpletable\">\n",
       "<caption>OLS Regression Results</caption>\n",
       "<tr>\n",
       "  <th>Dep. Variable:</th>         <td>affairs</td>     <th>  R-squared:         </th> <td>   0.006</td> \n",
       "</tr>\n",
       "<tr>\n",
       "  <th>Model:</th>                   <td>OLS</td>       <th>  Adj. R-squared:    </th> <td>   0.004</td> \n",
       "</tr>\n",
       "<tr>\n",
       "  <th>Method:</th>             <td>Least Squares</td>  <th>  F-statistic:       </th> <td>   3.078</td> \n",
       "</tr>\n",
       "<tr>\n",
       "  <th>Date:</th>             <td>Fri, 30 Oct 2015</td> <th>  Prob (F-statistic):</th>  <td>0.0154</td>  \n",
       "</tr>\n",
       "<tr>\n",
       "  <th>Time:</th>                 <td>10:03:52</td>     <th>  Log-Likelihood:    </th> <td> -5441.3</td> \n",
       "</tr>\n",
       "<tr>\n",
       "  <th>No. Observations:</th>      <td>  2053</td>      <th>  AIC:               </th> <td>1.089e+04</td>\n",
       "</tr>\n",
       "<tr>\n",
       "  <th>Df Residuals:</th>          <td>  2048</td>      <th>  BIC:               </th> <td>1.092e+04</td>\n",
       "</tr>\n",
       "<tr>\n",
       "  <th>Df Model:</th>              <td>     4</td>      <th>                     </th>     <td> </td>    \n",
       "</tr>\n",
       "<tr>\n",
       "  <th>Covariance Type:</th>      <td>nonrobust</td>    <th>                     </th>     <td> </td>    \n",
       "</tr>\n",
       "</table>\n",
       "<table class=\"simpletable\">\n",
       "<tr>\n",
       "                    <td></td>                       <th>coef</th>     <th>std err</th>      <th>t</th>      <th>P>|t|</th> <th>[95.0% Conf. Int.]</th> \n",
       "</tr>\n",
       "<tr>\n",
       "  <th>Intercept</th>                             <td>    2.1300</td> <td>    0.105</td> <td>   20.337</td> <td> 0.000</td> <td>    1.925     2.335</td>\n",
       "</tr>\n",
       "<tr>\n",
       "  <th>C(rate_marriage, Diff)[D.1 very poor]</th> <td>    0.9366</td> <td>    0.461</td> <td>    2.033</td> <td> 0.042</td> <td>    0.033     1.840</td>\n",
       "</tr>\n",
       "<tr>\n",
       "  <th>C(rate_marriage, Diff)[D.2 poor]</th>      <td>   -0.0549</td> <td>    0.273</td> <td>   -0.201</td> <td> 0.841</td> <td>   -0.591     0.481</td>\n",
       "</tr>\n",
       "<tr>\n",
       "  <th>C(rate_marriage, Diff)[D.3 fair]</th>      <td>   -0.3996</td> <td>    0.194</td> <td>   -2.056</td> <td> 0.040</td> <td>   -0.781    -0.018</td>\n",
       "</tr>\n",
       "<tr>\n",
       "  <th>C(rate_marriage, Diff)[D.4 good]</th>      <td>   -0.1709</td> <td>    0.201</td> <td>   -0.850</td> <td> 0.395</td> <td>   -0.565     0.223</td>\n",
       "</tr>\n",
       "</table>\n",
       "<table class=\"simpletable\">\n",
       "<tr>\n",
       "  <th>Omnibus:</th>       <td>2366.549</td> <th>  Durbin-Watson:     </th>  <td>   1.941</td> \n",
       "</tr>\n",
       "<tr>\n",
       "  <th>Prob(Omnibus):</th>  <td> 0.000</td>  <th>  Jarque-Bera (JB):  </th> <td>290965.709</td>\n",
       "</tr>\n",
       "<tr>\n",
       "  <th>Skew:</th>           <td> 5.811</td>  <th>  Prob(JB):          </th>  <td>    0.00</td> \n",
       "</tr>\n",
       "<tr>\n",
       "  <th>Kurtosis:</th>       <td>60.152</td>  <th>  Cond. No.          </th>  <td>    6.88</td> \n",
       "</tr>\n",
       "</table>"
      ],
      "text/plain": [
       "<class 'statsmodels.iolib.summary.Summary'>\n",
       "\"\"\"\n",
       "                            OLS Regression Results                            \n",
       "==============================================================================\n",
       "Dep. Variable:                affairs   R-squared:                       0.006\n",
       "Model:                            OLS   Adj. R-squared:                  0.004\n",
       "Method:                 Least Squares   F-statistic:                     3.078\n",
       "Date:                Fri, 30 Oct 2015   Prob (F-statistic):             0.0154\n",
       "Time:                        10:03:52   Log-Likelihood:                -5441.3\n",
       "No. Observations:                2053   AIC:                         1.089e+04\n",
       "Df Residuals:                    2048   BIC:                         1.092e+04\n",
       "Df Model:                           4                                         \n",
       "Covariance Type:            nonrobust                                         \n",
       "=========================================================================================================\n",
       "                                            coef    std err          t      P>|t|      [95.0% Conf. Int.]\n",
       "---------------------------------------------------------------------------------------------------------\n",
       "Intercept                                 2.1300      0.105     20.337      0.000         1.925     2.335\n",
       "C(rate_marriage, Diff)[D.1 very poor]     0.9366      0.461      2.033      0.042         0.033     1.840\n",
       "C(rate_marriage, Diff)[D.2 poor]         -0.0549      0.273     -0.201      0.841        -0.591     0.481\n",
       "C(rate_marriage, Diff)[D.3 fair]         -0.3996      0.194     -2.056      0.040        -0.781    -0.018\n",
       "C(rate_marriage, Diff)[D.4 good]         -0.1709      0.201     -0.850      0.395        -0.565     0.223\n",
       "==============================================================================\n",
       "Omnibus:                     2366.549   Durbin-Watson:                   1.941\n",
       "Prob(Omnibus):                  0.000   Jarque-Bera (JB):           290965.709\n",
       "Skew:                           5.811   Prob(JB):                         0.00\n",
       "Kurtosis:                      60.152   Cond. No.                         6.88\n",
       "==============================================================================\n",
       "\n",
       "Warnings:\n",
       "[1] Standard Errors assume that the covariance matrix of the errors is correctly specified.\n",
       "\"\"\""
      ]
     },
     "execution_count": 97,
     "metadata": {},
     "output_type": "execute_result"
    }
   ],
   "source": [
    "smf.ols('affairs ~ C(rate_marriage, Diff)', data=affair, subset=affair.cheated).fit().summary()"
   ]
  },
  {
   "cell_type": "markdown",
   "metadata": {},
   "source": [
    "Il valore di ciascun gruppo rappresenta la differenza fra il valore di quel gruppo d il successivo. Per dimostrarlo calcoliamo esplicitamente queste differenze. Il valore dell'intercetta è dato dalla *Grand Mean* del sistema (ovvero la media delle medie dei gruppi, quantità usata in quanto più robusta a campionamenti non rappresentativi della popolazione)."
   ]
  },
  {
   "cell_type": "code",
   "execution_count": 98,
   "metadata": {
    "collapsed": false
   },
   "outputs": [
    {
     "name": "stdout",
     "output_type": "stream",
     "text": [
      "rate_marriage\n",
      "1 very poor    1.607641\n",
      "2 poor         2.544251\n",
      "3 fair         2.489364\n",
      "4 good         2.089758\n",
      "5 very good    1.918888\n",
      "Name: affairs, dtype: float64\n",
      "grand mean 2.12998043333\n"
     ]
    },
    {
     "data": {
      "text/plain": [
       "rate_marriage\n",
       "1 very poor    0.936609\n",
       "2 poor        -0.054887\n",
       "3 fair        -0.399606\n",
       "4 good        -0.170870\n",
       "Name: affairs, dtype: float64"
      ]
     },
     "execution_count": 98,
     "metadata": {},
     "output_type": "execute_result"
    }
   ],
   "source": [
    "group_mean = affair[affair.cheated].groupby('rate_marriage')['affairs'].mean()\n",
    "print(group_mean)\n",
    "print(\"grand mean\", group_mean.mean())\n",
    "group_mean.values[1:] - group_mean[:-1]"
   ]
  },
  {
   "cell_type": "markdown",
   "metadata": {},
   "source": [
    "Siamo ora interessati a studiare l'effetto combinato del livello di relazione e del livello di religiosità, considerati in modo indipendente, ovvero usando l'operatore di somma fra variabili."
   ]
  },
  {
   "cell_type": "code",
   "execution_count": 99,
   "metadata": {
    "collapsed": false
   },
   "outputs": [
    {
     "data": {
      "text/html": [
       "<table class=\"simpletable\">\n",
       "<caption>OLS Regression Results</caption>\n",
       "<tr>\n",
       "  <th>Dep. Variable:</th>         <td>affairs</td>     <th>  R-squared:         </th> <td>   0.027</td> \n",
       "</tr>\n",
       "<tr>\n",
       "  <th>Model:</th>                   <td>OLS</td>       <th>  Adj. R-squared:    </th> <td>   0.024</td> \n",
       "</tr>\n",
       "<tr>\n",
       "  <th>Method:</th>             <td>Least Squares</td>  <th>  F-statistic:       </th> <td>   8.225</td> \n",
       "</tr>\n",
       "<tr>\n",
       "  <th>Date:</th>             <td>Fri, 30 Oct 2015</td> <th>  Prob (F-statistic):</th> <td>6.40e-10</td> \n",
       "</tr>\n",
       "<tr>\n",
       "  <th>Time:</th>                 <td>10:04:05</td>     <th>  Log-Likelihood:    </th> <td> -5419.0</td> \n",
       "</tr>\n",
       "<tr>\n",
       "  <th>No. Observations:</th>      <td>  2053</td>      <th>  AIC:               </th> <td>1.085e+04</td>\n",
       "</tr>\n",
       "<tr>\n",
       "  <th>Df Residuals:</th>          <td>  2045</td>      <th>  BIC:               </th> <td>1.090e+04</td>\n",
       "</tr>\n",
       "<tr>\n",
       "  <th>Df Model:</th>              <td>     7</td>      <th>                     </th>     <td> </td>    \n",
       "</tr>\n",
       "<tr>\n",
       "  <th>Covariance Type:</th>      <td>nonrobust</td>    <th>                     </th>     <td> </td>    \n",
       "</tr>\n",
       "</table>\n",
       "<table class=\"simpletable\">\n",
       "<tr>\n",
       "                    <td></td>                       <th>coef</th>     <th>std err</th>      <th>t</th>      <th>P>|t|</th> <th>[95.0% Conf. Int.]</th> \n",
       "</tr>\n",
       "<tr>\n",
       "  <th>Intercept</th>                             <td>    2.0671</td> <td>    0.122</td> <td>   16.945</td> <td> 0.000</td> <td>    1.828     2.306</td>\n",
       "</tr>\n",
       "<tr>\n",
       "  <th>C(rate_marriage, Diff)[D.1 very poor]</th> <td>    0.8843</td> <td>    0.456</td> <td>    1.938</td> <td> 0.053</td> <td>   -0.011     1.779</td>\n",
       "</tr>\n",
       "<tr>\n",
       "  <th>C(rate_marriage, Diff)[D.2 poor]</th>      <td>   -0.0634</td> <td>    0.271</td> <td>   -0.234</td> <td> 0.815</td> <td>   -0.594     0.468</td>\n",
       "</tr>\n",
       "<tr>\n",
       "  <th>C(rate_marriage, Diff)[D.3 fair]</th>      <td>   -0.3778</td> <td>    0.192</td> <td>   -1.963</td> <td> 0.050</td> <td>   -0.755    -0.000</td>\n",
       "</tr>\n",
       "<tr>\n",
       "  <th>C(rate_marriage, Diff)[D.4 good]</th>      <td>   -0.2161</td> <td>    0.200</td> <td>   -1.082</td> <td> 0.279</td> <td>   -0.608     0.175</td>\n",
       "</tr>\n",
       "<tr>\n",
       "  <th>C(religious, Diff)[D.1 not]</th>           <td>   -1.0247</td> <td>    0.206</td> <td>   -4.964</td> <td> 0.000</td> <td>   -1.430    -0.620</td>\n",
       "</tr>\n",
       "<tr>\n",
       "  <th>C(religious, Diff)[D.2 mildly]</th>        <td>   -0.2284</td> <td>    0.175</td> <td>   -1.308</td> <td> 0.191</td> <td>   -0.571     0.114</td>\n",
       "</tr>\n",
       "<tr>\n",
       "  <th>C(religious, Diff)[D.3 fairly]</th>        <td>   -0.5284</td> <td>    0.337</td> <td>   -1.570</td> <td> 0.117</td> <td>   -1.188     0.132</td>\n",
       "</tr>\n",
       "</table>\n",
       "<table class=\"simpletable\">\n",
       "<tr>\n",
       "  <th>Omnibus:</th>       <td>2334.659</td> <th>  Durbin-Watson:     </th>  <td>   1.938</td> \n",
       "</tr>\n",
       "<tr>\n",
       "  <th>Prob(Omnibus):</th>  <td> 0.000</td>  <th>  Jarque-Bera (JB):  </th> <td>274765.044</td>\n",
       "</tr>\n",
       "<tr>\n",
       "  <th>Skew:</th>           <td> 5.686</td>  <th>  Prob(JB):          </th>  <td>    0.00</td> \n",
       "</tr>\n",
       "<tr>\n",
       "  <th>Kurtosis:</th>       <td>58.522</td>  <th>  Cond. No.          </th>  <td>    7.03</td> \n",
       "</tr>\n",
       "</table>"
      ],
      "text/plain": [
       "<class 'statsmodels.iolib.summary.Summary'>\n",
       "\"\"\"\n",
       "                            OLS Regression Results                            \n",
       "==============================================================================\n",
       "Dep. Variable:                affairs   R-squared:                       0.027\n",
       "Model:                            OLS   Adj. R-squared:                  0.024\n",
       "Method:                 Least Squares   F-statistic:                     8.225\n",
       "Date:                Fri, 30 Oct 2015   Prob (F-statistic):           6.40e-10\n",
       "Time:                        10:04:05   Log-Likelihood:                -5419.0\n",
       "No. Observations:                2053   AIC:                         1.085e+04\n",
       "Df Residuals:                    2045   BIC:                         1.090e+04\n",
       "Df Model:                           7                                         \n",
       "Covariance Type:            nonrobust                                         \n",
       "=========================================================================================================\n",
       "                                            coef    std err          t      P>|t|      [95.0% Conf. Int.]\n",
       "---------------------------------------------------------------------------------------------------------\n",
       "Intercept                                 2.0671      0.122     16.945      0.000         1.828     2.306\n",
       "C(rate_marriage, Diff)[D.1 very poor]     0.8843      0.456      1.938      0.053        -0.011     1.779\n",
       "C(rate_marriage, Diff)[D.2 poor]         -0.0634      0.271     -0.234      0.815        -0.594     0.468\n",
       "C(rate_marriage, Diff)[D.3 fair]         -0.3778      0.192     -1.963      0.050        -0.755    -0.000\n",
       "C(rate_marriage, Diff)[D.4 good]         -0.2161      0.200     -1.082      0.279        -0.608     0.175\n",
       "C(religious, Diff)[D.1 not]              -1.0247      0.206     -4.964      0.000        -1.430    -0.620\n",
       "C(religious, Diff)[D.2 mildly]           -0.2284      0.175     -1.308      0.191        -0.571     0.114\n",
       "C(religious, Diff)[D.3 fairly]           -0.5284      0.337     -1.570      0.117        -1.188     0.132\n",
       "==============================================================================\n",
       "Omnibus:                     2334.659   Durbin-Watson:                   1.938\n",
       "Prob(Omnibus):                  0.000   Jarque-Bera (JB):           274765.044\n",
       "Skew:                           5.686   Prob(JB):                         0.00\n",
       "Kurtosis:                      58.522   Cond. No.                         7.03\n",
       "==============================================================================\n",
       "\n",
       "Warnings:\n",
       "[1] Standard Errors assume that the covariance matrix of the errors is correctly specified.\n",
       "\"\"\""
      ]
     },
     "execution_count": 99,
     "metadata": {},
     "output_type": "execute_result"
    }
   ],
   "source": [
    "model = 'affairs ~ C(rate_marriage, Diff) + C(religious, Diff)'\n",
    "smf.ols(model, data=affair, subset=affair.cheated).fit().summary()"
   ]
  },
  {
   "cell_type": "markdown",
   "metadata": {},
   "source": [
    "Questo modello però non ci soddisfa. Decidiamo allora di vedere se esistono interazioni di qualche tipo fra queste due categorie, ovvero se vi sia una combinazione di effetti che porta le due variazioni a non essere indipendenti."
   ]
  },
  {
   "cell_type": "code",
   "execution_count": 100,
   "metadata": {
    "collapsed": false
   },
   "outputs": [
    {
     "data": {
      "text/html": [
       "<table class=\"simpletable\">\n",
       "<caption>OLS Regression Results</caption>\n",
       "<tr>\n",
       "  <th>Dep. Variable:</th>         <td>affairs</td>     <th>  R-squared:         </th> <td>   0.033</td> \n",
       "</tr>\n",
       "<tr>\n",
       "  <th>Model:</th>                   <td>OLS</td>       <th>  Adj. R-squared:    </th> <td>   0.024</td> \n",
       "</tr>\n",
       "<tr>\n",
       "  <th>Method:</th>             <td>Least Squares</td>  <th>  F-statistic:       </th> <td>   3.679</td> \n",
       "</tr>\n",
       "<tr>\n",
       "  <th>Date:</th>             <td>Fri, 30 Oct 2015</td> <th>  Prob (F-statistic):</th> <td>1.34e-07</td> \n",
       "</tr>\n",
       "<tr>\n",
       "  <th>Time:</th>                 <td>10:04:09</td>     <th>  Log-Likelihood:    </th> <td> -5412.8</td> \n",
       "</tr>\n",
       "<tr>\n",
       "  <th>No. Observations:</th>      <td>  2053</td>      <th>  AIC:               </th> <td>1.087e+04</td>\n",
       "</tr>\n",
       "<tr>\n",
       "  <th>Df Residuals:</th>          <td>  2033</td>      <th>  BIC:               </th> <td>1.098e+04</td>\n",
       "</tr>\n",
       "<tr>\n",
       "  <th>Df Model:</th>              <td>    19</td>      <th>                     </th>     <td> </td>    \n",
       "</tr>\n",
       "<tr>\n",
       "  <th>Covariance Type:</th>      <td>nonrobust</td>    <th>                     </th>     <td> </td>    \n",
       "</tr>\n",
       "</table>\n",
       "<table class=\"simpletable\">\n",
       "<tr>\n",
       "                            <td></td>                              <th>coef</th>     <th>std err</th>      <th>t</th>      <th>P>|t|</th> <th>[95.0% Conf. Int.]</th> \n",
       "</tr>\n",
       "<tr>\n",
       "  <th>Intercept</th>                                            <td>    2.0012</td> <td>    0.980</td> <td>    2.042</td> <td> 0.041</td> <td>    0.079     3.924</td>\n",
       "</tr>\n",
       "<tr>\n",
       "  <th>rate_marriage[T.2 poor]</th>                              <td>    2.6181</td> <td>    1.118</td> <td>    2.343</td> <td> 0.019</td> <td>    0.426     4.810</td>\n",
       "</tr>\n",
       "<tr>\n",
       "  <th>rate_marriage[T.3 fair]</th>                              <td>    1.8534</td> <td>    1.032</td> <td>    1.795</td> <td> 0.073</td> <td>   -0.171     3.878</td>\n",
       "</tr>\n",
       "<tr>\n",
       "  <th>rate_marriage[T.4 good]</th>                              <td>    0.6761</td> <td>    1.024</td> <td>    0.660</td> <td> 0.509</td> <td>   -1.333     2.685</td>\n",
       "</tr>\n",
       "<tr>\n",
       "  <th>rate_marriage[T.5 very good]</th>                         <td>    0.5191</td> <td>    1.030</td> <td>    0.504</td> <td> 0.614</td> <td>   -1.500     2.538</td>\n",
       "</tr>\n",
       "<tr>\n",
       "  <th>religious[T.2 mildly]</th>                                <td>   -0.1389</td> <td>    1.172</td> <td>   -0.119</td> <td> 0.906</td> <td>   -2.437     2.159</td>\n",
       "</tr>\n",
       "<tr>\n",
       "  <th>religious[T.3 fairly]</th>                                <td>   -0.7002</td> <td>    1.166</td> <td>   -0.601</td> <td> 0.548</td> <td>   -2.986     1.586</td>\n",
       "</tr>\n",
       "<tr>\n",
       "  <th>religious[T.4 strongly]</th>                              <td>   -0.9848</td> <td>    1.807</td> <td>   -0.545</td> <td> 0.586</td> <td>   -4.530     2.560</td>\n",
       "</tr>\n",
       "<tr>\n",
       "  <th>rate_marriage[T.2 poor]:religious[T.2 mildly]</th>        <td>   -2.1393</td> <td>    1.333</td> <td>   -1.605</td> <td> 0.109</td> <td>   -4.753     0.474</td>\n",
       "</tr>\n",
       "<tr>\n",
       "  <th>rate_marriage[T.3 fair]:religious[T.2 mildly]</th>        <td>   -1.3569</td> <td>    1.237</td> <td>   -1.097</td> <td> 0.273</td> <td>   -3.782     1.068</td>\n",
       "</tr>\n",
       "<tr>\n",
       "  <th>rate_marriage[T.4 good]:religious[T.2 mildly]</th>        <td>   -0.4500</td> <td>    1.224</td> <td>   -0.368</td> <td> 0.713</td> <td>   -2.851     1.951</td>\n",
       "</tr>\n",
       "<tr>\n",
       "  <th>rate_marriage[T.5 very good]:religious[T.2 mildly]</th>   <td>   -0.6030</td> <td>    1.242</td> <td>   -0.485</td> <td> 0.628</td> <td>   -3.040     1.834</td>\n",
       "</tr>\n",
       "<tr>\n",
       "  <th>rate_marriage[T.2 poor]:religious[T.3 fairly]</th>        <td>   -2.0657</td> <td>    1.345</td> <td>   -1.536</td> <td> 0.125</td> <td>   -4.703     0.572</td>\n",
       "</tr>\n",
       "<tr>\n",
       "  <th>rate_marriage[T.3 fair]:religious[T.3 fairly]</th>        <td>   -1.1602</td> <td>    1.235</td> <td>   -0.939</td> <td> 0.348</td> <td>   -3.583     1.262</td>\n",
       "</tr>\n",
       "<tr>\n",
       "  <th>rate_marriage[T.4 good]:religious[T.3 fairly]</th>        <td>   -0.0828</td> <td>    1.222</td> <td>   -0.068</td> <td> 0.946</td> <td>   -2.480     2.314</td>\n",
       "</tr>\n",
       "<tr>\n",
       "  <th>rate_marriage[T.5 very good]:religious[T.3 fairly]</th>   <td>   -0.0241</td> <td>    1.234</td> <td>   -0.020</td> <td> 0.984</td> <td>   -2.444     2.396</td>\n",
       "</tr>\n",
       "<tr>\n",
       "  <th>rate_marriage[T.2 poor]:religious[T.4 strongly]</th>      <td>   -2.4540</td> <td>    2.170</td> <td>   -1.131</td> <td> 0.258</td> <td>   -6.709     1.801</td>\n",
       "</tr>\n",
       "<tr>\n",
       "  <th>rate_marriage[T.3 fair]:religious[T.4 strongly]</th>      <td>   -1.3498</td> <td>    1.935</td> <td>   -0.698</td> <td> 0.485</td> <td>   -5.144     2.445</td>\n",
       "</tr>\n",
       "<tr>\n",
       "  <th>rate_marriage[T.4 good]:religious[T.4 strongly]</th>      <td>   -0.2981</td> <td>    1.909</td> <td>   -0.156</td> <td> 0.876</td> <td>   -4.042     3.446</td>\n",
       "</tr>\n",
       "<tr>\n",
       "  <th>rate_marriage[T.5 very good]:religious[T.4 strongly]</th> <td>   -0.3855</td> <td>    1.928</td> <td>   -0.200</td> <td> 0.842</td> <td>   -4.166     3.395</td>\n",
       "</tr>\n",
       "</table>\n",
       "<table class=\"simpletable\">\n",
       "<tr>\n",
       "  <th>Omnibus:</th>       <td>2331.882</td> <th>  Durbin-Watson:     </th>  <td>   1.932</td> \n",
       "</tr>\n",
       "<tr>\n",
       "  <th>Prob(Omnibus):</th>  <td> 0.000</td>  <th>  Jarque-Bera (JB):  </th> <td>278923.061</td>\n",
       "</tr>\n",
       "<tr>\n",
       "  <th>Skew:</th>           <td> 5.666</td>  <th>  Prob(JB):          </th>  <td>    0.00</td> \n",
       "</tr>\n",
       "<tr>\n",
       "  <th>Kurtosis:</th>       <td>58.966</td>  <th>  Cond. No.          </th>  <td>    86.0</td> \n",
       "</tr>\n",
       "</table>"
      ],
      "text/plain": [
       "<class 'statsmodels.iolib.summary.Summary'>\n",
       "\"\"\"\n",
       "                            OLS Regression Results                            \n",
       "==============================================================================\n",
       "Dep. Variable:                affairs   R-squared:                       0.033\n",
       "Model:                            OLS   Adj. R-squared:                  0.024\n",
       "Method:                 Least Squares   F-statistic:                     3.679\n",
       "Date:                Fri, 30 Oct 2015   Prob (F-statistic):           1.34e-07\n",
       "Time:                        10:04:09   Log-Likelihood:                -5412.8\n",
       "No. Observations:                2053   AIC:                         1.087e+04\n",
       "Df Residuals:                    2033   BIC:                         1.098e+04\n",
       "Df Model:                          19                                         \n",
       "Covariance Type:            nonrobust                                         \n",
       "========================================================================================================================\n",
       "                                                           coef    std err          t      P>|t|      [95.0% Conf. Int.]\n",
       "------------------------------------------------------------------------------------------------------------------------\n",
       "Intercept                                                2.0012      0.980      2.042      0.041         0.079     3.924\n",
       "rate_marriage[T.2 poor]                                  2.6181      1.118      2.343      0.019         0.426     4.810\n",
       "rate_marriage[T.3 fair]                                  1.8534      1.032      1.795      0.073        -0.171     3.878\n",
       "rate_marriage[T.4 good]                                  0.6761      1.024      0.660      0.509        -1.333     2.685\n",
       "rate_marriage[T.5 very good]                             0.5191      1.030      0.504      0.614        -1.500     2.538\n",
       "religious[T.2 mildly]                                   -0.1389      1.172     -0.119      0.906        -2.437     2.159\n",
       "religious[T.3 fairly]                                   -0.7002      1.166     -0.601      0.548        -2.986     1.586\n",
       "religious[T.4 strongly]                                 -0.9848      1.807     -0.545      0.586        -4.530     2.560\n",
       "rate_marriage[T.2 poor]:religious[T.2 mildly]           -2.1393      1.333     -1.605      0.109        -4.753     0.474\n",
       "rate_marriage[T.3 fair]:religious[T.2 mildly]           -1.3569      1.237     -1.097      0.273        -3.782     1.068\n",
       "rate_marriage[T.4 good]:religious[T.2 mildly]           -0.4500      1.224     -0.368      0.713        -2.851     1.951\n",
       "rate_marriage[T.5 very good]:religious[T.2 mildly]      -0.6030      1.242     -0.485      0.628        -3.040     1.834\n",
       "rate_marriage[T.2 poor]:religious[T.3 fairly]           -2.0657      1.345     -1.536      0.125        -4.703     0.572\n",
       "rate_marriage[T.3 fair]:religious[T.3 fairly]           -1.1602      1.235     -0.939      0.348        -3.583     1.262\n",
       "rate_marriage[T.4 good]:religious[T.3 fairly]           -0.0828      1.222     -0.068      0.946        -2.480     2.314\n",
       "rate_marriage[T.5 very good]:religious[T.3 fairly]      -0.0241      1.234     -0.020      0.984        -2.444     2.396\n",
       "rate_marriage[T.2 poor]:religious[T.4 strongly]         -2.4540      2.170     -1.131      0.258        -6.709     1.801\n",
       "rate_marriage[T.3 fair]:religious[T.4 strongly]         -1.3498      1.935     -0.698      0.485        -5.144     2.445\n",
       "rate_marriage[T.4 good]:religious[T.4 strongly]         -0.2981      1.909     -0.156      0.876        -4.042     3.446\n",
       "rate_marriage[T.5 very good]:religious[T.4 strongly]    -0.3855      1.928     -0.200      0.842        -4.166     3.395\n",
       "==============================================================================\n",
       "Omnibus:                     2331.882   Durbin-Watson:                   1.932\n",
       "Prob(Omnibus):                  0.000   Jarque-Bera (JB):           278923.061\n",
       "Skew:                           5.666   Prob(JB):                         0.00\n",
       "Kurtosis:                      58.966   Cond. No.                         86.0\n",
       "==============================================================================\n",
       "\n",
       "Warnings:\n",
       "[1] Standard Errors assume that the covariance matrix of the errors is correctly specified.\n",
       "\"\"\""
      ]
     },
     "execution_count": 100,
     "metadata": {},
     "output_type": "execute_result"
    }
   ],
   "source": [
    "model = 'affairs ~ rate_marriage * religious'\n",
    "res = smf.ols(model, data=affair, subset=affair.cheated).fit()\n",
    "res.summary()"
   ]
  },
  {
   "cell_type": "markdown",
   "metadata": {},
   "source": [
    "La lista delle interazione è colossale, ma con un pò di tempo sarebbe possibile leggerle tutte e ricercare quali siano significative e quali no. Il problema è che facendo una serie di test a tappeto in questa maniera (stiamo testando 20 differenti ipotesi), inizia ad esserci il rischio concreto di osservare dei p-value che risultino significativi per puro caso.\n",
    "\n",
    "Per ovviare a questo è possibile utilizzare un metodo di correzione di questi p-value che tenga conto del numero di test contemporanei effettuati e ne modifichi il valore in modo da poter continuare ad utilizzare una soglia di significatività al 5%.\n",
    "\n",
    "Questa correzione in statsmodels è effettuata tramite la funzione multitest"
   ]
  },
  {
   "cell_type": "code",
   "execution_count": 101,
   "metadata": {
    "collapsed": false
   },
   "outputs": [
    {
     "name": "stderr",
     "output_type": "stream",
     "text": [
      "/usr/local/lib/python3.4/dist-packages/ipykernel/__main__.py:3: FutureWarning: order is deprecated, use sort_values(...)\n",
      "  app.launch_new_instance()\n"
     ]
    },
    {
     "data": {
      "text/plain": [
       "rate_marriage[T.2 poor]                                 0.322076\n",
       "Intercept                                               0.551541\n",
       "rate_marriage[T.3 fair]                                 0.743177\n",
       "rate_marriage[T.2 poor]:religious[T.2 mildly]           0.858389\n",
       "rate_marriage[T.2 poor]:religious[T.3 fairly]           0.881395\n",
       "rate_marriage[T.2 poor]:religious[T.4 strongly]         0.988669\n",
       "rate_marriage[T.3 fair]:religious[T.2 mildly]           0.988669\n",
       "rate_marriage[T.3 fair]:religious[T.3 fairly]           0.996131\n",
       "religious[T.4 strongly]                                 0.999656\n",
       "rate_marriage[T.4 good]:religious[T.2 mildly]           0.999656\n",
       "rate_marriage[T.5 very good]:religious[T.2 mildly]      0.999656\n",
       "rate_marriage[T.5 very good]                            0.999656\n",
       "rate_marriage[T.4 good]                                 0.999656\n",
       "rate_marriage[T.3 fair]:religious[T.4 strongly]         0.999656\n",
       "religious[T.3 fairly]                                   0.999656\n",
       "religious[T.2 mildly]                                   0.999900\n",
       "rate_marriage[T.4 good]:religious[T.4 strongly]         0.999900\n",
       "rate_marriage[T.4 good]:religious[T.3 fairly]           0.999900\n",
       "rate_marriage[T.5 very good]:religious[T.3 fairly]      0.999900\n",
       "rate_marriage[T.5 very good]:religious[T.4 strongly]    0.999900\n",
       "dtype: float64"
      ]
     },
     "execution_count": 101,
     "metadata": {},
     "output_type": "execute_result"
    }
   ],
   "source": [
    "from statsmodels.api import stats\n",
    "adj_pvalues = stats.multipletests(res.pvalues)[1]\n",
    "pd.Series(adj_pvalues, index=res.pvalues.index).order()"
   ]
  },
  {
   "cell_type": "markdown",
   "metadata": {},
   "source": [
    "Come possiamo vedere la correzione per i test multipli ha distrutto praticamente tutte le significatività a parte quella del gruppo dei non religiosi.\n",
    "\n",
    "Questo è un fenomeno molto comune quando si analizzano modelli molto complicati: aumentando il numero delle componenti prese in esame, la loro importanza nel modello complessivo diminuisce fino a perdersi in mezzo al rumore."
   ]
  },
  {
   "cell_type": "markdown",
   "metadata": {},
   "source": [
    "----\n",
    "# Scikits.learn - Machine learning\n",
    "\n",
    "http://scikit-learn.org\n",
    "\n",
    "Scikits.learn è forse la libreria fra quelle che vedremo oggi più attivamente sviluppata e con il maggior numero di collaboratori, e l'ampiezza di questa libreria si può facilmente intuire dalle dimensioni del suo manuale, che ha superato le 1000 pagine qualche mese fà.\n",
    "\n",
    "Quella che segue è quindi ovviamente lungi dall'essere anche soltanto una panoramica completa, vuole solo essere un antipasto per far venire la curiosità di approfondire le sue potenzialità."
   ]
  },
  {
   "cell_type": "code",
   "execution_count": 102,
   "metadata": {
    "collapsed": false
   },
   "outputs": [
    {
     "name": "stdout",
     "output_type": "stream",
     "text": [
      "0.16.1\n"
     ]
    }
   ],
   "source": [
    "import sklearn\n",
    "print(sklearn.__version__)\n",
    "from sklearn import datasets, svm"
   ]
  },
  {
   "cell_type": "markdown",
   "metadata": {},
   "source": [
    "Per iniziare a sperimentare ci cimentiamo con un problema di classificazione, ovvero del corretto riconoscimente della categoria di appartenenza di un oggetto data una serie di features. \n",
    "\n",
    "Giocheremo con uno dei dataset inclusi nella libreria, contenente delle immagini (64x64) di cifre scritte a mano. Ciò che vogliamo fare è costruire un semplice predittore che data l'immagine riconosca in modo più o meno corretto la cifra scritta."
   ]
  },
  {
   "cell_type": "code",
   "execution_count": 103,
   "metadata": {
    "collapsed": false
   },
   "outputs": [
    {
     "name": "stdout",
     "output_type": "stream",
     "text": [
      "etichette da classificare: 1797\n",
      "feature disponibili: (1797, 64)\n",
      "ultima etichetta: 8\n",
      "forma del numero:\n"
     ]
    },
    {
     "data": {
      "image/png": "[encoded data removed]",
      "text/plain": [
       "<matplotlib.figure.Figure at 0x7fefd1d4ed68>"
      ]
     },
     "metadata": {},
     "output_type": "display_data"
    }
   ],
   "source": [
    "digits = datasets.load_digits()\n",
    "data = digits['data']\n",
    "target = digits['target']\n",
    "print(\"etichette da classificare:\", len(target))\n",
    "print(\"feature disponibili:\", data.shape)\n",
    "print(\"ultima etichetta:\", target[-1])\n",
    "print(\"forma del numero:\")\n",
    "plt.imshow(data[-1].reshape(8,8),cmap='gray');"
   ]
  },
  {
   "cell_type": "markdown",
   "metadata": {},
   "source": [
    "Come possiamo vedere anche per un essere umano il compito di riconoscere di che cifra si tratti non è banale.\n",
    "\n",
    "Classificheremo le nostre cifre tramite una Support Vector Machine (SVC). Tutti i classificatori espongono la stessa sintassi di base, simile a quanto già visto in precedenza su statsmodels: Una volta creato il modello ne faccio il fit su una serie di dati di training, per poi predire la categoria dei dati di test.\n",
    "\n",
    "In machine learning è infatti fondamentale ricordare di mantenere una parte del proprio dataset da parte per poter verificare che il nostro predittore sia in grado di classificare dei dati mai visti, sia ovvero in grado di generalizzare l'informazione contenuta nei dati di training."
   ]
  },
  {
   "cell_type": "code",
   "execution_count": 104,
   "metadata": {
    "collapsed": false
   },
   "outputs": [
    {
     "name": "stdout",
     "output_type": "stream",
     "text": [
      "[8]\n"
     ]
    }
   ],
   "source": [
    "clf = svm.SVC(gamma=0.001, C=100.)\n",
    "clf.fit(data[:-1], target[:-1])\n",
    "print(clf.predict(data[-1]))"
   ]
  },
  {
   "cell_type": "markdown",
   "metadata": {},
   "source": [
    "----\n",
    "## cross validation\n",
    "\n",
    "La maniera migliore per valutare la performance del nostro classificatore è valutare che percentuale dei dati di test classifica correttamente. Ripetere questa operazione più volte permette di ottenere la **cross validation**, che è il valore solitamente fornito per indicare la qualità della macchina."
   ]
  },
  {
   "cell_type": "code",
   "execution_count": 105,
   "metadata": {
    "collapsed": false
   },
   "outputs": [
    {
     "data": {
      "text/plain": [
       "0.97999999999999998"
      ]
     },
     "execution_count": 105,
     "metadata": {},
     "output_type": "execute_result"
    }
   ],
   "source": [
    "svc = svm.SVC(C=1, kernel='linear')\n",
    "svc.fit(data[:-100], target[:-100]).score(data[-100:], target[-100:])"
   ]
  },
  {
   "cell_type": "markdown",
   "metadata": {},
   "source": [
    "Per fare questa operazione tediosa in modo automatico Scikits.learn fornisce la classe KFold, che crea una lista di possibili divisioni del dataset in training e test."
   ]
  },
  {
   "cell_type": "code",
   "execution_count": 150,
   "metadata": {
    "collapsed": false
   },
   "outputs": [
    {
     "name": "stdout",
     "output_type": "stream",
     "text": [
      "Train: [1 2 3 4 5] | test: [0]\n",
      "Train: [0 2 3 4 5] | test: [1]\n",
      "Train: [0 1 3 4 5] | test: [2]\n",
      "Train: [0 1 2 4 5] | test: [3]\n",
      "Train: [0 1 2 3 5] | test: [4]\n",
      "Train: [0 1 2 3 4] | test: [5]\n"
     ]
    }
   ],
   "source": [
    "from sklearn import cross_validation\n",
    "#questo equivale ad un leave one out cross validation\n",
    "k_fold = cross_validation.KFold(n=6, n_folds=6)\n",
    "#stampami gli indici del train e test set\n",
    "for train_indices, test_indices in k_fold:\n",
    "    print('Train: %s | test: %s' % (train_indices, test_indices))"
   ]
  },
  {
   "cell_type": "markdown",
   "metadata": {},
   "source": [
    "Iterando sugl indici ritornati da KFold permette di fare in maniera più comoda la cross validation."
   ]
  },
  {
   "cell_type": "code",
   "execution_count": 151,
   "metadata": {
    "collapsed": false
   },
   "outputs": [
    {
     "name": "stdout",
     "output_type": "stream",
     "text": [
      "0.938888888889\n",
      "0.994444444444\n",
      "0.933333333333\n",
      "0.966666666667\n",
      "0.961111111111\n",
      "0.988888888889\n",
      "0.966666666667\n",
      "0.988826815642\n",
      "0.932960893855\n",
      "0.966480446927\n"
     ]
    }
   ],
   "source": [
    "k_fold = cross_validation.KFold(n=len(data), n_folds=10)\n",
    "for train, test in k_fold:\n",
    "    svc_fit = svc.fit(data[train], target[train])\n",
    "    print(svc_fit.score(data[test], target[test]))"
   ]
  },
  {
   "cell_type": "markdown",
   "metadata": {},
   "source": [
    "Una funzione ancorà più utile è **cross_val_score**, che effettua automaticamente la cross validation con lo schema indicato sulla macchina che ci interessa. in questa maniera verificarne le performance si riduce ad una chiamata di funzione."
   ]
  },
  {
   "cell_type": "code",
   "execution_count": 148,
   "metadata": {
    "collapsed": false
   },
   "outputs": [
    {
     "name": "stdout",
     "output_type": "stream",
     "text": [
      "[ 0.93888889  0.99444444  0.93333333  0.96666667  0.96111111  0.98888889\n",
      "  0.96666667  0.98882682  0.93296089  0.96648045]\n",
      "0.963826815642\n"
     ]
    }
   ],
   "source": [
    "k_fold = cross_validation.KFold(n=len(data), n_folds=10)\n",
    "\n",
    "results = cross_validation.cross_val_score(svc, data, target, cv=k_fold, n_jobs=-1)\n",
    "\n",
    "print(results)\n",
    "print(plt.mean(results))"
   ]
  },
  {
   "cell_type": "markdown",
   "metadata": {},
   "source": [
    "----\n",
    "## feature reduction\n",
    "\n",
    "Molto spesso il numero di features a disposizione è estremamente maggiore del necessario e buona parte di esse non contiene che rumore. Per risolvere questo problema esistono le tecniche di feature reduction. Fra queste la più famosa è sicuramente la Principal Component Analysis, che cerca di descrivere la direzione di massima sparsità dei dati in termini di combinazioni lineari delle features.\n",
    "\n",
    "Il risultato della PCA è un nuovo set di features formato da una combinazione lineare delle precedenti, ordinate in base alla loro capacità di spiegare la variabilità osservata nei dati.\n",
    "\n",
    "Vediamo un semplice esempio: creo un dataset con tre features, di cui la terza è semplicemente la combinazione delle due precedenti e non contiene quindi nessuna nuova informazione"
   ]
  },
  {
   "cell_type": "code",
   "execution_count": 160,
   "metadata": {
    "collapsed": false
   },
   "outputs": [
    {
     "name": "stdout",
     "output_type": "stream",
     "text": [
      "(200, 3)\n"
     ]
    },
    {
     "name": "stderr",
     "output_type": "stream",
     "text": [
      "/home/PERSONALE/enrico.giampieri2/.local/lib/python3.4/site-packages/matplotlib/collections.py:590: FutureWarning: elementwise comparison failed; returning scalar instead, but in the future will perform elementwise comparison\n",
      "  if self._edgecolors == str('face'):\n"
     ]
    },
    {
     "data": {
      "image/png": "[encoded data removed]",
      "text/plain": [
       "<matplotlib.figure.Figure at 0x7fefd1a604e0>"
      ]
     },
     "metadata": {},
     "output_type": "display_data"
    }
   ],
   "source": [
    "# Create a signal with only 2 useful dimensions\n",
    "x1 = plt.randn(200)\n",
    "x2 = plt.randn(200)\n",
    "x3 = x1 + x2 + plt.randn(200)*0.01\n",
    "X = plt.c_[x1, x2, x3]\n",
    "print(X.shape)\n",
    "\n",
    "from mpl_toolkits.mplot3d import Axes3D\n",
    "ax = plt.figure().add_subplot(111, projection='3d')\n",
    "ax.view_init(None,40)\n",
    "ax.scatter(x1, x2, x3);"
   ]
  },
  {
   "cell_type": "markdown",
   "metadata": {},
   "source": [
    "Utilizzo la PCA come tutti i modelli finora, tramite un fit sui dati. Un'indicazione del risultato è poi contenuta nella variabile interna del classificatore chiamata **explained\\_variance\\_ratio\\_**. Questa indica la percentuale di varianza spiegata da ciascuna delle nuove componenti della PCA."
   ]
  },
  {
   "cell_type": "code",
   "execution_count": 161,
   "metadata": {
    "collapsed": false
   },
   "outputs": [
    {
     "name": "stdout",
     "output_type": "stream",
     "text": [
      "[  7.71018183e-01   2.28973869e-01   7.94812244e-06]\n"
     ]
    }
   ],
   "source": [
    "from sklearn import decomposition\n",
    "pca = decomposition.PCA()\n",
    "pca.fit(X)\n",
    "#questo mi dice ciascuna componente quanta parte della varianza mi descrive\n",
    "print(pca.explained_variance_ratio_  )"
   ]
  },
  {
   "cell_type": "markdown",
   "metadata": {},
   "source": [
    "Posso poi usare la mia PCA per trasformare dei dati (in questo caso gli stessi di partenza, ma in generale saranno diversi) dalle features iniziali a quelle calcolate con la PCA"
   ]
  },
  {
   "cell_type": "code",
   "execution_count": 162,
   "metadata": {
    "collapsed": false
   },
   "outputs": [
    {
     "name": "stdout",
     "output_type": "stream",
     "text": [
      "(200, 2)\n"
     ]
    }
   ],
   "source": [
    "# As we can see, only the 2 first components are useful\n",
    "pca.n_components = 2\n",
    "X_reduced = pca.fit_transform(X)\n",
    "print(X_reduced.shape)"
   ]
  },
  {
   "cell_type": "markdown",
   "metadata": {},
   "source": [
    "Posso quindi applicare lo stesso principio ai dati visti in precedenza sulle digit. Faccio un plot della varianza spiegata da ciascuna feature, potendo così decidere quante di queste tenere. "
   ]
  },
  {
   "cell_type": "code",
   "execution_count": 163,
   "metadata": {
    "collapsed": false
   },
   "outputs": [
    {
     "data": {
      "image/png": "[encoded data removed]",
      "text/plain": [
       "<matplotlib.figure.Figure at 0x7fefb7448ac8>"
      ]
     },
     "metadata": {},
     "output_type": "display_data"
    }
   ],
   "source": [
    "pca = decomposition.PCA()\n",
    "pca.fit(data)\n",
    "plt.plot( pca.explained_variance_ratio_, linestyle='steps-mid');"
   ]
  },
  {
   "cell_type": "markdown",
   "metadata": {},
   "source": [
    "scegliamo solo le prime 10 componenti e usiamole per la classificazione"
   ]
  },
  {
   "cell_type": "code",
   "execution_count": 164,
   "metadata": {
    "collapsed": false
   },
   "outputs": [
    {
     "name": "stdout",
     "output_type": "stream",
     "text": [
      "[ 0.92222222  0.93333333  0.9         0.91111111  0.93888889  0.97777778\n",
      "  0.91666667  0.93296089  0.88268156  0.92178771]\n",
      "0.92374301676\n"
     ]
    }
   ],
   "source": [
    "pca.n_components = 10\n",
    "data_reduced = pca.fit_transform(data)\n",
    "\n",
    "kfold = cross_validation.KFold(n=len(data_reduced), n_folds=10)\n",
    "cvscore = cross_validation.cross_val_score\n",
    "results = cvscore(svc, data_reduced, target, cv=kfold, n_jobs=-1)\n",
    "print(results)\n",
    "print(plt.mean(results))"
   ]
  },
  {
   "cell_type": "markdown",
   "metadata": {},
   "source": [
    "In generale è necessario prestare attenzione alla normalizzazione dei dati: infatti feature con media e varianza superiore alle altre domineranno il calcolo della varianza senza per questo contenere un maggior contenuto informativo. È buona norma quindi lavorare non con le features originali ma con delle features intermedie ottenute normalizzando quelle di partenza."
   ]
  },
  {
   "cell_type": "markdown",
   "metadata": {},
   "source": [
    "----\n",
    "# Ottimizzazione dei parametri\n",
    "\n",
    "Un altro dilemma comune è la scelta dei parametri. Per farlo è normalmente necessario provare una serie di valori plausibili dei parametri e vedere per quali ho la miglior classificazione valutata tramite cross validation. Come potrete intuire, anche questa procedura, essendo concettualmente semplice e molto ripetitiva, è particolarmente adatta ad essere automatizzata.\n",
    "\n",
    "In questo caso la classe di riferimento è GridSearchCV. Per sperimentare un pò con questa classe utilizziamo il famoso dataset *Iris*, che contiene le caratteristiche di vari tipi di fiori in termini di lunghezza del petalo, del pistillo, etc.."
   ]
  },
  {
   "cell_type": "code",
   "execution_count": 122,
   "metadata": {
    "collapsed": false
   },
   "outputs": [],
   "source": [
    "from sklearn import svm, grid_search, datasets\n",
    "iris = datasets.load_iris()"
   ]
  },
  {
   "cell_type": "markdown",
   "metadata": {},
   "source": [
    "Scegliamo ora quale sia il parametro che vogliamo ottimizzare ed il range di parametri su cui vogliamo fare l'ottimizzazione. Se più parametri vengono passati verrà controllato l'intero spazio dei parametri descritto dal prodotto cartesiano dei valori forniti.\n",
    "\n",
    "Il parametro scelto, **C**, rappresenta una penalizzazione sull'errore compiuto dalla macchina, che esploriamo dal valore di 0.1 al valore di 2.0 a step di 0.1."
   ]
  },
  {
   "cell_type": "code",
   "execution_count": 124,
   "metadata": {
    "collapsed": false
   },
   "outputs": [],
   "source": [
    "param = {'C': plt.arange(0.1, 2, 0.1)}"
   ]
  },
  {
   "cell_type": "markdown",
   "metadata": {},
   "source": [
    "La gridsearch richiede soltanto il classificatore che desideriamo usare (una support vector regression machine) ed il parametro che vogliamo caratterizzare."
   ]
  },
  {
   "cell_type": "code",
   "execution_count": 125,
   "metadata": {
    "collapsed": false
   },
   "outputs": [
    {
     "data": {
      "text/plain": [
       "{'C': 0.10000000000000001}"
      ]
     },
     "execution_count": 125,
     "metadata": {},
     "output_type": "execute_result"
    }
   ],
   "source": [
    "svr = svm.SVR()\n",
    "clf = grid_search.GridSearchCV(svr, param)\n",
    "clf.fit(iris.data, iris.target)\n",
    "clf.best_params_"
   ]
  },
  {
   "cell_type": "markdown",
   "metadata": {},
   "source": [
    "Molti metodi implementano una propria versione ottimizzata della grid search, ed è quindi possibile ottenere risultati superiori e più rapidi.\n",
    "\n",
    "Questo metodo è particolarmente utile in combinazione con La classe Pipeline, che crea un unico super-predittore a partire da una serie di predittori, i cui risultati vengono dati uno in pasto all'altro in sequenza, permettendo di ottimizzare l'intera sequenza invece che le singole componenti."
   ]
  },
  {
   "cell_type": "code",
   "execution_count": 166,
   "metadata": {
    "collapsed": false
   },
   "outputs": [],
   "source": [
    "from sklearn.pipeline import Pipeline\n",
    "from sklearn.svm import SVC\n",
    "from sklearn.decomposition import PCA\n",
    "from sklearn.preprocessing import StandardScaler\n",
    "from sklearn.grid_search import GridSearchCV\n",
    "\n",
    "estimators = [('scaling', StandardScaler()),('reduce_dim', PCA()), ('svm', SVC())]\n",
    "clf = Pipeline(estimators)"
   ]
  },
  {
   "cell_type": "code",
   "execution_count": 167,
   "metadata": {
    "collapsed": false
   },
   "outputs": [],
   "source": [
    "clf.set_params(svm__C=10)\n",
    "params = dict(reduce_dim__n_components=[1, 2, 3, 4], svm__C=[0.1, 10, 100])\n",
    "grid_search = GridSearchCV(clf, param_grid=params)"
   ]
  },
  {
   "cell_type": "code",
   "execution_count": 168,
   "metadata": {
    "collapsed": false
   },
   "outputs": [
    {
     "data": {
      "text/plain": [
       "{'reduce_dim__n_components': 4, 'svm__C': 10}"
      ]
     },
     "execution_count": 168,
     "metadata": {},
     "output_type": "execute_result"
    }
   ],
   "source": [
    "grid_search.fit(iris.data, iris.target)\n",
    "grid_search.best_params_"
   ]
  },
  {
   "cell_type": "markdown",
   "metadata": {},
   "source": [
    "----\n",
    "# PyMC - Statistica Bayesiana tramite simulazioni MonteCarlo\n",
    "\n",
    "https://github.com/pymc-devs/pymc\n",
    "\n",
    "PyMC è una libreria che implementa la statistica bayesiana tramite simulazioni MonteCarlo, ed è quella che trovo più affascinante fra quelle mostrate in questa lezione.\n",
    "\n",
    "Un ottimo libro introduttivo (in inglese) alla statistica bayesiana ed a PyMC si trova all'indirizzo:\n",
    "\n",
    "https://github.com/CamDavidsonPilon/Probabilistic-Programming-and-Bayesian-Methods-for-Hackers\n",
    "\n",
    "Tramite PyMC è possibile descrivere ad alto livello il nostro modello in termini di distribuzioni di probabilità ed ottenere da queste una stima delle distribuzioni a posteriori dopo le osservazioni compiute."
   ]
  },
  {
   "cell_type": "code",
   "execution_count": null,
   "metadata": {
    "collapsed": false
   },
   "outputs": [],
   "source": [
    "import pymc\n",
    "from pymc.Matplot import plot as Mplot"
   ]
  },
  {
   "cell_type": "markdown",
   "metadata": {},
   "source": [
    "Vediamo ora un esempio minimale: Dato un processo che immaginiamo essere descrivibile da una distribuzione di Poisson, stimare la media di questa distribuzione a partire da una osservazione.\n",
    "\n",
    "Per far questo dobbiamo creare una distribuzione che rappresenta la nostra conoscenza a priori del valore della media, che rappresentiamo con una distribuzione uniforme estremamente ampia ad indicare la nostra mancanza di informazioni iniziali. \n",
    "\n",
    "Dopo di questa definiamo i nostri dati osservati come una distribuzione di Poisson di cui si sono fatte delle certe osservazioni. Questa distribuzione è caratterizzata da una media che è data dalla distribuzione di cui prima.\n",
    "\n",
    "PyMC simulerà il sistema per un numero di step a nostra scelta ed a partire da questa stimerà la distribuzione di probabilità della media dopo la nostra osservazione."
   ]
  },
  {
   "cell_type": "code",
   "execution_count": null,
   "metadata": {
    "collapsed": false
   },
   "outputs": [],
   "source": [
    "mean = pymc.Uniform('mean', lower=0.0, upper=100.0)\n",
    "\n",
    "observed = pymc.Poisson('observed', mu=mean, value=12, observed=True)\n",
    "\n",
    "model = pymc.MCMC([mean, observed])\n",
    "\n",
    "model.sample(iter=8000)"
   ]
  },
  {
   "cell_type": "markdown",
   "metadata": {},
   "source": [
    "Dopo la simulazione abbiamo accesso a tutti i valori assunti dal nostro parametro, che rappresentano la distribuzione desiderata."
   ]
  },
  {
   "cell_type": "code",
   "execution_count": null,
   "metadata": {
    "collapsed": false
   },
   "outputs": [],
   "source": [
    "print model.stats()['mean']['mean']\n",
    "hist(model.trace('mean')[:], bins=30);"
   ]
  },
  {
   "cell_type": "markdown",
   "metadata": {},
   "source": [
    "Abbiamo anche a disposizione una funzione che ci permette di controllare se il modello è arrivato effettivamete a convergenza oppure no. Un modello a convergenza ha una traccia sostanzialmente di rumore piatto ed una funzione di autocorrelazione estremamente ristretta, mentre una non convergente avrà dei trend visibili nella traccia e la funzione di autocorrelazione sarà molto ampia.\n",
    "\n",
    "In caso è possibile dare un valore di partenza specificato per la simulazione, in modo da favorire la convergenza."
   ]
  },
  {
   "cell_type": "code",
   "execution_count": null,
   "metadata": {
    "collapsed": false
   },
   "outputs": [],
   "source": [
    "Mplot(model)"
   ]
  },
  {
   "cell_type": "markdown",
   "metadata": {},
   "source": [
    "----\n",
    "##fitto una distribuzione gaussiana\n",
    "\n",
    "Il passaggio successivo è il fit di un set di osservazioni, e non solo di una. in questo caso avremo bisogno di specificare una distribuzione per ogni dato (almeno in linea teorica), ma nel caso tutti di dati debbano seguire la stessa distribuzione possiano continuare ad usare un solo parametro.\n",
    "\n",
    "In questo caso faremo il fit di una distribuzione gaussiana con varianza nota a priori (per limitare il numero di parametri da descrivere in questa sede)"
   ]
  },
  {
   "cell_type": "code",
   "execution_count": null,
   "metadata": {
    "collapsed": false
   },
   "outputs": [],
   "source": [
    "data = randn(100)+100.0\n",
    "hist(data);"
   ]
  },
  {
   "cell_type": "code",
   "execution_count": null,
   "metadata": {
    "collapsed": false
   },
   "outputs": [],
   "source": [
    "# distribuzione sul parametro da trovare, la media\n",
    "mean = pymc.Uniform('mean', lower=min(data), upper=max(data))\n",
    "\n",
    "# il processo che crea i miei dati è una gaussiana con \n",
    "# precisione fissata e media stocastica\n",
    "process = pymc.Normal('process', mu=mean, tau=1.0, value=data, observed=True)\n",
    "model_ = pymc.Model([data, mean, process])"
   ]
  },
  {
   "cell_type": "code",
   "execution_count": null,
   "metadata": {
    "collapsed": false
   },
   "outputs": [],
   "source": [
    "#creo il mio modello e lo simulo tramite un algoritmo di montecarlo\n",
    "model = pymc.MCMC(model_)\n",
    "model.sample(iter=10000)"
   ]
  },
  {
   "cell_type": "code",
   "execution_count": null,
   "metadata": {
    "collapsed": false
   },
   "outputs": [],
   "source": [
    "Mplot(model)"
   ]
  },
  {
   "cell_type": "markdown",
   "metadata": {},
   "source": [
    "----\n",
    "##esempio di diagnosi\n",
    "\n",
    "ho una certa diffusione di un carattere genetico nella popolazione (che chiamerò $p$). Questo carattere genetico modifica la conta di cellule bianche nel sangue: se è presente ne conto in media 30, mentre se è assente soltanto 10. Data un'osservazione di 15 globuli bianchi, quale sarà la probabilità di avere la malattia?\n",
    "\n",
    "Devo tener conto della diffusione a priori del gene nella popolazione per poterlo valutare! Se sappiamo che nella popolazione solo il $10\\%$ possiede il gene mutante, ed ho un'incertezza del $\\pm 5\\%$, posso rappresentare la mia conoscenza a priori con una distribuzione Beta con parametri $a=3.5$ e $b=31.5$. Il valore di questi parametri è stato fatto invertendo le formule di media e varianza della distribuzione Beta."
   ]
  },
  {
   "cell_type": "code",
   "execution_count": null,
   "metadata": {
    "collapsed": false
   },
   "outputs": [],
   "source": [
    "# questo rappresenta la frequenza nella popolazione, \n",
    "#non mi aspetto che cambi con una sola osservazione\n",
    "frequenza = pymc.Beta('frequenza', alpha=3.5 , beta=31.5, value=0.5)\n",
    "\n",
    "# questo rappresenta il fatto che il singolo individuo misurato \n",
    "# sia o meno una variante del gene\n",
    "# se avessi più osservazioni dovrei avere una realizzazione per ogni osservazione!\n",
    "gene_variante = pymc.Bernoulli('gene_variante', p=frequenza)\n",
    "\n",
    "# questo mi dà la formula determistica che mi dice in base alla presenza del gene\n",
    "# quale sia la media di conteggio che mi aspetto\n",
    "@pymc.deterministic\n",
    "def media(gene_variante=gene_variante):\n",
    "    return where(gene_variante, 20.0, 10.0)\n",
    "\n",
    "# il valore che realmente osservo\n",
    "osservato = 17\n",
    "# questa è la distribuzione della mia osservazione\n",
    "# visto che mi aspetto che sia generato tramite un processo di poisson anche se\n",
    "# è un data \"fissato\"\n",
    "conteggio = pymc.Poisson('conteggio', mu=media, value=osservato, observed=True)"
   ]
  },
  {
   "cell_type": "code",
   "execution_count": null,
   "metadata": {
    "collapsed": false
   },
   "outputs": [],
   "source": [
    "#costruisco il modello e lo simulo\n",
    "model = pymc.MCMC([frequenza, gene_variante, media, conteggio])\n",
    "model.sample(iter=4000, burn=500)\n",
    "\n",
    "stats_gene = model.stats()['gene_variante']\n",
    "print\n",
    "s = \"probabilità di avere la variante del gene: {:.1f} +/- {:.1f}\"\n",
    "print s.format(stats_gene['mean'], stats_gene['standard deviation'])"
   ]
  },
  {
   "cell_type": "markdown",
   "metadata": {},
   "source": [
    "----\n",
    "##fit di un burst proteico\n",
    "\n",
    "Passiamo ad un modello più comlicato, in cui abbiamo due possibili distribuzione che coesistono per descrivere gli stessi dati.\n",
    "\n",
    "Voglio descrivere il numero di proteine osservate in un burst di produzione. In generale ho una probabilità che il DNA sia aperto e produca proteine con una certa media, o sia chiuso e non ne produca affatto. Vogliamo determinare quale sia questa probabilità dato un certo numero di osservazioni. Per prima cosa generiamo dei dati sintetici per testare il nostro algoritmo.\n",
    "\n",
    "Quello che vogliamo stimare è la probabilità di apertura del DNA e quale sia la dimensione del burst proteico in caso di apertura."
   ]
  },
  {
   "cell_type": "code",
   "execution_count": null,
   "metadata": {
    "collapsed": false
   },
   "outputs": [],
   "source": [
    "#genero dei dati sintetici\n",
    "N = 10\n",
    "real_p = 0.9\n",
    "real_lambda = 2.0\n",
    "DNA = np.random.random(size=N)<real_p\n",
    "proteins = DNA * np.random.poisson(real_lambda, size=N)\n",
    "hist(proteins, bins=linspace(min(proteins), max(proteins)),rwidth=500);"
   ]
  },
  {
   "cell_type": "markdown",
   "metadata": {},
   "source": [
    "Le nostre ipotesi di partenza sono una totale ignoranza del valore di probabilità di apertura (rappresentato da una distribuzione uniforme) ed una certa convinzione che la dimensione del burst sia limitata superiormente (rappresentato da una distribuzione esponenziale con media 10)."
   ]
  },
  {
   "cell_type": "code",
   "execution_count": null,
   "metadata": {
    "collapsed": false
   },
   "outputs": [],
   "source": [
    "#descrivo il modello\n",
    "\n",
    "#probabilità di apertura\n",
    "p_open = pymc.Uniform('p', lower=0.0, upper=1.0)\n",
    "switch = pymc.Bernoulli('switch', p_open, size=len(proteins))\n",
    "# dimensione del burst proteico in caso di apertura\n",
    "burst_n = pymc.Exponential('burst', 0.1)\n",
    "\n",
    "# in base all'apertura seleziono la media giusta\n",
    "# in caso di chiusura la metto piccola ma non zero per evitare problemi numerici\n",
    "@pymc.deterministic\n",
    "def mu(switch=switch, burst_n=burst_n):\n",
    "    return where(switch, burst_n,1e-5)\n",
    "\n",
    "observed = pymc.Poisson('observed', mu=mu, value=proteins, observed=True)"
   ]
  },
  {
   "cell_type": "code",
   "execution_count": null,
   "metadata": {
    "collapsed": false
   },
   "outputs": [],
   "source": [
    "model = pymc.MCMC([p_open, burst_n, switch, mu, observed])\n",
    "model.sample(iter=20000, burn=5000)"
   ]
  },
  {
   "cell_type": "code",
   "execution_count": null,
   "metadata": {
    "collapsed": false
   },
   "outputs": [],
   "source": [
    "stats = model.stats()\n",
    "print real_p, '\\t',stats['p']['mean'], '+/-', stats['p']['standard deviation']\n",
    "sb = stats['burst']\n",
    "print real_lambda, '\\t', sb['mean'], '+/-', sb['standard deviation']"
   ]
  },
  {
   "cell_type": "markdown",
   "metadata": {},
   "source": [
    "Possiamo vedere come solo con 10 osservazioni abbiamo una stima abbastanza accurata dei nostri parametri."
   ]
  },
  {
   "cell_type": "code",
   "execution_count": null,
   "metadata": {
    "collapsed": false
   },
   "outputs": [],
   "source": [
    "Mplot(model)"
   ]
  },
  {
   "cell_type": "markdown",
   "metadata": {},
   "source": [
    "----\n",
    "##fit di una mixture di distribuzioni di tipi differenti (esponenziale e gaussiana)\n",
    "\n",
    "Quest'ultimo esempio serve a rappresentare un caso in cui i dati sono descrivibili da due distribuzioni di tipo completamente diverso (e non come prima da due distribuzioni identiche ma con parametri diversi). In questo caso dovrò dire a pymc come mi aspetto di combinare queste due distribuzioni.\n",
    "\n",
    "Questo modello sarebbe quasi impossibile da affrontare con la statistica inferenziale classica, ma si rivela solo marginalmente più complesso dei precedenti una volta descritto nel framwork della statistica bayesiana."
   ]
  },
  {
   "cell_type": "code",
   "execution_count": null,
   "metadata": {
    "collapsed": false
   },
   "outputs": [],
   "source": [
    "#genero i dati sintetici\n",
    "N = 200\n",
    "data = r_[ np.random.exponential(1.0, size=N), np.random.normal(10.0, 1.0, size=3*N) ]\n",
    "hist(data, bins=30);"
   ]
  },
  {
   "cell_type": "code",
   "execution_count": null,
   "metadata": {
    "collapsed": false
   },
   "outputs": [],
   "source": [
    "import scipy.stats as st\n",
    "\n",
    "# selezione casuale del processo di generazione\n",
    "dist_switch = pymc.Uniform('dist_switch', lower=0.0, upper=1.0)\n",
    "switch = pymc.Bernoulli('switch', dist_switch, size=len(data), plot=False)\n",
    "\n",
    "# parametri della distribuzione esponenziale e di quella gaussiana\n",
    "exp_beta = pymc.Exponential('exp_beta', 0.1)\n",
    "mean = pymc.Exponential('mean', 0.1)\n",
    "deviation = pymc.Exponential('deviation', 0.1)\n",
    "\n",
    "#deve ritornare la log-probability complessiva di osservare il valore dati i genitori\n",
    "@pymc.stochastic(observed=True)\n",
    "def observed(switch=switch, exp_beta=exp_beta, mean=mean, \n",
    "        deviation=deviation, value=data):\n",
    "    # calcolo la log probabilità se fossero tutte esponenziali\n",
    "    exponential_logpdf = st.expon.logpdf(value, scale=exp_beta)\n",
    "    # calcolo la log probabilità se fossero tutte gaussiane\n",
    "    normal_logpdf = st.norm.logpdf(value, loc=mean, scale=deviation)\n",
    "    # selezioni in base alla variabile di selezione switch\n",
    "    total_logpdf = np.where(switch, exponential_logpdf, normal_logpdf)\n",
    "    # ritorno la somma delle log-pdf\n",
    "    return np.sum(total_logpdf)    "
   ]
  },
  {
   "cell_type": "code",
   "execution_count": null,
   "metadata": {
    "collapsed": false
   },
   "outputs": [],
   "source": [
    "model = pymc.MCMC([dist_switch, switch, exp_beta, mean, deviation, observed])\n",
    "model.sample(iter=4000, burn=1500)"
   ]
  },
  {
   "cell_type": "code",
   "execution_count": null,
   "metadata": {
    "collapsed": false
   },
   "outputs": [],
   "source": [
    "Mplot(model)"
   ]
  },
  {
   "cell_type": "markdown",
   "metadata": {},
   "source": [
    "----\n",
    "#Il problema della calibrazione\n",
    "\n",
    "In questo caso voglio risolvere il problema inverso a quello del fit lineare: data una stima dei valori della variabile dipendente voglio ricavare una stima dei valori di quella indipendente."
   ]
  },
  {
   "cell_type": "code",
   "execution_count": null,
   "metadata": {
    "collapsed": false
   },
   "outputs": [],
   "source": [
    "m = 2.0\n",
    "a = 2.0\n",
    "q = 2.0\n",
    "n = 1.0\n",
    "\n",
    "x = arange(0.0, 10.0, 2.0)\n",
    "y = q + m*x**a + n*randn(len(x))\n",
    "scatter(x, y)"
   ]
  },
  {
   "cell_type": "code",
   "execution_count": null,
   "metadata": {
    "collapsed": false
   },
   "outputs": [],
   "source": [
    "exog = pymc.Uniform('exogenous', -2, 10, size=len(y))\n",
    "\n",
    "@pymc.deterministic(plot=False)\n",
    "def mean(exog=exog):\n",
    "    return q + m*abs(exog)**a\n",
    "\n",
    "endog = pymc.Normal('endog', mu=mean, tau = 1.0/n**2, value=y, observed=True)"
   ]
  },
  {
   "cell_type": "code",
   "execution_count": null,
   "metadata": {
    "collapsed": false
   },
   "outputs": [],
   "source": [
    "model = pymc.MCMC([exog, mean, endog])\n",
    "model.sample(iter=100000, burn=10000)"
   ]
  },
  {
   "cell_type": "code",
   "execution_count": null,
   "metadata": {
    "collapsed": false
   },
   "outputs": [],
   "source": [
    "x_hat = model.stats()['exogenous']['mean']\n",
    "y_hat =  q + m*x_hat**a"
   ]
  },
  {
   "cell_type": "code",
   "execution_count": null,
   "metadata": {
    "collapsed": false
   },
   "outputs": [],
   "source": [
    "scatter(x_hat, y_hat, color='r', s=50, alpha=0.5)\n",
    "plot(x_hat, y_hat, color='r', alpha=0.5)\n",
    "scatter(x,y, color='b');"
   ]
  },
  {
   "cell_type": "code",
   "execution_count": null,
   "metadata": {
    "collapsed": false
   },
   "outputs": [],
   "source": [
    "Mplot(model)"
   ]
  },
  {
   "cell_type": "markdown",
   "metadata": {},
   "source": [
    "----\n",
    "#RPy2 - quando python non basta\n",
    "\n",
    "http://rpy.sourceforge.net/rpy2/doc-2.3/html/index.html\n",
    "\n",
    "http://rpy.sourceforge.net/rpy2/doc-2.3/html/introduction.html\n",
    "\n",
    "rpy2:\n",
    "\n",
    "- C-level interface between Python and R (R running as an embedded process)\n",
    "- R objects exposed to Python without the need to copy the data over\n",
    "- Conversely, Python's numpy arrays can be exposed to R without making a copy\n",
    "- Low-level interface (close to the R C-API) and high-level interface (for convenience)\n",
    "- In-place modification for vectors and arrays possible\n",
    "- R callback functions can be implemented in Python\n",
    "- Possible to have anonymous R objects with a Python label\n",
    "- Python pickling possible\n",
    "- Full customization of R's behavior with its console (so possible to implement a full R GUI)"
   ]
  },
  {
   "cell_type": "code",
   "execution_count": null,
   "metadata": {
    "collapsed": false
   },
   "outputs": [],
   "source": [
    "from rpy2.robjects import r\n",
    "from rpy2 import robjects\n",
    "r['pi'][0]\n",
    "r('library(datasets)')\n",
    "com.convert_robj(r('mtcars'))\n",
    "robjects.r('''\n",
    "        f <- function(r, verbose=FALSE) {\n",
    "            if (verbose) {\n",
    "                cat(\"I am calling f().\\n\")\n",
    "            }\n",
    "            2 * pi * r\n",
    "        }\n",
    "        ''')\n",
    "r_f = r['f']\n",
    "print r_f(2)\n",
    "#necessario per avere i plot interattivi!\n",
    "import rpy2.rinterface as rinterface\n",
    "import threading\n",
    "import time\n",
    "def r_refresh(interval = 0.03):\n",
    "    while True:\n",
    "        rinterface.process_revents()\n",
    "        #time.sleep(interval)\n",
    "t = threading.Timer(0.1, r_refresh)\n",
    "t.start()"
   ]
  },
  {
   "cell_type": "code",
   "execution_count": null,
   "metadata": {
    "collapsed": false
   },
   "outputs": [],
   "source": [
    "r('x <- rnorm(100)')  # generate x at R\n",
    "r('y <- x + rnorm(100,sd=0.5)')  # generate y at R\n",
    "r('plot(x,y)');  # have R plot them\n",
    "r('lmout <- lm(y~x)')  # run the regression\n",
    "r('print(lmout)')  # print from R\n",
    "loclmout = r('lmout') # download lmout from R to Python\n",
    "print loclmout  # print locally\n",
    "#print loclmout.r['coefficients']  # print one component"
   ]
  },
  {
   "cell_type": "code",
   "execution_count": null,
   "metadata": {
    "collapsed": false
   },
   "outputs": [],
   "source": [
    "u = range(10)  # set up another scatter plot, this one local\n",
    "e = 5*[0.25,-0.25]\n",
    "v = u[:]\n",
    "for i in range(10): \n",
    "    v[i] += e[i]\n",
    "r.plot(u,v)\n",
    "r.assign('remoteu',u)  # ship local u to R\n",
    "r.assign('remotev',v)  # ship local v to R\n",
    "r('plot(remoteu,remotev)')  # plot there\n",
    "r('x <- c(5.05, 6.75, 3.21, 2.66)')\n",
    "r('y <- c(1.65, 26.5, -5.93, 7.96)')\n",
    "r('plot(x, y, main=\"Example Scatter with regression\")')\n",
    "r('abline(lsfit(x, y)$coefficients, col=\"red\")')"
   ]
  },
  {
   "cell_type": "markdown",
   "metadata": {},
   "source": [
    "----\n",
    "##convertire dataframe da e verso R"
   ]
  },
  {
   "cell_type": "code",
   "execution_count": null,
   "metadata": {
    "collapsed": false
   },
   "outputs": [],
   "source": [
    "from pandas import DataFrame\n",
    "import pandas.rpy.common as com\n",
    "from rpy2 import robjects\n",
    "r = robjects.r\n",
    "\n",
    "df = DataFrame({'A': [1, 2, 3], 'B': [4, 5, 6], 'C':[7, 8, 9]}, \n",
    "        index=[\"one\", \"two\", \"three\"])\n",
    "\n",
    "r.assign('my_dataframe', com.convert_to_r_dataframe(df))\n",
    "r_dataframe = r['my_dataframe']\n",
    "print r_dataframe\n",
    "\n",
    "com.convert_robj(r_dataframe)"
   ]
  },
  {
   "cell_type": "code",
   "execution_count": null,
   "metadata": {
    "collapsed": false
   },
   "outputs": [],
   "source": [
    "infert = com.load_data('infert')\n",
    "infert\n",
    "from rpy2.robjects.packages import importr\n",
    "importr(\"datasets\")\n",
    "r['mtcars']"
   ]
  },
  {
   "cell_type": "markdown",
   "metadata": {},
   "source": [
    "----\n",
    "style sheet for ipython notebook"
   ]
  },
  {
   "cell_type": "code",
   "execution_count": null,
   "metadata": {
    "collapsed": false
   },
   "outputs": [],
   "source": [
    "#questo snippet mi permette di usare una visualizzazione più carina\n",
    "from IPython.core.display import HTML\n",
    "def css_styling():\n",
    "    styles = open(\"./styles/custom.css\", \"r\").read()\n",
    "    return HTML(styles)\n",
    "css_styling()"
   ]
  },
  {
   "cell_type": "code",
   "execution_count": null,
   "metadata": {
    "collapsed": false
   },
   "outputs": [],
   "source": []
  }
 ],
 "metadata": {
  "kernelspec": {
   "display_name": "Python 3",
   "language": "python",
   "name": "python3"
  },
  "language_info": {
   "codemirror_mode": {
    "name": "ipython",
    "version": 3
   },
   "file_extension": ".py",
   "mimetype": "text/x-python",
   "name": "python",
   "nbconvert_exporter": "python",
   "pygments_lexer": "ipython3",
   "version": "3.4.3"
  }
 },
 "nbformat": 4,
 "nbformat_minor": 0
}
