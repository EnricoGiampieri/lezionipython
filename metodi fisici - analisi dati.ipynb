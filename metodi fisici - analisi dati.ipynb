{
 "metadata": {
  "name": "metodi fisici - analisi dati"
 },
 "nbformat": 3,
 "nbformat_minor": 0,
 "worksheets": [
  {
   "cells": [
    {
     "cell_type": "markdown",
     "metadata": {},
     "source": [
      "----\n",
      "#analisi dati in Python\n",
      "\n",
      "----\n",
      "\n",
      "Oggi vedremo quali siano le possibilit\u00e0 fornite dal linguaggio Python per l'analisi dati. Non entrer\u00f2 nel dettaglio delle potenzialit\u00e0 delle singole librerie, ma mi limiter\u00f2 soltanto a darvene un'assaggio per farvi rendere conto delle potenzialit\u00e0. Tutte le librerie di cui vi parler\u00f2 sono ampiamente testate e *production-ready*, nonch\u00e8 guidati da sviluppatori attivi ed una comunit\u00e0 pronta a dare una mano.\n",
      "\n",
      "In generale, quando ci prepariamo a fare dell'analisi dati, possiamo dividere il nostro lavoro concettualmente in tre fasi:\n",
      "\n",
      "- preparazione, pulizia e normalizzazione dei dati\n",
      "- creazione ed esplorazione dei modelli\n",
      "- test dei risultati\n",
      "\n",
      "La prima parte viene gestita dalla libreria **pandas**, mentre la terza \u00e8 affidata principalmente al buon senso ed all'esperienza. Per quanto rigurda la fase centrale, la pi\u00f9 interessante, vi parler\u00f2 di tre librerie che a mio parere sono le punte di diamante dell'analisi dati in python, pur essendo lontane dall'essere le uniche.\n",
      "\n",
      "Queste tre librerie rappresentano i tre principali metodi disponibili in python per tre differenti approcci ai dati. Questi tre approcci condividono moltissime caratteristiche ed una distinzione precisa risulta impossibile.\n",
      "\n",
      "- il **machine learning** si preoccupa soprattutto di creare delle \"macchine\" che siano in grado di **prevedere** dei dati. Ad esempio siano in grado di prevedere l'evolvere di una malattia date le caratteristiche del paziente. Questo approccio non si preoccupa molto di quale sia la maniera in cui si arriva al risultato, ed \u00e8 spesso una maniera di lavorare che sfrutta le cosiddette **black-box**, ovvero macchine il cui funzionamento non \u00e8 facilmente comprensibile in termini umani. Il risultato classico di questo approccio \u00e8 una macchina di previsione di cui sia nota la capacit\u00e0 di previsione (quante volte indica la risposta corretta). Esempi classici sono le reti neurali e le support vector machine\n",
      "- la **statistica inferenziale** cerca invece di descrivere un modello a partire dai dati, e si preoccupa molto dell'interpretabilit\u00e0 delle componenti del modello stesso, della loro significativit\u00e0 e della loro interazione. Il risultato delle procedure \u00e8 un modello (con relativa interpretazione) del quale sia specificato il p-value, ovvero il grado di significativit\u00e0 (quanto \u00e8 plausibile che il modello stia descrivendo fornendo informazioni sui dati), sia a livello di intero modello che di singole componenti. Tipici esempi sono i fit lineari o i fit logistici.\n",
      "- la **statistica bayesiana** invece si preoccupa dell'adattamento di un singolo modello ad dei dati andando da definire non un p-value bens\u00ec una distribuzione di probabilit\u00e0 congiunta per tutti i parametri che descrivono quel modello. Questo caratterizza quindi la bont\u00e0 del modello in termini di precisione di queste distribuzioni. \u00c8 un metodo computazionalmente oneroso che ha per\u00f2 il vantaggio di permettere di inserire la conoscenza a priori possieduta sui dati, ad esempio analizzando il risultato di un sintomo medico in termini della frequenza delle varie malattie che possono dare quel sintomo.\n",
      "\n",
      "Per la statistica inferenziale vedremo **statsmodels**, per il machine learning vedremo **scikits.learn** mentre per la statistica bayesiana utilizzeremo **pymc**.\n",
      "\n",
      "Ricordatevi che tutte queste librerie vi forniscono vari metodi di analizzare i dati, ed altrettanti per impiccarvi da soli. Scegliere il giusto modello da applicare di caso in caso e, soprattutto, testare che i risultati del modello scelto siano sensati e non della spazzatura richiedono un lavoro meticoloso di test sia dei dati in ingresso che dei dati in uscita.\n",
      "\n",
      "**Ricordate sempre che se date in pasto al computer dati o modelli spazzatura, non avrete che spazzatura in uscita.**\n",
      "\n",
      "Ognuna di queste librerie fornisce metodi di diagnostica dei risultati, ma come sempre \u00e8 necessaria l'applicazione di una buona dose di buon senso, pazienza e meticolosit\u00e0."
     ]
    },
    {
     "cell_type": "markdown",
     "metadata": {},
     "source": [
      "----\n",
      "#Introduzione a Python\n",
      "\n",
      "https://www.python.org\n",
      "\n",
      "Il Python \u00e8 un linguaggio interpretato di alto livello.\n",
      "\n",
      "Questa \u00e8 una maniera complicata per dire che evita moltissimi dei dolori della programmazione classica: il fatto che sia interpretato significa che non sono necessari step di compilazione, rendendo pi\u00f9 semplice il ciclo sviluppo - esecuzione - correzione\n",
      "\n",
      "Python ha come principale linea guida il concetto di **leggibilit\u00e0**, cercando il pi\u00f9 possibile di rendere semplice agli sviluppatori scrivere librerie semplici ed intuitive.\n",
      "\n",
      "Questo permette di utilizzare soltanto python per sviluppare i prototipi del codice fino ad arrivare al codice di produzione, semplificando e velocizzando l'intero processo che parte dall'idea che si vuole implementare fino ad ottenere il risultato finale.\n",
      "\n",
      "Python supporta di base tutte le operazioni matematiche pi\u00f9 comuni, compreso il supporto per la matematica complessa, e tutti i costrutti pi\u00f9 comuni di programmazione (e molti altri) come:\n",
      "\n",
      "- if, elif, else\n",
      "- cicli for e while\n",
      "- definizione di funzioni e classi\n",
      "\n",
      "Una particolarit\u00e0 del ciclo **for** merita di essere sottolineata. Contrariamente a quanto accade nel C, non si limita a scorrere dei numeri in sequenza, ma sfoglia una lista e ne ritorna uno dopo l'altro tutti gli elementi."
     ]
    },
    {
     "cell_type": "code",
     "collapsed": false,
     "input": [
      "lista = [1, 4, 'pippo', ['lista innestata']]\n",
      "for elemento in lista:\n",
      "    print elemento"
     ],
     "language": "python",
     "metadata": {},
     "outputs": [
      {
       "output_type": "stream",
       "stream": "stdout",
       "text": [
        "1\n",
        "4\n",
        "pippo\n",
        "['lista innestata']\n"
       ]
      }
     ],
     "prompt_number": 3
    },
    {
     "cell_type": "markdown",
     "metadata": {},
     "source": [
      "Inclusi nel linguaggio di base arrivano anche molte strutture dati estremanente utili. Una lista non esaustiva include:\n",
      "\n",
      "- liste\n",
      "- stringhe\n",
      "- set\n",
      "- dizionari\n",
      "- deque\n",
      "- heap\n",
      "\n",
      "Una menzione particolare la meritano i dizionari, che permettono di memorizzare dei dati in modalit\u00e0 random (ovvero non sequenziale) accedendovi tramite nomi esplicativi"
     ]
    },
    {
     "cell_type": "code",
     "collapsed": false,
     "input": [
      "rubrica = dict()\n",
      "rubrica['Ludovico Fabbri'] = ('334-5678901', 'Via Larga 34, Bo')\n",
      "print rubrica['Ludovico Fabbri']"
     ],
     "language": "python",
     "metadata": {},
     "outputs": [
      {
       "output_type": "stream",
       "stream": "stdout",
       "text": [
        "('334-5678901', 'Via Larga 34, Bo')\n"
       ]
      }
     ],
     "prompt_number": 5
    },
    {
     "cell_type": "markdown",
     "metadata": {},
     "source": [
      "Tutte le funzionalit\u00e0 aggiuntive al linguaggio di base vengono fornite da delle librerie. Python arriva con un gran numero di librerie interne, ma quelle per il calcolo numerico vanno installate a parte.\n",
      "\n",
      "Una volta installata la libreria, per utilizzarla \u00e8 sufficiente il comando **import**. Per usare ad esempio le librerie di calcolo numerico sar\u00e0 necessario scrivere"
     ]
    },
    {
     "cell_type": "code",
     "collapsed": false,
     "input": [
      "import numpy"
     ],
     "language": "python",
     "metadata": {},
     "outputs": [],
     "prompt_number": 93
    },
    {
     "cell_type": "markdown",
     "metadata": {},
     "source": [
      "Questo crea un oggetto chiamato **numpy** che contiene tutte le classi e le funzioni di quella libreria. Per lanciare poi una funzione \u00e8 sufficiente scrivere\n"
     ]
    },
    {
     "cell_type": "code",
     "collapsed": false,
     "input": [
      "numpy.eye(3)"
     ],
     "language": "python",
     "metadata": {},
     "outputs": [
      {
       "output_type": "pyout",
       "prompt_number": 94,
       "text": [
        "array([[ 1.,  0.,  0.],\n",
        "       [ 0.,  1.,  0.],\n",
        "       [ 0.,  0.,  1.]])"
       ]
      }
     ],
     "prompt_number": 94
    },
    {
     "cell_type": "markdown",
     "metadata": {},
     "source": [
      "Questa funzione crea una matrice identit\u00e0. Posso assegnare il risultato di questa operazione ad una variabile (senza bisogno didichiararla)"
     ]
    },
    {
     "cell_type": "code",
     "collapsed": false,
     "input": [
      "identity = numpy.eye(3)\n",
      "identity"
     ],
     "language": "python",
     "metadata": {},
     "outputs": [
      {
       "output_type": "pyout",
       "prompt_number": 95,
       "text": [
        "array([[ 1.,  0.,  0.],\n",
        "       [ 0.,  1.,  0.],\n",
        "       [ 0.,  0.,  1.]])"
       ]
      }
     ],
     "prompt_number": 95
    },
    {
     "cell_type": "markdown",
     "metadata": {},
     "source": [
      "Questa variabile \u00e8 un **oggetto**. Python \u00e8 infatti un linguaggio fortemente orientato agli oggetti, anche se f\u00e0 del suo meglio per nasconderlo. Posso infatti accedere ai metodi della classe tramite la sintassi \n",
      "    \n",
      "    oggetto.funzione()"
     ]
    },
    {
     "cell_type": "code",
     "collapsed": false,
     "input": [
      "print identity.sum()"
     ],
     "language": "python",
     "metadata": {},
     "outputs": [
      {
       "output_type": "stream",
       "stream": "stdout",
       "text": [
        "3.0\n"
       ]
      }
     ],
     "prompt_number": 97
    },
    {
     "cell_type": "markdown",
     "metadata": {},
     "source": [
      "per sapere quali siano i metodi disponibili nell'oggetto possiamo eseguire la funzione help, come anche per avere informazioni sulle funzioni."
     ]
    },
    {
     "cell_type": "code",
     "collapsed": false,
     "input": [
      "help(identity.sum)"
     ],
     "language": "python",
     "metadata": {},
     "outputs": [
      {
       "output_type": "stream",
       "stream": "stdout",
       "text": [
        "Help on built-in function sum:\n",
        "\n",
        "sum(...)\n",
        "    a.sum(axis=None, dtype=None, out=None)\n",
        "    \n",
        "    Return the sum of the array elements over the given axis.\n",
        "    \n",
        "    Refer to `numpy.sum` for full documentation.\n",
        "    \n",
        "    See Also\n",
        "    --------\n",
        "    numpy.sum : equivalent function\n",
        "\n"
       ]
      }
     ],
     "prompt_number": 99
    },
    {
     "cell_type": "code",
     "collapsed": false,
     "input": [
      "#non mostro il risultato perch\u00e8 \u00e8 lungo qualche decina di pagine\n",
      "#help(identity)"
     ],
     "language": "python",
     "metadata": {},
     "outputs": [],
     "prompt_number": 1
    },
    {
     "cell_type": "markdown",
     "metadata": {},
     "source": [
      "\u00c8 possibile definire le proprie funzioni tramite il comando **def**.\n",
      "In questo caso creer\u00f2 una funzione che prende due oggetti e ne restituisce la somma.\n",
      "\n",
      "A python non interessa di che oggetti di tratti, fintantoch\u00e8 sia definita fra di loro una somma.\n",
      "Posso usare questa funzione per sommare indifferentemente fra di loro numeri, stringhe, liste o distribuzioni di probabilit\u00e0."
     ]
    },
    {
     "cell_type": "code",
     "collapsed": false,
     "input": [
      "def mia_funzione(a, b):\n",
      "    return a+b\n",
      "\n",
      "print mia_funzione(1, 2)\n",
      "print mia_funzione('hello ', 'world!')\n",
      "print mia_funzione([1, 2, 3], [4, 5, 6])"
     ],
     "language": "python",
     "metadata": {},
     "outputs": [
      {
       "output_type": "stream",
       "stream": "stdout",
       "text": [
        "3\n",
        "hello world!\n",
        "[1, 2, 3, 4, 5, 6]\n"
       ]
      }
     ],
     "prompt_number": 103
    },
    {
     "cell_type": "markdown",
     "metadata": {},
     "source": [
      "----\n",
      "##Utilizzare Python\n",
      "\n",
      "Esistono molti modi diversi di lavorare tramite Python.\n",
      "\n",
      "Il fondamentale \u00e8 tramite la shell di python, un terminale che esegue le righe di comando mano a mano che vengono inserite, ed \u00e8 estremamente utile per testare il codice al volo prima di inserirlo dentro un programma. Il terminale di python si pu\u00f2 lanciare da terminale digitando **python**.\n",
      "\n",
      "Il secondo metodo \u00e8 scrivere uno (o pi\u00f9) script contenente i comandi che si vogliono eseguire, e farlo eseguire da python come un programma qualsiasi tramite il comando **python nomedelfile.py**.\n",
      "\n",
      "Le cose pi\u00f9 interessanti di trovano per\u00f2 andando a cercare fra i vari programmi disponibili.\n",
      "\n",
      "Uno degli editor pi\u00f9 famosi per il calcolo scientifico in python \u00e8 **Spyder** (http://code.google.com/p/spyderlib/), che fornisce un'interfaccia molto simile a quella di Matlab.\n",
      "\n",
      "Un'altro approccio \u00e8 l'utilizzo di un IDE (Integrated Development Environment) completo, quale PyCharm, Wing o Eclipse. Il mio personale preferito, molto pi\u00f9 semplice ma con tutte le funzioni che mi servono \u00e8 **Ninja** (http://ninja-ide.org/).\n",
      "\n",
      "Fra tutti lo strumento per\u00f2 in assoluto pi\u00f9 potente \u00e8 sicuramente **IPython** (http://ipython.org/). IPython fornisce tre programmi:\n",
      "\n",
      "- la IPython shell, che \u00e8 descrivibile come un terminale python sotto steroidi, che pu\u00f2 tranquillamente sostituire la shell di sistema\n",
      "- La QTConsole, che contiene un ibrido fra una shell ed un sistema di gestione tramite GUI, e permette l'utilizzo dei grafici inline invece che in finestre separate.\n",
      "- Il Notebook, ovvero quello che st\u00f2 usando in questo momento, che \u00e8 un'interfaccia web ad un serve di esecuzione che permette di mescolare testo, codice, grafica e formule in un unico insieme. In particolare quello che st\u00f2 usando in questo momento \u00e8 la versione **0.13** di IPython, con qualche modifica per migliorare l'estetica complessiva."
     ]
    },
    {
     "cell_type": "markdown",
     "metadata": {},
     "source": [
      "----\n",
      "##Installare le librerie\n",
      "\n",
      "le librerie che sono necessarie per riprodurre questa lezione, oltre a quelle gi\u00e0 citate, sono:\n",
      "\n",
      "- *numpy*, che fornisce la struttura dati degli array numerici multidimensionali ed \u00e8 la base di tutto il calcolo scientifico in python\n",
      "- *scipy*, che contiene moltissime funzioni di calcolo scientifico applicare agli array di numpy\n",
      "- *matplotlib*, che fornisce le routine di visualizzazione grafica\n",
      "- *ipython*, che \u00e8 il programma che permette di creare questi notebook misti HTML/codice\n",
      "\n",
      "Per installare tutte le librerie si pu\u00e0 sfruttare il programma pip, che permette di scaricare e compilare tutte le librerie python richieste e le loro dipendenze. Sotto ubuntu posso ottenere tutto il necessario con le seguenti righe di codice:\n",
      "\n",
      "    sudo apt-get install python-pip build-essential\n",
      "\n",
      "    sudo pip install -U numpy\n",
      "    sudo pip install -U scipy\n",
      "    sudo pip install -U matplotlib\n",
      "    sudo pip install -U ipython\n",
      "    sudo pip install -U pandas\n",
      "    sudo pip install -U patsy\n",
      "    sudo pip install -U statsmodels\n",
      "    sudo pip install -U scikit-learn\n",
      "    sudo pip install -U pymc\n",
      "\n",
      "Una maniera pi\u00f9 smeplice per procurarsi (quasi) tutto il necessario \u00e8 richiedere un'account accademico alla Entought per scaricare la Enthought Python Distribution (EPD, http://www.enthought.com/products/epd.php), un pacchetto che racchiude molte delle librerie pi\u00f9 famose di python gi\u00e0 predisposte a funzionare per il sistema di riferimento.\n",
      "\n",
      "In ogni caso sono sempre disponibile per dare una mano con l'installazione e la configurazione :)"
     ]
    },
    {
     "cell_type": "markdown",
     "metadata": {},
     "source": [
      "----\n",
      "#Pandas - Gestione di Dataframe\n",
      "\n",
      "http://pandas.pydata.org/\n",
      "\n",
      "Pandas \u00e8 una libreria molto potente per la **gestione** dei dati, ovvero lettura e manipolazione in preparazione di una successiva elaborazione."
     ]
    },
    {
     "cell_type": "code",
     "collapsed": false,
     "input": [
      "import pandas as pd\n",
      "import pandas"
     ],
     "language": "python",
     "metadata": {},
     "outputs": [],
     "prompt_number": 1
    },
    {
     "cell_type": "markdown",
     "metadata": {},
     "source": [
      "Pandas \u00e8 composto da due oggetti fondamentali, la **Series** ed il **DataFrame**. La *Series* \u00e8 un insieme ordinato di coppie chiave-valore, in cui il tipo di valori \u00e8 omogeneo "
     ]
    },
    {
     "cell_type": "code",
     "collapsed": false,
     "input": [
      "serie = pd.Series([1,2,3,4], ['a', 'b', 'c', 'd'])\n",
      "serie"
     ],
     "language": "python",
     "metadata": {},
     "outputs": [
      {
       "output_type": "pyout",
       "prompt_number": 2,
       "text": [
        "a    1\n",
        "b    2\n",
        "c    3\n",
        "d    4"
       ]
      }
     ],
     "prompt_number": 2
    },
    {
     "cell_type": "markdown",
     "metadata": {},
     "source": [
      "Ogni Serie possiede un indice e dei valori, rappresentati internamente come un array numpy, ed ha associato quindi anche il tipo di dati contenuti dentro l'array"
     ]
    },
    {
     "cell_type": "code",
     "collapsed": false,
     "input": [
      "print serie.index\n",
      "print serie.values\n",
      "print serie.dtype"
     ],
     "language": "python",
     "metadata": {},
     "outputs": [
      {
       "output_type": "stream",
       "stream": "stdout",
       "text": [
        "Index([a, b, c, d], dtype=object)\n",
        "[1 2 3 4]\n",
        "int64\n"
       ]
      }
     ],
     "prompt_number": 3
    },
    {
     "cell_type": "markdown",
     "metadata": {},
     "source": [
      "Diverse funzioni statistiche (di cui qui sono sono rappresentate sono una minima parte) sono disponibili sulla serie, ed inoltre quasi tutte le funzioni delle librerie numpy, scipy e matplotlib funzionano egregiamente"
     ]
    },
    {
     "cell_type": "code",
     "collapsed": false,
     "input": [
      "print serie.mean()\n",
      "print serie.sum()\n",
      "print serie.min()"
     ],
     "language": "python",
     "metadata": {},
     "outputs": [
      {
       "output_type": "stream",
       "stream": "stdout",
       "text": [
        "2.5\n",
        "10\n",
        "1\n"
       ]
      }
     ],
     "prompt_number": 4
    },
    {
     "cell_type": "markdown",
     "metadata": {},
     "source": [
      "\u00c8 possibile ottenere gli elementi della serie in varie maniere, sia tramite indicizzazione diretta che tramite condizioni logiche"
     ]
    },
    {
     "cell_type": "code",
     "collapsed": false,
     "input": [
      "serie['a']"
     ],
     "language": "python",
     "metadata": {},
     "outputs": [
      {
       "output_type": "pyout",
       "prompt_number": 5,
       "text": [
        "1"
       ]
      }
     ],
     "prompt_number": 5
    },
    {
     "cell_type": "code",
     "collapsed": false,
     "input": [
      "serie[serie>2]"
     ],
     "language": "python",
     "metadata": {},
     "outputs": [
      {
       "output_type": "pyout",
       "prompt_number": 6,
       "text": [
        "c    3\n",
        "d    4"
       ]
      }
     ],
     "prompt_number": 6
    },
    {
     "cell_type": "markdown",
     "metadata": {},
     "source": [
      "Una delle funzioni per\u00f2 pi\u00f9 utili delle Serie \u00e8 la capacit\u00e0 di allineare direttamente gli indici di due serie differenti. Se ho ad esempio una serie con indici in parziale sovrapposizione con quelli della mia serie iniziale, posso compiere operazioni come somma e prodotti e pandas si occuper\u00e0 automaticamente di sommare gli indici giusti fra di loro"
     ]
    },
    {
     "cell_type": "code",
     "collapsed": false,
     "input": [
      "serie2 = pd.Series([5, 6, 9], ['a', 'c', 'e'])\n",
      "serie2"
     ],
     "language": "python",
     "metadata": {},
     "outputs": [
      {
       "output_type": "pyout",
       "prompt_number": 7,
       "text": [
        "a    5\n",
        "c    6\n",
        "e    9"
       ]
      }
     ],
     "prompt_number": 7
    },
    {
     "cell_type": "code",
     "collapsed": false,
     "input": [
      "serie+serie2"
     ],
     "language": "python",
     "metadata": {},
     "outputs": [
      {
       "output_type": "pyout",
       "prompt_number": 8,
       "text": [
        "a     6\n",
        "b   NaN\n",
        "c     9\n",
        "d   NaN\n",
        "e   NaN"
       ]
      }
     ],
     "prompt_number": 8
    },
    {
     "cell_type": "code",
     "collapsed": false,
     "input": [
      "serie.add(serie2, fill_value=0)"
     ],
     "language": "python",
     "metadata": {},
     "outputs": [
      {
       "output_type": "pyout",
       "prompt_number": 9,
       "text": [
        "a    6\n",
        "b    2\n",
        "c    9\n",
        "d    4\n",
        "e    9"
       ]
      }
     ],
     "prompt_number": 9
    },
    {
     "cell_type": "markdown",
     "metadata": {},
     "source": [
      "----\n",
      "Un **DataFrame** rappresenta invece una tabella di dati, divisi in colonne di tipo omogeneo che condividono un'indicizzazione per riga. Ogni colonna \u00e8 rappresentata da una serie, e quindi il DataFrame eredita naturalmente le capacit\u00e0 di allineamento delle serie."
     ]
    },
    {
     "cell_type": "code",
     "collapsed": false,
     "input": [
      "pd.DataFrame({'A': [1, 2, 3], 'B': [4, 5, 6], 'C':[7, 8, 9]}, index=[\"one\", \"two\", \"three\"])"
     ],
     "language": "python",
     "metadata": {},
     "outputs": [
      {
       "html": [
        "<div style=\"max-height:1000px;max-width:1500px;overflow:auto;\">\n",
        "<table border=\"1\" class=\"dataframe\">\n",
        "  <thead>\n",
        "    <tr style=\"text-align: right;\">\n",
        "      <th></th>\n",
        "      <th>A</th>\n",
        "      <th>B</th>\n",
        "      <th>C</th>\n",
        "    </tr>\n",
        "  </thead>\n",
        "  <tbody>\n",
        "    <tr>\n",
        "      <th>one</th>\n",
        "      <td> 1</td>\n",
        "      <td> 4</td>\n",
        "      <td> 7</td>\n",
        "    </tr>\n",
        "    <tr>\n",
        "      <th>two</th>\n",
        "      <td> 2</td>\n",
        "      <td> 5</td>\n",
        "      <td> 8</td>\n",
        "    </tr>\n",
        "    <tr>\n",
        "      <th>three</th>\n",
        "      <td> 3</td>\n",
        "      <td> 6</td>\n",
        "      <td> 9</td>\n",
        "    </tr>\n",
        "  </tbody>\n",
        "</table>\n",
        "</div>"
       ],
       "output_type": "pyout",
       "prompt_number": 10,
       "text": [
        "       A  B  C\n",
        "one    1  4  7\n",
        "two    2  5  8\n",
        "three  3  6  9"
       ]
      }
     ],
     "prompt_number": 10
    },
    {
     "cell_type": "code",
     "collapsed": false,
     "input": [
      "data = [[1, 2, 3], [4, 5, 6], [7, 8, 9]]\n",
      "dataframe = pd.DataFrame(data, index=['one', 'two', 'three'], columns=[\"A\", \"B\", \"C\"])\n",
      "dataframe"
     ],
     "language": "python",
     "metadata": {},
     "outputs": [
      {
       "html": [
        "<div style=\"max-height:1000px;max-width:1500px;overflow:auto;\">\n",
        "<table border=\"1\" class=\"dataframe\">\n",
        "  <thead>\n",
        "    <tr style=\"text-align: right;\">\n",
        "      <th></th>\n",
        "      <th>A</th>\n",
        "      <th>B</th>\n",
        "      <th>C</th>\n",
        "    </tr>\n",
        "  </thead>\n",
        "  <tbody>\n",
        "    <tr>\n",
        "      <th>one</th>\n",
        "      <td> 1</td>\n",
        "      <td> 2</td>\n",
        "      <td> 3</td>\n",
        "    </tr>\n",
        "    <tr>\n",
        "      <th>two</th>\n",
        "      <td> 4</td>\n",
        "      <td> 5</td>\n",
        "      <td> 6</td>\n",
        "    </tr>\n",
        "    <tr>\n",
        "      <th>three</th>\n",
        "      <td> 7</td>\n",
        "      <td> 8</td>\n",
        "      <td> 9</td>\n",
        "    </tr>\n",
        "  </tbody>\n",
        "</table>\n",
        "</div>"
       ],
       "output_type": "pyout",
       "prompt_number": 11,
       "text": [
        "       A  B  C\n",
        "one    1  2  3\n",
        "two    4  5  6\n",
        "three  7  8  9"
       ]
      }
     ],
     "prompt_number": 11
    },
    {
     "cell_type": "markdown",
     "metadata": {},
     "source": [
      "\u00c8 possibile accedere alle colonne di un dataframe come se fosse un dizionario (in modo quindi simile a quanto visto con le serie)"
     ]
    },
    {
     "cell_type": "code",
     "collapsed": false,
     "input": [
      "dataframe['A']"
     ],
     "language": "python",
     "metadata": {},
     "outputs": [
      {
       "output_type": "pyout",
       "prompt_number": 12,
       "text": [
        "one      1\n",
        "two      4\n",
        "three    7\n",
        "Name: A"
       ]
      }
     ],
     "prompt_number": 12
    },
    {
     "cell_type": "code",
     "collapsed": false,
     "input": [
      "dataframe['A']['one']"
     ],
     "language": "python",
     "metadata": {},
     "outputs": [
      {
       "output_type": "pyout",
       "prompt_number": 13,
       "text": [
        "1"
       ]
      }
     ],
     "prompt_number": 13
    },
    {
     "cell_type": "markdown",
     "metadata": {},
     "source": [
      "----\n",
      "##gestione di un dataframe reale\n",
      "\n",
      "Vediamo ora come usare Pandas per gestire un dataset reale, tratto dall'articolo \n",
      "\n",
      "    Fair, Ray. 1978. \"A Theory of Extramarital Affairs\" \n",
      "    \"Journal of Political Economy\", February, 45-61.\n",
      "\n",
      "Possiamo importare questo dataset dalla libreria statsmodels, di cui ci occuperemo a breve"
     ]
    },
    {
     "cell_type": "code",
     "collapsed": false,
     "input": [
      "import statsmodels.api as sm\n",
      "print sm.datasets.fair.SOURCE\n",
      "print sm.datasets.fair.DESCRLONG\n",
      "print sm.datasets.fair.NOTE\n",
      "print sm.datasets.fair.COPYRIGHT"
     ],
     "language": "python",
     "metadata": {},
     "outputs": [
      {
       "output_type": "stream",
       "stream": "stdout",
       "text": [
        "\n",
        "Fair, Ray. 1978. \"A Theory of Extramarital Affairs,\" `Journal of Political\n",
        "    Economy`, February, 45-61.\n",
        "\n",
        "The data is available at http://fairmodel.econ.yale.edu/rayfair/pdf/2011b.htm\n",
        "\n",
        "Extramarital affair data used to explain the allocation\n",
        "of an individual's time among work, time spent with a spouse, and time\n",
        "spent with a paramour. The data is used as an example of regression\n",
        "with censored data.\n",
        "\n",
        "Number of observations: 6366\n",
        "Number of variables: 9\n",
        "Variable name definitions:\n",
        "\n",
        "    rate_marriage   : How rate marriage, 1 = very poor, 2 = poor, 3 = fair,\n",
        "                      4 = good, 5 = very good\n",
        "    age             : Age\n",
        "    yrs_married     : No. years married. Interval approximations. See\n",
        "                      original paper for detailed explanation.\n",
        "    children        : No. children\n",
        "    religious       : How relgious, 1 = not, 2 = mildly, 3 = fairly,\n",
        "                      4 = strongly\n",
        "    educ            : Level of education, 9 = grade school, 12 = high school,\n",
        "                      14 = some college, 16 = college graduate, 17 = some\n",
        "                      graduate school, 20 = advanced degree\n",
        "    occupation      : 1 = student, 2 = farming, agriculture; semi-skilled,\n",
        "                      or unskilled worker; 3 = white-colloar; 4 = teacher\n",
        "                      counselor social worker, nurse; artist, writers;\n",
        "                      technician, skilled worker, 5 = managerial,\n",
        "                      administrative, business, 6 = professional with\n",
        "                      advanced degree\n",
        "    occupation_husb : Husband's occupation. Same as occupation.\n",
        "    affairs         : measure of time spent in extramarital affairs\n",
        "\n",
        "See the original paper for more details.\n",
        "\n",
        "Included with permission of the author.\n"
       ]
      }
     ],
     "prompt_number": 14
    },
    {
     "cell_type": "markdown",
     "metadata": {},
     "source": [
      "Carichiamo il dataset come DataFrame di pandas e possiamo ottenere un riassunto del contenuto richiedendone la stampa. Vedo subito che ho 6366 campioni (ovvero soggetti intervistati) di cui possiedo diverse informazioni."
     ]
    },
    {
     "cell_type": "code",
     "collapsed": false,
     "input": [
      "affair = sm.datasets.fair.load_pandas().data\n",
      "print affair"
     ],
     "language": "python",
     "metadata": {},
     "outputs": [
      {
       "output_type": "stream",
       "stream": "stdout",
       "text": [
        "<class 'pandas.core.frame.DataFrame'>\n",
        "Int64Index: 6366 entries, 0 to 6365\n",
        "Data columns:\n",
        "rate_marriage      6366  non-null values\n",
        "age                6366  non-null values\n",
        "yrs_married        6366  non-null values\n",
        "children           6366  non-null values\n",
        "religious          6366  non-null values\n",
        "educ               6366  non-null values\n",
        "occupation         6366  non-null values\n",
        "occupation_husb    6366  non-null values\n",
        "affairs            6366  non-null values\n",
        "dtypes: float64(9)\n"
       ]
      }
     ],
     "prompt_number": 15
    },
    {
     "cell_type": "markdown",
     "metadata": {},
     "source": [
      "----\n",
      "I dati forniti sono puramente numerici, li trasformo in categorie di testo mnemoniche secondo le indicazioni fornite dal dataset. Usiamo dei dizionari e la funzione *apply* delle serie, che applica una funzione data a tutti gli elementi della serie"
     ]
    },
    {
     "cell_type": "code",
     "collapsed": false,
     "input": [
      "rate_marriage = {1: '1 very poor', 2: '2 poor', 3: '3 fair', \n",
      "    4: '4 good', 5: '5 very good'}\n",
      "affair['rate_marriage'] = affair['rate_marriage'].apply(lambda s: rate_marriage[s])"
     ],
     "language": "python",
     "metadata": {},
     "outputs": [],
     "prompt_number": 16
    },
    {
     "cell_type": "code",
     "collapsed": false,
     "input": [
      "religious = {1: '1 not', 2: '2 mildly', 3: '3 fairly', 4: '4 strongly'}\n",
      "affair['religious'] = affair['religious'].apply(lambda s: religious[s])"
     ],
     "language": "python",
     "metadata": {},
     "outputs": [],
     "prompt_number": 17
    },
    {
     "cell_type": "code",
     "collapsed": false,
     "input": [
      "occupation = {1: 'student', \n",
      "    2: 'farming, agriculture; semi-skilled, or unskilled worker', \n",
      "    3: 'white-colloar' ,\n",
      "    4: ('teacher counselor social worker, nurse; artist, writers; '\n",
      "        'technician, skilled worker'), \n",
      "    5: 'managerial, administrative, business', \n",
      "    6: 'professional with advanced degree'}\n",
      "affair['occupation'] = affair['occupation'].apply(lambda s: occupation[s])\n",
      "affair['occupation_husb'] = affair['occupation_husb'].apply(lambda s: occupation[s])"
     ],
     "language": "python",
     "metadata": {},
     "outputs": [],
     "prompt_number": 18
    },
    {
     "cell_type": "markdown",
     "metadata": {},
     "source": [
      "Creo inoltre una nuova colonna con un'informazione binaria sul fatto che la persona abbia tradito o meno"
     ]
    },
    {
     "cell_type": "code",
     "collapsed": false,
     "input": [
      "affair['cheated'] = affair.affairs > 0"
     ],
     "language": "python",
     "metadata": {},
     "outputs": [],
     "prompt_number": 19
    },
    {
     "cell_type": "markdown",
     "metadata": {},
     "source": [
      "----\n",
      "Il DataFrame ossiede moltissimi metodi statistici (media, varianza, mediana, covarianza, correlazione, etc...) sia normali che cumulativi, con finestra o incrementali"
     ]
    },
    {
     "cell_type": "code",
     "collapsed": false,
     "input": [
      "affair.describe()"
     ],
     "language": "python",
     "metadata": {},
     "outputs": [
      {
       "html": [
        "<div style=\"max-height:1000px;max-width:1500px;overflow:auto;\">\n",
        "<table border=\"1\" class=\"dataframe\">\n",
        "  <thead>\n",
        "    <tr style=\"text-align: right;\">\n",
        "      <th></th>\n",
        "      <th>age</th>\n",
        "      <th>yrs_married</th>\n",
        "      <th>children</th>\n",
        "      <th>educ</th>\n",
        "      <th>affairs</th>\n",
        "    </tr>\n",
        "  </thead>\n",
        "  <tbody>\n",
        "    <tr>\n",
        "      <th>count</th>\n",
        "      <td> 6366.000000</td>\n",
        "      <td> 6366.000000</td>\n",
        "      <td> 6366.000000</td>\n",
        "      <td> 6366.000000</td>\n",
        "      <td> 6366.000000</td>\n",
        "    </tr>\n",
        "    <tr>\n",
        "      <th>mean</th>\n",
        "      <td>   29.082862</td>\n",
        "      <td>    9.009425</td>\n",
        "      <td>    1.396874</td>\n",
        "      <td>   14.209865</td>\n",
        "      <td>    0.705374</td>\n",
        "    </tr>\n",
        "    <tr>\n",
        "      <th>std</th>\n",
        "      <td>    6.847882</td>\n",
        "      <td>    7.280120</td>\n",
        "      <td>    1.433471</td>\n",
        "      <td>    2.178003</td>\n",
        "      <td>    2.203374</td>\n",
        "    </tr>\n",
        "    <tr>\n",
        "      <th>min</th>\n",
        "      <td>   17.500000</td>\n",
        "      <td>    0.500000</td>\n",
        "      <td>    0.000000</td>\n",
        "      <td>    9.000000</td>\n",
        "      <td>    0.000000</td>\n",
        "    </tr>\n",
        "    <tr>\n",
        "      <th>25%</th>\n",
        "      <td>   22.000000</td>\n",
        "      <td>    2.500000</td>\n",
        "      <td>    0.000000</td>\n",
        "      <td>   12.000000</td>\n",
        "      <td>    0.000000</td>\n",
        "    </tr>\n",
        "    <tr>\n",
        "      <th>50%</th>\n",
        "      <td>   27.000000</td>\n",
        "      <td>    6.000000</td>\n",
        "      <td>    1.000000</td>\n",
        "      <td>   14.000000</td>\n",
        "      <td>    0.000000</td>\n",
        "    </tr>\n",
        "    <tr>\n",
        "      <th>75%</th>\n",
        "      <td>   32.000000</td>\n",
        "      <td>   16.500000</td>\n",
        "      <td>    2.000000</td>\n",
        "      <td>   16.000000</td>\n",
        "      <td>    0.484848</td>\n",
        "    </tr>\n",
        "    <tr>\n",
        "      <th>max</th>\n",
        "      <td>   42.000000</td>\n",
        "      <td>   23.000000</td>\n",
        "      <td>    5.500000</td>\n",
        "      <td>   20.000000</td>\n",
        "      <td>   57.599991</td>\n",
        "    </tr>\n",
        "  </tbody>\n",
        "</table>\n",
        "</div>"
       ],
       "output_type": "pyout",
       "prompt_number": 20,
       "text": [
        "               age  yrs_married     children         educ      affairs\n",
        "count  6366.000000  6366.000000  6366.000000  6366.000000  6366.000000\n",
        "mean     29.082862     9.009425     1.396874    14.209865     0.705374\n",
        "std       6.847882     7.280120     1.433471     2.178003     2.203374\n",
        "min      17.500000     0.500000     0.000000     9.000000     0.000000\n",
        "25%      22.000000     2.500000     0.000000    12.000000     0.000000\n",
        "50%      27.000000     6.000000     1.000000    14.000000     0.000000\n",
        "75%      32.000000    16.500000     2.000000    16.000000     0.484848\n",
        "max      42.000000    23.000000     5.500000    20.000000    57.599991"
       ]
      }
     ],
     "prompt_number": 20
    },
    {
     "cell_type": "code",
     "collapsed": false,
     "input": [
      "affair.corr()"
     ],
     "language": "python",
     "metadata": {},
     "outputs": [
      {
       "html": [
        "<div style=\"max-height:1000px;max-width:1500px;overflow:auto;\">\n",
        "<table border=\"1\" class=\"dataframe\">\n",
        "  <thead>\n",
        "    <tr style=\"text-align: right;\">\n",
        "      <th></th>\n",
        "      <th>age</th>\n",
        "      <th>yrs_married</th>\n",
        "      <th>children</th>\n",
        "      <th>educ</th>\n",
        "      <th>affairs</th>\n",
        "    </tr>\n",
        "  </thead>\n",
        "  <tbody>\n",
        "    <tr>\n",
        "      <th>age</th>\n",
        "      <td> 1.000000</td>\n",
        "      <td> 0.894082</td>\n",
        "      <td> 0.673902</td>\n",
        "      <td> 0.027960</td>\n",
        "      <td>-0.089964</td>\n",
        "    </tr>\n",
        "    <tr>\n",
        "      <th>yrs_married</th>\n",
        "      <td> 0.894082</td>\n",
        "      <td> 1.000000</td>\n",
        "      <td> 0.772806</td>\n",
        "      <td>-0.109058</td>\n",
        "      <td>-0.087737</td>\n",
        "    </tr>\n",
        "    <tr>\n",
        "      <th>children</th>\n",
        "      <td> 0.673902</td>\n",
        "      <td> 0.772806</td>\n",
        "      <td> 1.000000</td>\n",
        "      <td>-0.141918</td>\n",
        "      <td>-0.070278</td>\n",
        "    </tr>\n",
        "    <tr>\n",
        "      <th>educ</th>\n",
        "      <td> 0.027960</td>\n",
        "      <td>-0.109058</td>\n",
        "      <td>-0.141918</td>\n",
        "      <td> 1.000000</td>\n",
        "      <td>-0.017740</td>\n",
        "    </tr>\n",
        "    <tr>\n",
        "      <th>affairs</th>\n",
        "      <td>-0.089964</td>\n",
        "      <td>-0.087737</td>\n",
        "      <td>-0.070278</td>\n",
        "      <td>-0.017740</td>\n",
        "      <td> 1.000000</td>\n",
        "    </tr>\n",
        "  </tbody>\n",
        "</table>\n",
        "</div>"
       ],
       "output_type": "pyout",
       "prompt_number": 21,
       "text": [
        "                  age  yrs_married  children      educ   affairs\n",
        "age          1.000000     0.894082  0.673902  0.027960 -0.089964\n",
        "yrs_married  0.894082     1.000000  0.772806 -0.109058 -0.087737\n",
        "children     0.673902     0.772806  1.000000 -0.141918 -0.070278\n",
        "educ         0.027960    -0.109058 -0.141918  1.000000 -0.017740\n",
        "affairs     -0.089964    -0.087737 -0.070278 -0.017740  1.000000"
       ]
      }
     ],
     "prompt_number": 21
    },
    {
     "cell_type": "markdown",
     "metadata": {},
     "source": [
      "----\n",
      "\u00c8 disponibile una potente funzione di raggruppamento, in modo da poter dividere per categorie i dati e farci sopra delle operazioni sulla base di queste categorie"
     ]
    },
    {
     "cell_type": "code",
     "collapsed": false,
     "input": [
      "affair.groupby(['religious', 'rate_marriage']).mean()"
     ],
     "language": "python",
     "metadata": {},
     "outputs": [
      {
       "html": [
        "<div style=\"max-height:1000px;max-width:1500px;overflow:auto;\">\n",
        "<table border=\"1\" class=\"dataframe\">\n",
        "  <thead>\n",
        "    <tr style=\"text-align: right;\">\n",
        "      <th></th>\n",
        "      <th></th>\n",
        "      <th>age</th>\n",
        "      <th>yrs_married</th>\n",
        "      <th>children</th>\n",
        "      <th>educ</th>\n",
        "      <th>affairs</th>\n",
        "      <th>cheated</th>\n",
        "    </tr>\n",
        "    <tr>\n",
        "      <th>religious</th>\n",
        "      <th>rate_marriage</th>\n",
        "      <th></th>\n",
        "      <th></th>\n",
        "      <th></th>\n",
        "      <th></th>\n",
        "      <th></th>\n",
        "      <th></th>\n",
        "    </tr>\n",
        "  </thead>\n",
        "  <tbody>\n",
        "    <tr>\n",
        "      <th rowspan=\"5\" valign=\"top\">1 not</th>\n",
        "      <th>1 very poor</th>\n",
        "      <td> 32.000000</td>\n",
        "      <td> 10.916667</td>\n",
        "      <td> 1.777778</td>\n",
        "      <td> 14.166667</td>\n",
        "      <td> 1.334104</td>\n",
        "      <td> 0.666667</td>\n",
        "    </tr>\n",
        "    <tr>\n",
        "      <th>2 poor</th>\n",
        "      <td> 30.482143</td>\n",
        "      <td> 10.696429</td>\n",
        "      <td> 1.500000</td>\n",
        "      <td> 14.464286</td>\n",
        "      <td> 3.299485</td>\n",
        "      <td> 0.714286</td>\n",
        "    </tr>\n",
        "    <tr>\n",
        "      <th>3 fair</th>\n",
        "      <td> 28.247191</td>\n",
        "      <td>  8.058989</td>\n",
        "      <td> 1.157303</td>\n",
        "      <td> 14.275281</td>\n",
        "      <td> 2.382038</td>\n",
        "      <td> 0.617978</td>\n",
        "    </tr>\n",
        "    <tr>\n",
        "      <th>4 good</th>\n",
        "      <td> 27.476879</td>\n",
        "      <td>  7.156069</td>\n",
        "      <td> 1.014451</td>\n",
        "      <td> 14.471098</td>\n",
        "      <td> 1.005887</td>\n",
        "      <td> 0.375723</td>\n",
        "    </tr>\n",
        "    <tr>\n",
        "      <th>5 very good</th>\n",
        "      <td> 27.111111</td>\n",
        "      <td>  6.832151</td>\n",
        "      <td> 0.923168</td>\n",
        "      <td> 14.496454</td>\n",
        "      <td> 0.691137</td>\n",
        "      <td> 0.274232</td>\n",
        "    </tr>\n",
        "    <tr>\n",
        "      <th rowspan=\"5\" valign=\"top\">2 mildly</th>\n",
        "      <th>1 very poor</th>\n",
        "      <td> 31.736111</td>\n",
        "      <td> 12.138889</td>\n",
        "      <td> 2.291667</td>\n",
        "      <td> 13.472222</td>\n",
        "      <td> 1.448427</td>\n",
        "      <td> 0.777778</td>\n",
        "    </tr>\n",
        "    <tr>\n",
        "      <th>2 poor</th>\n",
        "      <td> 30.130137</td>\n",
        "      <td> 10.592466</td>\n",
        "      <td> 1.698630</td>\n",
        "      <td> 13.719178</td>\n",
        "      <td> 1.603516</td>\n",
        "      <td> 0.684932</td>\n",
        "    </tr>\n",
        "    <tr>\n",
        "      <th>3 fair</th>\n",
        "      <td> 29.625935</td>\n",
        "      <td> 10.034913</td>\n",
        "      <td> 1.600998</td>\n",
        "      <td> 13.810474</td>\n",
        "      <td> 1.305844</td>\n",
        "      <td> 0.553616</td>\n",
        "    </tr>\n",
        "    <tr>\n",
        "      <th>4 good</th>\n",
        "      <td> 28.490419</td>\n",
        "      <td>  8.708982</td>\n",
        "      <td> 1.353293</td>\n",
        "      <td> 13.819162</td>\n",
        "      <td> 0.770306</td>\n",
        "      <td> 0.368862</td>\n",
        "    </tr>\n",
        "    <tr>\n",
        "      <th>5 very good</th>\n",
        "      <td> 27.875736</td>\n",
        "      <td>  7.457597</td>\n",
        "      <td> 1.087750</td>\n",
        "      <td> 14.297998</td>\n",
        "      <td> 0.337247</td>\n",
        "      <td> 0.189635</td>\n",
        "    </tr>\n",
        "    <tr>\n",
        "      <th rowspan=\"5\" valign=\"top\">3 fairly</th>\n",
        "      <th>1 very poor</th>\n",
        "      <td> 35.552632</td>\n",
        "      <td> 16.210526</td>\n",
        "      <td> 2.460526</td>\n",
        "      <td> 13.710526</td>\n",
        "      <td> 0.992806</td>\n",
        "      <td> 0.763158</td>\n",
        "    </tr>\n",
        "    <tr>\n",
        "      <th>2 poor</th>\n",
        "      <td> 30.272727</td>\n",
        "      <td> 10.404959</td>\n",
        "      <td> 1.723140</td>\n",
        "      <td> 13.595041</td>\n",
        "      <td> 1.087526</td>\n",
        "      <td> 0.586777</td>\n",
        "    </tr>\n",
        "    <tr>\n",
        "      <th>3 fair</th>\n",
        "      <td> 30.812500</td>\n",
        "      <td> 11.037791</td>\n",
        "      <td> 1.831395</td>\n",
        "      <td> 14.020349</td>\n",
        "      <td> 1.066625</td>\n",
        "      <td> 0.534884</td>\n",
        "    </tr>\n",
        "    <tr>\n",
        "      <th>4 good</th>\n",
        "      <td> 29.186431</td>\n",
        "      <td>  8.911631</td>\n",
        "      <td> 1.412201</td>\n",
        "      <td> 14.246294</td>\n",
        "      <td> 0.531323</td>\n",
        "      <td> 0.280502</td>\n",
        "    </tr>\n",
        "    <tr>\n",
        "      <th>5 very good</th>\n",
        "      <td> 29.106046</td>\n",
        "      <td>  8.989923</td>\n",
        "      <td> 1.387236</td>\n",
        "      <td> 14.251440</td>\n",
        "      <td> 0.305064</td>\n",
        "      <td> 0.169866</td>\n",
        "    </tr>\n",
        "    <tr>\n",
        "      <th rowspan=\"5\" valign=\"top\">4 strongly</th>\n",
        "      <th>1 very poor</th>\n",
        "      <td> 39.857143</td>\n",
        "      <td> 18.285714</td>\n",
        "      <td> 2.928571</td>\n",
        "      <td> 15.714286</td>\n",
        "      <td> 0.725943</td>\n",
        "      <td> 0.714286</td>\n",
        "    </tr>\n",
        "    <tr>\n",
        "      <th>2 poor</th>\n",
        "      <td> 33.400000</td>\n",
        "      <td> 13.140000</td>\n",
        "      <td> 2.540000</td>\n",
        "      <td> 14.680000</td>\n",
        "      <td> 0.472174</td>\n",
        "      <td> 0.400000</td>\n",
        "    </tr>\n",
        "    <tr>\n",
        "      <th>3 fair</th>\n",
        "      <td> 32.721429</td>\n",
        "      <td> 13.028571</td>\n",
        "      <td> 2.128571</td>\n",
        "      <td> 14.300000</td>\n",
        "      <td> 0.673102</td>\n",
        "      <td> 0.442857</td>\n",
        "    </tr>\n",
        "    <tr>\n",
        "      <th>4 good</th>\n",
        "      <td> 31.540761</td>\n",
        "      <td> 11.978261</td>\n",
        "      <td> 1.907609</td>\n",
        "      <td> 14.521739</td>\n",
        "      <td> 0.303108</td>\n",
        "      <td> 0.217391</td>\n",
        "    </tr>\n",
        "    <tr>\n",
        "      <th>5 very good</th>\n",
        "      <td> 30.355405</td>\n",
        "      <td> 10.052703</td>\n",
        "      <td> 1.629730</td>\n",
        "      <td> 14.940541</td>\n",
        "      <td> 0.102562</td>\n",
        "      <td> 0.089189</td>\n",
        "    </tr>\n",
        "  </tbody>\n",
        "</table>\n",
        "</div>"
       ],
       "output_type": "pyout",
       "prompt_number": 22,
       "text": [
        "                                age  yrs_married  children       educ   affairs  \\\n",
        "religious  rate_marriage                                                          \n",
        "1 not      1 very poor    32.000000    10.916667  1.777778  14.166667  1.334104   \n",
        "           2 poor         30.482143    10.696429  1.500000  14.464286  3.299485   \n",
        "           3 fair         28.247191     8.058989  1.157303  14.275281  2.382038   \n",
        "           4 good         27.476879     7.156069  1.014451  14.471098  1.005887   \n",
        "           5 very good    27.111111     6.832151  0.923168  14.496454  0.691137   \n",
        "2 mildly   1 very poor    31.736111    12.138889  2.291667  13.472222  1.448427   \n",
        "           2 poor         30.130137    10.592466  1.698630  13.719178  1.603516   \n",
        "           3 fair         29.625935    10.034913  1.600998  13.810474  1.305844   \n",
        "           4 good         28.490419     8.708982  1.353293  13.819162  0.770306   \n",
        "           5 very good    27.875736     7.457597  1.087750  14.297998  0.337247   \n",
        "3 fairly   1 very poor    35.552632    16.210526  2.460526  13.710526  0.992806   \n",
        "           2 poor         30.272727    10.404959  1.723140  13.595041  1.087526   \n",
        "           3 fair         30.812500    11.037791  1.831395  14.020349  1.066625   \n",
        "           4 good         29.186431     8.911631  1.412201  14.246294  0.531323   \n",
        "           5 very good    29.106046     8.989923  1.387236  14.251440  0.305064   \n",
        "4 strongly 1 very poor    39.857143    18.285714  2.928571  15.714286  0.725943   \n",
        "           2 poor         33.400000    13.140000  2.540000  14.680000  0.472174   \n",
        "           3 fair         32.721429    13.028571  2.128571  14.300000  0.673102   \n",
        "           4 good         31.540761    11.978261  1.907609  14.521739  0.303108   \n",
        "           5 very good    30.355405    10.052703  1.629730  14.940541  0.102562   \n",
        "\n",
        "                           cheated  \n",
        "religious  rate_marriage            \n",
        "1 not      1 very poor    0.666667  \n",
        "           2 poor         0.714286  \n",
        "           3 fair         0.617978  \n",
        "           4 good         0.375723  \n",
        "           5 very good    0.274232  \n",
        "2 mildly   1 very poor    0.777778  \n",
        "           2 poor         0.684932  \n",
        "           3 fair         0.553616  \n",
        "           4 good         0.368862  \n",
        "           5 very good    0.189635  \n",
        "3 fairly   1 very poor    0.763158  \n",
        "           2 poor         0.586777  \n",
        "           3 fair         0.534884  \n",
        "           4 good         0.280502  \n",
        "           5 very good    0.169866  \n",
        "4 strongly 1 very poor    0.714286  \n",
        "           2 poor         0.400000  \n",
        "           3 fair         0.442857  \n",
        "           4 good         0.217391  \n",
        "           5 very good    0.089189  "
       ]
      }
     ],
     "prompt_number": 22
    },
    {
     "cell_type": "markdown",
     "metadata": {},
     "source": [
      "I metodi di rimodellamento dei dataframe sono estremamente potenti e pandas ne offre un'ampia collezione:\n",
      "\n",
      "- groupby\n",
      "- pivoting\n",
      "- stack / unstack\n",
      "- melting\n",
      "- cross tabulazione\n",
      "- tiling, merging, concatenazione\n",
      "\n",
      "\u00c8 possibile selezionare soltanto una parte dei soggetti tramite l'indicizzazione binaria, in questo caso facendo una statistica solo su coloro che hanno tradito almeno una volta"
     ]
    },
    {
     "cell_type": "code",
     "collapsed": false,
     "input": [
      "affair[affair.cheated].groupby(['religious', 'rate_marriage']).mean()"
     ],
     "language": "python",
     "metadata": {},
     "outputs": [
      {
       "html": [
        "<div style=\"max-height:1000px;max-width:1500px;overflow:auto;\">\n",
        "<table border=\"1\" class=\"dataframe\">\n",
        "  <thead>\n",
        "    <tr style=\"text-align: right;\">\n",
        "      <th></th>\n",
        "      <th></th>\n",
        "      <th>age</th>\n",
        "      <th>yrs_married</th>\n",
        "      <th>children</th>\n",
        "      <th>educ</th>\n",
        "      <th>affairs</th>\n",
        "      <th>cheated</th>\n",
        "    </tr>\n",
        "    <tr>\n",
        "      <th>religious</th>\n",
        "      <th>rate_marriage</th>\n",
        "      <th></th>\n",
        "      <th></th>\n",
        "      <th></th>\n",
        "      <th></th>\n",
        "      <th></th>\n",
        "      <th></th>\n",
        "    </tr>\n",
        "  </thead>\n",
        "  <tbody>\n",
        "    <tr>\n",
        "      <th rowspan=\"5\" valign=\"top\">1 not</th>\n",
        "      <th>1 very poor</th>\n",
        "      <td> 32.000000</td>\n",
        "      <td> 12.541667</td>\n",
        "      <td> 1.666667</td>\n",
        "      <td> 13.833333</td>\n",
        "      <td> 2.001155</td>\n",
        "      <td> 1</td>\n",
        "    </tr>\n",
        "    <tr>\n",
        "      <th>2 poor</th>\n",
        "      <td> 29.875000</td>\n",
        "      <td> 10.250000</td>\n",
        "      <td> 1.350000</td>\n",
        "      <td> 14.450000</td>\n",
        "      <td> 4.619279</td>\n",
        "      <td> 1</td>\n",
        "    </tr>\n",
        "    <tr>\n",
        "      <th>3 fair</th>\n",
        "      <td> 28.781818</td>\n",
        "      <td>  8.877273</td>\n",
        "      <td> 1.277273</td>\n",
        "      <td> 14.281818</td>\n",
        "      <td> 3.854571</td>\n",
        "      <td> 1</td>\n",
        "    </tr>\n",
        "    <tr>\n",
        "      <th>4 good</th>\n",
        "      <td> 28.738462</td>\n",
        "      <td>  8.807692</td>\n",
        "      <td> 1.253846</td>\n",
        "      <td> 14.407692</td>\n",
        "      <td> 2.677208</td>\n",
        "      <td> 1</td>\n",
        "    </tr>\n",
        "    <tr>\n",
        "      <th>5 very good</th>\n",
        "      <td> 29.155172</td>\n",
        "      <td>  9.586207</td>\n",
        "      <td> 1.323276</td>\n",
        "      <td> 14.275862</td>\n",
        "      <td> 2.520268</td>\n",
        "      <td> 1</td>\n",
        "    </tr>\n",
        "    <tr>\n",
        "      <th rowspan=\"5\" valign=\"top\">2 mildly</th>\n",
        "      <th>1 very poor</th>\n",
        "      <td> 33.071429</td>\n",
        "      <td> 13.357143</td>\n",
        "      <td> 2.500000</td>\n",
        "      <td> 13.321429</td>\n",
        "      <td> 1.862264</td>\n",
        "      <td> 1</td>\n",
        "    </tr>\n",
        "    <tr>\n",
        "      <th>2 poor</th>\n",
        "      <td> 30.605000</td>\n",
        "      <td> 11.450000</td>\n",
        "      <td> 1.845000</td>\n",
        "      <td> 13.710000</td>\n",
        "      <td> 2.341133</td>\n",
        "      <td> 1</td>\n",
        "    </tr>\n",
        "    <tr>\n",
        "      <th>3 fair</th>\n",
        "      <td> 30.288288</td>\n",
        "      <td> 11.155405</td>\n",
        "      <td> 1.810811</td>\n",
        "      <td> 13.662162</td>\n",
        "      <td> 2.358753</td>\n",
        "      <td> 1</td>\n",
        "    </tr>\n",
        "    <tr>\n",
        "      <th>4 good</th>\n",
        "      <td> 29.813312</td>\n",
        "      <td> 10.493506</td>\n",
        "      <td> 1.647727</td>\n",
        "      <td> 13.714286</td>\n",
        "      <td> 2.088330</td>\n",
        "      <td> 1</td>\n",
        "    </tr>\n",
        "    <tr>\n",
        "      <th>5 very good</th>\n",
        "      <td> 30.201863</td>\n",
        "      <td> 10.658385</td>\n",
        "      <td> 1.562112</td>\n",
        "      <td> 14.229814</td>\n",
        "      <td> 1.778400</td>\n",
        "      <td> 1</td>\n",
        "    </tr>\n",
        "    <tr>\n",
        "      <th rowspan=\"5\" valign=\"top\">3 fairly</th>\n",
        "      <th>1 very poor</th>\n",
        "      <td> 35.620690</td>\n",
        "      <td> 16.310345</td>\n",
        "      <td> 2.258621</td>\n",
        "      <td> 13.793103</td>\n",
        "      <td> 1.300918</td>\n",
        "      <td> 1</td>\n",
        "    </tr>\n",
        "    <tr>\n",
        "      <th>2 poor</th>\n",
        "      <td> 30.739437</td>\n",
        "      <td> 11.492958</td>\n",
        "      <td> 1.816901</td>\n",
        "      <td> 13.408451</td>\n",
        "      <td> 1.853389</td>\n",
        "      <td> 1</td>\n",
        "    </tr>\n",
        "    <tr>\n",
        "      <th>3 fair</th>\n",
        "      <td> 31.051630</td>\n",
        "      <td> 11.766304</td>\n",
        "      <td> 1.929348</td>\n",
        "      <td> 14.038043</td>\n",
        "      <td> 1.994125</td>\n",
        "      <td> 1</td>\n",
        "    </tr>\n",
        "    <tr>\n",
        "      <th>4 good</th>\n",
        "      <td> 31.006098</td>\n",
        "      <td> 11.711382</td>\n",
        "      <td> 1.861789</td>\n",
        "      <td> 13.821138</td>\n",
        "      <td> 1.894188</td>\n",
        "      <td> 1</td>\n",
        "    </tr>\n",
        "    <tr>\n",
        "      <th>5 very good</th>\n",
        "      <td> 31.152542</td>\n",
        "      <td> 11.598870</td>\n",
        "      <td> 1.689266</td>\n",
        "      <td> 14.101695</td>\n",
        "      <td> 1.795915</td>\n",
        "      <td> 1</td>\n",
        "    </tr>\n",
        "    <tr>\n",
        "      <th rowspan=\"5\" valign=\"top\">4 strongly</th>\n",
        "      <th>1 very poor</th>\n",
        "      <td> 40.000000</td>\n",
        "      <td> 18.400000</td>\n",
        "      <td> 2.700000</td>\n",
        "      <td> 15.400000</td>\n",
        "      <td> 1.016320</td>\n",
        "      <td> 1</td>\n",
        "    </tr>\n",
        "    <tr>\n",
        "      <th>2 poor</th>\n",
        "      <td> 36.000000</td>\n",
        "      <td> 15.150000</td>\n",
        "      <td> 2.700000</td>\n",
        "      <td> 15.700000</td>\n",
        "      <td> 1.180434</td>\n",
        "      <td> 1</td>\n",
        "    </tr>\n",
        "    <tr>\n",
        "      <th>3 fair</th>\n",
        "      <td> 32.661290</td>\n",
        "      <td> 14.274194</td>\n",
        "      <td> 2.370968</td>\n",
        "      <td> 13.741935</td>\n",
        "      <td> 1.519907</td>\n",
        "      <td> 1</td>\n",
        "    </tr>\n",
        "    <tr>\n",
        "      <th>4 good</th>\n",
        "      <td> 32.750000</td>\n",
        "      <td> 15.112500</td>\n",
        "      <td> 2.400000</td>\n",
        "      <td> 14.075000</td>\n",
        "      <td> 1.394295</td>\n",
        "      <td> 1</td>\n",
        "    </tr>\n",
        "    <tr>\n",
        "      <th>5 very good</th>\n",
        "      <td> 33.969697</td>\n",
        "      <td> 14.545455</td>\n",
        "      <td> 2.621212</td>\n",
        "      <td> 15.000000</td>\n",
        "      <td> 1.149939</td>\n",
        "      <td> 1</td>\n",
        "    </tr>\n",
        "  </tbody>\n",
        "</table>\n",
        "</div>"
       ],
       "output_type": "pyout",
       "prompt_number": 23,
       "text": [
        "                                age  yrs_married  children       educ   affairs  \\\n",
        "religious  rate_marriage                                                          \n",
        "1 not      1 very poor    32.000000    12.541667  1.666667  13.833333  2.001155   \n",
        "           2 poor         29.875000    10.250000  1.350000  14.450000  4.619279   \n",
        "           3 fair         28.781818     8.877273  1.277273  14.281818  3.854571   \n",
        "           4 good         28.738462     8.807692  1.253846  14.407692  2.677208   \n",
        "           5 very good    29.155172     9.586207  1.323276  14.275862  2.520268   \n",
        "2 mildly   1 very poor    33.071429    13.357143  2.500000  13.321429  1.862264   \n",
        "           2 poor         30.605000    11.450000  1.845000  13.710000  2.341133   \n",
        "           3 fair         30.288288    11.155405  1.810811  13.662162  2.358753   \n",
        "           4 good         29.813312    10.493506  1.647727  13.714286  2.088330   \n",
        "           5 very good    30.201863    10.658385  1.562112  14.229814  1.778400   \n",
        "3 fairly   1 very poor    35.620690    16.310345  2.258621  13.793103  1.300918   \n",
        "           2 poor         30.739437    11.492958  1.816901  13.408451  1.853389   \n",
        "           3 fair         31.051630    11.766304  1.929348  14.038043  1.994125   \n",
        "           4 good         31.006098    11.711382  1.861789  13.821138  1.894188   \n",
        "           5 very good    31.152542    11.598870  1.689266  14.101695  1.795915   \n",
        "4 strongly 1 very poor    40.000000    18.400000  2.700000  15.400000  1.016320   \n",
        "           2 poor         36.000000    15.150000  2.700000  15.700000  1.180434   \n",
        "           3 fair         32.661290    14.274194  2.370968  13.741935  1.519907   \n",
        "           4 good         32.750000    15.112500  2.400000  14.075000  1.394295   \n",
        "           5 very good    33.969697    14.545455  2.621212  15.000000  1.149939   \n",
        "\n",
        "                          cheated  \n",
        "religious  rate_marriage           \n",
        "1 not      1 very poor          1  \n",
        "           2 poor               1  \n",
        "           3 fair               1  \n",
        "           4 good               1  \n",
        "           5 very good          1  \n",
        "2 mildly   1 very poor          1  \n",
        "           2 poor               1  \n",
        "           3 fair               1  \n",
        "           4 good               1  \n",
        "           5 very good          1  \n",
        "3 fairly   1 very poor          1  \n",
        "           2 poor               1  \n",
        "           3 fair               1  \n",
        "           4 good               1  \n",
        "           5 very good          1  \n",
        "4 strongly 1 very poor          1  \n",
        "           2 poor               1  \n",
        "           3 fair               1  \n",
        "           4 good               1  \n",
        "           5 very good          1  "
       ]
      }
     ],
     "prompt_number": 23
    },
    {
     "cell_type": "markdown",
     "metadata": {},
     "source": [
      "\u00e8 possibile inoltre effettuare una prima esplorazione dei dati sfruttando i metodi di plot interni"
     ]
    },
    {
     "cell_type": "code",
     "collapsed": false,
     "input": [
      "affair.boxplot();"
     ],
     "language": "python",
     "metadata": {},
     "outputs": [
      {
       "output_type": "display_data",
       "png": "[encoded data removed]"
      }
     ],
     "prompt_number": 24
    },
    {
     "cell_type": "code",
     "collapsed": false,
     "input": [
      "affair.hist(['age', 'yrs_married', 'children', 'educ']);"
     ],
     "language": "python",
     "metadata": {},
     "outputs": [
      {
       "output_type": "display_data",
       "png": "[encoded data removed]"
      }
     ],
     "prompt_number": 25
    },
    {
     "cell_type": "code",
     "collapsed": false,
     "input": [
      "plt.boxplot([v for k, v in affair.groupby('religious')['age']], notch=True);\n",
      "gca().set_xticklabels([k for k, v in affair.groupby('religious')['age']]);"
     ],
     "language": "python",
     "metadata": {},
     "outputs": [
      {
       "output_type": "display_data",
       "png": "[encoded data removed]"
      }
     ],
     "prompt_number": 26
    },
    {
     "cell_type": "markdown",
     "metadata": {},
     "source": [
      "----\n",
      "#statsmodels - statistica classica\n",
      "\n",
      "http://statsmodels.sourceforge.net/\n",
      "\n",
      "Statsmodels contiene tutti i metodi necessari per l'implementazione della statistica inferenziale classica. Tutti i metodi e le classi esposte sono state validate con i risultati forniti da R e STATA. L'utilizzo principale \u00e8 la scelta di uno dei vari regressori possibili, fittarlo sui dati e ricavarne informazioni sul modelle scelto. Vi mostrer\u00f2 soltanto la classica regressione ai minimi quadrati, chiamata OLS (Ordinary Least Square)."
     ]
    },
    {
     "cell_type": "code",
     "collapsed": false,
     "input": [
      "import statsmodels.api as sm\n",
      "import statsmodels.formula.api as smf"
     ],
     "language": "python",
     "metadata": {},
     "outputs": [],
     "prompt_number": 28
    },
    {
     "cell_type": "code",
     "collapsed": false,
     "input": [
      "longley = sm.datasets.longley.load_pandas()\n",
      "exog = longley.exog\n",
      "endog = longley.endog\n",
      "longley = longley.data\n",
      "\n",
      "print sm.datasets.longley.SOURCE\n",
      "print sm.datasets.longley.DESCRLONG\n",
      "print sm.datasets.longley.NOTE\n",
      "print sm.datasets.longley.COPYRIGHT\n",
      "longley"
     ],
     "language": "python",
     "metadata": {},
     "outputs": [
      {
       "output_type": "stream",
       "stream": "stdout",
       "text": [
        "\n",
        "The classic 1967 Longley Data\n",
        "\n",
        "http://www.itl.nist.gov/div898/strd/lls/data/Longley.shtml\n",
        "\n",
        "::\n",
        "\n",
        "    Longley, J.W. (1967) \"An Appraisal of Least Squares Programs for the\n",
        "        Electronic Comptuer from the Point of View of the User.\"  Journal of\n",
        "        the American Statistical Association.  62.319, 819-41.\n",
        "\n",
        "The Longley dataset contains various US macroeconomic\n",
        "variables that are known to be highly collinear.  It has been used to appraise\n",
        "the accuracy of least squares routines.\n",
        "\n",
        "Number of Observations - 16\n",
        "\n",
        "Number of Variables - 6\n",
        "\n",
        "Variable name definitions::\n",
        "\n",
        "        TOTEMP - Total Employment\n",
        "        GNPDEFL - GNP deflator\n",
        "        GNP - GNP\n",
        "        UNEMP - Number of unemployed\n",
        "        ARMED - Size of armed forces\n",
        "        POP - Population\n",
        "        YEAR - Year (1947 - 1962)\n",
        "\n",
        "This is public domain.\n"
       ]
      },
      {
       "html": [
        "<div style=\"max-height:1000px;max-width:1500px;overflow:auto;\">\n",
        "<table border=\"1\" class=\"dataframe\">\n",
        "  <thead>\n",
        "    <tr style=\"text-align: right;\">\n",
        "      <th></th>\n",
        "      <th>TOTEMP</th>\n",
        "      <th>GNPDEFL</th>\n",
        "      <th>GNP</th>\n",
        "      <th>UNEMP</th>\n",
        "      <th>ARMED</th>\n",
        "      <th>POP</th>\n",
        "      <th>YEAR</th>\n",
        "    </tr>\n",
        "  </thead>\n",
        "  <tbody>\n",
        "    <tr>\n",
        "      <th>0 </th>\n",
        "      <td> 60323</td>\n",
        "      <td>  83.0</td>\n",
        "      <td> 234289</td>\n",
        "      <td> 2356</td>\n",
        "      <td> 1590</td>\n",
        "      <td> 107608</td>\n",
        "      <td> 1947</td>\n",
        "    </tr>\n",
        "    <tr>\n",
        "      <th>1 </th>\n",
        "      <td> 61122</td>\n",
        "      <td>  88.5</td>\n",
        "      <td> 259426</td>\n",
        "      <td> 2325</td>\n",
        "      <td> 1456</td>\n",
        "      <td> 108632</td>\n",
        "      <td> 1948</td>\n",
        "    </tr>\n",
        "    <tr>\n",
        "      <th>2 </th>\n",
        "      <td> 60171</td>\n",
        "      <td>  88.2</td>\n",
        "      <td> 258054</td>\n",
        "      <td> 3682</td>\n",
        "      <td> 1616</td>\n",
        "      <td> 109773</td>\n",
        "      <td> 1949</td>\n",
        "    </tr>\n",
        "    <tr>\n",
        "      <th>3 </th>\n",
        "      <td> 61187</td>\n",
        "      <td>  89.5</td>\n",
        "      <td> 284599</td>\n",
        "      <td> 3351</td>\n",
        "      <td> 1650</td>\n",
        "      <td> 110929</td>\n",
        "      <td> 1950</td>\n",
        "    </tr>\n",
        "    <tr>\n",
        "      <th>4 </th>\n",
        "      <td> 63221</td>\n",
        "      <td>  96.2</td>\n",
        "      <td> 328975</td>\n",
        "      <td> 2099</td>\n",
        "      <td> 3099</td>\n",
        "      <td> 112075</td>\n",
        "      <td> 1951</td>\n",
        "    </tr>\n",
        "    <tr>\n",
        "      <th>5 </th>\n",
        "      <td> 63639</td>\n",
        "      <td>  98.1</td>\n",
        "      <td> 346999</td>\n",
        "      <td> 1932</td>\n",
        "      <td> 3594</td>\n",
        "      <td> 113270</td>\n",
        "      <td> 1952</td>\n",
        "    </tr>\n",
        "    <tr>\n",
        "      <th>6 </th>\n",
        "      <td> 64989</td>\n",
        "      <td>  99.0</td>\n",
        "      <td> 365385</td>\n",
        "      <td> 1870</td>\n",
        "      <td> 3547</td>\n",
        "      <td> 115094</td>\n",
        "      <td> 1953</td>\n",
        "    </tr>\n",
        "    <tr>\n",
        "      <th>7 </th>\n",
        "      <td> 63761</td>\n",
        "      <td> 100.0</td>\n",
        "      <td> 363112</td>\n",
        "      <td> 3578</td>\n",
        "      <td> 3350</td>\n",
        "      <td> 116219</td>\n",
        "      <td> 1954</td>\n",
        "    </tr>\n",
        "    <tr>\n",
        "      <th>8 </th>\n",
        "      <td> 66019</td>\n",
        "      <td> 101.2</td>\n",
        "      <td> 397469</td>\n",
        "      <td> 2904</td>\n",
        "      <td> 3048</td>\n",
        "      <td> 117388</td>\n",
        "      <td> 1955</td>\n",
        "    </tr>\n",
        "    <tr>\n",
        "      <th>9 </th>\n",
        "      <td> 67857</td>\n",
        "      <td> 104.6</td>\n",
        "      <td> 419180</td>\n",
        "      <td> 2822</td>\n",
        "      <td> 2857</td>\n",
        "      <td> 118734</td>\n",
        "      <td> 1956</td>\n",
        "    </tr>\n",
        "    <tr>\n",
        "      <th>10</th>\n",
        "      <td> 68169</td>\n",
        "      <td> 108.4</td>\n",
        "      <td> 442769</td>\n",
        "      <td> 2936</td>\n",
        "      <td> 2798</td>\n",
        "      <td> 120445</td>\n",
        "      <td> 1957</td>\n",
        "    </tr>\n",
        "    <tr>\n",
        "      <th>11</th>\n",
        "      <td> 66513</td>\n",
        "      <td> 110.8</td>\n",
        "      <td> 444546</td>\n",
        "      <td> 4681</td>\n",
        "      <td> 2637</td>\n",
        "      <td> 121950</td>\n",
        "      <td> 1958</td>\n",
        "    </tr>\n",
        "    <tr>\n",
        "      <th>12</th>\n",
        "      <td> 68655</td>\n",
        "      <td> 112.6</td>\n",
        "      <td> 482704</td>\n",
        "      <td> 3813</td>\n",
        "      <td> 2552</td>\n",
        "      <td> 123366</td>\n",
        "      <td> 1959</td>\n",
        "    </tr>\n",
        "    <tr>\n",
        "      <th>13</th>\n",
        "      <td> 69564</td>\n",
        "      <td> 114.2</td>\n",
        "      <td> 502601</td>\n",
        "      <td> 3931</td>\n",
        "      <td> 2514</td>\n",
        "      <td> 125368</td>\n",
        "      <td> 1960</td>\n",
        "    </tr>\n",
        "    <tr>\n",
        "      <th>14</th>\n",
        "      <td> 69331</td>\n",
        "      <td> 115.7</td>\n",
        "      <td> 518173</td>\n",
        "      <td> 4806</td>\n",
        "      <td> 2572</td>\n",
        "      <td> 127852</td>\n",
        "      <td> 1961</td>\n",
        "    </tr>\n",
        "    <tr>\n",
        "      <th>15</th>\n",
        "      <td> 70551</td>\n",
        "      <td> 116.9</td>\n",
        "      <td> 554894</td>\n",
        "      <td> 4007</td>\n",
        "      <td> 2827</td>\n",
        "      <td> 130081</td>\n",
        "      <td> 1962</td>\n",
        "    </tr>\n",
        "  </tbody>\n",
        "</table>\n",
        "</div>"
       ],
       "output_type": "pyout",
       "prompt_number": 29,
       "text": [
        "    TOTEMP  GNPDEFL     GNP  UNEMP  ARMED     POP  YEAR\n",
        "0    60323     83.0  234289   2356   1590  107608  1947\n",
        "1    61122     88.5  259426   2325   1456  108632  1948\n",
        "2    60171     88.2  258054   3682   1616  109773  1949\n",
        "3    61187     89.5  284599   3351   1650  110929  1950\n",
        "4    63221     96.2  328975   2099   3099  112075  1951\n",
        "5    63639     98.1  346999   1932   3594  113270  1952\n",
        "6    64989     99.0  365385   1870   3547  115094  1953\n",
        "7    63761    100.0  363112   3578   3350  116219  1954\n",
        "8    66019    101.2  397469   2904   3048  117388  1955\n",
        "9    67857    104.6  419180   2822   2857  118734  1956\n",
        "10   68169    108.4  442769   2936   2798  120445  1957\n",
        "11   66513    110.8  444546   4681   2637  121950  1958\n",
        "12   68655    112.6  482704   3813   2552  123366  1959\n",
        "13   69564    114.2  502601   3931   2514  125368  1960\n",
        "14   69331    115.7  518173   4806   2572  127852  1961\n",
        "15   70551    116.9  554894   4007   2827  130081  1962"
       ]
      }
     ],
     "prompt_number": 29
    },
    {
     "cell_type": "markdown",
     "metadata": {},
     "source": [
      "Possiamo visualizzare l'andamente nel tempo dell'occupazione complessiva e confrontarla con quella di un'altra variabile, ad esempio la deflazione del GNP"
     ]
    },
    {
     "cell_type": "code",
     "collapsed": false,
     "input": [
      "longley.plot('YEAR', 'TOTEMP')\n",
      "longley.plot('YEAR', 'GNPDEFL', secondary_y=True, color='r');"
     ],
     "language": "python",
     "metadata": {},
     "outputs": [
      {
       "output_type": "display_data",
       "png": "[encoded data removed]"
      }
     ],
     "prompt_number": 30
    },
    {
     "cell_type": "markdown",
     "metadata": {},
     "source": [
      "Possiamo avere una visione d'insieme usando le funzioni fornite da pandas per l'analisi e la visualizzazione"
     ]
    },
    {
     "cell_type": "code",
     "collapsed": false,
     "input": [
      "longley.corr()"
     ],
     "language": "python",
     "metadata": {},
     "outputs": [
      {
       "html": [
        "<div style=\"max-height:1000px;max-width:1500px;overflow:auto;\">\n",
        "<table border=\"1\" class=\"dataframe\">\n",
        "  <thead>\n",
        "    <tr style=\"text-align: right;\">\n",
        "      <th></th>\n",
        "      <th>TOTEMP</th>\n",
        "      <th>GNPDEFL</th>\n",
        "      <th>GNP</th>\n",
        "      <th>UNEMP</th>\n",
        "      <th>ARMED</th>\n",
        "      <th>POP</th>\n",
        "      <th>YEAR</th>\n",
        "    </tr>\n",
        "  </thead>\n",
        "  <tbody>\n",
        "    <tr>\n",
        "      <th>TOTEMP</th>\n",
        "      <td> 1.000000</td>\n",
        "      <td> 0.970899</td>\n",
        "      <td> 0.983552</td>\n",
        "      <td> 0.502498</td>\n",
        "      <td> 0.457307</td>\n",
        "      <td> 0.960391</td>\n",
        "      <td> 0.971329</td>\n",
        "    </tr>\n",
        "    <tr>\n",
        "      <th>GNPDEFL</th>\n",
        "      <td> 0.970899</td>\n",
        "      <td> 1.000000</td>\n",
        "      <td> 0.991589</td>\n",
        "      <td> 0.620633</td>\n",
        "      <td> 0.464744</td>\n",
        "      <td> 0.979163</td>\n",
        "      <td> 0.991149</td>\n",
        "    </tr>\n",
        "    <tr>\n",
        "      <th>GNP</th>\n",
        "      <td> 0.983552</td>\n",
        "      <td> 0.991589</td>\n",
        "      <td> 1.000000</td>\n",
        "      <td> 0.604261</td>\n",
        "      <td> 0.446437</td>\n",
        "      <td> 0.991090</td>\n",
        "      <td> 0.995273</td>\n",
        "    </tr>\n",
        "    <tr>\n",
        "      <th>UNEMP</th>\n",
        "      <td> 0.502498</td>\n",
        "      <td> 0.620633</td>\n",
        "      <td> 0.604261</td>\n",
        "      <td> 1.000000</td>\n",
        "      <td>-0.177421</td>\n",
        "      <td> 0.686552</td>\n",
        "      <td> 0.668257</td>\n",
        "    </tr>\n",
        "    <tr>\n",
        "      <th>ARMED</th>\n",
        "      <td> 0.457307</td>\n",
        "      <td> 0.464744</td>\n",
        "      <td> 0.446437</td>\n",
        "      <td>-0.177421</td>\n",
        "      <td> 1.000000</td>\n",
        "      <td> 0.364416</td>\n",
        "      <td> 0.417245</td>\n",
        "    </tr>\n",
        "    <tr>\n",
        "      <th>POP</th>\n",
        "      <td> 0.960391</td>\n",
        "      <td> 0.979163</td>\n",
        "      <td> 0.991090</td>\n",
        "      <td> 0.686552</td>\n",
        "      <td> 0.364416</td>\n",
        "      <td> 1.000000</td>\n",
        "      <td> 0.993953</td>\n",
        "    </tr>\n",
        "    <tr>\n",
        "      <th>YEAR</th>\n",
        "      <td> 0.971329</td>\n",
        "      <td> 0.991149</td>\n",
        "      <td> 0.995273</td>\n",
        "      <td> 0.668257</td>\n",
        "      <td> 0.417245</td>\n",
        "      <td> 0.993953</td>\n",
        "      <td> 1.000000</td>\n",
        "    </tr>\n",
        "  </tbody>\n",
        "</table>\n",
        "</div>"
       ],
       "output_type": "pyout",
       "prompt_number": 31,
       "text": [
        "           TOTEMP   GNPDEFL       GNP     UNEMP     ARMED       POP      YEAR\n",
        "TOTEMP   1.000000  0.970899  0.983552  0.502498  0.457307  0.960391  0.971329\n",
        "GNPDEFL  0.970899  1.000000  0.991589  0.620633  0.464744  0.979163  0.991149\n",
        "GNP      0.983552  0.991589  1.000000  0.604261  0.446437  0.991090  0.995273\n",
        "UNEMP    0.502498  0.620633  0.604261  1.000000 -0.177421  0.686552  0.668257\n",
        "ARMED    0.457307  0.464744  0.446437 -0.177421  1.000000  0.364416  0.417245\n",
        "POP      0.960391  0.979163  0.991090  0.686552  0.364416  1.000000  0.993953\n",
        "YEAR     0.971329  0.991149  0.995273  0.668257  0.417245  0.993953  1.000000"
       ]
      }
     ],
     "prompt_number": 31
    },
    {
     "cell_type": "code",
     "collapsed": false,
     "input": [
      "pd.scatter_matrix(longley, figsize=(12,12));"
     ],
     "language": "python",
     "metadata": {},
     "outputs": [
      {
       "output_type": "stream",
       "stream": "stderr",
       "text": [
        "/usr/local/lib/python2.7/dist-packages/pandas/core/frame.py:3576: FutureWarning: rename with inplace=True  will return None from pandas 0.11 onward\n",
        "  \" from pandas 0.11 onward\", FutureWarning)\n"
       ]
      },
      {
       "output_type": "display_data",
       "png": "[encoded data removed]"
      }
     ],
     "prompt_number": 32
    },
    {
     "cell_type": "markdown",
     "metadata": {},
     "source": [
      "E possiamo investigare le correlazioni fra le singole variabili e ci\u00f2 che stiamo cercando di modellizzare:"
     ]
    },
    {
     "cell_type": "code",
     "collapsed": false,
     "input": [
      "longley.corrwith(longley['TOTEMP']).order()"
     ],
     "language": "python",
     "metadata": {},
     "outputs": [
      {
       "output_type": "pyout",
       "prompt_number": 33,
       "text": [
        "ARMED      0.457307\n",
        "UNEMP      0.502498\n",
        "POP        0.960391\n",
        "GNPDEFL    0.970899\n",
        "YEAR       0.971329\n",
        "GNP        0.983552\n",
        "TOTEMP     1.000000"
       ]
      }
     ],
     "prompt_number": 33
    },
    {
     "cell_type": "markdown",
     "metadata": {},
     "source": [
      "Creare un modello lineare \u00e8 molto semplice, basta dare al regressore scelto il vettore su cui fare la regressione (la y) e tutti i vettori da usare come regressori (le x).\n",
      "\n",
      "Tutte le classi di regressione hanno un metoto **summary** che restituisce una diagnostica molto approfondita del modello."
     ]
    },
    {
     "cell_type": "code",
     "collapsed": false,
     "input": [
      "y, x = endog, exog\n",
      "res1 = sm.OLS(y, x).fit()\n",
      "res1.summary()"
     ],
     "language": "python",
     "metadata": {},
     "outputs": [
      {
       "output_type": "stream",
       "stream": "stderr",
       "text": [
        "/usr/local/lib/python2.7/dist-packages/scipy/stats/stats.py:1227: UserWarning: kurtosistest only valid for n>=20 ... continuing anyway, n=16\n",
        "  int(n))\n"
       ]
      },
      {
       "html": [
        "<table class=\"simpletable\">\n",
        "<caption>OLS Regression Results</caption>\n",
        "<tr>\n",
        "  <th>Dep. Variable:</th>         <td>TOTEMP</td>      <th>  R-squared:         </th> <td>   1.000</td> \n",
        "</tr>\n",
        "<tr>\n",
        "  <th>Model:</th>                   <td>OLS</td>       <th>  Adj. R-squared:    </th> <td>   1.000</td> \n",
        "</tr>\n",
        "<tr>\n",
        "  <th>Method:</th>             <td>Least Squares</td>  <th>  F-statistic:       </th> <td>5.052e+04</td>\n",
        "</tr>\n",
        "<tr>\n",
        "  <th>Date:</th>             <td>Mon, 04 Mar 2013</td> <th>  Prob (F-statistic):</th> <td>8.20e-22</td> \n",
        "</tr>\n",
        "<tr>\n",
        "  <th>Time:</th>                 <td>15:06:22</td>     <th>  Log-Likelihood:    </th> <td> -117.56</td> \n",
        "</tr>\n",
        "<tr>\n",
        "  <th>No. Observations:</th>      <td>    16</td>      <th>  AIC:               </th> <td>   247.1</td> \n",
        "</tr>\n",
        "<tr>\n",
        "  <th>Df Residuals:</th>          <td>    10</td>      <th>  BIC:               </th> <td>   251.8</td> \n",
        "</tr>\n",
        "<tr>\n",
        "  <th>Df Model:</th>              <td>     6</td>      <th>                     </th>     <td> </td>    \n",
        "</tr>\n",
        "</table>\n",
        "<table class=\"simpletable\">\n",
        "<tr>\n",
        "     <td></td>        <th>coef</th>     <th>std err</th>      <th>t</th>      <th>P>|t|</th> <th>[95.0% Conf. Int.]</th> \n",
        "</tr>\n",
        "<tr>\n",
        "  <th>GNPDEFL</th> <td>  -52.9936</td> <td>  129.545</td> <td>   -0.409</td> <td> 0.691</td> <td> -341.638   235.650</td>\n",
        "</tr>\n",
        "<tr>\n",
        "  <th>GNP</th>     <td>    0.0711</td> <td>    0.030</td> <td>    2.356</td> <td> 0.040</td> <td>    0.004     0.138</td>\n",
        "</tr>\n",
        "<tr>\n",
        "  <th>UNEMP</th>   <td>   -0.4235</td> <td>    0.418</td> <td>   -1.014</td> <td> 0.335</td> <td>   -1.354     0.507</td>\n",
        "</tr>\n",
        "<tr>\n",
        "  <th>ARMED</th>   <td>   -0.5726</td> <td>    0.279</td> <td>   -2.052</td> <td> 0.067</td> <td>   -1.194     0.049</td>\n",
        "</tr>\n",
        "<tr>\n",
        "  <th>POP</th>     <td>   -0.4142</td> <td>    0.321</td> <td>   -1.289</td> <td> 0.226</td> <td>   -1.130     0.302</td>\n",
        "</tr>\n",
        "<tr>\n",
        "  <th>YEAR</th>    <td>   48.4179</td> <td>   17.689</td> <td>    2.737</td> <td> 0.021</td> <td>    9.003    87.832</td>\n",
        "</tr>\n",
        "</table>\n",
        "<table class=\"simpletable\">\n",
        "<tr>\n",
        "  <th>Omnibus:</th>       <td> 1.443</td> <th>  Durbin-Watson:     </th> <td>   1.277</td>\n",
        "</tr>\n",
        "<tr>\n",
        "  <th>Prob(Omnibus):</th> <td> 0.486</td> <th>  Jarque-Bera (JB):  </th> <td>   0.605</td>\n",
        "</tr>\n",
        "<tr>\n",
        "  <th>Skew:</th>          <td> 0.476</td> <th>  Prob(JB):          </th> <td>   0.739</td>\n",
        "</tr>\n",
        "<tr>\n",
        "  <th>Kurtosis:</th>      <td> 3.031</td> <th>  Cond. No.          </th> <td>4.56e+05</td>\n",
        "</tr>\n",
        "</table>"
       ],
       "output_type": "pyout",
       "prompt_number": 34,
       "text": [
        "<class 'statsmodels.iolib.summary.Summary'>\n",
        "\"\"\"\n",
        "                            OLS Regression Results                            \n",
        "==============================================================================\n",
        "Dep. Variable:                 TOTEMP   R-squared:                       1.000\n",
        "Model:                            OLS   Adj. R-squared:                  1.000\n",
        "Method:                 Least Squares   F-statistic:                 5.052e+04\n",
        "Date:                Mon, 04 Mar 2013   Prob (F-statistic):           8.20e-22\n",
        "Time:                        15:06:22   Log-Likelihood:                -117.56\n",
        "No. Observations:                  16   AIC:                             247.1\n",
        "Df Residuals:                      10   BIC:                             251.8\n",
        "Df Model:                           6                                         \n",
        "==============================================================================\n",
        "                 coef    std err          t      P>|t|      [95.0% Conf. Int.]\n",
        "------------------------------------------------------------------------------\n",
        "GNPDEFL      -52.9936    129.545     -0.409      0.691      -341.638   235.650\n",
        "GNP            0.0711      0.030      2.356      0.040         0.004     0.138\n",
        "UNEMP         -0.4235      0.418     -1.014      0.335        -1.354     0.507\n",
        "ARMED         -0.5726      0.279     -2.052      0.067        -1.194     0.049\n",
        "POP           -0.4142      0.321     -1.289      0.226        -1.130     0.302\n",
        "YEAR          48.4179     17.689      2.737      0.021         9.003    87.832\n",
        "==============================================================================\n",
        "Omnibus:                        1.443   Durbin-Watson:                   1.277\n",
        "Prob(Omnibus):                  0.486   Jarque-Bera (JB):                0.605\n",
        "Skew:                           0.476   Prob(JB):                        0.739\n",
        "Kurtosis:                       3.031   Cond. No.                     4.56e+05\n",
        "==============================================================================\n",
        "\n",
        "The condition number is large, 4.56e+05. This might indicate that there are\n",
        "strong multicollinearity or other numerical problems.\n",
        "\"\"\""
       ]
      }
     ],
     "prompt_number": 34
    },
    {
     "cell_type": "markdown",
     "metadata": {},
     "source": [
      "Una maniera molto pi\u00f9 comoda per creare i modelli \u00e8 l'interfaccia a formula, che utilizza una sintassi identica a quella stabilita da molto tempo da programmi come R, S e Stata. In Statsmodels questo \u00e8 implementato tramite una stringa che descrive il modello ed un dataframe su cui questa formula viene valutata.\n",
      "\n",
      "Con questa sintassi si separa la variabile dipendente da quelle indipendenti con una tilde (~) e la combinazione delle variabili indipendenti indica la struttura del modello:\n",
      "\n",
      "- la somma **+** rappresenta la combinazione dei due fattori in modo indipendente\n",
      "- la moltiplicazione __*__ rappresenta la combinazione tenendo conto delle interazioni\n",
      "- i due punti __:__ rappresentano la combinazione gerarchica dei due fattori\n",
      "\n",
      "Vediamo un esempio di modello elementare"
     ]
    },
    {
     "cell_type": "code",
     "collapsed": false,
     "input": [
      "res2 = smf.ols('TOTEMP ~ GNPDEFL', longley).fit()\n",
      "res2.summary()"
     ],
     "language": "python",
     "metadata": {},
     "outputs": [
      {
       "html": [
        "<table class=\"simpletable\">\n",
        "<caption>OLS Regression Results</caption>\n",
        "<tr>\n",
        "  <th>Dep. Variable:</th>         <td>TOTEMP</td>      <th>  R-squared:         </th> <td>   0.943</td>\n",
        "</tr>\n",
        "<tr>\n",
        "  <th>Model:</th>                   <td>OLS</td>       <th>  Adj. R-squared:    </th> <td>   0.939</td>\n",
        "</tr>\n",
        "<tr>\n",
        "  <th>Method:</th>             <td>Least Squares</td>  <th>  F-statistic:       </th> <td>   230.1</td>\n",
        "</tr>\n",
        "<tr>\n",
        "  <th>Date:</th>             <td>Mon, 04 Mar 2013</td> <th>  Prob (F-statistic):</th> <td>4.39e-10</td>\n",
        "</tr>\n",
        "<tr>\n",
        "  <th>Time:</th>                 <td>15:06:27</td>     <th>  Log-Likelihood:    </th> <td> -129.94</td>\n",
        "</tr>\n",
        "<tr>\n",
        "  <th>No. Observations:</th>      <td>    16</td>      <th>  AIC:               </th> <td>   263.9</td>\n",
        "</tr>\n",
        "<tr>\n",
        "  <th>Df Residuals:</th>          <td>    14</td>      <th>  BIC:               </th> <td>   265.4</td>\n",
        "</tr>\n",
        "<tr>\n",
        "  <th>Df Model:</th>              <td>     1</td>      <th>                     </th>     <td> </td>   \n",
        "</tr>\n",
        "</table>\n",
        "<table class=\"simpletable\">\n",
        "<tr>\n",
        "      <td></td>         <th>coef</th>     <th>std err</th>      <th>t</th>      <th>P>|t|</th> <th>[95.0% Conf. Int.]</th> \n",
        "</tr>\n",
        "<tr>\n",
        "  <th>Intercept</th> <td> 3.319e+04</td> <td> 2129.189</td> <td>   15.588</td> <td> 0.000</td> <td> 2.86e+04  3.78e+04</td>\n",
        "</tr>\n",
        "<tr>\n",
        "  <th>GNPDEFL</th>   <td>  315.9661</td> <td>   20.830</td> <td>   15.169</td> <td> 0.000</td> <td>  271.290   360.642</td>\n",
        "</tr>\n",
        "</table>\n",
        "<table class=\"simpletable\">\n",
        "<tr>\n",
        "  <th>Omnibus:</th>       <td> 0.055</td> <th>  Durbin-Watson:     </th> <td>   1.896</td>\n",
        "</tr>\n",
        "<tr>\n",
        "  <th>Prob(Omnibus):</th> <td> 0.973</td> <th>  Jarque-Bera (JB):  </th> <td>   0.114</td>\n",
        "</tr>\n",
        "<tr>\n",
        "  <th>Skew:</th>          <td>-0.073</td> <th>  Prob(JB):          </th> <td>   0.945</td>\n",
        "</tr>\n",
        "<tr>\n",
        "  <th>Kurtosis:</th>      <td> 2.613</td> <th>  Cond. No.          </th> <td>1.00e+03</td>\n",
        "</tr>\n",
        "</table>"
       ],
       "output_type": "pyout",
       "prompt_number": 35,
       "text": [
        "<class 'statsmodels.iolib.summary.Summary'>\n",
        "\"\"\"\n",
        "                            OLS Regression Results                            \n",
        "==============================================================================\n",
        "Dep. Variable:                 TOTEMP   R-squared:                       0.943\n",
        "Model:                            OLS   Adj. R-squared:                  0.939\n",
        "Method:                 Least Squares   F-statistic:                     230.1\n",
        "Date:                Mon, 04 Mar 2013   Prob (F-statistic):           4.39e-10\n",
        "Time:                        15:06:27   Log-Likelihood:                -129.94\n",
        "No. Observations:                  16   AIC:                             263.9\n",
        "Df Residuals:                      14   BIC:                             265.4\n",
        "Df Model:                           1                                         \n",
        "==============================================================================\n",
        "                 coef    std err          t      P>|t|      [95.0% Conf. Int.]\n",
        "------------------------------------------------------------------------------\n",
        "Intercept   3.319e+04   2129.189     15.588      0.000      2.86e+04  3.78e+04\n",
        "GNPDEFL      315.9661     20.830     15.169      0.000       271.290   360.642\n",
        "==============================================================================\n",
        "Omnibus:                        0.055   Durbin-Watson:                   1.896\n",
        "Prob(Omnibus):                  0.973   Jarque-Bera (JB):                0.114\n",
        "Skew:                          -0.073   Prob(JB):                        0.945\n",
        "Kurtosis:                       2.613   Cond. No.                     1.00e+03\n",
        "==============================================================================\n",
        "\n",
        "The condition number is large,  1e+03. This might indicate that there are\n",
        "strong multicollinearity or other numerical problems.\n",
        "\"\"\""
       ]
      }
     ],
     "prompt_number": 35
    },
    {
     "cell_type": "markdown",
     "metadata": {},
     "source": [
      "Un test aggiuntivo che possiamo fare separatamente \u00e8 il rainbow test per la linearit\u00e0, che ci fornisce una stima se i residui del modello sono compatibili con quelli attesi da un modello lineare (permettendo di identificare eventuali componenti non-lineari)."
     ]
    },
    {
     "cell_type": "code",
     "collapsed": false,
     "input": [
      "from statsmodels.stats.diagnostic import linear_rainbow\n",
      "fstats, pvalue = linear_rainbow(res2)\n",
      "print \"p-value dell'ipotesi di linearit\u00e0 dei residui:\", pvalue"
     ],
     "language": "python",
     "metadata": {},
     "outputs": [
      {
       "output_type": "stream",
       "stream": "stdout",
       "text": [
        "p-value dell'ipotesi di linearit\u00e0 dei residui: 0.981815445326\n"
       ]
      }
     ],
     "prompt_number": 36
    },
    {
     "cell_type": "markdown",
     "metadata": {},
     "source": [
      "Posso a questo punto confrontare due modelli lineari tramite un'**anova** fra di loro per vedere se sono significativamente diversi. Devo confrontare il modello pi\u00f9 semplice contro quello pi\u00f9 complicato per vedere se il secondo aggiunge qualcosa di nuovo.\n",
      "\n",
      "In questo caso vediamo che l'aggiunta di tutti i regressori disponibili (il primo modello che abbiamo descritto) aggiunga effettivamente informazione significativa, avendo un p-value $\\sim 4 \\cdot 10^{-3}$"
     ]
    },
    {
     "cell_type": "code",
     "collapsed": false,
     "input": [
      "from statsmodels.stats.anova import anova_lm\n",
      "anova_lm(res2, res1)"
     ],
     "language": "python",
     "metadata": {},
     "outputs": [
      {
       "html": [
        "<div style=\"max-height:1000px;max-width:1500px;overflow:auto;\">\n",
        "<table border=\"1\" class=\"dataframe\">\n",
        "  <thead>\n",
        "    <tr style=\"text-align: right;\">\n",
        "      <th></th>\n",
        "      <th>df_resid</th>\n",
        "      <th>ssr</th>\n",
        "      <th>df_diff</th>\n",
        "      <th>ss_diff</th>\n",
        "      <th>F</th>\n",
        "      <th>Pr(&gt;F)</th>\n",
        "    </tr>\n",
        "  </thead>\n",
        "  <tbody>\n",
        "    <tr>\n",
        "      <th>0</th>\n",
        "      <td> 14</td>\n",
        "      <td> 10611376.220872</td>\n",
        "      <td> 0</td>\n",
        "      <td>            NaN</td>\n",
        "      <td>      NaN</td>\n",
        "      <td>      NaN</td>\n",
        "    </tr>\n",
        "    <tr>\n",
        "      <th>1</th>\n",
        "      <td> 10</td>\n",
        "      <td>  2257822.599758</td>\n",
        "      <td> 5</td>\n",
        "      <td> 8353553.621115</td>\n",
        "      <td> 7.399655</td>\n",
        "      <td> 0.003819</td>\n",
        "    </tr>\n",
        "  </tbody>\n",
        "</table>\n",
        "</div>"
       ],
       "output_type": "pyout",
       "prompt_number": 37,
       "text": [
        "   df_resid              ssr  df_diff         ss_diff         F    Pr(>F)\n",
        "0        14  10611376.220872        0             NaN       NaN       NaN\n",
        "1        10   2257822.599758        5  8353553.621115  7.399655  0.003819"
       ]
      }
     ],
     "prompt_number": 37
    },
    {
     "cell_type": "markdown",
     "metadata": {},
     "source": [
      "In effetti possiamo vedere dal grafico del modello che i dati sono in buon accordo con il modello anche nel caso pi\u00f9 semplice."
     ]
    },
    {
     "cell_type": "code",
     "collapsed": false,
     "input": [
      "scatter(longley['GNPDEFL'], longley['TOTEMP'])\n",
      "plot(longley['GNPDEFL'], res2.fittedvalues);"
     ],
     "language": "python",
     "metadata": {},
     "outputs": [
      {
       "output_type": "display_data",
       "png": "[encoded data removed]"
      }
     ],
     "prompt_number": 38
    },
    {
     "cell_type": "markdown",
     "metadata": {},
     "source": [
      "Per confrontare i due modelli, visto che la visualizzazione dei modelli multidimensionali \u00e8 abbastanza difficile, \u00e8 possibile confrontare esteticamente i residui del modello, definiti come la differenza fra il valore previsto e quello osservato.\n",
      "\n",
      "Vediamo immediatamente come i residui del secondo modello siano nettamente meno variabili di quelli del primo, indice della maggior precisione del modello."
     ]
    },
    {
     "cell_type": "code",
     "collapsed": false,
     "input": [
      "res2.resid.hist(alpha=0.5)\n",
      "res1.resid.hist(alpha=0.5)"
     ],
     "language": "python",
     "metadata": {},
     "outputs": [
      {
       "output_type": "pyout",
       "prompt_number": 39,
       "text": [
        "<matplotlib.axes.AxesSubplot at 0x3cc2850>"
       ]
      },
      {
       "output_type": "display_data",
       "png": "[encoded data removed]"
      }
     ],
     "prompt_number": 39
    },
    {
     "cell_type": "markdown",
     "metadata": {},
     "source": [
      "La verifica della linearit\u00e0 del modello \u00e8 effettuabile anche visivamente facendo il plot dei residui, e constatando che il fit dei residui \u00e8 sostanzialmente piatto"
     ]
    },
    {
     "cell_type": "code",
     "collapsed": false,
     "input": [
      "res2.resid.plot(alpha=0.5,color='b')\n",
      "model_res2 = sm.OLS(res2.resid, res2.resid.index).fit()\n",
      "print \"pendenza dei residui,  valore\", model_res2.params['x1']\n",
      "print \"pendenza dei residui, p-value\", model_res2.pvalues['x1']\n",
      "fittati = model_res2.fittedvalues\n",
      "fittati.plot(color='r');"
     ],
     "language": "python",
     "metadata": {},
     "outputs": [
      {
       "output_type": "stream",
       "stream": "stdout",
       "text": [
        "pendenza dei residui,  valore 1.82524590402\n",
        "pendenza dei residui, p-value 0.940085366704\n"
       ]
      },
      {
       "output_type": "display_data",
       "png": "[encoded data removed]"
      }
     ],
     "prompt_number": 40
    },
    {
     "cell_type": "markdown",
     "metadata": {},
     "source": [
      "In caso di necessit\u00e0 \u00e8 possibile utilizzare dei regressori pi\u00f9 complicati, come il **Weighted Lineas Squares (WLS)**, che permette di includere una incertezza variabile sui valori da fittare.\n",
      "\n",
      "In questo caso creer\u00f2 una incertezza fittizzia, che sposter\u00e0 leggermente l'andamento del fit."
     ]
    },
    {
     "cell_type": "code",
     "collapsed": false,
     "input": [
      "pesi = 1.0/(longley['TOTEMP']*np.arange(1, 1+len(longley['TOTEMP'])))**0.6\n",
      "res3 = smf.wls('TOTEMP ~ GNPDEFL',longley, weights=pesi).fit()\n",
      "res3.summary()"
     ],
     "language": "python",
     "metadata": {},
     "outputs": [
      {
       "html": [
        "<table class=\"simpletable\">\n",
        "<caption>WLS Regression Results</caption>\n",
        "<tr>\n",
        "  <th>Dep. Variable:</th>         <td>TOTEMP</td>      <th>  R-squared:         </th> <td>   0.947</td>\n",
        "</tr>\n",
        "<tr>\n",
        "  <th>Model:</th>                   <td>WLS</td>       <th>  Adj. R-squared:    </th> <td>   0.943</td>\n",
        "</tr>\n",
        "<tr>\n",
        "  <th>Method:</th>             <td>Least Squares</td>  <th>  F-statistic:       </th> <td>   249.8</td>\n",
        "</tr>\n",
        "<tr>\n",
        "  <th>Date:</th>             <td>Mon, 04 Mar 2013</td> <th>  Prob (F-statistic):</th> <td>2.54e-10</td>\n",
        "</tr>\n",
        "<tr>\n",
        "  <th>Time:</th>                 <td>15:06:54</td>     <th>  Log-Likelihood:    </th> <td> -67.762</td>\n",
        "</tr>\n",
        "<tr>\n",
        "  <th>No. Observations:</th>      <td>    16</td>      <th>  AIC:               </th> <td>   139.5</td>\n",
        "</tr>\n",
        "<tr>\n",
        "  <th>Df Residuals:</th>          <td>    14</td>      <th>  BIC:               </th> <td>   141.1</td>\n",
        "</tr>\n",
        "<tr>\n",
        "  <th>Df Model:</th>              <td>     1</td>      <th>                     </th>     <td> </td>   \n",
        "</tr>\n",
        "</table>\n",
        "<table class=\"simpletable\">\n",
        "<tr>\n",
        "      <td></td>         <th>coef</th>     <th>std err</th>      <th>t</th>      <th>P>|t|</th> <th>[95.0% Conf. Int.]</th> \n",
        "</tr>\n",
        "<tr>\n",
        "  <th>Intercept</th> <td> 3.426e+04</td> <td> 1870.292</td> <td>   18.317</td> <td> 0.000</td> <td> 3.02e+04  3.83e+04</td>\n",
        "</tr>\n",
        "<tr>\n",
        "  <th>GNPDEFL</th>   <td>  305.3945</td> <td>   19.323</td> <td>   15.805</td> <td> 0.000</td> <td>  263.952   346.837</td>\n",
        "</tr>\n",
        "</table>\n",
        "<table class=\"simpletable\">\n",
        "<tr>\n",
        "  <th>Omnibus:</th>       <td> 0.498</td> <th>  Durbin-Watson:     </th> <td>   1.706</td>\n",
        "</tr>\n",
        "<tr>\n",
        "  <th>Prob(Omnibus):</th> <td> 0.780</td> <th>  Jarque-Bera (JB):  </th> <td>   0.547</td>\n",
        "</tr>\n",
        "<tr>\n",
        "  <th>Skew:</th>          <td> 0.051</td> <th>  Prob(JB):          </th> <td>   0.761</td>\n",
        "</tr>\n",
        "<tr>\n",
        "  <th>Kurtosis:</th>      <td> 2.100</td> <th>  Cond. No.          </th> <td>    878.</td>\n",
        "</tr>\n",
        "</table>"
       ],
       "output_type": "pyout",
       "prompt_number": 41,
       "text": [
        "<class 'statsmodels.iolib.summary.Summary'>\n",
        "\"\"\"\n",
        "                            WLS Regression Results                            \n",
        "==============================================================================\n",
        "Dep. Variable:                 TOTEMP   R-squared:                       0.947\n",
        "Model:                            WLS   Adj. R-squared:                  0.943\n",
        "Method:                 Least Squares   F-statistic:                     249.8\n",
        "Date:                Mon, 04 Mar 2013   Prob (F-statistic):           2.54e-10\n",
        "Time:                        15:06:54   Log-Likelihood:                -67.762\n",
        "No. Observations:                  16   AIC:                             139.5\n",
        "Df Residuals:                      14   BIC:                             141.1\n",
        "Df Model:                           1                                         \n",
        "==============================================================================\n",
        "                 coef    std err          t      P>|t|      [95.0% Conf. Int.]\n",
        "------------------------------------------------------------------------------\n",
        "Intercept   3.426e+04   1870.292     18.317      0.000      3.02e+04  3.83e+04\n",
        "GNPDEFL      305.3945     19.323     15.805      0.000       263.952   346.837\n",
        "==============================================================================\n",
        "Omnibus:                        0.498   Durbin-Watson:                   1.706\n",
        "Prob(Omnibus):                  0.780   Jarque-Bera (JB):                0.547\n",
        "Skew:                           0.051   Prob(JB):                        0.761\n",
        "Kurtosis:                       2.100   Cond. No.                         878.\n",
        "==============================================================================\n",
        "\"\"\""
       ]
      }
     ],
     "prompt_number": 41
    },
    {
     "cell_type": "code",
     "collapsed": false,
     "input": [
      "x = longley['GNPDEFL']\n",
      "y_real = longley['TOTEMP']\n",
      "\n",
      "#scatter(x, y_real)\n",
      "figure(figsize=(8,6))\n",
      "plot(x, res2.fittedvalues, 'b')\n",
      "plot(x, res3.fittedvalues, 'r')\n",
      "incertezze = 1.0/pesi\n",
      "plt.errorbar(x, y_real, incertezze, fmt='o', alpha=0.3)"
     ],
     "language": "python",
     "metadata": {},
     "outputs": [
      {
       "output_type": "pyout",
       "prompt_number": 42,
       "text": [
        "<Container object of 3 artists>"
       ]
      },
      {
       "output_type": "display_data",
       "png": "[encoded data removed]"
      }
     ],
     "prompt_number": 42
    },
    {
     "cell_type": "markdown",
     "metadata": {},
     "source": [
      "Riprendiamo ora in considerazioni il dataset sulle relazione extraconiugali per vedere un esempio di OLS utilizzata per fare l'ANOVA in sue varie accezioni.\n",
      "\n",
      "Rivediamo per prima cosa quali erano le variabili a nostra disposizione:"
     ]
    },
    {
     "cell_type": "code",
     "collapsed": false,
     "input": [
      "print affair.columns.values"
     ],
     "language": "python",
     "metadata": {},
     "outputs": [
      {
       "output_type": "stream",
       "stream": "stdout",
       "text": [
        "['rate_marriage' 'age' 'yrs_married' 'children' 'religious' 'educ'\n",
        " 'occupation' 'occupation_husb' 'affairs' 'cheated']\n"
       ]
      }
     ],
     "prompt_number": 50
    },
    {
     "cell_type": "markdown",
     "metadata": {},
     "source": [
      "Effettuiamo ora una ANOVA ad una via fra coloro che hanno avuto una relazione extraconiugale in funzione del livello percepito del rapporto."
     ]
    },
    {
     "cell_type": "code",
     "collapsed": false,
     "input": [
      "smf.ols('affairs ~ rate_marriage', data=affair, subset=affair.cheated).fit().summary()"
     ],
     "language": "python",
     "metadata": {},
     "outputs": [
      {
       "html": [
        "<table class=\"simpletable\">\n",
        "<caption>OLS Regression Results</caption>\n",
        "<tr>\n",
        "  <th>Dep. Variable:</th>         <td>affairs</td>     <th>  R-squared:         </th> <td>   0.006</td> \n",
        "</tr>\n",
        "<tr>\n",
        "  <th>Model:</th>                   <td>OLS</td>       <th>  Adj. R-squared:    </th> <td>   0.004</td> \n",
        "</tr>\n",
        "<tr>\n",
        "  <th>Method:</th>             <td>Least Squares</td>  <th>  F-statistic:       </th> <td>   3.078</td> \n",
        "</tr>\n",
        "<tr>\n",
        "  <th>Date:</th>             <td>Mon, 04 Mar 2013</td> <th>  Prob (F-statistic):</th>  <td>0.0154</td>  \n",
        "</tr>\n",
        "<tr>\n",
        "  <th>Time:</th>                 <td>15:11:27</td>     <th>  Log-Likelihood:    </th> <td> -5441.3</td> \n",
        "</tr>\n",
        "<tr>\n",
        "  <th>No. Observations:</th>      <td>  2053</td>      <th>  AIC:               </th> <td>1.089e+04</td>\n",
        "</tr>\n",
        "<tr>\n",
        "  <th>Df Residuals:</th>          <td>  2048</td>      <th>  BIC:               </th> <td>1.092e+04</td>\n",
        "</tr>\n",
        "<tr>\n",
        "  <th>Df Model:</th>              <td>     4</td>      <th>                     </th>     <td> </td>    \n",
        "</tr>\n",
        "</table>\n",
        "<table class=\"simpletable\">\n",
        "<tr>\n",
        "                <td></td>                  <th>coef</th>     <th>std err</th>      <th>t</th>      <th>P>|t|</th> <th>[95.0% Conf. Int.]</th> \n",
        "</tr>\n",
        "<tr>\n",
        "  <th>Intercept</th>                    <td>    1.6076</td> <td>    0.399</td> <td>    4.031</td> <td> 0.000</td> <td>    0.826     2.390</td>\n",
        "</tr>\n",
        "<tr>\n",
        "  <th>rate_marriage[T.2 poor]</th>      <td>    0.9366</td> <td>    0.461</td> <td>    2.033</td> <td> 0.042</td> <td>    0.033     1.840</td>\n",
        "</tr>\n",
        "<tr>\n",
        "  <th>rate_marriage[T.3 fair]</th>      <td>    0.8817</td> <td>    0.425</td> <td>    2.075</td> <td> 0.038</td> <td>    0.048     1.715</td>\n",
        "</tr>\n",
        "<tr>\n",
        "  <th>rate_marriage[T.4 good]</th>      <td>    0.4821</td> <td>    0.419</td> <td>    1.152</td> <td> 0.250</td> <td>   -0.339     1.303</td>\n",
        "</tr>\n",
        "<tr>\n",
        "  <th>rate_marriage[T.5 very good]</th> <td>    0.3112</td> <td>    0.428</td> <td>    0.727</td> <td> 0.467</td> <td>   -0.528     1.151</td>\n",
        "</tr>\n",
        "</table>\n",
        "<table class=\"simpletable\">\n",
        "<tr>\n",
        "  <th>Omnibus:</th>       <td>2366.549</td> <th>  Durbin-Watson:     </th>  <td>   1.941</td> \n",
        "</tr>\n",
        "<tr>\n",
        "  <th>Prob(Omnibus):</th>  <td> 0.000</td>  <th>  Jarque-Bera (JB):  </th> <td>290965.709</td>\n",
        "</tr>\n",
        "<tr>\n",
        "  <th>Skew:</th>           <td> 5.811</td>  <th>  Prob(JB):          </th>  <td>    0.00</td> \n",
        "</tr>\n",
        "<tr>\n",
        "  <th>Kurtosis:</th>       <td>60.152</td>  <th>  Cond. No.          </th>  <td>    13.5</td> \n",
        "</tr>\n",
        "</table>"
       ],
       "output_type": "pyout",
       "prompt_number": 51,
       "text": [
        "<class 'statsmodels.iolib.summary.Summary'>\n",
        "\"\"\"\n",
        "                            OLS Regression Results                            \n",
        "==============================================================================\n",
        "Dep. Variable:                affairs   R-squared:                       0.006\n",
        "Model:                            OLS   Adj. R-squared:                  0.004\n",
        "Method:                 Least Squares   F-statistic:                     3.078\n",
        "Date:                Mon, 04 Mar 2013   Prob (F-statistic):             0.0154\n",
        "Time:                        15:11:27   Log-Likelihood:                -5441.3\n",
        "No. Observations:                2053   AIC:                         1.089e+04\n",
        "Df Residuals:                    2048   BIC:                         1.092e+04\n",
        "Df Model:                           4                                         \n",
        "================================================================================================\n",
        "                                   coef    std err          t      P>|t|      [95.0% Conf. Int.]\n",
        "------------------------------------------------------------------------------------------------\n",
        "Intercept                        1.6076      0.399      4.031      0.000         0.826     2.390\n",
        "rate_marriage[T.2 poor]          0.9366      0.461      2.033      0.042         0.033     1.840\n",
        "rate_marriage[T.3 fair]          0.8817      0.425      2.075      0.038         0.048     1.715\n",
        "rate_marriage[T.4 good]          0.4821      0.419      1.152      0.250        -0.339     1.303\n",
        "rate_marriage[T.5 very good]     0.3112      0.428      0.727      0.467        -0.528     1.151\n",
        "==============================================================================\n",
        "Omnibus:                     2366.549   Durbin-Watson:                   1.941\n",
        "Prob(Omnibus):                  0.000   Jarque-Bera (JB):           290965.709\n",
        "Skew:                           5.811   Prob(JB):                         0.00\n",
        "Kurtosis:                      60.152   Cond. No.                         13.5\n",
        "==============================================================================\n",
        "\"\"\""
       ]
      }
     ],
     "prompt_number": 51
    },
    {
     "cell_type": "markdown",
     "metadata": {},
     "source": [
      "Questo modello risulta significativo, ma la descrizione in termini di controllo e trattamente risulta piuttosto innaturale; Possiamo in modo semplice spiegare a statsmodels che deve interpretare le categorie di **rate_marriage** non come trattamenti rispetto ad un controllo base ma come incrementi successivi rispetto ad un livello base. Il modello complessivo non viene modificato (la varianza descritta \u00e8 esattamente la stessa), ma la sua interpretazione risulta molto pi\u00f9 naturale"
     ]
    },
    {
     "cell_type": "code",
     "collapsed": false,
     "input": [
      "smf.ols('affairs ~ C(rate_marriage, Diff)', data=affair, subset=affair.cheated).fit().summary()"
     ],
     "language": "python",
     "metadata": {},
     "outputs": [
      {
       "html": [
        "<table class=\"simpletable\">\n",
        "<caption>OLS Regression Results</caption>\n",
        "<tr>\n",
        "  <th>Dep. Variable:</th>         <td>affairs</td>     <th>  R-squared:         </th> <td>   0.006</td> \n",
        "</tr>\n",
        "<tr>\n",
        "  <th>Model:</th>                   <td>OLS</td>       <th>  Adj. R-squared:    </th> <td>   0.004</td> \n",
        "</tr>\n",
        "<tr>\n",
        "  <th>Method:</th>             <td>Least Squares</td>  <th>  F-statistic:       </th> <td>   3.078</td> \n",
        "</tr>\n",
        "<tr>\n",
        "  <th>Date:</th>             <td>Mon, 04 Mar 2013</td> <th>  Prob (F-statistic):</th>  <td>0.0154</td>  \n",
        "</tr>\n",
        "<tr>\n",
        "  <th>Time:</th>                 <td>15:14:19</td>     <th>  Log-Likelihood:    </th> <td> -5441.3</td> \n",
        "</tr>\n",
        "<tr>\n",
        "  <th>No. Observations:</th>      <td>  2053</td>      <th>  AIC:               </th> <td>1.089e+04</td>\n",
        "</tr>\n",
        "<tr>\n",
        "  <th>Df Residuals:</th>          <td>  2048</td>      <th>  BIC:               </th> <td>1.092e+04</td>\n",
        "</tr>\n",
        "<tr>\n",
        "  <th>Df Model:</th>              <td>     4</td>      <th>                     </th>     <td> </td>    \n",
        "</tr>\n",
        "</table>\n",
        "<table class=\"simpletable\">\n",
        "<tr>\n",
        "                    <td></td>                       <th>coef</th>     <th>std err</th>      <th>t</th>      <th>P>|t|</th> <th>[95.0% Conf. Int.]</th> \n",
        "</tr>\n",
        "<tr>\n",
        "  <th>Intercept</th>                             <td>    2.1300</td> <td>    0.105</td> <td>   20.337</td> <td> 0.000</td> <td>    1.925     2.335</td>\n",
        "</tr>\n",
        "<tr>\n",
        "  <th>C(rate_marriage, Diff)[D.1 very poor]</th> <td>    0.9366</td> <td>    0.461</td> <td>    2.033</td> <td> 0.042</td> <td>    0.033     1.840</td>\n",
        "</tr>\n",
        "<tr>\n",
        "  <th>C(rate_marriage, Diff)[D.2 poor]</th>      <td>   -0.0549</td> <td>    0.273</td> <td>   -0.201</td> <td> 0.841</td> <td>   -0.591     0.481</td>\n",
        "</tr>\n",
        "<tr>\n",
        "  <th>C(rate_marriage, Diff)[D.3 fair]</th>      <td>   -0.3996</td> <td>    0.194</td> <td>   -2.056</td> <td> 0.040</td> <td>   -0.781    -0.018</td>\n",
        "</tr>\n",
        "<tr>\n",
        "  <th>C(rate_marriage, Diff)[D.4 good]</th>      <td>   -0.1709</td> <td>    0.201</td> <td>   -0.850</td> <td> 0.395</td> <td>   -0.565     0.223</td>\n",
        "</tr>\n",
        "</table>\n",
        "<table class=\"simpletable\">\n",
        "<tr>\n",
        "  <th>Omnibus:</th>       <td>2366.549</td> <th>  Durbin-Watson:     </th>  <td>   1.941</td> \n",
        "</tr>\n",
        "<tr>\n",
        "  <th>Prob(Omnibus):</th>  <td> 0.000</td>  <th>  Jarque-Bera (JB):  </th> <td>290965.709</td>\n",
        "</tr>\n",
        "<tr>\n",
        "  <th>Skew:</th>           <td> 5.811</td>  <th>  Prob(JB):          </th>  <td>    0.00</td> \n",
        "</tr>\n",
        "<tr>\n",
        "  <th>Kurtosis:</th>       <td>60.152</td>  <th>  Cond. No.          </th>  <td>    6.88</td> \n",
        "</tr>\n",
        "</table>"
       ],
       "output_type": "pyout",
       "prompt_number": 52,
       "text": [
        "<class 'statsmodels.iolib.summary.Summary'>\n",
        "\"\"\"\n",
        "                            OLS Regression Results                            \n",
        "==============================================================================\n",
        "Dep. Variable:                affairs   R-squared:                       0.006\n",
        "Model:                            OLS   Adj. R-squared:                  0.004\n",
        "Method:                 Least Squares   F-statistic:                     3.078\n",
        "Date:                Mon, 04 Mar 2013   Prob (F-statistic):             0.0154\n",
        "Time:                        15:14:19   Log-Likelihood:                -5441.3\n",
        "No. Observations:                2053   AIC:                         1.089e+04\n",
        "Df Residuals:                    2048   BIC:                         1.092e+04\n",
        "Df Model:                           4                                         \n",
        "=========================================================================================================\n",
        "                                            coef    std err          t      P>|t|      [95.0% Conf. Int.]\n",
        "---------------------------------------------------------------------------------------------------------\n",
        "Intercept                                 2.1300      0.105     20.337      0.000         1.925     2.335\n",
        "C(rate_marriage, Diff)[D.1 very poor]     0.9366      0.461      2.033      0.042         0.033     1.840\n",
        "C(rate_marriage, Diff)[D.2 poor]         -0.0549      0.273     -0.201      0.841        -0.591     0.481\n",
        "C(rate_marriage, Diff)[D.3 fair]         -0.3996      0.194     -2.056      0.040        -0.781    -0.018\n",
        "C(rate_marriage, Diff)[D.4 good]         -0.1709      0.201     -0.850      0.395        -0.565     0.223\n",
        "==============================================================================\n",
        "Omnibus:                     2366.549   Durbin-Watson:                   1.941\n",
        "Prob(Omnibus):                  0.000   Jarque-Bera (JB):           290965.709\n",
        "Skew:                           5.811   Prob(JB):                         0.00\n",
        "Kurtosis:                      60.152   Cond. No.                         6.88\n",
        "==============================================================================\n",
        "\"\"\""
       ]
      }
     ],
     "prompt_number": 52
    },
    {
     "cell_type": "markdown",
     "metadata": {},
     "source": [
      "Il valore di ciascun gruppo rappresenta la differenza fra il valore di quel gruppo d il successivo. Per dimostrarlo calcoliamo esplicitamente queste differenze. Il valore dell'intercetta \u00e8 dato dalla *Grand Mean* del sistema (ovvero la media delle medie dei gruppi, quantit\u00e0 usata in quanto pi\u00f9 robusta a campionamenti non rappresentativi della popolazione)."
     ]
    },
    {
     "cell_type": "code",
     "collapsed": false,
     "input": [
      "group_mean = affair[affair.cheated].groupby('rate_marriage')['affairs'].mean()\n",
      "print group_mean\n",
      "print \"grand mean\", group_mean.mean()\n",
      "group_mean.values[1:] - group_mean[:-1]"
     ],
     "language": "python",
     "metadata": {},
     "outputs": [
      {
       "output_type": "stream",
       "stream": "stdout",
       "text": [
        "rate_marriage\n",
        "1 very poor      1.607641\n",
        "2 poor           2.544251\n",
        "3 fair           2.489364\n",
        "4 good           2.089758\n",
        "5 very good      1.918888\n",
        "Name: affairs\n",
        "grand mean 2.12998043333\n"
       ]
      },
      {
       "output_type": "pyout",
       "prompt_number": 74,
       "text": [
        "rate_marriage\n",
        "1 very poor      0.936609\n",
        "2 poor          -0.054887\n",
        "3 fair          -0.399606\n",
        "4 good          -0.170870\n",
        "Name: affairs"
       ]
      }
     ],
     "prompt_number": 74
    },
    {
     "cell_type": "markdown",
     "metadata": {},
     "source": [
      "Siamo ora interessati a studiare l'effetto combinato del livello di relazione e del livello di religiosit\u00e0, considerati in modo indipendente, ovvero usando l'operatore di somma fra variabili."
     ]
    },
    {
     "cell_type": "code",
     "collapsed": false,
     "input": [
      "model = 'affairs ~ C(rate_marriage, Diff) + C(religious, Diff)'\n",
      "smf.ols(model, data=affair, subset=affair.cheated).fit().summary()"
     ],
     "language": "python",
     "metadata": {},
     "outputs": [
      {
       "html": [
        "<table class=\"simpletable\">\n",
        "<caption>OLS Regression Results</caption>\n",
        "<tr>\n",
        "  <th>Dep. Variable:</th>         <td>affairs</td>     <th>  R-squared:         </th> <td>   0.027</td> \n",
        "</tr>\n",
        "<tr>\n",
        "  <th>Model:</th>                   <td>OLS</td>       <th>  Adj. R-squared:    </th> <td>   0.024</td> \n",
        "</tr>\n",
        "<tr>\n",
        "  <th>Method:</th>             <td>Least Squares</td>  <th>  F-statistic:       </th> <td>   8.225</td> \n",
        "</tr>\n",
        "<tr>\n",
        "  <th>Date:</th>             <td>Mon, 04 Mar 2013</td> <th>  Prob (F-statistic):</th> <td>6.40e-10</td> \n",
        "</tr>\n",
        "<tr>\n",
        "  <th>Time:</th>                 <td>15:26:36</td>     <th>  Log-Likelihood:    </th> <td> -5419.0</td> \n",
        "</tr>\n",
        "<tr>\n",
        "  <th>No. Observations:</th>      <td>  2053</td>      <th>  AIC:               </th> <td>1.085e+04</td>\n",
        "</tr>\n",
        "<tr>\n",
        "  <th>Df Residuals:</th>          <td>  2045</td>      <th>  BIC:               </th> <td>1.090e+04</td>\n",
        "</tr>\n",
        "<tr>\n",
        "  <th>Df Model:</th>              <td>     7</td>      <th>                     </th>     <td> </td>    \n",
        "</tr>\n",
        "</table>\n",
        "<table class=\"simpletable\">\n",
        "<tr>\n",
        "                    <td></td>                       <th>coef</th>     <th>std err</th>      <th>t</th>      <th>P>|t|</th> <th>[95.0% Conf. Int.]</th> \n",
        "</tr>\n",
        "<tr>\n",
        "  <th>Intercept</th>                             <td>    2.0671</td> <td>    0.122</td> <td>   16.945</td> <td> 0.000</td> <td>    1.828     2.306</td>\n",
        "</tr>\n",
        "<tr>\n",
        "  <th>C(rate_marriage, Diff)[D.1 very poor]</th> <td>    0.8843</td> <td>    0.456</td> <td>    1.938</td> <td> 0.053</td> <td>   -0.011     1.779</td>\n",
        "</tr>\n",
        "<tr>\n",
        "  <th>C(rate_marriage, Diff)[D.2 poor]</th>      <td>   -0.0634</td> <td>    0.271</td> <td>   -0.234</td> <td> 0.815</td> <td>   -0.594     0.468</td>\n",
        "</tr>\n",
        "<tr>\n",
        "  <th>C(rate_marriage, Diff)[D.3 fair]</th>      <td>   -0.3778</td> <td>    0.192</td> <td>   -1.963</td> <td> 0.050</td> <td>   -0.755    -0.000</td>\n",
        "</tr>\n",
        "<tr>\n",
        "  <th>C(rate_marriage, Diff)[D.4 good]</th>      <td>   -0.2161</td> <td>    0.200</td> <td>   -1.082</td> <td> 0.279</td> <td>   -0.608     0.175</td>\n",
        "</tr>\n",
        "<tr>\n",
        "  <th>C(religious, Diff)[D.1 not]</th>           <td>   -1.0247</td> <td>    0.206</td> <td>   -4.964</td> <td> 0.000</td> <td>   -1.430    -0.620</td>\n",
        "</tr>\n",
        "<tr>\n",
        "  <th>C(religious, Diff)[D.2 mildly]</th>        <td>   -0.2284</td> <td>    0.175</td> <td>   -1.308</td> <td> 0.191</td> <td>   -0.571     0.114</td>\n",
        "</tr>\n",
        "<tr>\n",
        "  <th>C(religious, Diff)[D.3 fairly]</th>        <td>   -0.5284</td> <td>    0.337</td> <td>   -1.570</td> <td> 0.117</td> <td>   -1.188     0.132</td>\n",
        "</tr>\n",
        "</table>\n",
        "<table class=\"simpletable\">\n",
        "<tr>\n",
        "  <th>Omnibus:</th>       <td>2334.659</td> <th>  Durbin-Watson:     </th>  <td>   1.956</td> \n",
        "</tr>\n",
        "<tr>\n",
        "  <th>Prob(Omnibus):</th>  <td> 0.000</td>  <th>  Jarque-Bera (JB):  </th> <td>274765.044</td>\n",
        "</tr>\n",
        "<tr>\n",
        "  <th>Skew:</th>           <td> 5.686</td>  <th>  Prob(JB):          </th>  <td>    0.00</td> \n",
        "</tr>\n",
        "<tr>\n",
        "  <th>Kurtosis:</th>       <td>58.522</td>  <th>  Cond. No.          </th>  <td>    7.03</td> \n",
        "</tr>\n",
        "</table>"
       ],
       "output_type": "pyout",
       "prompt_number": 60,
       "text": [
        "<class 'statsmodels.iolib.summary.Summary'>\n",
        "\"\"\"\n",
        "                            OLS Regression Results                            \n",
        "==============================================================================\n",
        "Dep. Variable:                affairs   R-squared:                       0.027\n",
        "Model:                            OLS   Adj. R-squared:                  0.024\n",
        "Method:                 Least Squares   F-statistic:                     8.225\n",
        "Date:                Mon, 04 Mar 2013   Prob (F-statistic):           6.40e-10\n",
        "Time:                        15:26:36   Log-Likelihood:                -5419.0\n",
        "No. Observations:                2053   AIC:                         1.085e+04\n",
        "Df Residuals:                    2045   BIC:                         1.090e+04\n",
        "Df Model:                           7                                         \n",
        "=========================================================================================================\n",
        "                                            coef    std err          t      P>|t|      [95.0% Conf. Int.]\n",
        "---------------------------------------------------------------------------------------------------------\n",
        "Intercept                                 2.0671      0.122     16.945      0.000         1.828     2.306\n",
        "C(rate_marriage, Diff)[D.1 very poor]     0.8843      0.456      1.938      0.053        -0.011     1.779\n",
        "C(rate_marriage, Diff)[D.2 poor]         -0.0634      0.271     -0.234      0.815        -0.594     0.468\n",
        "C(rate_marriage, Diff)[D.3 fair]         -0.3778      0.192     -1.963      0.050        -0.755    -0.000\n",
        "C(rate_marriage, Diff)[D.4 good]         -0.2161      0.200     -1.082      0.279        -0.608     0.175\n",
        "C(religious, Diff)[D.1 not]              -1.0247      0.206     -4.964      0.000        -1.430    -0.620\n",
        "C(religious, Diff)[D.2 mildly]           -0.2284      0.175     -1.308      0.191        -0.571     0.114\n",
        "C(religious, Diff)[D.3 fairly]           -0.5284      0.337     -1.570      0.117        -1.188     0.132\n",
        "==============================================================================\n",
        "Omnibus:                     2334.659   Durbin-Watson:                   1.956\n",
        "Prob(Omnibus):                  0.000   Jarque-Bera (JB):           274765.044\n",
        "Skew:                           5.686   Prob(JB):                         0.00\n",
        "Kurtosis:                      58.522   Cond. No.                         7.03\n",
        "==============================================================================\n",
        "\"\"\""
       ]
      }
     ],
     "prompt_number": 60
    },
    {
     "cell_type": "markdown",
     "metadata": {},
     "source": [
      "Questo modello per\u00f2 non ci soddisfa. Decidiamo allora di vedere se esistono interazioni di qualche tipo fra queste due categorie, ovvero se vi sia una combinazione di effetti che porta le due variazioni a non essere indipendenti."
     ]
    },
    {
     "cell_type": "code",
     "collapsed": false,
     "input": [
      "model = 'affairs ~ C(rate_marriage, Diff) * C(religious, Diff)'\n",
      "res = smf.ols(model, data=affair, subset=affair.cheated).fit()\n",
      "res.summary()"
     ],
     "language": "python",
     "metadata": {},
     "outputs": [
      {
       "html": [
        "<table class=\"simpletable\">\n",
        "<caption>OLS Regression Results</caption>\n",
        "<tr>\n",
        "  <th>Dep. Variable:</th>         <td>affairs</td>     <th>  R-squared:         </th> <td>   0.033</td> \n",
        "</tr>\n",
        "<tr>\n",
        "  <th>Model:</th>                   <td>OLS</td>       <th>  Adj. R-squared:    </th> <td>   0.024</td> \n",
        "</tr>\n",
        "<tr>\n",
        "  <th>Method:</th>             <td>Least Squares</td>  <th>  F-statistic:       </th> <td>   3.679</td> \n",
        "</tr>\n",
        "<tr>\n",
        "  <th>Date:</th>             <td>Mon, 04 Mar 2013</td> <th>  Prob (F-statistic):</th> <td>1.34e-07</td> \n",
        "</tr>\n",
        "<tr>\n",
        "  <th>Time:</th>                 <td>15:51:34</td>     <th>  Log-Likelihood:    </th> <td> -5412.8</td> \n",
        "</tr>\n",
        "<tr>\n",
        "  <th>No. Observations:</th>      <td>  2053</td>      <th>  AIC:               </th> <td>1.087e+04</td>\n",
        "</tr>\n",
        "<tr>\n",
        "  <th>Df Residuals:</th>          <td>  2033</td>      <th>  BIC:               </th> <td>1.098e+04</td>\n",
        "</tr>\n",
        "<tr>\n",
        "  <th>Df Model:</th>              <td>    19</td>      <th>                     </th>     <td> </td>    \n",
        "</tr>\n",
        "</table>\n",
        "<table class=\"simpletable\">\n",
        "<tr>\n",
        "                                    <td></td>                                      <th>coef</th>     <th>std err</th>      <th>t</th>      <th>P>|t|</th> <th>[95.0% Conf. Int.]</th> \n",
        "</tr>\n",
        "<tr>\n",
        "  <th>Intercept</th>                                                            <td>    2.0600</td> <td>    0.136</td> <td>   15.112</td> <td> 0.000</td> <td>    1.793     2.327</td>\n",
        "</tr>\n",
        "<tr>\n",
        "  <th>C(rate_marriage, Diff)[D.1 very poor]</th>                                <td>    0.9534</td> <td>    0.602</td> <td>    1.584</td> <td> 0.113</td> <td>   -0.227     2.134</td>\n",
        "</tr>\n",
        "<tr>\n",
        "  <th>C(rate_marriage, Diff)[D.2 poor]</th>                                     <td>   -0.0667</td> <td>    0.380</td> <td>   -0.176</td> <td> 0.861</td> <td>   -0.812     0.679</td>\n",
        "</tr>\n",
        "<tr>\n",
        "  <th>C(rate_marriage, Diff)[D.3 fair]</th>                                     <td>   -0.4183</td> <td>    0.256</td> <td>   -1.631</td> <td> 0.103</td> <td>   -0.921     0.085</td>\n",
        "</tr>\n",
        "<tr>\n",
        "  <th>C(rate_marriage, Diff)[D.4 good]</th>                                     <td>   -0.2024</td> <td>    0.256</td> <td>   -0.791</td> <td> 0.429</td> <td>   -0.704     0.299</td>\n",
        "</tr>\n",
        "<tr>\n",
        "  <th>C(religious, Diff)[D.1 not]</th>                                          <td>   -1.0487</td> <td>    0.299</td> <td>   -3.511</td> <td> 0.000</td> <td>   -1.634    -0.463</td>\n",
        "</tr>\n",
        "<tr>\n",
        "  <th>C(religious, Diff)[D.2 mildly]</th>                                       <td>   -0.3181</td> <td>    0.239</td> <td>   -1.333</td> <td> 0.183</td> <td>   -0.786     0.150</td>\n",
        "</tr>\n",
        "<tr>\n",
        "  <th>C(religious, Diff)[D.3 fairly]</th>                                       <td>   -0.5155</td> <td>    0.456</td> <td>   -1.130</td> <td> 0.259</td> <td>   -1.410     0.379</td>\n",
        "</tr>\n",
        "<tr>\n",
        "  <th>C(rate_marriage, Diff)[D.1 very poor]:C(religious, Diff)[D.1 not]</th>    <td>   -2.1393</td> <td>    1.333</td> <td>   -1.605</td> <td> 0.109</td> <td>   -4.753     0.474</td>\n",
        "</tr>\n",
        "<tr>\n",
        "  <th>C(rate_marriage, Diff)[D.2 poor]:C(religious, Diff)[D.1 not]</th>         <td>    0.7823</td> <td>    0.749</td> <td>    1.045</td> <td> 0.296</td> <td>   -0.686     2.250</td>\n",
        "</tr>\n",
        "<tr>\n",
        "  <th>C(rate_marriage, Diff)[D.3 fair]:C(religious, Diff)[D.1 not]</th>         <td>    0.9069</td> <td>    0.532</td> <td>    1.705</td> <td> 0.088</td> <td>   -0.136     1.950</td>\n",
        "</tr>\n",
        "<tr>\n",
        "  <th>C(rate_marriage, Diff)[D.4 good]:C(religious, Diff)[D.1 not]</th>         <td>   -0.1530</td> <td>    0.545</td> <td>   -0.281</td> <td> 0.779</td> <td>   -1.222     0.916</td>\n",
        "</tr>\n",
        "<tr>\n",
        "  <th>C(rate_marriage, Diff)[D.1 very poor]:C(religious, Diff)[D.2 mildly]</th> <td>    0.0736</td> <td>    1.043</td> <td>    0.071</td> <td> 0.944</td> <td>   -1.971     2.118</td>\n",
        "</tr>\n",
        "<tr>\n",
        "  <th>C(rate_marriage, Diff)[D.2 poor]:C(religious, Diff)[D.2 mildly]</th>      <td>    0.1231</td> <td>    0.626</td> <td>    0.197</td> <td> 0.844</td> <td>   -1.105     1.351</td>\n",
        "</tr>\n",
        "<tr>\n",
        "  <th>C(rate_marriage, Diff)[D.3 fair]:C(religious, Diff)[D.2 mildly]</th>      <td>    0.1705</td> <td>    0.446</td> <td>    0.382</td> <td> 0.702</td> <td>   -0.704     1.045</td>\n",
        "</tr>\n",
        "<tr>\n",
        "  <th>C(rate_marriage, Diff)[D.4 good]:C(religious, Diff)[D.2 mildly]</th>      <td>    0.2117</td> <td>    0.470</td> <td>    0.450</td> <td> 0.653</td> <td>   -0.710     1.134</td>\n",
        "</tr>\n",
        "<tr>\n",
        "  <th>C(rate_marriage, Diff)[D.1 very poor]:C(religious, Diff)[D.3 fairly]</th> <td>   -0.3884</td> <td>    2.005</td> <td>   -0.194</td> <td> 0.846</td> <td>   -4.320     3.543</td>\n",
        "</tr>\n",
        "<tr>\n",
        "  <th>C(rate_marriage, Diff)[D.2 poor]:C(religious, Diff)[D.3 fairly]</th>      <td>    0.1987</td> <td>    1.323</td> <td>    0.150</td> <td> 0.881</td> <td>   -2.396     2.793</td>\n",
        "</tr>\n",
        "<tr>\n",
        "  <th>C(rate_marriage, Diff)[D.3 fair]:C(religious, Diff)[D.3 fairly]</th>      <td>   -0.0257</td> <td>    0.877</td> <td>   -0.029</td> <td> 0.977</td> <td>   -1.746     1.695</td>\n",
        "</tr>\n",
        "<tr>\n",
        "  <th>C(rate_marriage, Diff)[D.4 good]:C(religious, Diff)[D.3 fairly]</th>      <td>   -0.1461</td> <td>    0.866</td> <td>   -0.169</td> <td> 0.866</td> <td>   -1.844     1.552</td>\n",
        "</tr>\n",
        "</table>\n",
        "<table class=\"simpletable\">\n",
        "<tr>\n",
        "  <th>Omnibus:</th>       <td>2331.882</td> <th>  Durbin-Watson:     </th>  <td>   1.932</td> \n",
        "</tr>\n",
        "<tr>\n",
        "  <th>Prob(Omnibus):</th>  <td> 0.000</td>  <th>  Jarque-Bera (JB):  </th> <td>278923.061</td>\n",
        "</tr>\n",
        "<tr>\n",
        "  <th>Skew:</th>           <td> 5.666</td>  <th>  Prob(JB):          </th>  <td>    0.00</td> \n",
        "</tr>\n",
        "<tr>\n",
        "  <th>Kurtosis:</th>       <td>58.966</td>  <th>  Cond. No.          </th>  <td>    32.8</td> \n",
        "</tr>\n",
        "</table>"
       ],
       "output_type": "pyout",
       "prompt_number": 87,
       "text": [
        "<class 'statsmodels.iolib.summary.Summary'>\n",
        "\"\"\"\n",
        "                            OLS Regression Results                            \n",
        "==============================================================================\n",
        "Dep. Variable:                affairs   R-squared:                       0.033\n",
        "Model:                            OLS   Adj. R-squared:                  0.024\n",
        "Method:                 Least Squares   F-statistic:                     3.679\n",
        "Date:                Mon, 04 Mar 2013   Prob (F-statistic):           1.34e-07\n",
        "Time:                        15:51:34   Log-Likelihood:                -5412.8\n",
        "No. Observations:                2053   AIC:                         1.087e+04\n",
        "Df Residuals:                    2033   BIC:                         1.098e+04\n",
        "Df Model:                          19                                         \n",
        "========================================================================================================================================\n",
        "                                                                           coef    std err          t      P>|t|      [95.0% Conf. Int.]\n",
        "----------------------------------------------------------------------------------------------------------------------------------------\n",
        "Intercept                                                                2.0600      0.136     15.112      0.000         1.793     2.327\n",
        "C(rate_marriage, Diff)[D.1 very poor]                                    0.9534      0.602      1.584      0.113        -0.227     2.134\n",
        "C(rate_marriage, Diff)[D.2 poor]                                        -0.0667      0.380     -0.176      0.861        -0.812     0.679\n",
        "C(rate_marriage, Diff)[D.3 fair]                                        -0.4183      0.256     -1.631      0.103        -0.921     0.085\n",
        "C(rate_marriage, Diff)[D.4 good]                                        -0.2024      0.256     -0.791      0.429        -0.704     0.299\n",
        "C(religious, Diff)[D.1 not]                                             -1.0487      0.299     -3.511      0.000        -1.634    -0.463\n",
        "C(religious, Diff)[D.2 mildly]                                          -0.3181      0.239     -1.333      0.183        -0.786     0.150\n",
        "C(religious, Diff)[D.3 fairly]                                          -0.5155      0.456     -1.130      0.259        -1.410     0.379\n",
        "C(rate_marriage, Diff)[D.1 very poor]:C(religious, Diff)[D.1 not]       -2.1393      1.333     -1.605      0.109        -4.753     0.474\n",
        "C(rate_marriage, Diff)[D.2 poor]:C(religious, Diff)[D.1 not]             0.7823      0.749      1.045      0.296        -0.686     2.250\n",
        "C(rate_marriage, Diff)[D.3 fair]:C(religious, Diff)[D.1 not]             0.9069      0.532      1.705      0.088        -0.136     1.950\n",
        "C(rate_marriage, Diff)[D.4 good]:C(religious, Diff)[D.1 not]            -0.1530      0.545     -0.281      0.779        -1.222     0.916\n",
        "C(rate_marriage, Diff)[D.1 very poor]:C(religious, Diff)[D.2 mildly]     0.0736      1.043      0.071      0.944        -1.971     2.118\n",
        "C(rate_marriage, Diff)[D.2 poor]:C(religious, Diff)[D.2 mildly]          0.1231      0.626      0.197      0.844        -1.105     1.351\n",
        "C(rate_marriage, Diff)[D.3 fair]:C(religious, Diff)[D.2 mildly]          0.1705      0.446      0.382      0.702        -0.704     1.045\n",
        "C(rate_marriage, Diff)[D.4 good]:C(religious, Diff)[D.2 mildly]          0.2117      0.470      0.450      0.653        -0.710     1.134\n",
        "C(rate_marriage, Diff)[D.1 very poor]:C(religious, Diff)[D.3 fairly]    -0.3884      2.005     -0.194      0.846        -4.320     3.543\n",
        "C(rate_marriage, Diff)[D.2 poor]:C(religious, Diff)[D.3 fairly]          0.1987      1.323      0.150      0.881        -2.396     2.793\n",
        "C(rate_marriage, Diff)[D.3 fair]:C(religious, Diff)[D.3 fairly]         -0.0257      0.877     -0.029      0.977        -1.746     1.695\n",
        "C(rate_marriage, Diff)[D.4 good]:C(religious, Diff)[D.3 fairly]         -0.1461      0.866     -0.169      0.866        -1.844     1.552\n",
        "==============================================================================\n",
        "Omnibus:                     2331.882   Durbin-Watson:                   1.932\n",
        "Prob(Omnibus):                  0.000   Jarque-Bera (JB):           278923.061\n",
        "Skew:                           5.666   Prob(JB):                         0.00\n",
        "Kurtosis:                      58.966   Cond. No.                         32.8\n",
        "==============================================================================\n",
        "\"\"\""
       ]
      }
     ],
     "prompt_number": 87
    },
    {
     "cell_type": "markdown",
     "metadata": {},
     "source": [
      "La lista delle interazione \u00e8 colossale, ma con un p\u00f2 di tempo sarebbe possibile leggerle tutte e ricercare quali siano significative e quali no. Il problema \u00e8 che facendo una serie di test a tappeto in questa maniera (stiamo testando 20 differenti ipotesi), inizia ad esserci il rischio concreto di osservare dei p-value che risultino significativi per puro caso.\n",
      "\n",
      "Per ovviare a questo \u00e8 possibile utilizzare un metodo di correzione di questi p-value che tenga conto del numero di test contemporanei effettuati e ne modifichi il valore in modo da poter continuare ad utilizzare una soglia di significativit\u00e0 al 5%.\n",
      "\n",
      "Questa correzione in statsmodels \u00e8 effettuata tramite la funzione multitest"
     ]
    },
    {
     "cell_type": "code",
     "collapsed": false,
     "input": [
      "from statsmodels.api import stats\n",
      "adj_pvalues = stats.multipletests(res.pvalues)[1]\n",
      "pd.Series(adj_pvalues, index=res.pvalues.index).order()"
     ],
     "language": "python",
     "metadata": {},
     "outputs": [
      {
       "output_type": "pyout",
       "prompt_number": 92,
       "text": [
        "Intercept                                                       0.000000\n",
        "C(religious, Diff)[D.1 not]                                     0.008622\n",
        "C(rate_marriage, Diff)[D.3 fair]:C(religious, Diff)[D.1 not]    0.810670\n",
        "C(rate_marriage, Diff)[D.1 very poor]                           0.842585\n",
        "C(rate_marriage, Diff)[D.3 fair]                                0.842585\n",
        "C(rate_marriage, Diff)[D.1 very poor]:C(religious, Diff)[D.1 not]    0.842585\n",
        "C(religious, Diff)[D.2 mildly]                                  0.940544\n",
        "C(religious, Diff)[D.3 fairly]                                  0.979553\n",
        "C(rate_marriage, Diff)[D.2 poor]:C(religious, Diff)[D.1 not]    0.985201\n",
        "C(rate_marriage, Diff)[D.4 good]                                0.997893\n",
        "C(rate_marriage, Diff)[D.4 good]:C(religious, Diff)[D.2 mildly]    0.999974\n",
        "C(rate_marriage, Diff)[D.3 fair]:C(religious, Diff)[D.2 mildly]    0.999982\n",
        "C(rate_marriage, Diff)[D.4 good]:C(religious, Diff)[D.1 not]    0.999994\n",
        "C(rate_marriage, Diff)[D.2 poor]                                0.999998\n",
        "C(rate_marriage, Diff)[D.1 very poor]:C(religious, Diff)[D.2 mildly]    0.999998\n",
        "C(rate_marriage, Diff)[D.2 poor]:C(religious, Diff)[D.2 mildly]    0.999998\n",
        "C(rate_marriage, Diff)[D.1 very poor]:C(religious, Diff)[D.3 fairly]    0.999998\n",
        "C(rate_marriage, Diff)[D.2 poor]:C(religious, Diff)[D.3 fairly]    0.999998\n",
        "C(rate_marriage, Diff)[D.3 fair]:C(religious, Diff)[D.3 fairly]    0.999998\n",
        "C(rate_marriage, Diff)[D.4 good]:C(religious, Diff)[D.3 fairly]    0.999998"
       ]
      }
     ],
     "prompt_number": 92
    },
    {
     "cell_type": "markdown",
     "metadata": {},
     "source": [
      "Come possiamo vedere la correzione per i test multipli ha distrutto praticamente tutte le significativit\u00e0 a parte quella del gruppo dei non religiosi.\n",
      "\n",
      "Questo \u00e8 un fenomeno molto comune quando si analizzano modelli molto complicati: aumentando il numero delle componenti prese in esame, la loro importanza nel modello complessivo diminuisce fino a perdersi in mezzo al rumore."
     ]
    },
    {
     "cell_type": "markdown",
     "metadata": {},
     "source": [
      "----\n",
      "#Scikits.learn - Machine learning\n",
      "\n",
      "http://scikit-learn.org\n",
      "\n",
      "Scikits.learn \u00e8 forse la libreria fra quelle che vedremo oggi pi\u00f9 attivamente sviluppata e con il maggior numero di collaboratori, e l'ampiezza di questa libreria si pu\u00f2 facilmente intuire dalle dimensioni del suo manuale, che ha superato le 1000 pagine qualche mese f\u00e0.\n",
      "\n",
      "Quella che segue \u00e8 quindi ovviamente lungi dall'essere anche soltanto una panoramica completa, vuole solo essere un antipasto per far venire la curiosit\u00e0 di approfondire le sue potenzialit\u00e0."
     ]
    },
    {
     "cell_type": "code",
     "collapsed": false,
     "input": [
      "import sklearn\n",
      "print sklearn.__version__\n",
      "from sklearn import datasets, svm"
     ],
     "language": "python",
     "metadata": {},
     "outputs": [
      {
       "output_type": "stream",
       "stream": "stdout",
       "text": [
        "0.13.1\n"
       ]
      }
     ],
     "prompt_number": 8
    },
    {
     "cell_type": "markdown",
     "metadata": {},
     "source": [
      "Per iniziare a sperimentare ci cimentiamo con un problema di classificazione, ovvero del corretto riconoscimente della categoria di appartenenza di un oggetto data una serie di features. \n",
      "\n",
      "Giocheremo con uno dei dataset inclusi nella libreria, contenente delle immagini (64x64) di cifre scritte a mano. Ci\u00f2 che vogliamo fare \u00e8 costruire un semplice predittore che data l'immagine riconosca in modo pi\u00f9 o meno corretto la cifra scritta."
     ]
    },
    {
     "cell_type": "code",
     "collapsed": false,
     "input": [
      "digits = datasets.load_digits()\n",
      "data = digits['data']\n",
      "target = digits['target']\n",
      "print \"etichette da classificare:\", len(target)\n",
      "print \"feature disponibili:\", data.shape\n",
      "print \"ultima etichetta:\", target[-1]\n",
      "print \"forma del numero:\"\n",
      "imshow(data[-1].reshape(8,8),cmap='gray');"
     ],
     "language": "python",
     "metadata": {},
     "outputs": [
      {
       "output_type": "stream",
       "stream": "stdout",
       "text": [
        "etichette da classificare: 1797\n",
        "feature disponibili: (1797, 64)\n",
        "ultima etichetta: 8\n",
        "forma del numero:\n"
       ]
      },
      {
       "output_type": "display_data",
       "png": "[encoded data removed]"
      }
     ],
     "prompt_number": 10
    },
    {
     "cell_type": "markdown",
     "metadata": {},
     "source": [
      "Come possiamo vedere anche per un essere umano il compito di riconoscere di che cifra si tratti non \u00e8 banale.\n",
      "\n",
      "Classificheremo le nostre cifre tramite una Support Vector Machine (SVC). Tutti i classificatori espongono la stessa sintassi di base, simile a quanto gi\u00e0 visto in precedenza su statsmodels: Una volta creato il modello ne faccio il fit su una serie di dati di training, per poi predire la categoria dei dati di test.\n",
      "\n",
      "In machine learning \u00e8 infatti fondamentale ricordare di mantenere una parte del proprio dataset da parte per poter verificare che il nostro predittore sia in grado di classificare dei dati mai visti, sia ovvero in grado di generalizzare l'informazione contenuta nei dati di training."
     ]
    },
    {
     "cell_type": "code",
     "collapsed": false,
     "input": [
      "clf = svm.SVC(gamma=0.001, C=100.)\n",
      "clf.fit(data[:-1], target[:-1])\n",
      "print clf.predict(data[-1])"
     ],
     "language": "python",
     "metadata": {},
     "outputs": [
      {
       "output_type": "stream",
       "stream": "stdout",
       "text": [
        "[8]\n"
       ]
      }
     ],
     "prompt_number": 11
    },
    {
     "cell_type": "markdown",
     "metadata": {},
     "source": [
      "----\n",
      "## cross validation\n",
      "\n",
      "La maniera migliore per valutare la performance del nostro classificatore \u00e8 valutare che percentuale dei dati di test classifica correttamente. Ripetere questa operazione pi\u00f9 volte permette di ottenere la **cross validation**, che \u00e8 il valore solitamente fornito per indicare la qualit\u00e0 della macchina."
     ]
    },
    {
     "cell_type": "code",
     "collapsed": false,
     "input": [
      "svc = svm.SVC(C=1, kernel='linear')\n",
      "svc.fit(data[:-100], target[:-100]).score(data[-100:], target[-100:])"
     ],
     "language": "python",
     "metadata": {},
     "outputs": [
      {
       "output_type": "pyout",
       "prompt_number": 15,
       "text": [
        "0.97999999999999998"
       ]
      }
     ],
     "prompt_number": 15
    },
    {
     "cell_type": "markdown",
     "metadata": {},
     "source": [
      "Per fare questa operazione tediosa in modo automatico Scikits.learn fornisce la classe KFold, che crea una lista di possibili divisioni del dataset in training e test."
     ]
    },
    {
     "cell_type": "code",
     "collapsed": false,
     "input": [
      "from sklearn import cross_validation\n",
      "#questo equivale ad un leave one out cross validation\n",
      "k_fold = cross_validation.KFold(n=6, n_folds=6, indices=True)\n",
      "#stampami gli indici del train e test set\n",
      "for train_indices, test_indices in k_fold:\n",
      "    print 'Train: %s | test: %s' % (train_indices, test_indices)"
     ],
     "language": "python",
     "metadata": {},
     "outputs": [
      {
       "output_type": "stream",
       "stream": "stdout",
       "text": [
        "Train: [1 2 3 4 5] | test: [0]\n",
        "Train: [0 2 3 4 5] | test: [1]\n",
        "Train: [0 1 3 4 5] | test: [2]\n",
        "Train: [0 1 2 4 5] | test: [3]\n",
        "Train: [0 1 2 3 5] | test: [4]\n",
        "Train: [0 1 2 3 4] | test: [5]\n"
       ]
      }
     ],
     "prompt_number": 16
    },
    {
     "cell_type": "markdown",
     "metadata": {},
     "source": [
      "Iterando sugl indici ritornati da KFold permette di fare in maniera pi\u00f9 comoda la cross validation."
     ]
    },
    {
     "cell_type": "code",
     "collapsed": false,
     "input": [
      "k_fold = cross_validation.KFold(n=len(data), n_folds=10, indices=True)\n",
      "for train, test in k_fold:\n",
      "    svc_fit = svc.fit(data[train], target[train])\n",
      "    print svc_fit.score(data[test], target[test])"
     ],
     "language": "python",
     "metadata": {},
     "outputs": [
      {
       "output_type": "stream",
       "stream": "stdout",
       "text": [
        "0.938547486034\n",
        "0.994413407821"
       ]
      },
      {
       "output_type": "stream",
       "stream": "stdout",
       "text": [
        "\n",
        "0.932960893855"
       ]
      },
      {
       "output_type": "stream",
       "stream": "stdout",
       "text": [
        "\n",
        "0.966480446927"
       ]
      },
      {
       "output_type": "stream",
       "stream": "stdout",
       "text": [
        "\n",
        "0.966480446927"
       ]
      },
      {
       "output_type": "stream",
       "stream": "stdout",
       "text": [
        "\n",
        "0.988826815642"
       ]
      },
      {
       "output_type": "stream",
       "stream": "stdout",
       "text": [
        "\n",
        "0.977653631285"
       ]
      },
      {
       "output_type": "stream",
       "stream": "stdout",
       "text": [
        "\n",
        "0.977653631285"
       ]
      },
      {
       "output_type": "stream",
       "stream": "stdout",
       "text": [
        "\n",
        "0.927374301676"
       ]
      },
      {
       "output_type": "stream",
       "stream": "stdout",
       "text": [
        "\n",
        "0.951612903226"
       ]
      },
      {
       "output_type": "stream",
       "stream": "stdout",
       "text": [
        "\n"
       ]
      }
     ],
     "prompt_number": 17
    },
    {
     "cell_type": "markdown",
     "metadata": {},
     "source": [
      "Una funzione ancor\u00e0 pi\u00f9 utile \u00e8 **cross_val_score**, che effettua automaticamente la cross validation con lo schema indicato sulla macchina che ci interessa. in questa maniera verificarne le performance si riduce ad una chiamata di funzione."
     ]
    },
    {
     "cell_type": "code",
     "collapsed": false,
     "input": [
      "k_fold = cross_validation.KFold(n=len(data), n_folds=10, indices=True)\n",
      "\n",
      "results = cross_validation.cross_val_score(svc, data, target, cv=k_fold, n_jobs=-1)\n",
      "\n",
      "print results\n",
      "print np.mean(results)"
     ],
     "language": "python",
     "metadata": {},
     "outputs": [
      {
       "output_type": "stream",
       "stream": "stdout",
       "text": [
        "[ 0.93854749  0.99441341  0.93296089  0.96648045  0.96648045  0.98882682\n",
        "  0.97765363  0.97765363  0.9273743   0.9516129 ]\n",
        "0.962200396468\n"
       ]
      }
     ],
     "prompt_number": 19
    },
    {
     "cell_type": "markdown",
     "metadata": {},
     "source": [
      "----\n",
      "## feature reduction\n",
      "\n",
      "Molto spesso il numero di features a disposizione \u00e8 estremamente maggiore del necessario e buona parte di esse non contiene che rumore. Per risolvere questo problema esistono le tecniche di feature reduction. Fra queste la pi\u00f9 famosa \u00e8 sicuramente la Principal Component Analysis, che cerca di descrivere la direzione di massima sparsit\u00e0 dei dati in termini di combinazioni lineari delle features.\n",
      "\n",
      "Il risultato della PCA \u00e8 un nuovo set di features formato da una combinazione lineare delle precedenti, ordinate in base alla loro capacit\u00e0 di spiegare la variabilit\u00e0 osservata nei dati.\n",
      "\n",
      "Vediamo un semplice esempio: creo un dataset con tre features, di cui la terza \u00e8 semplicemente la combinazione delle due precedenti e non contiene quindi nessuna nuova informazione"
     ]
    },
    {
     "cell_type": "code",
     "collapsed": false,
     "input": [
      "# Create a signal with only 2 useful dimensions\n",
      "x1 = np.random.normal(size=200)\n",
      "x2 = np.random.normal(size=200)\n",
      "x3 = x1 + x2\n",
      "X = np.c_[x1, x2, x3]\n",
      "print X.shape\n",
      "\n",
      "from mpl_toolkits.mplot3d import Axes3D\n",
      "ax = plt.figure().add_subplot(111, projection='3d')\n",
      "ax.view_init(None,40)\n",
      "ax.scatter(x1,x2,x3);"
     ],
     "language": "python",
     "metadata": {},
     "outputs": [
      {
       "output_type": "stream",
       "stream": "stdout",
       "text": [
        "(200, 3)\n"
       ]
      },
      {
       "output_type": "display_data",
       "png": "[encoded data removed]"
      }
     ],
     "prompt_number": 22
    },
    {
     "cell_type": "markdown",
     "metadata": {},
     "source": [
      "Utilizzo la PCA come tutti i modelli finora, tramite un fit sui dati. Un'indicazione del risultato \u00e8 poi contenuta nella variabile interna del classificatore chiamata **explained_variance_**. Questa indica la varianza spiegata da ciascuna delle nuove componenti della PCA."
     ]
    },
    {
     "cell_type": "code",
     "collapsed": false,
     "input": [
      "from sklearn import decomposition\n",
      "pca = decomposition.PCA()\n",
      "pca.fit(X)\n",
      "#questo mi dice ciascuna componente quanta parte della varianza mi descrive\n",
      "print pca.explained_variance_  "
     ],
     "language": "python",
     "metadata": {},
     "outputs": [
      {
       "output_type": "stream",
       "stream": "stdout",
       "text": [
        "[  2.72868340e+00   1.00083523e+00   5.35438279e-32]\n"
       ]
      }
     ],
     "prompt_number": 23
    },
    {
     "cell_type": "markdown",
     "metadata": {},
     "source": [
      "Posso poi usare la mia PCA per trasformare dei dati (in questo caso gli stessi di partenza, ma in generale saranno diversi) dalle features iniziali a quelle calcolate con la PCA"
     ]
    },
    {
     "cell_type": "code",
     "collapsed": false,
     "input": [
      "# As we can see, only the 2 first components are useful\n",
      "pca.n_components = 2\n",
      "X_reduced = pca.fit_transform(X)\n",
      "print X_reduced.shape"
     ],
     "language": "python",
     "metadata": {},
     "outputs": [
      {
       "output_type": "stream",
       "stream": "stdout",
       "text": [
        "(200, 2)\n"
       ]
      }
     ],
     "prompt_number": 24
    },
    {
     "cell_type": "markdown",
     "metadata": {},
     "source": [
      "Posso quindi applicare lo stesso principio ai dati visti in precedenza sulle digit. Faccio un plot della varianza spiegata da ciascuna feature, potendo cos\u00ec decidere quante di queste tenere. "
     ]
    },
    {
     "cell_type": "code",
     "collapsed": false,
     "input": [
      "pca = decomposition.PCA()\n",
      "pca.fit(data)\n",
      "plot( pca.explained_variance_, linestyle='steps-mid');"
     ],
     "language": "python",
     "metadata": {},
     "outputs": [
      {
       "output_type": "display_data",
       "png": "[encoded data removed]"
      }
     ],
     "prompt_number": 25
    },
    {
     "cell_type": "markdown",
     "metadata": {},
     "source": [
      "scegliamo solo le prime 10 componenti e usiamole per la classificazione"
     ]
    },
    {
     "cell_type": "code",
     "collapsed": false,
     "input": [
      "pca.n_components = 10\n",
      "data_reduced = pca.fit_transform(data)\n",
      "\n",
      "kfold = cross_validation.KFold(n=len(data_reduced), k=10, indices=True)\n",
      "cvscore = cross_validation.cross_val_score\n",
      "results = cvscore(svc, data_reduced, target, cv=kfold, n_jobs=-1)\n",
      "print results\n",
      "print np.mean(results)"
     ],
     "language": "python",
     "metadata": {},
     "outputs": [
      {
       "output_type": "stream",
       "stream": "stdout",
       "text": [
        "[ 0.92178771  0.93296089  0.89944134  0.90502793  0.94413408  0.97765363\n",
        "  0.93854749  0.93296089  0.89385475  0.91935484]\n",
        "0.926572355379\n"
       ]
      }
     ],
     "prompt_number": 322
    },
    {
     "cell_type": "markdown",
     "metadata": {},
     "source": [
      "In generale \u00e8 necessario prestare attenzione alla normalizzazione dei dati: infatti feature con media e varianza superiore alle altre domineranno il calcolo della varianza senza per questo contenere un maggior contenuto informativo. \u00c8 buona norma quindi lavorare non con le features originali ma con delle features intermedie ottenute normalizzando quelle di partenza."
     ]
    },
    {
     "cell_type": "markdown",
     "metadata": {},
     "source": [
      "----\n",
      "#Ottimizzazione dei parametri\n",
      "\n",
      "Un altro dilemma comune \u00e8 la scelta dei parametri. Per farlo \u00e8 normalmente necessario provare una serie di valori plausibili dei parametri e vedere per quali ho la miglior classificazione valutata tramite cross validation. Come potrete intuire, anche questa procedura, essendo concettualmente semplice e molto ripetitiva, \u00e8 particolarmente adatta ad essere automatizzata.\n",
      "\n",
      "In questo caso la classe di riferimento \u00e8 GridSearchCV. Per sperimentare un p\u00f2 con questa classe utilizziamo il famoso dataset *Iris*, che contiene le caratteristiche di vari tipi di fiori in termini di lunghezza del petalo, del pistillo, etc.."
     ]
    },
    {
     "cell_type": "code",
     "collapsed": false,
     "input": [
      "from sklearn import svm, grid_search, datasets\n",
      "iris = datasets.load_iris()"
     ],
     "language": "python",
     "metadata": {},
     "outputs": [],
     "prompt_number": 27
    },
    {
     "cell_type": "markdown",
     "metadata": {},
     "source": [
      "Scegliamo ora quale sia il parametro che vogliamo ottimizzare ed il range di parametri su cui vogliamo fare l'ottimizzazione. Se pi\u00f9 parametri vengono passati verr\u00e0 controllato l'intero spazio dei parametri descritto dal prodotto cartesiano dei valori forniti.\n",
      "\n",
      "Il parametro scelto, **C**, rappresenta una penalizzazione sull'errore compiuto dalla macchina, che esploriamo dal valore di 0.1 al valore di 2.0 a step di 0.1."
     ]
    },
    {
     "cell_type": "code",
     "collapsed": false,
     "input": [
      "param = {'C': np.arange(0.1, 2, 0.1)}"
     ],
     "language": "python",
     "metadata": {},
     "outputs": [],
     "prompt_number": 28
    },
    {
     "cell_type": "markdown",
     "metadata": {},
     "source": [
      "La gridsearch richiede soltanto il classificatore che desideriamo usare (una support vector regression machine) ed il parametro che vogliamo caratterizzare."
     ]
    },
    {
     "cell_type": "code",
     "collapsed": false,
     "input": [
      "svr = svm.SVR()\n",
      "clf = grid_search.GridSearchCV(svr, param)\n",
      "clf.fit(iris.data, iris.target)\n",
      "clf.best_params_"
     ],
     "language": "python",
     "metadata": {},
     "outputs": [
      {
       "output_type": "pyout",
       "prompt_number": 34,
       "text": [
        "{'C': 0.10000000000000001}"
       ]
      }
     ],
     "prompt_number": 34
    },
    {
     "cell_type": "markdown",
     "metadata": {},
     "source": [
      "Molti metodi implementano una propria versione ottimizzata della grid search, ed \u00e8 quindi possibile ottenere risultati superiori e pi\u00f9 rapidi.\n",
      "\n",
      "Questo metodo \u00e8 particolarmente utile in combinazione con La classe Pipeline, che crea un unico super-predittore a partire da una serie di predittori, i cui risultati vengono dati uno in pasto all'altro in sequenza, permettendo di ottimizzare l'intera sequenza invece che le singole componenti."
     ]
    },
    {
     "cell_type": "code",
     "collapsed": false,
     "input": [
      "from sklearn.pipeline import Pipeline\n",
      "from sklearn.svm import SVC\n",
      "from sklearn.decomposition import PCA\n",
      "from sklearn.grid_search import GridSearchCV\n",
      "\n",
      "estimators = [('reduce_dim', PCA()), ('svm', SVC())]\n",
      "clf = Pipeline(estimators)"
     ],
     "language": "python",
     "metadata": {},
     "outputs": [],
     "prompt_number": 36
    },
    {
     "cell_type": "code",
     "collapsed": false,
     "input": [
      "clf.set_params(svm__C=10)\n",
      "params = dict(reduce_dim__n_components=[2, 5, 10], svm__C=[0.1, 10, 100])\n",
      "grid_search = GridSearchCV(clf, param_grid=params)"
     ],
     "language": "python",
     "metadata": {},
     "outputs": [],
     "prompt_number": 37
    },
    {
     "cell_type": "code",
     "collapsed": false,
     "input": [
      "grid_search.fit(iris.data, iris.target)\n",
      "grid_search.best_params_"
     ],
     "language": "python",
     "metadata": {},
     "outputs": [
      {
       "output_type": "pyout",
       "prompt_number": 38,
       "text": [
        "{'reduce_dim__n_components': 5, 'svm__C': 10}"
       ]
      }
     ],
     "prompt_number": 38
    },
    {
     "cell_type": "markdown",
     "metadata": {},
     "source": [
      "----\n",
      "#PyMC - Statistica Bayesiana tramite simulazioni MonteCarlo\n",
      "\n",
      "https://github.com/pymc-devs/pymc\n",
      "\n",
      "PyMC \u00e8 una libreria che implementa la statistica bayesiana tramite simulazioni MonteCarlo, ed \u00e8 quella che trovo pi\u00f9 affascinante fra quelle mostrate in questa lezione.\n",
      "\n",
      "Un ottimo libro introduttivo (in inglese) alla statistica bayesiana ed a PyMC si trova all'indirizzo:\n",
      "\n",
      "https://github.com/CamDavidsonPilon/Probabilistic-Programming-and-Bayesian-Methods-for-Hackers\n",
      "\n",
      "Tramite PyMC \u00e8 possibile descrivere ad alto livello il nostro modello in termini di distribuzioni di probabilit\u00e0 ed ottenere da queste una stima delle distribuzioni a posteriori dopo le osservazioni compiute."
     ]
    },
    {
     "cell_type": "code",
     "collapsed": false,
     "input": [
      "import pymc\n",
      "from pymc.Matplot import plot as Mplot"
     ],
     "language": "python",
     "metadata": {},
     "outputs": [],
     "prompt_number": 39
    },
    {
     "cell_type": "markdown",
     "metadata": {},
     "source": [
      "Vediamo ora un esempio minimale: Dato un processo che immaginiamo essere descrivibile da una distribuzione di Poisson, stimare la media di questa distribuzione a partire da una osservazione.\n",
      "\n",
      "Per far questo dobbiamo creare una distribuzione che rappresenta la nostra conoscenza a priori del valore della media, che rappresentiamo con una distribuzione uniforme estremamente ampia ad indicare la nostra mancanza di informazioni iniziali. \n",
      "\n",
      "Dopo di questa definiamo i nostri dati osservati come una distribuzione di Poisson di cui si sono fatte delle certe osservazioni. Questa distribuzione \u00e8 caratterizzata da una media che \u00e8 data dalla distribuzione di cui prima.\n",
      "\n",
      "PyMC simuler\u00e0 il sistema per un numero di step a nostra scelta ed a partire da questa stimer\u00e0 la distribuzione di probabilit\u00e0 della media dopo la nostra osservazione."
     ]
    },
    {
     "cell_type": "code",
     "collapsed": false,
     "input": [
      "mean = pymc.Uniform('mean', lower=0.0, upper=100.0)\n",
      "\n",
      "observed = pymc.Poisson('observed', mu=mean, value=12, observed=True)\n",
      "\n",
      "model = pymc.MCMC([mean, observed])\n",
      "\n",
      "model.sample(iter=8000)"
     ],
     "language": "python",
     "metadata": {},
     "outputs": [
      {
       "output_type": "stream",
       "stream": "stdout",
       "text": [
        " \r",
        "[****************100%******************]  8000 of 8000 complete"
       ]
      },
      {
       "output_type": "stream",
       "stream": "stdout",
       "text": [
        "\n"
       ]
      }
     ],
     "prompt_number": 43
    },
    {
     "cell_type": "markdown",
     "metadata": {},
     "source": [
      "Dopo la simulazione abbiamo accesso a tutti i valori assunti dal nostro parametro, che rappresentano la distribuzione desiderata."
     ]
    },
    {
     "cell_type": "code",
     "collapsed": false,
     "input": [
      "print model.stats()['mean']['mean']\n",
      "hist(model.trace('mean')[:], bins=30);"
     ],
     "language": "python",
     "metadata": {},
     "outputs": [
      {
       "output_type": "stream",
       "stream": "stdout",
       "text": [
        "12.9777757743\n"
       ]
      },
      {
       "output_type": "display_data",
       "png": "[encoded data removed]"
      }
     ],
     "prompt_number": 46
    },
    {
     "cell_type": "markdown",
     "metadata": {},
     "source": [
      "Abbiamo anche a disposizione una funzione che ci permette di controllare se il modello \u00e8 arrivato effettivamete a convergenza oppure no. Un modello a convergenza ha una traccia sostanzialmente di rumore piatto ed una funzione di autocorrelazione estremamente ristretta, mentre una non convergente avr\u00e0 dei trend visibili nella traccia e la funzione di autocorrelazione sar\u00e0 molto ampia.\n",
      "\n",
      "In caso \u00e8 possibile dare un valore di partenza specificato per la simulazione, in modo da favorire la convergenza."
     ]
    },
    {
     "cell_type": "code",
     "collapsed": false,
     "input": [
      "Mplot(model)"
     ],
     "language": "python",
     "metadata": {},
     "outputs": [
      {
       "output_type": "stream",
       "stream": "stdout",
       "text": [
        "Plotting mean\n"
       ]
      },
      {
       "output_type": "display_data",
       "png": "[encoded data removed]"
      }
     ],
     "prompt_number": 45
    },
    {
     "cell_type": "markdown",
     "metadata": {},
     "source": [
      "----\n",
      "##fitto una distribuzione gaussiana\n",
      "\n",
      "Il passaggio successivo \u00e8 il fit di un set di osservazioni, e non solo di una. in questo caso avremo bisogno di specificare una distribuzione per ogni dato (almeno in linea teorica), ma nel caso tutti di dati debbano seguire la stessa distribuzione possiano continuare ad usare un solo parametro.\n",
      "\n",
      "In questo caso faremo il fit di una distribuzione gaussiana con varianza nota a priori (per limitare il numero di parametri da descrivere in questa sede)"
     ]
    },
    {
     "cell_type": "code",
     "collapsed": false,
     "input": [
      "data = randn(100)+100.0\n",
      "hist(data);"
     ],
     "language": "python",
     "metadata": {},
     "outputs": [
      {
       "output_type": "display_data",
       "png": "[encoded data removed]"
      }
     ],
     "prompt_number": 30
    },
    {
     "cell_type": "code",
     "collapsed": false,
     "input": [
      "# distribuzione sul parametro da trovare, la media\n",
      "mean = pymc.Uniform('mean', lower=min(data), upper=max(data))\n",
      "\n",
      "# il processo che crea i miei dati \u00e8 una gaussiana con \n",
      "# precisione fissata e media stocastica\n",
      "process = pymc.Normal('process', mu=mean, tau=1.0, value=data, observed=True)\n",
      "model_ = pymc.Model([data, mean, process])"
     ],
     "language": "python",
     "metadata": {},
     "outputs": [],
     "prompt_number": 31
    },
    {
     "cell_type": "code",
     "collapsed": false,
     "input": [
      "#creo il mio modello e lo simulo tramite un algoritmo di montecarlo\n",
      "model = pymc.MCMC(model_)\n",
      "model.sample(iter=10000)"
     ],
     "language": "python",
     "metadata": {},
     "outputs": [
      {
       "output_type": "stream",
       "stream": "stdout",
       "text": [
        " \r",
        "[****************100%******************]  10000 of 10000 complete"
       ]
      },
      {
       "output_type": "stream",
       "stream": "stdout",
       "text": [
        "\n"
       ]
      }
     ],
     "prompt_number": 32
    },
    {
     "cell_type": "code",
     "collapsed": false,
     "input": [
      "Mplot(model)"
     ],
     "language": "python",
     "metadata": {},
     "outputs": [
      {
       "output_type": "stream",
       "stream": "stdout",
       "text": [
        "Plotting mean\n"
       ]
      },
      {
       "output_type": "display_data",
       "png": "[encoded data removed]"
      }
     ],
     "prompt_number": 33
    },
    {
     "cell_type": "markdown",
     "metadata": {},
     "source": [
      "----\n",
      "##esempio di diagnosi\n",
      "\n",
      "ho una certa diffusione di un carattere genetico nella popolazione (che chiamer\u00f2 $p$). Questo carattere genetico modifica la conta di cellule bianche nel sangue: se \u00e8 presente ne conto in media 30, mentre se \u00e8 assente soltanto 10. Data un'osservazione di 15 globuli bianchi, quale sar\u00e0 la probabilit\u00e0 di avere la malattia?\n",
      "\n",
      "Devo tener conto della diffusione a priori del gene nella popolazione per poterlo valutare! Se sappiamo che nella popolazione solo il $10\\%$ possiede il gene mutante, ed ho un'incertezza del $\\pm 5\\%$, posso rappresentare la mia conoscenza a priori con una distribuzione Beta con parametri $a=3.5$ e $b=31.5$. Il valore di questi parametri \u00e8 stato fatto invertendo le formule di media e varianza della distribuzione Beta."
     ]
    },
    {
     "cell_type": "code",
     "collapsed": false,
     "input": [
      "# questo rappresenta la frequenza nella popolazione, \n",
      "#non mi aspetto che cambi con una sola osservazione\n",
      "frequenza = pymc.Beta('frequenza', alpha=3.5 , beta=31.5, value=0.5)\n",
      "\n",
      "# questo rappresenta il fatto che il singolo individuo misurato \n",
      "# sia o meno una variante del gene\n",
      "# se avessi pi\u00f9 osservazioni dovrei avere una realizzazione per ogni osservazione!\n",
      "gene_variante = pymc.Bernoulli('gene_variante', p=frequenza)\n",
      "\n",
      "# questo mi d\u00e0 la formula determistica che mi dice in base alla presenza del gene\n",
      "# quale sia la media di conteggio che mi aspetto\n",
      "@pymc.deterministic\n",
      "def media(gene_variante=gene_variante):\n",
      "    return where(gene_variante, 20.0, 10.0)\n",
      "\n",
      "# il valore che realmente osservo\n",
      "osservato = 17\n",
      "# questa \u00e8 la distribuzione della mia osservazione\n",
      "# visto che mi aspetto che sia generato tramite un processo di poisson anche se\n",
      "# \u00e8 un data \"fissato\"\n",
      "conteggio = pymc.Poisson('conteggio', mu=media, value=osservato, observed=True)"
     ],
     "language": "python",
     "metadata": {},
     "outputs": [],
     "prompt_number": 36
    },
    {
     "cell_type": "code",
     "collapsed": false,
     "input": [
      "#costruisco il modello e lo simulo\n",
      "model = pymc.MCMC([frequenza, gene_variante, media, conteggio])\n",
      "model.sample(iter=4000, burn=500)\n",
      "\n",
      "stats_gene = model.stats()['gene_variante']\n",
      "print\n",
      "s = \"probabilit\u00e0 di avere la variante del gene: {:.1f} +/- {:.1f}\"\n",
      "print s.format(stats_gene['mean'], stats_gene['standard deviation'])"
     ],
     "language": "python",
     "metadata": {},
     "outputs": [
      {
       "output_type": "stream",
       "stream": "stdout",
       "text": [
        " \r",
        "[****************100%******************]  4000 of 4000 complete"
       ]
      },
      {
       "output_type": "stream",
       "stream": "stdout",
       "text": [
        "\n",
        "probabilit\u00e0 di avere la variante del gene: 0.4 +/- 0.5\n"
       ]
      }
     ],
     "prompt_number": 37
    },
    {
     "cell_type": "markdown",
     "metadata": {},
     "source": [
      "----\n",
      "##fit di un burst proteico\n",
      "\n",
      "Passiamo ad un modello pi\u00f9 comlicato, in cui abbiamo due possibili distribuzione che coesistono per descrivere gli stessi dati.\n",
      "\n",
      "Voglio descrivere il numero di proteine osservate in un burst di produzione. In generale ho una probabilit\u00e0 che il DNA sia aperto e produca proteine con una certa media, o sia chiuso e non ne produca affatto. Vogliamo determinare quale sia questa probabilit\u00e0 dato un certo numero di osservazioni. Per prima cosa generiamo dei dati sintetici per testare il nostro algoritmo.\n",
      "\n",
      "Quello che vogliamo stimare \u00e8 la probabilit\u00e0 di apertura del DNA e quale sia la dimensione del burst proteico in caso di apertura."
     ]
    },
    {
     "cell_type": "code",
     "collapsed": false,
     "input": [
      "#genero dei dati sintetici\n",
      "N = 10\n",
      "real_p = 0.9\n",
      "real_lambda = 2.0\n",
      "DNA = np.random.random(size=N)<real_p\n",
      "proteins = DNA * np.random.poisson(real_lambda, size=N)\n",
      "hist(proteins, bins=linspace(min(proteins), max(proteins)),rwidth=500);"
     ],
     "language": "python",
     "metadata": {},
     "outputs": [
      {
       "output_type": "display_data",
       "png": "[encoded data removed]"
      }
     ],
     "prompt_number": 47
    },
    {
     "cell_type": "markdown",
     "metadata": {},
     "source": [
      "Le nostre ipotesi di partenza sono una totale ignoranza del valore di probabilit\u00e0 di apertura (rappresentato da una distribuzione uniforme) ed una certa convinzione che la dimensione del burst sia limitata superiormente (rappresentato da una distribuzione esponenziale con media 10)."
     ]
    },
    {
     "cell_type": "code",
     "collapsed": false,
     "input": [
      "#descrivo il modello\n",
      "\n",
      "#probabilit\u00e0 di apertura\n",
      "p_open = pymc.Uniform('p', lower=0.0, upper=1.0)\n",
      "switch = pymc.Bernoulli('switch', p_open, size=len(proteins))\n",
      "# dimensione del burst proteico in caso di apertura\n",
      "burst_n = pymc.Exponential('burst', 0.1)\n",
      "\n",
      "# in base all'apertura seleziono la media giusta\n",
      "# in caso di chiusura la metto piccola ma non zero per evitare problemi numerici\n",
      "@pymc.deterministic\n",
      "def mu(switch=switch, burst_n=burst_n):\n",
      "    return where(switch, burst_n,1e-5)\n",
      "\n",
      "observed = pymc.Poisson('observed', mu=mu, value=proteins, observed=True)"
     ],
     "language": "python",
     "metadata": {},
     "outputs": [],
     "prompt_number": 48
    },
    {
     "cell_type": "code",
     "collapsed": false,
     "input": [
      "model = pymc.MCMC([p_open, burst_n, switch, mu, observed])\n",
      "model.sample(iter=20000, burn=5000)"
     ],
     "language": "python",
     "metadata": {},
     "outputs": [
      {
       "output_type": "stream",
       "stream": "stdout",
       "text": [
        " \r",
        "[****************100%******************]  20000 of 20000 complete"
       ]
      },
      {
       "output_type": "stream",
       "stream": "stdout",
       "text": [
        "\n"
       ]
      }
     ],
     "prompt_number": 40
    },
    {
     "cell_type": "code",
     "collapsed": false,
     "input": [
      "stats = model.stats()\n",
      "print real_p, '\\t',stats['p']['mean'], '+/-', stats['p']['standard deviation']\n",
      "sb = stats['burst']\n",
      "print real_lambda, '\\t', sb['mean'], '+/-', sb['standard deviation']"
     ],
     "language": "python",
     "metadata": {},
     "outputs": [
      {
       "output_type": "stream",
       "stream": "stdout",
       "text": [
        "0.9 \t0.820271593817 +/- 0.121709864719\n",
        "2.0 \t2.26205528608 +/- 0.535288552933\n"
       ]
      }
     ],
     "prompt_number": 41
    },
    {
     "cell_type": "markdown",
     "metadata": {},
     "source": [
      "Possiamo vedere come solo con 10 osservazioni abbiamo una stima abbastanza accurata dei nostri parametri."
     ]
    },
    {
     "cell_type": "code",
     "collapsed": false,
     "input": [
      "Mplot(model)"
     ],
     "language": "python",
     "metadata": {},
     "outputs": [
      {
       "output_type": "stream",
       "stream": "stdout",
       "text": [
        "Plotting p\n",
        "Plotting"
       ]
      },
      {
       "output_type": "stream",
       "stream": "stdout",
       "text": [
        " burst\n"
       ]
      },
      {
       "output_type": "display_data",
       "png": "[encoded data removed]"
      },
      {
       "output_type": "display_data",
       "png": "[encoded data removed]"
      }
     ],
     "prompt_number": 42
    },
    {
     "cell_type": "markdown",
     "metadata": {},
     "source": [
      "----\n",
      "##fit di una mixture di distribuzioni di tipi differenti (esponenziale e gaussiana)\n",
      "\n",
      "Quest'ultimo esempio serve a rappresentare un caso in cui i dati sono descrivibili da due distribuzioni di tipo completamente diverso (e non come prima da due distribuzioni identiche ma con parametri diversi). In questo caso dovr\u00f2 dire a pymc come mi aspetto di combinare queste due distribuzioni.\n",
      "\n",
      "Questo modello sarebbe quasi impossibile da affrontare con la statistica inferenziale classica, ma si rivela solo marginalmente pi\u00f9 complesso dei precedenti una volta descritto nel framwork della statistica bayesiana."
     ]
    },
    {
     "cell_type": "code",
     "collapsed": false,
     "input": [
      "#genero i dati sintetici\n",
      "N = 200\n",
      "data = r_[ np.random.exponential(1.0, size=N), np.random.normal(10.0, 1.0, size=3*N) ]\n",
      "hist(data, bins=30);"
     ],
     "language": "python",
     "metadata": {},
     "outputs": [
      {
       "output_type": "display_data",
       "png": "[encoded data removed]"
      }
     ],
     "prompt_number": 43
    },
    {
     "cell_type": "code",
     "collapsed": false,
     "input": [
      "import scipy.stats as st\n",
      "\n",
      "# selezione casuale del processo di generazione\n",
      "dist_switch = pymc.Uniform('dist_switch', lower=0.0, upper=1.0)\n",
      "switch = pymc.Bernoulli('switch', dist_switch, size=len(data), plot=False)\n",
      "\n",
      "# parametri della distribuzione esponenziale e di quella gaussiana\n",
      "exp_beta = pymc.Exponential('exp_beta', 0.1)\n",
      "mean = pymc.Exponential('mean', 0.1)\n",
      "deviation = pymc.Exponential('deviation', 0.1)\n",
      "\n",
      "#deve ritornare la log-probability complessiva di osservare il valore dati i genitori\n",
      "@pymc.stochastic(observed=True)\n",
      "def observed(switch=switch, exp_beta=exp_beta, mean=mean, \n",
      "        deviation=deviation, value=data):\n",
      "    # calcolo la log probabilit\u00e0 se fossero tutte esponenziali\n",
      "    exponential_logpdf = st.expon.logpdf(value, scale=exp_beta)\n",
      "    # calcolo la log probabilit\u00e0 se fossero tutte gaussiane\n",
      "    normal_logpdf = st.norm.logpdf(value, loc=mean, scale=deviation)\n",
      "    # selezioni in base alla variabile di selezione switch\n",
      "    total_logpdf = np.where(switch, exponential_logpdf, normal_logpdf)\n",
      "    # ritorno la somma delle log-pdf\n",
      "    return np.sum(total_logpdf)    "
     ],
     "language": "python",
     "metadata": {},
     "outputs": [],
     "prompt_number": 45
    },
    {
     "cell_type": "code",
     "collapsed": false,
     "input": [
      "model = pymc.MCMC([dist_switch, switch, exp_beta, mean, deviation, observed])\n",
      "model.sample(iter=4000, burn=1500)"
     ],
     "language": "python",
     "metadata": {},
     "outputs": [
      {
       "output_type": "stream",
       "stream": "stdout",
       "text": [
        " \r",
        "[****************100%******************]  4000 of 4000 complete"
       ]
      },
      {
       "output_type": "stream",
       "stream": "stdout",
       "text": [
        "\n"
       ]
      }
     ],
     "prompt_number": 47
    },
    {
     "cell_type": "code",
     "collapsed": false,
     "input": [
      "Mplot(model)"
     ],
     "language": "python",
     "metadata": {},
     "outputs": [
      {
       "output_type": "stream",
       "stream": "stdout",
       "text": [
        "Plotting mean\n",
        "Plotting"
       ]
      },
      {
       "output_type": "stream",
       "stream": "stdout",
       "text": [
        " dist_switch\n",
        "Plotting"
       ]
      },
      {
       "output_type": "stream",
       "stream": "stdout",
       "text": [
        " exp_beta\n",
        "Plotting"
       ]
      },
      {
       "output_type": "stream",
       "stream": "stdout",
       "text": [
        " deviation\n"
       ]
      },
      {
       "output_type": "display_data",
       "png": "[encoded data removed]"
      },
      {
       "output_type": "display_data",
       "png": "[encoded data removed]"
      },
      {
       "output_type": "display_data",
       "png": "[encoded data removed]"
      },
      {
       "output_type": "display_data",
       "png": "[encoded data removed]"
      }
     ],
     "prompt_number": 48
    },
    {
     "cell_type": "markdown",
     "metadata": {},
     "source": [
      "----\n",
      "#RPy2 - quando python non basta\n",
      "\n",
      "http://rpy.sourceforge.net/rpy2/doc-2.3/html/index.html\n",
      "\n",
      "http://rpy.sourceforge.net/rpy2/doc-2.3/html/introduction.html\n",
      "\n",
      "rpy2:\n",
      "\n",
      "- C-level interface between Python and R (R running as an embedded process)\n",
      "- R objects exposed to Python without the need to copy the data over\n",
      "- Conversely, Python's numpy arrays can be exposed to R without making a copy\n",
      "- Low-level interface (close to the R C-API) and high-level interface (for convenience)\n",
      "- In-place modification for vectors and arrays possible\n",
      "- R callback functions can be implemented in Python\n",
      "- Possible to have anonymous R objects with a Python label\n",
      "- Python pickling possible\n",
      "- Full customization of R's behavior with its console (so possible to implement a full R GUI)"
     ]
    },
    {
     "cell_type": "code",
     "collapsed": false,
     "input": [
      "from rpy2.robjects import r\n",
      "from rpy2 import robjects\n",
      "r['pi'][0]\n",
      "r('library(datasets)')\n",
      "com.convert_robj(r('mtcars'))\n",
      "robjects.r('''\n",
      "        f <- function(r, verbose=FALSE) {\n",
      "            if (verbose) {\n",
      "                cat(\"I am calling f().\\n\")\n",
      "            }\n",
      "            2 * pi * r\n",
      "        }\n",
      "        ''')\n",
      "r_f = r['f']\n",
      "print r_f(2)\n",
      "#necessario per avere i plot interattivi!\n",
      "import rpy2.rinterface as rinterface\n",
      "import threading\n",
      "import time\n",
      "def r_refresh(interval = 0.03):\n",
      "    while True:\n",
      "        rinterface.process_revents()\n",
      "        #time.sleep(interval)\n",
      "t = threading.Timer(0.1, r_refresh)\n",
      "t.start()"
     ],
     "language": "python",
     "metadata": {},
     "outputs": [],
     "prompt_number": 13
    },
    {
     "cell_type": "code",
     "collapsed": false,
     "input": [
      "r('x <- rnorm(100)')  # generate x at R\n",
      "r('y <- x + rnorm(100,sd=0.5)')  # generate y at R\n",
      "r('plot(x,y)');  # have R plot them\n",
      "r('lmout <- lm(y~x)')  # run the regression\n",
      "r('print(lmout)')  # print from R\n",
      "loclmout = r('lmout') # download lmout from R to Python\n",
      "print loclmout  # print locally\n",
      "#print loclmout.r['coefficients']  # print one component"
     ],
     "language": "python",
     "metadata": {},
     "outputs": [
      {
       "output_type": "stream",
       "stream": "stdout",
       "text": [
        "\n",
        "Call:\n",
        "lm(formula = y ~ x)\n",
        "\n",
        "Coefficients:\n",
        "(Intercept)            x  \n",
        "   -0.01564      1.06176  \n",
        "\n",
        "\n",
        "Call:\n",
        "lm(formula = y ~ x)\n",
        "\n",
        "Coefficients:\n",
        "(Intercept)            x  \n",
        "   -0.01564      1.06176  \n",
        "\n",
        "\n"
       ]
      }
     ],
     "prompt_number": 4
    },
    {
     "cell_type": "code",
     "collapsed": false,
     "input": [
      "u = range(10)  # set up another scatter plot, this one local\n",
      "e = 5*[0.25,-0.25]\n",
      "v = u[:]\n",
      "for i in range(10): \n",
      "    v[i] += e[i]\n",
      "r.plot(u,v)\n",
      "r.assign('remoteu',u)  # ship local u to R\n",
      "r.assign('remotev',v)  # ship local v to R\n",
      "r('plot(remoteu,remotev)')  # plot there\n",
      "r('x <- c(5.05, 6.75, 3.21, 2.66)')\n",
      "r('y <- c(1.65, 26.5, -5.93, 7.96)')\n",
      "r('plot(x, y, main=\"Example Scatter with regression\")')\n",
      "r('abline(lsfit(x, y)$coefficients, col=\"red\")')"
     ],
     "language": "python",
     "metadata": {},
     "outputs": [
      {
       "output_type": "pyout",
       "prompt_number": 4,
       "text": [
        "rpy2.rinterface.NULL"
       ]
      }
     ],
     "prompt_number": 4
    },
    {
     "cell_type": "markdown",
     "metadata": {},
     "source": [
      "----\n",
      "##convertire dataframe da e verso R"
     ]
    },
    {
     "cell_type": "code",
     "collapsed": false,
     "input": [
      "from pandas import DataFrame\n",
      "import pandas.rpy.common as com\n",
      "from rpy2 import robjects\n",
      "r = robjects.r\n",
      "\n",
      "df = DataFrame({'A': [1, 2, 3], 'B': [4, 5, 6], 'C':[7, 8, 9]}, \n",
      "        index=[\"one\", \"two\", \"three\"])\n",
      "\n",
      "r.assign('my_dataframe', com.convert_to_r_dataframe(df))\n",
      "r_dataframe = r['my_dataframe']\n",
      "print r_dataframe\n",
      "\n",
      "com.convert_robj(r_dataframe)"
     ],
     "language": "python",
     "metadata": {},
     "outputs": [
      {
       "output_type": "stream",
       "stream": "stdout",
       "text": [
        "      A B C\n",
        "one   1 4 7\n",
        "two   2 5 8\n",
        "three 3 6 9\n",
        "\n"
       ]
      },
      {
       "html": [
        "<div style=\"max-height:1000px;max-width:1500px;overflow:auto;\">\n",
        "<table border=\"1\" class=\"dataframe\">\n",
        "  <thead>\n",
        "    <tr style=\"text-align: right;\">\n",
        "      <th></th>\n",
        "      <th>A</th>\n",
        "      <th>B</th>\n",
        "      <th>C</th>\n",
        "    </tr>\n",
        "  </thead>\n",
        "  <tbody>\n",
        "    <tr>\n",
        "      <th>one</th>\n",
        "      <td> 1</td>\n",
        "      <td> 4</td>\n",
        "      <td> 7</td>\n",
        "    </tr>\n",
        "    <tr>\n",
        "      <th>two</th>\n",
        "      <td> 2</td>\n",
        "      <td> 5</td>\n",
        "      <td> 8</td>\n",
        "    </tr>\n",
        "    <tr>\n",
        "      <th>three</th>\n",
        "      <td> 3</td>\n",
        "      <td> 6</td>\n",
        "      <td> 9</td>\n",
        "    </tr>\n",
        "  </tbody>\n",
        "</table>\n",
        "</div>"
       ],
       "output_type": "pyout",
       "prompt_number": 6,
       "text": [
        "       A  B  C\n",
        "one    1  4  7\n",
        "two    2  5  8\n",
        "three  3  6  9"
       ]
      }
     ],
     "prompt_number": 6
    },
    {
     "cell_type": "code",
     "collapsed": false,
     "input": [
      "infert = com.load_data('infert')\n",
      "infert\n",
      "from rpy2.robjects.packages import importr\n",
      "importr(\"datasets\")\n",
      "r['mtcars']"
     ],
     "language": "python",
     "metadata": {},
     "outputs": [
      {
       "output_type": "pyout",
       "prompt_number": 39,
       "text": [
        "<class 'pandas.core.frame.DataFrame'>\n",
        "Int64Index: 248 entries, 1 to 248\n",
        "Data columns:\n",
        "education         248  non-null values\n",
        "age               248  non-null values\n",
        "parity            248  non-null values\n",
        "induced           248  non-null values\n",
        "case              248  non-null values\n",
        "spontaneous       248  non-null values\n",
        "stratum           248  non-null values\n",
        "pooled.stratum    248  non-null values\n",
        "dtypes: float64(6), int64(1), object(1)"
       ]
      }
     ],
     "prompt_number": 39
    },
    {
     "cell_type": "markdown",
     "metadata": {},
     "source": [
      "----\n",
      "style sheet for ipython notebook"
     ]
    },
    {
     "cell_type": "code",
     "collapsed": false,
     "input": [
      "#questo snippet mi permette di usare una visualizzazione pi\u00f9 carina\n",
      "from IPython.core.display import HTML\n",
      "def css_styling():\n",
      "    styles = open(\"./styles/custom.css\", \"r\").read()\n",
      "    return HTML(styles)\n",
      "css_styling()"
     ],
     "language": "python",
     "metadata": {},
     "outputs": [
      {
       "html": [
        "<style>\n",
        "    @font-face {\n",
        "        font-family: \"Computer Modern\";\n",
        "        src: url('http://mirrors.ctan.org/fonts/cm-unicode/fonts/otf/cmunss.otf');\n",
        "    }\n",
        "    div.cell{\n",
        "        width:800px;\n",
        "        margin-left:auto;\n",
        "        margin-right:auto;\n",
        "    }\n",
        "    h1 {\n",
        "        font-family: \"Charis SIL\", Palatino, serif;\n",
        "    }\n",
        "    h4{\n",
        "        margin-top:12px;\n",
        "        margin-bottom: 3px;\n",
        "       }\n",
        "    div.text_cell_render{\n",
        "        font-family: Computer Modern, \"Helvetica Neue\", Arial, Helvetica, Geneva, sans-serif;\n",
        "        line-height: 145%;\n",
        "        font-size: 120%;\n",
        "        width:800px;\n",
        "        margin-left:auto;\n",
        "        margin-right:auto;\n",
        "    }\n",
        "    .CodeMirror{\n",
        "            font-family: \"Source Code Pro\", source-code-pro,Consolas, monospace;\n",
        "    }\n",
        "    .prompt{\n",
        "        display: None;\n",
        "    }\n",
        "    .text_cell_render h5 {\n",
        "        font-weight: 300;\n",
        "        font-size: 16pt;\n",
        "        color: #4057A1;\n",
        "        font-style: italic;\n",
        "        margin-bottom: .5em;\n",
        "        margin-top: 0.5em;\n",
        "        display: block;\n",
        "    }\n",
        "    \n",
        "    .warning{\n",
        "        color: rgb( 240, 20, 20 )\n",
        "        }\n",
        "</style>\n",
        "<script>\n",
        "    MathJax.Hub.Config({\n",
        "                        TeX: {\n",
        "                           extensions: [\"AMSmath.js\"]\n",
        "                           },\n",
        "                tex2jax: {\n",
        "                    inlineMath: [ ['$','$'], [\"\\\\(\",\"\\\\)\"] ],\n",
        "                    displayMath: [ ['$$','$$'], [\"\\\\[\",\"\\\\]\"] ]\n",
        "                },\n",
        "                displayAlign: 'center', // Change this to 'center' to center equations.\n",
        "                \"HTML-CSS\": {\n",
        "                    styles: {'.MathJax_Display': {\"margin\": 4}}\n",
        "                }\n",
        "        });\n",
        "</script>"
       ],
       "output_type": "pyout",
       "prompt_number": 2,
       "text": [
        "<IPython.core.display.HTML at 0x3a3ced0>"
       ]
      }
     ],
     "prompt_number": 2
    },
    {
     "cell_type": "code",
     "collapsed": false,
     "input": [],
     "language": "python",
     "metadata": {},
     "outputs": []
    }
   ],
   "metadata": {}
  }
 ]
}