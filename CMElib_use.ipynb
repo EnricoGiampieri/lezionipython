{
 "metadata": {
  "name": "CMElib_use"
 },
 "nbformat": 3,
 "nbformat_minor": 0,
 "worksheets": [
  {
   "cells": [
    {
     "cell_type": "code",
     "collapsed": false,
     "input": [
      "%load_ext sympy.interactive.ipythonprinting\n",
      "from CMElib import CME\n",
      "from sympy import Symbol"
     ],
     "language": "python",
     "metadata": {},
     "outputs": [],
     "prompt_number": 1
    },
    {
     "cell_type": "code",
     "collapsed": false,
     "input": [
      "A = Symbol('A')\n",
      "B = Symbol('B')"
     ],
     "language": "python",
     "metadata": {},
     "outputs": [],
     "prompt_number": 5
    },
    {
     "cell_type": "code",
     "collapsed": false,
     "input": [
      "#reazione di degradazione\n",
      "cme = CME()\n",
      "cme.add_reaction(A, None, .1*A)# is 1*a"
     ],
     "language": "python",
     "metadata": {},
     "outputs": [],
     "prompt_number": 6
    },
    {
     "cell_type": "code",
     "collapsed": false,
     "input": [
      "#logistic\n",
      "#cme.add_reaction(A, None, A**2)\n",
      "#cme.add_reaction(None, A, A)\n",
      "#poisson\n",
      "#cme.add_reaction(A, None, A)\n",
      "#cme.add_reaction(None, A, 1)"
     ],
     "language": "python",
     "metadata": {},
     "outputs": []
    },
    {
     "cell_type": "code",
     "collapsed": false,
     "input": [
      "#visualizzo la CME\n",
      "display(cme.writeCME())"
     ],
     "language": "python",
     "metadata": {},
     "outputs": [
      {
       "latex": [
        "$$- 0.1 A \\operatorname{p}{\\left (A \\right )} + 0.1 \\left(A + 1\\right) \\operatorname{p}{\\left (A + 1 \\right )}$$"
       ],
       "output_type": "display_data",
       "png": "[encoded data removed]",
       "text": [
        "-0.1\u22c5A\u22c5p(A) + 0.1\u22c5(A + 1)\u22c5p(A + 1)"
       ]
      }
     ],
     "prompt_number": 7
    },
    {
     "cell_type": "code",
     "collapsed": false,
     "input": [
      "#visualizzo gli stati possibili e le transizioni fra questi stati\n",
      "# non contiene controlli sullo spazio, quindi \n",
      "# NON USARE SU CME NON LIMITATE COME LA CREAZIONE DISTRUZIONE\n",
      "transitions, states = cme.transition_matrix({A:5})\n",
      "display(states)\n",
      "for (origin, destination), kinetic in transitions.items():\n",
      "    print origin, destination, kinetic"
     ],
     "language": "python",
     "metadata": {},
     "outputs": [
      {
       "latex": [
        "$$\\begin{bmatrix}\\begin{Bmatrix}A : 5\\end{Bmatrix}, & \\begin{Bmatrix}A : 4\\end{Bmatrix}, & \\begin{Bmatrix}A : 3\\end{Bmatrix}, & \\begin{Bmatrix}A : 2\\end{Bmatrix}, & \\begin{Bmatrix}A : 1\\end{Bmatrix}, & \\begin{Bmatrix}A : 0\\end{Bmatrix}\\end{bmatrix}$$"
       ],
       "output_type": "display_data",
       "text": [
        "[{A: 5}, {A: 4}, {A: 3}, {A: 2}, {A: 1}, {A: 0}]"
       ]
      },
      {
       "output_type": "stream",
       "stream": "stdout",
       "text": [
        "((A, 2),) ((A, 1),) 0.2\n",
        "((A, 1),) ((A, 0),) 0.1\n",
        "((A, 3),) ((A, 2),) 0.3\n",
        "((A, 4),) ((A, 3),) 0.4\n",
        "((A, 5),) ((A, 4),) 0.5\n"
       ]
      }
     ],
     "prompt_number": 8
    },
    {
     "cell_type": "code",
     "collapsed": false,
     "input": [
      "# interconversione\n",
      "cme = CME()\n",
      "cme.add_reaction(A, B, A/10)\n",
      "cme.add_reaction(B, A, B/10)"
     ],
     "language": "python",
     "metadata": {},
     "outputs": [],
     "prompt_number": 6
    },
    {
     "cell_type": "code",
     "collapsed": false,
     "input": [
      "# simulazione di gillespie a partire da un punto con 15 steps\n",
      "for state, dt in cme.gillespie({A:3, B:0}, 15):\n",
      "    print state, dt"
     ],
     "language": "python",
     "metadata": {},
     "outputs": [
      {
       "output_type": "stream",
       "stream": "stdout",
       "text": [
        "{B=0, A=3} 0.786139594263\n",
        "{B=1, A=2} 4.82769947505\n",
        "{B=0, A=3} 10.9211474215\n",
        "{B=1, A=2} 0.256948997897\n",
        "{B=2, A=1} 6.0511916267\n",
        "{B=3, A=0} 0.650320829057\n",
        "{B=2, A=1} 2.21333449138\n",
        "{B=1, A=2} 0.867756261905\n",
        "{B=0, A=3} 3.60157876395\n",
        "{B=1, A=2} 1.06341726878\n",
        "{B=0, A=3} 0.888674164878\n",
        "{B=1, A=2} 4.04482752775\n",
        "{B=0, A=3} 2.87648108321\n",
        "{B=1, A=2} 1.33494471522\n",
        "{B=2, A=1} 7.97985171488\n"
       ]
      }
     ],
     "prompt_number": 7
    },
    {
     "cell_type": "code",
     "collapsed": false,
     "input": [
      "# faccio una simulazione di gillespie per valutare delle funzioni nel tempo e visualizzarne il valore\n",
      "time, functions_dict = cme.evaluate({A:20, B:0}, 100, A, B, A+B)\n",
      "for f_name, f_values in functions_dict.items():\n",
      "    pylab.plot(time, f_values, label=f_name, linestyle='steps-mid')\n",
      "    \n",
      "#imposto i margini sulla y per contenere tutti i grafici\n",
      "pylab.gca().margins(0.0,0.1)\n",
      "pylab.legend()"
     ],
     "language": "python",
     "metadata": {},
     "outputs": [
      {
       "output_type": "pyout",
       "prompt_number": 11,
       "text": [
        "Legend"
       ]
      },
      {
       "output_type": "display_data",
       "png": "[encoded data removed]"
      }
     ],
     "prompt_number": 11
    },
    {
     "cell_type": "code",
     "collapsed": false,
     "input": [
      "# calcolo le distribuzioni di una serie di funzioni (non sopporta distribuzioni multidimensionali)\n",
      "# usando il gillespie\n",
      "distributions = cme.distribution({A:30, B:0}, 5000, 500, A, B)\n",
      "pylab.plot(distributions[A], linestyle='steps-mid', label='A')\n",
      "pylab.plot(distributions[B], linestyle='steps-mid', label='B')\n",
      "pylab.legend()\n",
      "pylab.show()"
     ],
     "language": "python",
     "metadata": {},
     "outputs": [
      {
       "output_type": "display_data",
       "png": "[encoded data removed]"
      }
     ],
     "prompt_number": 14
    },
    {
     "cell_type": "code",
     "collapsed": false,
     "input": [],
     "language": "python",
     "metadata": {},
     "outputs": []
    }
   ],
   "metadata": {}
  }
 ]
}