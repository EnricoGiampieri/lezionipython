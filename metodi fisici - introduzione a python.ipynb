{
 "metadata": {
  "name": ""
 },
 "nbformat": 3,
 "nbformat_minor": 0,
 "worksheets": [
  {
   "cells": [
    {
     "cell_type": "markdown",
     "metadata": {},
     "source": [
      "----\n",
      "#Introduzione a Python\n",
      "\n",
      "https://www.python.org\n",
      "\n",
      "Potete trovare questa lezione (ed altre) sul mio sito github:\n",
      "\n",
      "https://github.com/EnricoGiampieri/lezionipython\n",
      "\n",
      "Il Python \u00e8 un linguaggio interpretato di alto livello.\n",
      "\n",
      "Questa \u00e8 una maniera complicata per dire che evita moltissimi dei dolori della programmazione classica: il fatto che sia interpretato significa che non sono necessari step di compilazione, rendendo pi\u00f9 semplice il ciclo sviluppo - esecuzione - correzione\n",
      "\n",
      "Python ha come principale linea guida il concetto di **leggibilit\u00e0**, cercando il pi\u00f9 possibile di rendere semplice agli sviluppatori scrivere librerie semplici ed intuitive.\n",
      "\n",
      "Questo permette di utilizzare soltanto python per sviluppare i prototipi del codice fino ad arrivare al codice di produzione, semplificando e velocizzando l'intero processo che parte dall'idea che si vuole implementare fino ad ottenere il risultato finale.\n",
      "\n",
      "Python supporta di base tutte le operazioni matematiche pi\u00f9 comuni, compreso il supporto per la matematica complessa, e tutti i costrutti pi\u00f9 comuni di programmazione (e molti altri) come:\n",
      "\n",
      "- if, elif, else\n",
      "- cicli for e while\n",
      "- definizione di funzioni e classi\n",
      "\n",
      "Permette inoltre di programmare con molti approcci diversi:\n",
      "- procedurale\n",
      "- ad oggetti\n",
      "- funzionale\n",
      "- vettoriale\n",
      "\n",
      "Faremo una breve introduzione alla programmazione in pyhton, senza entrare nel dettaglio delle caratteristiche del linguaggio, introducendo quindi solo una parte delle possibilit\u00e0 offerte da questo linguaggio e dalle sue librerie.\n",
      "\n",
      "Conoscere un minimo di python e delle sue librerie di calcolo numerico ci permetter\u00e0 di toccare con mano molti dei problemi che affronteremo lungo il corso."
     ]
    },
    {
     "cell_type": "markdown",
     "metadata": {},
     "source": [
      "----\n",
      "##Utilizzare Python\n",
      "\n",
      "Esistono molti modi diversi di lavorare tramite Python.\n",
      "\n",
      "Il fondamentale \u00e8 tramite la shell di python, un terminale che esegue le righe di comando mano a mano che vengono inserite, ed \u00e8 estremamente utile per testare il codice al volo prima di inserirlo dentro un programma. Il terminale di python si pu\u00f2 lanciare da terminale digitando **python**.\n",
      "\n",
      "    >>> Dimostrazione\n",
      "\n",
      "Il secondo metodo \u00e8 scrivere uno (o pi\u00f9) script contenente i comandi che si vogliono eseguire, e farlo eseguire da python come un programma qualsiasi tramite il comando \n",
      "\n",
      "**python nomedelfile.py**.\n",
      "\n",
      "Le cose pi\u00f9 interessanti di trovano per\u00f2 andando a cercare fra i vari programmi disponibili.\n",
      "\n",
      "Uno degli editor pi\u00f9 famosi per il calcolo scientifico in python \u00e8 **Spyder** (http://code.google.com/p/spyderlib/), che fornisce un'interfaccia molto simile a quella di Matlab. \u00c8 unprogramma molto solido e funzionale, ed \u00e8 un'ottima piattaforma su cui lavorare.\n",
      "\n",
      "Un'altro approccio \u00e8 l'utilizzo di un IDE (Integrated Development Environment) completo, quale PyCharm, Wing o Eclipse. Il mio personale preferito, molto pi\u00f9 semplice ma con tutte le funzioni che mi servono \u00e8 **Ninja** (http://ninja-ide.org/).\n",
      "\n",
      "Fra tutti lo strumento per\u00f2 in assoluto pi\u00f9 potente \u00e8 sicuramente **IPython** (http://ipython.org/). IPython fornisce tre programmi:\n",
      "\n",
      "- la IPython shell, che \u00e8 descrivibile come un terminale python sotto steroidi, che pu\u00f2 tranquillamente sostituire la shell di sistema\n",
      "- La QTConsole, che contiene un ibrido fra una shell ed un sistema di gestione tramite GUI, e permette l'utilizzo dei grafici inline invece che in finestre separate.\n",
      "- Il Notebook, ovvero quello che st\u00f2 usando in questo momento, che \u00e8 un'interfaccia web ad un serve di esecuzione che permette di mescolare testo, codice, grafica e formule in un unico insieme. In particolare quello che st\u00f2 usando in questo momento \u00e8 la versione **0.13** di IPython, con qualche modifica per migliorare l'estetica complessiva.\n",
      "\n",
      "Il Notebook mi permette di mescolare testo, formule e codice da eseguire (un blocco alla volta) mostrando progressivamente il risultato.\n",
      "\n",
      "----\n",
      "## Procurarsi python\n",
      "\n",
      "Python arriva di base installato con un gran numero di librerie sia sotto linux che sotto macOSX, mentre invece v\u00e0 installato da zero su windows.\n",
      "\n",
      "Installare nuove librerie \u00e8 molto semplice sfruttando il programma **pip**, che permette di dire a python quale libreria si desidera e lui la scaricher\u00e0 ed installer\u00e0 sul sistema. Il programma \u00e8 a riga di comando e quasi tutte le librerie numeriche richiedono per\u00f2 la presenza di un compilatore, quindi potrebbe non essere comodo per chi non \u00e8 abituato a lavorare da terminale.\n",
      "\n",
      "Una comoda alternativa sono le librerie all-inclusive. Queste sono normalmente a pagamento, ma arrivano con python e tantissime librerie preinstallate e configurate per il sistema in uso. Fra le principali ci sono:\n",
      "\n",
      "- **Enthought Python Distribution**, probabilmente la pi\u00f9 rodata, \u00e8 disponibile per tutti i sistemi ed offre una versione gratuita per chi f\u00e0 parte dell'universit\u00e0 \n",
      "- **Python(x, y)**, gratuito e ben testato, ma purtroppo presente solo per windows\n",
      "- **Sage**, completamente gratuito, che comprende oltre a python anche un gran numero di programmi per la matematica accessibili da tramite python\n",
      "- **Wakari**, un sito che offre un ambiente di sviluppo integrato sul browser. Molto completo ma richiede la connessione internet non installando nulla sul pc.\n",
      "- In modo simile il sito **pythonanywhere** fornisce un servizio gratuito per provare una shell di python online.\n",
      "- Il servizio **PiCloud**, che fornisce accesso a una rete di supercomputer amazon, fornisce anche la possibilit\u00e0 di lavorare online con dei notebook che girano sui loro server."
     ]
    },
    {
     "cell_type": "markdown",
     "metadata": {},
     "source": [
      "----\n",
      "## Basi del linguaggio\n",
      "\n",
      "Vediamo subito il primo programma di default, Hello World:\n"
     ]
    },
    {
     "cell_type": "code",
     "collapsed": false,
     "input": [
      "print \"not Hello, World!\""
     ],
     "language": "python",
     "metadata": {},
     "outputs": [
      {
       "output_type": "stream",
       "stream": "stdout",
       "text": [
        "not Hello, World!\n"
       ]
      }
     ],
     "prompt_number": 2
    },
    {
     "cell_type": "markdown",
     "metadata": {},
     "source": [
      "Ok, questo era facile. Possiamo usare la funzione print per stampare (quasi) qualsiasi cosa:intanto lo usiamo per vedere i risultati di alcune operazioni matematiche"
     ]
    },
    {
     "cell_type": "code",
     "collapsed": false,
     "input": [
      "print 1\n",
      "print 1+2\n",
      "print (4 + 5j) * (2 + 3j)\n",
      "print 4 ** 4"
     ],
     "language": "python",
     "metadata": {},
     "outputs": [
      {
       "output_type": "stream",
       "stream": "stdout",
       "text": [
        "1\n",
        "3\n",
        "(-7+22j)\n",
        "256\n"
       ]
      }
     ],
     "prompt_number": 4
    },
    {
     "cell_type": "code",
     "collapsed": false,
     "input": [
      "2/3"
     ],
     "language": "python",
     "metadata": {},
     "outputs": [
      {
       "metadata": {},
       "output_type": "pyout",
       "prompt_number": 3,
       "text": [
        "0"
       ]
      }
     ],
     "prompt_number": 3
    },
    {
     "cell_type": "markdown",
     "metadata": {},
     "source": [
      "Come  possiamo vedere abbiamo a disposizione tutte le funzioni standard e possiamo usare i numeri complessi fin da subito!\n",
      "\n",
      "L'unico problema (risolto nelle nuove versioni) \u00e8 che python usa le stesse regole di divisione del C, per cui 1/2 d\u00e0 0 invece che 0.5\n",
      "\n",
      "Per aggirare questo problema potete inserire il comando"
     ]
    },
    {
     "cell_type": "code",
     "collapsed": false,
     "input": [
      "from __future__ import division"
     ],
     "language": "python",
     "metadata": {},
     "outputs": [],
     "prompt_number": 4
    },
    {
     "cell_type": "code",
     "collapsed": false,
     "input": [
      "2/3"
     ],
     "language": "python",
     "metadata": {},
     "outputs": [
      {
       "metadata": {},
       "output_type": "pyout",
       "prompt_number": 5,
       "text": [
        "0.6666666666666666"
       ]
      }
     ],
     "prompt_number": 5
    },
    {
     "cell_type": "code",
     "collapsed": false,
     "input": [
      "2 // 3"
     ],
     "language": "python",
     "metadata": {},
     "outputs": [
      {
       "metadata": {},
       "output_type": "pyout",
       "prompt_number": 6,
       "text": [
        "0"
       ]
      }
     ],
     "prompt_number": 6
    },
    {
     "cell_type": "markdown",
     "metadata": {},
     "source": [
      "All'inizio dei vostri script per ottenere 0.5 come vi aspettate.\n",
      "\n",
      "Per utilizzare funzioni matematiche pi\u00f9 avanzate abbiamo bisogno di utilizzare una delle librerie che arrivano con python, la libreria **math**, che ci mette a disposizione una lunga lista di funzioni. per utilizzare math basta scrivere"
     ]
    },
    {
     "cell_type": "code",
     "collapsed": false,
     "input": [
      "import math"
     ],
     "language": "python",
     "metadata": {},
     "outputs": [],
     "prompt_number": 7
    },
    {
     "cell_type": "markdown",
     "metadata": {},
     "source": [
      "Ed ora abbiamo accesso a tutte le funzioni necessarie. Se avessimo bisogno di lavorare con i numeri complessi, esiste una libreria gemella chiamata **cmath**.\n",
      "\n",
      "Per avere pi\u00f9 informazioni sulla libreria che andiamo ad usare possiamo utilizzare due comandi molto utili, **dir** per sapere quali siano le sue funzioni, ed **help** per averne una descrizione. Visto che il risultato di **help(math)** \u00e8 piuttosto lungo, eviter\u00f2 di mostrarlo."
     ]
    },
    {
     "cell_type": "code",
     "collapsed": false,
     "input": [
      "dir(math)"
     ],
     "language": "python",
     "metadata": {},
     "outputs": [
      {
       "metadata": {},
       "output_type": "pyout",
       "prompt_number": 8,
       "text": [
        "['__doc__',\n",
        " '__name__',\n",
        " '__package__',\n",
        " 'acos',\n",
        " 'acosh',\n",
        " 'asin',\n",
        " 'asinh',\n",
        " 'atan',\n",
        " 'atan2',\n",
        " 'atanh',\n",
        " 'ceil',\n",
        " 'copysign',\n",
        " 'cos',\n",
        " 'cosh',\n",
        " 'degrees',\n",
        " 'e',\n",
        " 'erf',\n",
        " 'erfc',\n",
        " 'exp',\n",
        " 'expm1',\n",
        " 'fabs',\n",
        " 'factorial',\n",
        " 'floor',\n",
        " 'fmod',\n",
        " 'frexp',\n",
        " 'fsum',\n",
        " 'gamma',\n",
        " 'hypot',\n",
        " 'isinf',\n",
        " 'isnan',\n",
        " 'ldexp',\n",
        " 'lgamma',\n",
        " 'log',\n",
        " 'log10',\n",
        " 'log1p',\n",
        " 'modf',\n",
        " 'pi',\n",
        " 'pow',\n",
        " 'radians',\n",
        " 'sin',\n",
        " 'sinh',\n",
        " 'sqrt',\n",
        " 'tan',\n",
        " 'tanh',\n",
        " 'trunc']"
       ]
      }
     ],
     "prompt_number": 8
    },
    {
     "cell_type": "markdown",
     "metadata": {},
     "source": [
      "*dir* mi ritorna una lista con i nomi di tutte le funzioni presenti dento math. Per usarle basta scrivere \n",
      "\n",
      "    nomelibreria.nomefunzione"
     ]
    },
    {
     "cell_type": "code",
     "collapsed": false,
     "input": [
      "math.exp(1)"
     ],
     "language": "python",
     "metadata": {},
     "outputs": [
      {
       "metadata": {},
       "output_type": "pyout",
       "prompt_number": 9,
       "text": [
        "2.718281828459045"
       ]
      }
     ],
     "prompt_number": 9
    },
    {
     "cell_type": "markdown",
     "metadata": {},
     "source": [
      "Se voglio sapere cosa faccia di preciso una di quelle funzioni basta usare la funzione help"
     ]
    },
    {
     "cell_type": "code",
     "collapsed": false,
     "input": [
      "help(math.log1p)"
     ],
     "language": "python",
     "metadata": {},
     "outputs": [
      {
       "output_type": "stream",
       "stream": "stdout",
       "text": [
        "Help on built-in function log1p in module math:\n",
        "\n",
        "log1p(...)\n",
        "    log1p(x)\n",
        "    \n",
        "    Return the natural logarithm of 1+x (base e).\n",
        "    The result is computed in a way which is accurate for x near zero.\n",
        "\n"
       ]
      }
     ],
     "prompt_number": 8
    },
    {
     "cell_type": "code",
     "collapsed": false,
     "input": [
      "print math.pi\n",
      "print math.log1p(math.pi)"
     ],
     "language": "python",
     "metadata": {},
     "outputs": [
      {
       "output_type": "stream",
       "stream": "stdout",
       "text": [
        "3.14159265359\n",
        "1.42108041279\n"
       ]
      }
     ],
     "prompt_number": 9
    },
    {
     "cell_type": "code",
     "collapsed": false,
     "input": [
      "math.log( math.pi + 1.0 )"
     ],
     "language": "python",
     "metadata": {},
     "outputs": [
      {
       "output_type": "pyout",
       "prompt_number": 10,
       "text": [
        "1.4210804127942926"
       ]
      }
     ],
     "prompt_number": 10
    },
    {
     "cell_type": "markdown",
     "metadata": {},
     "source": [
      "Se avete bisogno di poche funzioni e non volete digitare ogni volta il nome della libreria potete importare solo una parte dei nomi, che saranno poi disponibili senza bisogno di fare riferimenti alla librerie."
     ]
    },
    {
     "cell_type": "code",
     "collapsed": false,
     "input": [
      "from math import *"
     ],
     "language": "python",
     "metadata": {},
     "outputs": []
    },
    {
     "cell_type": "code",
     "collapsed": false,
     "input": [
      "from math import radians, log1p, modf\n",
      "\n",
      "print log1p(1.0)"
     ],
     "language": "python",
     "metadata": {},
     "outputs": [
      {
       "output_type": "stream",
       "stream": "stdout",
       "text": [
        "0.69314718056\n"
       ]
      }
     ],
     "prompt_number": 11
    },
    {
     "cell_type": "markdown",
     "metadata": {},
     "source": [
      "Inclusi nel linguaggio di base arrivano anche molte strutture dati estremanente utili. Una lista non esaustiva include:\n",
      "\n",
      "- liste\n",
      "- stringhe\n",
      "- set\n",
      "- dizionari\n",
      "- deque\n",
      "- heap\n",
      "\n",
      "Una menzione particolare la meritano i dizionari, che permettono di memorizzare dei dati in modalit\u00e0 random (ovvero non sequenziale) accedendovi tramite nomi esplicativi"
     ]
    },
    {
     "cell_type": "code",
     "collapsed": false,
     "input": [
      "rubrica = dict()\n",
      "rubrica['Ludovico Fabbri'] = ('334-5678901', 'Via Larga 34, Bo')\n",
      "print rubrica['Ludovico Fabbri']"
     ],
     "language": "python",
     "metadata": {},
     "outputs": [
      {
       "output_type": "stream",
       "stream": "stdout",
       "text": [
        "('334-5678901', 'Via Larga 34, Bo')\n"
       ]
      }
     ],
     "prompt_number": 11
    },
    {
     "cell_type": "code",
     "collapsed": false,
     "input": [
      "try:\n",
      "    print rubrica['enrico giampieri']\n",
      "except KeyError:\n",
      "    print \"non trovato\""
     ],
     "language": "python",
     "metadata": {},
     "outputs": [
      {
       "output_type": "stream",
       "stream": "stdout",
       "text": [
        "non trovato\n"
       ]
      }
     ],
     "prompt_number": 14
    },
    {
     "cell_type": "markdown",
     "metadata": {},
     "source": [
      "###funzioni\n",
      "\n",
      "\u00c8 possibile definire le proprie funzioni tramite il comando **def**.\n",
      "In questo caso creer\u00f2 una funzione che prende due oggetti e ne restituisce la somma.\n",
      "\n",
      "A python non interessa di che oggetti di tratti, fintantoch\u00e8 sia definita fra di loro una somma.\n",
      "Posso usare questa funzione per sommare indifferentemente fra di loro numeri, stringhe, liste o distribuzioni di probabilit\u00e0."
     ]
    },
    {
     "cell_type": "code",
     "collapsed": false,
     "input": [
      "def mia_funzione(a, b):\n",
      "    return a+b\n",
      "\n",
      "print mia_funzione(1, 2)\n",
      "print mia_funzione('hello ', 'world!')\n",
      "print mia_funzione([1, 2, 3], [4, 5, 6])"
     ],
     "language": "python",
     "metadata": {},
     "outputs": [
      {
       "output_type": "stream",
       "stream": "stdout",
       "text": [
        "3\n",
        "hello world!\n",
        "[1, 2, 3, 4, 5, 6]\n"
       ]
      }
     ],
     "prompt_number": 13
    },
    {
     "cell_type": "markdown",
     "metadata": {},
     "source": [
      "###iterazioni\n",
      "\n",
      "Python supporta le iterazioni sia con il costrutto while che con il for. Il for in pyhton \u00e8 un ciclo speciale estremamente potente, ed \u00e8 quindi il modo principale di scrivere cicli.\n",
      "\n",
      "Nel classico modo di scrivere cicli, per scorrere una lista di oggetti devo fare un ciclo sopra gli indici della lista, stando attento a trovare bene i bordi, e poi operare sul mio oggetto. Prendiamo ad esempio il caso di voler stampare tutto il contenuto di una lista."
     ]
    },
    {
     "cell_type": "code",
     "collapsed": false,
     "input": [
      "lista_ingredienti = ['pane', 'pomodori', 'farina', 'acqua', 'sale', 'mozzarella']\n",
      "lunghezza = len(lista_ingredienti)\n",
      "idx = 0\n",
      "while idx < lunghezza:\n",
      "    print lista_ingredienti[idx]\n",
      "    idx += 1"
     ],
     "language": "python",
     "metadata": {},
     "outputs": [
      {
       "output_type": "stream",
       "stream": "stdout",
       "text": [
        "pane\n",
        "pomodori\n",
        "farina\n",
        "acqua\n",
        "sale\n",
        "mozzarella\n"
       ]
      }
     ],
     "prompt_number": 15
    },
    {
     "cell_type": "markdown",
     "metadata": {},
     "source": [
      "Due delle linee di questo codice (trovare la lunghezza della lista e ricavarne l'elemento) sono sempre presenti. Per ovviare a queste linee superflue, il python permette di usare il ciclo for per scorrere direttamente gli elementi della lista"
     ]
    },
    {
     "cell_type": "code",
     "collapsed": false,
     "input": [
      "for ingrediente in lista_ingredienti:\n",
      "    print ingrediente"
     ],
     "language": "python",
     "metadata": {},
     "outputs": [
      {
       "output_type": "stream",
       "stream": "stdout",
       "text": [
        "pane\n",
        "pomodori\n",
        "farina\n",
        "acqua\n",
        "sale\n",
        "mozzarella\n"
       ]
      }
     ],
     "prompt_number": 16
    },
    {
     "cell_type": "code",
     "collapsed": false,
     "input": [
      "%%file prova.txt\n",
      "tonno\n",
      "mandibola\n",
      "rum\n",
      "pinocchio\n",
      "sigmoide"
     ],
     "language": "python",
     "metadata": {},
     "outputs": [
      {
       "output_type": "stream",
       "stream": "stdout",
       "text": [
        "Writing prova.txt\n"
       ]
      }
     ],
     "prompt_number": 17
    },
    {
     "cell_type": "code",
     "collapsed": false,
     "input": [
      "with open('prova.txt') as file: #commento\n",
      "    for line in file:\n",
      "        print len(line)"
     ],
     "language": "python",
     "metadata": {},
     "outputs": [
      {
       "output_type": "stream",
       "stream": "stdout",
       "text": [
        "6\n",
        "10\n",
        "4\n",
        "10\n",
        "8\n"
       ]
      }
     ],
     "prompt_number": 27
    },
    {
     "cell_type": "code",
     "collapsed": false,
     "input": [],
     "language": "python",
     "metadata": {},
     "outputs": []
    },
    {
     "cell_type": "code",
     "collapsed": false,
     "input": [],
     "language": "python",
     "metadata": {},
     "outputs": []
    },
    {
     "cell_type": "code",
     "collapsed": false,
     "input": [],
     "language": "python",
     "metadata": {},
     "outputs": []
    },
    {
     "cell_type": "markdown",
     "metadata": {},
     "source": [
      "Questo \u00e8 solo uno dei molti accorgimento presi nel linguaggio per rendere la scrittura e la lettura pi\u00f9 comoda. Altri dettagli li introdurremo mano a mano che saranno necessari."
     ]
    },
    {
     "cell_type": "markdown",
     "metadata": {},
     "source": [
      "----\n",
      "## Numpy - array numerici multidimensionali\n",
      "\n",
      "Visto che lavoreremo molto con le librerie numeriche introduciamo subito quella che f\u00e0 la parte del leone, **numpy**. Numpy \u00e8 una libreria che offre la gestione di matrici numeriche in modo simile a quanto offre MATLAB ed altri programmi dedicati, ma all'interno del linguaggio python, potendo quindi sfruttare tutta la potenza di un linguaggio di programmazione generale.\n",
      "\n",
      "Numpy fornisce solo i servizi di base, ed \u00e8 accompagnata da altre due librerie fondamentali: **scipy**, che contiene moltissimi algoritmi numerici, e **matplotlib**, che fornisce un'interfaccia di plotting indipendente dal sistema operativo.\n",
      "\n",
      "Tutte le funzioni di uso pi\u00f9 comune sono racchiuse sotto un unico nome, **pylab**, che permette di trasformare python in un ambiente per il calcolo numerico con il comando"
     ]
    },
    {
     "cell_type": "code",
     "collapsed": false,
     "input": [
      "from pylab import *"
     ],
     "language": "python",
     "metadata": {},
     "outputs": [],
     "prompt_number": 16
    },
    {
     "cell_type": "markdown",
     "metadata": {},
     "source": [
      "Questo ci permette di accedere a tutte le funzioni senza specificare il fatto che vengano da pylab (come se avessimo fatto tante volte **from pylab import funzione**).\n",
      "\n",
      "Il primo oggetto con cui dobbiamo prendere familiarit\u00e0 sono gli **array** di numpy, che ci forniscono un contenitore multidimensionale di numeri (interi, float o complessi a nostra scelta).\n",
      "\n",
      "Notate le parentesi quadrate nelle espressioni, che servono per creare delle **liste** in python, che poi forniamo all'array per la creazione. (Ho aumentato la spaziature per rendere pi\u00f9 leggibile il tutto)."
     ]
    },
    {
     "cell_type": "code",
     "collapsed": false,
     "input": [
      "print array( [ 1, 2, 3, 4, 5 ] )\n",
      "print array( [ [ 1, 2 ], [ 3, 4 ] ] )"
     ],
     "language": "python",
     "metadata": {},
     "outputs": [
      {
       "output_type": "stream",
       "stream": "stdout",
       "text": [
        "[1 2 3 4 5]\n",
        "[[1 2]\n",
        " [3 4]]\n"
       ]
      }
     ],
     "prompt_number": 17
    },
    {
     "cell_type": "markdown",
     "metadata": {},
     "source": [
      "Gli array supportano automaticamente le operazioni su tutti gli elementi, permettendo di scrivere operazioni fra vettori come fossero numeri"
     ]
    },
    {
     "cell_type": "code",
     "collapsed": false,
     "input": [
      "a = array( [ 1, 3, 2, 5, 4 ] )\n",
      "print a\n",
      "print a + 1\n",
      "print a * 3"
     ],
     "language": "python",
     "metadata": {},
     "outputs": [
      {
       "output_type": "stream",
       "stream": "stdout",
       "text": [
        "[1 3 2 5 4]\n",
        "[2 4 3 6 5]\n",
        "[ 3  9  6 15 12]\n"
       ]
      }
     ],
     "prompt_number": 30
    },
    {
     "cell_type": "code",
     "collapsed": false,
     "input": [
      "b = array( [ 0, 1, 2, 3, 4 ] ) \n",
      "print b"
     ],
     "language": "python",
     "metadata": {},
     "outputs": [
      {
       "output_type": "stream",
       "stream": "stdout",
       "text": [
        "[0 1 2 3 4]\n"
       ]
      }
     ],
     "prompt_number": 31
    },
    {
     "cell_type": "markdown",
     "metadata": {},
     "source": [
      "Le operazioni fra i due vettori sono fatte elemento per elemento"
     ]
    },
    {
     "cell_type": "code",
     "collapsed": false,
     "input": [
      "print b - a\n",
      "print a * b\n",
      "print a ** b"
     ],
     "language": "python",
     "metadata": {},
     "outputs": [
      {
       "output_type": "stream",
       "stream": "stdout",
       "text": [
        "[-1 -2  0 -2  0]\n",
        "[ 0  3  4 15 16]\n",
        "[  1   3   4 125 256]\n"
       ]
      }
     ],
     "prompt_number": 32
    },
    {
     "cell_type": "code",
     "collapsed": false,
     "input": [
      "sum(a * b)"
     ],
     "language": "python",
     "metadata": {},
     "outputs": [
      {
       "metadata": {},
       "output_type": "pyout",
       "prompt_number": 33,
       "text": [
        "38"
       ]
      }
     ],
     "prompt_number": 33
    },
    {
     "cell_type": "markdown",
     "metadata": {},
     "source": [
      "Per ottenere il prodotto scalare fra i due posso usare la funzione **dot**"
     ]
    },
    {
     "cell_type": "code",
     "collapsed": false,
     "input": [
      "dot(a, b)"
     ],
     "language": "python",
     "metadata": {},
     "outputs": [
      {
       "output_type": "pyout",
       "prompt_number": 22,
       "text": [
        "38"
       ]
      }
     ],
     "prompt_number": 22
    },
    {
     "cell_type": "code",
     "collapsed": false,
     "input": [
      "help(dot)"
     ],
     "language": "python",
     "metadata": {},
     "outputs": [
      {
       "output_type": "stream",
       "stream": "stdout",
       "text": [
        "Help on built-in function dot in module numpy.core.multiarray:\n",
        "\n",
        "dot(...)\n",
        "    dot(a, b, out=None)\n",
        "    \n",
        "    Dot product of two arrays.\n",
        "    \n",
        "    For 2-D arrays it is equivalent to matrix multiplication, and for 1-D\n",
        "    arrays to inner product of vectors (without complex conjugation). For\n",
        "    N dimensions it is a sum product over the last axis of `a` and\n",
        "    the second-to-last of `b`::\n",
        "    \n",
        "        dot(a, b)[i,j,k,m] = sum(a[i,j,:] * b[k,:,m])\n",
        "    \n",
        "    Parameters\n",
        "    ----------\n",
        "    a : array_like\n",
        "        First argument.\n",
        "    b : array_like\n",
        "        Second argument.\n",
        "    out : ndarray, optional\n",
        "        Output argument. This must have the exact kind that would be returned\n",
        "        if it was not used. In particular, it must have the right type, must be\n",
        "        C-contiguous, and its dtype must be the dtype that would be returned\n",
        "        for `dot(a,b)`. This is a performance feature. Therefore, if these\n",
        "        conditions are not met, an exception is raised, instead of attempting\n",
        "        to be flexible.\n",
        "    \n",
        "    Returns\n",
        "    -------\n",
        "    output : ndarray\n",
        "        Returns the dot product of `a` and `b`.  If `a` and `b` are both\n",
        "        scalars or both 1-D arrays then a scalar is returned; otherwise\n",
        "        an array is returned.\n",
        "        If `out` is given, then it is returned.\n",
        "    \n",
        "    Raises\n",
        "    ------\n",
        "    ValueError\n",
        "        If the last dimension of `a` is not the same size as\n",
        "        the second-to-last dimension of `b`.\n",
        "    \n",
        "    See Also\n",
        "    --------\n",
        "    vdot : Complex-conjugating dot product.\n",
        "    tensordot : Sum products over arbitrary axes.\n",
        "    einsum : Einstein summation convention.\n",
        "    \n",
        "    Examples\n",
        "    --------\n",
        "    >>> np.dot(3, 4)\n",
        "    12\n",
        "    \n",
        "    Neither argument is complex-conjugated:\n",
        "    \n",
        "    >>> np.dot([2j, 3j], [2j, 3j])\n",
        "    (-13+0j)\n",
        "    \n",
        "    For 2-D arrays it's the matrix product:\n",
        "    \n",
        "    >>> a = [[1, 0], [0, 1]]\n",
        "    >>> b = [[4, 1], [2, 2]]\n",
        "    >>> np.dot(a, b)\n",
        "    array([[4, 1],\n",
        "           [2, 2]])\n",
        "    \n",
        "    >>> a = np.arange(3*4*5*6).reshape((3,4,5,6))\n",
        "    >>> b = np.arange(3*4*5*6)[::-1].reshape((5,4,6,3))\n",
        "    >>> np.dot(a, b)[2,3,2,1,2,2]\n",
        "    499128\n",
        "    >>> sum(a[2,3,2,:] * b[1,2,:,2])\n",
        "    499128\n",
        "\n"
       ]
      }
     ],
     "prompt_number": 23
    },
    {
     "cell_type": "markdown",
     "metadata": {},
     "source": [
      "Anche le funzioni di matematica trascendentale (seno, coseno, etc..) sono definite per operare su un elemento alla volta"
     ]
    },
    {
     "cell_type": "code",
     "collapsed": false,
     "input": [
      "sin( a )"
     ],
     "language": "python",
     "metadata": {},
     "outputs": [
      {
       "output_type": "pyout",
       "prompt_number": 24,
       "text": [
        "array([ 0.84147098,  0.14112001,  0.90929743, -0.95892427, -0.7568025 ])"
       ]
      }
     ],
     "prompt_number": 24
    },
    {
     "cell_type": "markdown",
     "metadata": {},
     "source": [
      "posso accedere agli elementi di un array tramite le parentesi quadrate, che sono il modo di indicizzare in python. **Attenzione, perch\u00e8 gli indici in python partono da 0 e non da 1**!\n",
      "\n",
      "Un array pu\u00f2 essere indicizzato in molti modi diversi, partendo dal dare la posizione del singolo indice.\n",
      "Ciascuna di queste indicizzazioni pu\u00f2 essere usata sia per ottenere i valori che per assegnarli."
     ]
    },
    {
     "cell_type": "code",
     "collapsed": false,
     "input": [
      "a[ 0 ]\n",
      "a[ 0 ] = 6\n",
      "print a"
     ],
     "language": "python",
     "metadata": {},
     "outputs": [
      {
       "output_type": "stream",
       "stream": "stdout",
       "text": [
        "[6 3 2 5 4]\n"
       ]
      }
     ],
     "prompt_number": 35
    },
    {
     "cell_type": "code",
     "collapsed": false,
     "input": [
      "a"
     ],
     "language": "python",
     "metadata": {},
     "outputs": [
      {
       "metadata": {},
       "output_type": "pyout",
       "prompt_number": 36,
       "text": [
        "array([6, 3, 2, 5, 4])"
       ]
      }
     ],
     "prompt_number": 36
    },
    {
     "cell_type": "markdown",
     "metadata": {},
     "source": [
      "tramite una lista di posizioni (l'ultimo elemento non viene incluso)"
     ]
    },
    {
     "cell_type": "code",
     "collapsed": false,
     "input": [
      "a[ 2:4 ]"
     ],
     "language": "python",
     "metadata": {},
     "outputs": [
      {
       "output_type": "pyout",
       "prompt_number": 28,
       "text": [
        "array([2, 5])"
       ]
      }
     ],
     "prompt_number": 28
    },
    {
     "cell_type": "code",
     "collapsed": false,
     "input": [
      "a[::2]"
     ],
     "language": "python",
     "metadata": {},
     "outputs": [
      {
       "metadata": {},
       "output_type": "pyout",
       "prompt_number": 37,
       "text": [
        "array([6, 2, 4])"
       ]
      }
     ],
     "prompt_number": 37
    },
    {
     "cell_type": "markdown",
     "metadata": {},
     "source": [
      "la prima e l'ultima posizione sono opzionali (parte dall'inizio o arriva fino alla fine)"
     ]
    },
    {
     "cell_type": "code",
     "collapsed": false,
     "input": [
      "print a[ :2 ]\n",
      "print a[ 2: ]"
     ],
     "language": "python",
     "metadata": {},
     "outputs": [
      {
       "output_type": "stream",
       "stream": "stdout",
       "text": [
        "[6 3]\n",
        "[2 5 4]\n"
       ]
      }
     ],
     "prompt_number": 29
    },
    {
     "cell_type": "markdown",
     "metadata": {},
     "source": [
      "posso specificare un passo (ad esempio prenderne uno ogni due)"
     ]
    },
    {
     "cell_type": "code",
     "collapsed": false,
     "input": [
      "a[ 0:5:2 ]"
     ],
     "language": "python",
     "metadata": {},
     "outputs": [
      {
       "output_type": "pyout",
       "prompt_number": 30,
       "text": [
        "array([6, 2, 4])"
       ]
      }
     ],
     "prompt_number": 30
    },
    {
     "cell_type": "markdown",
     "metadata": {},
     "source": [
      "posso indicizzare con i numeri negativi, che corrispondono \n",
      "a partire a contare dal fondo (-1 \u00e8 l'ultimo elemento)"
     ]
    },
    {
     "cell_type": "code",
     "collapsed": false,
     "input": [
      "a[ -1 ]"
     ],
     "language": "python",
     "metadata": {},
     "outputs": [
      {
       "metadata": {},
       "output_type": "pyout",
       "prompt_number": 38,
       "text": [
        "4"
       ]
      }
     ],
     "prompt_number": 38
    },
    {
     "cell_type": "markdown",
     "metadata": {},
     "source": [
      "posso usare una lista di indici, che ritorna una copia (anche multipla) dei elementi nelle posizioni scelte"
     ]
    },
    {
     "cell_type": "code",
     "collapsed": false,
     "input": [
      "a[ [ 0, 0, 0, 1, -1, 2 ] ]"
     ],
     "language": "python",
     "metadata": {},
     "outputs": [
      {
       "output_type": "pyout",
       "prompt_number": 31,
       "text": [
        "array([6, 6, 6, 3, 4, 2])"
       ]
      }
     ],
     "prompt_number": 31
    },
    {
     "cell_type": "markdown",
     "metadata": {},
     "source": [
      "Un'operazione logica mi creer\u00e0 un vettore di valori booleani (veri o falsi). Posso usarli per selezionare solo una parte del mio array"
     ]
    },
    {
     "cell_type": "code",
     "collapsed": false,
     "input": [
      "print a"
     ],
     "language": "python",
     "metadata": {},
     "outputs": [
      {
       "output_type": "stream",
       "stream": "stdout",
       "text": [
        "[6 3 2 5 4]\n"
       ]
      }
     ],
     "prompt_number": 33
    },
    {
     "cell_type": "code",
     "collapsed": false,
     "input": [
      "a > 2"
     ],
     "language": "python",
     "metadata": {},
     "outputs": [
      {
       "output_type": "pyout",
       "prompt_number": 32,
       "text": [
        "array([ True,  True, False,  True,  True], dtype=bool)"
       ]
      }
     ],
     "prompt_number": 32
    },
    {
     "cell_type": "code",
     "collapsed": false,
     "input": [
      "a[ a > 2 ]"
     ],
     "language": "python",
     "metadata": {},
     "outputs": [
      {
       "output_type": "pyout",
       "prompt_number": 34,
       "text": [
        "array([6, 3, 5, 4])"
       ]
      }
     ],
     "prompt_number": 34
    },
    {
     "cell_type": "code",
     "collapsed": false,
     "input": [
      "a[ a > 2 ] = 2\n",
      "print a"
     ],
     "language": "python",
     "metadata": {},
     "outputs": [
      {
       "output_type": "stream",
       "stream": "stdout",
       "text": [
        "[2 2 2 2 2]\n"
       ]
      }
     ],
     "prompt_number": 35
    },
    {
     "cell_type": "markdown",
     "metadata": {},
     "source": [
      "Posso usare quest'indicizzazione in modi anche elaborati"
     ]
    },
    {
     "cell_type": "code",
     "collapsed": false,
     "input": [
      "a[ 0.1 + sin( a ) < 0 ]"
     ],
     "language": "python",
     "metadata": {},
     "outputs": []
    },
    {
     "cell_type": "markdown",
     "metadata": {},
     "source": [
      "Se ho array in pi\u00f9 dimensioni posso indicizzare ogni dimensione come mi risulta pi\u00f9 comodo"
     ]
    },
    {
     "cell_type": "code",
     "collapsed": false,
     "input": [
      "a = rand(5,5)\n",
      "a"
     ],
     "language": "python",
     "metadata": {},
     "outputs": [
      {
       "output_type": "pyout",
       "prompt_number": 36,
       "text": [
        "array([[ 0.44064053,  0.40447834,  0.38838727,  0.49671636,  0.77947926],\n",
        "       [ 0.28131625,  0.52119272,  0.66806669,  0.19636839,  0.12008209],\n",
        "       [ 0.25424678,  0.27113048,  0.64880807,  0.5637006 ,  0.97963382],\n",
        "       [ 0.44091825,  0.14593707,  0.61338873,  0.62426644,  0.54535867],\n",
        "       [ 0.9569524 ,  0.97607021,  0.0131666 ,  0.55964079,  0.18401332]])"
       ]
      }
     ],
     "prompt_number": 36
    },
    {
     "cell_type": "code",
     "collapsed": false,
     "input": [
      "a[ 2: 4, [3, 0, 0] ]"
     ],
     "language": "python",
     "metadata": {},
     "outputs": [
      {
       "output_type": "pyout",
       "prompt_number": 37,
       "text": [
        "array([[ 0.5637006 ,  0.25424678,  0.25424678],\n",
        "       [ 0.62426644,  0.44091825,  0.44091825]])"
       ]
      }
     ],
     "prompt_number": 37
    },
    {
     "cell_type": "code",
     "collapsed": false,
     "input": [
      "a[ a < 0.5 ] = 0.0\n",
      "print a"
     ],
     "language": "python",
     "metadata": {},
     "outputs": [
      {
       "output_type": "stream",
       "stream": "stdout",
       "text": [
        "[[ 0.          0.          0.          0.          0.77947926]\n",
        " [ 0.          0.52119272  0.66806669  0.          0.        ]\n",
        " [ 0.          0.          0.64880807  0.5637006   0.97963382]\n",
        " [ 0.          0.          0.61338873  0.62426644  0.54535867]\n",
        " [ 0.9569524   0.97607021  0.          0.55964079  0.        ]]\n"
       ]
      }
     ],
     "prompt_number": 38
    },
    {
     "cell_type": "markdown",
     "metadata": {},
     "source": [
      "----\n",
      "###Costruttori di array\n",
      "\n",
      "Esistono diverse funzioni per creare degli array con forme e contenuto desiderati. Di seguito elenchiamo i pi\u00f9 comuni"
     ]
    },
    {
     "cell_type": "code",
     "collapsed": false,
     "input": [
      "ones(10)"
     ],
     "language": "python",
     "metadata": {},
     "outputs": [
      {
       "output_type": "pyout",
       "prompt_number": 39,
       "text": [
        "array([ 1.,  1.,  1.,  1.,  1.,  1.,  1.,  1.,  1.,  1.])"
       ]
      }
     ],
     "prompt_number": 39
    },
    {
     "cell_type": "code",
     "collapsed": false,
     "input": [
      "zeros(10)"
     ],
     "language": "python",
     "metadata": {},
     "outputs": [
      {
       "output_type": "pyout",
       "prompt_number": 40,
       "text": [
        "array([ 0.,  0.,  0.,  0.,  0.,  0.,  0.,  0.,  0.,  0.])"
       ]
      }
     ],
     "prompt_number": 40
    },
    {
     "cell_type": "code",
     "collapsed": false,
     "input": [
      "eye(4)"
     ],
     "language": "python",
     "metadata": {},
     "outputs": [
      {
       "output_type": "pyout",
       "prompt_number": 41,
       "text": [
        "array([[ 1.,  0.,  0.,  0.],\n",
        "       [ 0.,  1.,  0.,  0.],\n",
        "       [ 0.,  0.,  1.,  0.],\n",
        "       [ 0.,  0.,  0.,  1.]])"
       ]
      }
     ],
     "prompt_number": 41
    },
    {
     "cell_type": "code",
     "collapsed": false,
     "input": [
      "#casuali uniformi\n",
      "rand(10)"
     ],
     "language": "python",
     "metadata": {},
     "outputs": [
      {
       "output_type": "pyout",
       "prompt_number": 42,
       "text": [
        "array([ 0.28460151,  0.23623458,  0.95191048,  0.14316257,  0.72528381,\n",
        "        0.39337458,  0.77426227,  0.56020645,  0.70844105,  0.66274223])"
       ]
      }
     ],
     "prompt_number": 42
    },
    {
     "cell_type": "code",
     "collapsed": false,
     "input": [
      "# casuali gaussiani\n",
      "randn(10)"
     ],
     "language": "python",
     "metadata": {},
     "outputs": [
      {
       "output_type": "pyout",
       "prompt_number": 43,
       "text": [
        "array([ 0.13558846, -1.68280105, -0.70230274, -0.04952756, -0.9390575 ,\n",
        "        0.08519987,  0.00678516, -0.51944407,  0.61123962, -1.54240623])"
       ]
      }
     ],
     "prompt_number": 43
    },
    {
     "cell_type": "code",
     "collapsed": false,
     "input": [
      "arange(10)"
     ],
     "language": "python",
     "metadata": {},
     "outputs": [
      {
       "output_type": "pyout",
       "prompt_number": 44,
       "text": [
        "array([0, 1, 2, 3, 4, 5, 6, 7, 8, 9])"
       ]
      }
     ],
     "prompt_number": 44
    },
    {
     "cell_type": "markdown",
     "metadata": {},
     "source": [
      "----\n",
      "##Matplotlib - visualizzazione dati\n",
      "\n",
      "Matplotlib \u00e8 praticamente la libreria standard nell'ambiente scientifico di python per la visualizzazione di dati. Fornisce infatti moltissime routine di visualizzazione con un grado ci controllo estremamente sottile, e nel contempo molte funzioni di alto livello per visualizzare i dati in poche righe (inspirato dall'interfaccia di plotting di matlab, con i suoi pro e contro). Normalmente questi grafici possono essere visualizzati come finiestre a s\u00e9 stanti o salvati come immagini, ma in questo caso, grazie ad ipython le riusciremo a visualizzare in mezzo al testo.\n",
      "\n",
      "Le due funzioni di utilizzo pi\u00f9 comune sono **plot** ed **hist** , ma ne esistono un'enormit\u00e0 di altre."
     ]
    },
    {
     "cell_type": "code",
     "collapsed": false,
     "input": [
      "x = arange(0, 10, 1)\n",
      "y = x**2"
     ],
     "language": "python",
     "metadata": {},
     "outputs": [],
     "prompt_number": 45
    },
    {
     "cell_type": "code",
     "collapsed": false,
     "input": [
      "plot(x, y)\n",
      "show()"
     ],
     "language": "python",
     "metadata": {},
     "outputs": [
      {
       "output_type": "display_data",
       "png": "[encoded data removed]"
      }
     ],
     "prompt_number": 46
    },
    {
     "cell_type": "markdown",
     "metadata": {},
     "source": [
      "Posso specificare anche propriet\u00e0 del plot"
     ]
    },
    {
     "cell_type": "code",
     "collapsed": false,
     "input": [
      "plot(x, y, color='r', marker='o', linestyle='--')\n",
      "show()"
     ],
     "language": "python",
     "metadata": {},
     "outputs": [
      {
       "output_type": "display_data",
       "png": "[encoded data removed]"
      }
     ],
     "prompt_number": 47
    },
    {
     "cell_type": "markdown",
     "metadata": {},
     "source": [
      "Queste propriet\u00e0 posso essere sintetizzate anche in una stringa sola (ma non fatelo se non \u00e8 necessario..leggibilit\u00f2, ricordate?). Vari plot entrano sempre nella stessa figura a meno che non ne creiate una nuova, e potete facilmente personalizzare dei dettagli del grafico"
     ]
    },
    {
     "cell_type": "code",
     "collapsed": false,
     "input": [
      "plot(x, y, 'ro--')\n",
      "plot(x, x**3 - x, 'b-.')\n",
      "ylabel(r\"evolution of $\\sum \\theta$\")\n",
      "xlabel(\"time\")\n",
      "grid(False)\n",
      "annotate( 'this is the point', (5, 150), (2, 500), arrowprops={'width':1})\n",
      "show()"
     ],
     "language": "python",
     "metadata": {},
     "outputs": [
      {
       "output_type": "display_data",
       "png": "[encoded data removed]"
      }
     ],
     "prompt_number": 48
    },
    {
     "cell_type": "markdown",
     "metadata": {},
     "source": [
      "In modo esattamente identico posso ottenere l'istogramma di una grandezza"
     ]
    },
    {
     "cell_type": "code",
     "collapsed": false,
     "input": [
      "data_1 =  rand(10000)\n",
      "data_2 = randn(10000)\n",
      "\n",
      "hist(data_1, normed=True, color='red', alpha=0.5)\n",
      "hist(data_2, normed=True, color='purple', alpha=0.5, bins=50)\n",
      "show()"
     ],
     "language": "python",
     "metadata": {},
     "outputs": [
      {
       "output_type": "display_data",
       "png": "[encoded data removed]"
      }
     ],
     "prompt_number": 49
    },
    {
     "cell_type": "markdown",
     "metadata": {},
     "source": [
      "----\n",
      "##Scipy - algoritmi numerici\n",
      "\n",
      "Scipy \u00e8 un'enorme collezione di algoritmi di calcolo numerico basati sugli array di numpy. Molti di questi algoritmi sono in realt\u00e0 delle semplici interfaccie \"umane\" a librerie di calcolo note e sviluppate da molti anni cone le LAPACK, BLAS e simili. Vediamo qualche esempio sparso per dare un'idea delle sue potenzialit\u00e0."
     ]
    },
    {
     "cell_type": "markdown",
     "metadata": {},
     "source": [
      "----\n",
      "###minimizzare una funzione\n",
      "\n",
      "Ho la funzione minimize (che mi fornisce un'interfaccia unica ai tanti algoritmi disponibili) che mi chiede di base solo la funzione ed il punto di guess iniziale."
     ]
    },
    {
     "cell_type": "code",
     "collapsed": false,
     "input": [
      "from scipy.optimize import minimize"
     ],
     "language": "python",
     "metadata": {},
     "outputs": [],
     "prompt_number": 50
    },
    {
     "cell_type": "code",
     "collapsed": false,
     "input": [
      "def my_target_function(x):\n",
      "    return x**2 + x\n",
      "minimize( my_target_function, x0=0.0)"
     ],
     "language": "python",
     "metadata": {},
     "outputs": [
      {
       "output_type": "pyout",
       "prompt_number": 51,
       "text": [
        "  status: 0\n",
        " success: True\n",
        "    njev: 3\n",
        "    nfev: 9\n",
        "     fun: -0.25\n",
        "       x: array([-0.5])\n",
        " message: 'Optimization terminated successfully.'\n",
        "    hess: array([[1]])\n",
        "     jac: array([  2.23517418e-08])"
       ]
      }
     ],
     "prompt_number": 51
    },
    {
     "cell_type": "markdown",
     "metadata": {},
     "source": [
      "Posso usare le funzioni **lambda**, ovvero definite *inline* per rendere ancora pi\u00f9 sintetica questa espressione"
     ]
    },
    {
     "cell_type": "code",
     "collapsed": false,
     "input": [
      "minimize( lambda x: x * sin(x + 5), x0=0.0)"
     ],
     "language": "python",
     "metadata": {},
     "outputs": [
      {
       "output_type": "pyout",
       "prompt_number": 52,
       "text": [
        "  status: 0\n",
        " success: True\n",
        "    njev: 6\n",
        "    nfev: 18\n",
        "     fun: -0.38575559304141427\n",
        "       x: array([ 0.68357067])\n",
        " message: 'Optimization terminated successfully.'\n",
        "    hess: array([[ 0.49164991]])\n",
        "     jac: array([ -4.50760126e-07])"
       ]
      }
     ],
     "prompt_number": 52
    },
    {
     "cell_type": "markdown",
     "metadata": {},
     "source": [
      "----\n",
      "###Integrazioni di equazioni differenziali\n",
      "\n",
      "Tramite la funzione **odeint**, che richiede in modo simile al caso precedente una funzione che accetti lo stato ed il tempo e ritorni in campo, lo stato iniziale ed i momenti di tempo in cui si vuole calcolare la soluzione."
     ]
    },
    {
     "cell_type": "code",
     "collapsed": false,
     "input": [
      "from scipy.integrate import odeint"
     ],
     "language": "python",
     "metadata": {},
     "outputs": [],
     "prompt_number": 54
    },
    {
     "cell_type": "code",
     "collapsed": false,
     "input": [
      "def oscillatore( s, t ):\n",
      "    x = s[0]\n",
      "    v = s[1]\n",
      "    return ( +v, -x )\n",
      "\n",
      "tempo = arange( 0.0, 5.0, 0.1 )\n",
      "\n",
      "res = odeint( oscillatore, (0.0, 10.0), tempo )\n",
      "x, v = res.T\n",
      "\n",
      "plot( tempo, x, label='spazio')\n",
      "plot( tempo, v, label=u'velocit\u00e0' )\n",
      "legend()"
     ],
     "language": "python",
     "metadata": {},
     "outputs": [
      {
       "output_type": "pyout",
       "prompt_number": 55,
       "text": [
        "<matplotlib.legend.Legend at 0x3ae2a90>"
       ]
      },
      {
       "output_type": "display_data",
       "png": "[encoded data removed]"
      }
     ],
     "prompt_number": 55
    },
    {
     "cell_type": "markdown",
     "metadata": {},
     "source": [
      "----\n",
      "###convoluzione di due segnali\n",
      "\n",
      "La convoluzione \u00e8 fornita da due sottomoduli differenti, con comportamenti leggermente diversi.\n",
      "C'\u00e8 la funzione convolve fel modulo **signal** (per il signa processing) e quella del modulo **ndimage** (per l'image processing)"
     ]
    },
    {
     "cell_type": "code",
     "collapsed": false,
     "input": [
      "kernel = array( [0.0, 0.5, 1.0, 2.0, 1.0, 0.5, 0.0]) /5.0\n",
      "\n",
      "segnale = r_[ ones(30), zeros(30) ]"
     ],
     "language": "python",
     "metadata": {},
     "outputs": [],
     "prompt_number": 56
    },
    {
     "cell_type": "code",
     "collapsed": false,
     "input": [
      "from scipy.signal import fftconvolve as convolve\n",
      "\n",
      "conv_signal = convolve( segnale, kernel, mode='same' )\n",
      "\n",
      "plot(segnale)\n",
      "plot(conv_signal)"
     ],
     "language": "python",
     "metadata": {},
     "outputs": [
      {
       "output_type": "pyout",
       "prompt_number": 57,
       "text": [
        "[<matplotlib.lines.Line2D at 0x3ab8cd0>]"
       ]
      },
      {
       "output_type": "display_data",
       "png": "[encoded data removed]"
      }
     ],
     "prompt_number": 57
    },
    {
     "cell_type": "code",
     "collapsed": false,
     "input": [
      "from scipy.ndimage import convolve\n",
      "\n",
      "conv_signal = convolve( segnale, kernel)\n",
      "\n",
      "plot(segnale)\n",
      "plot(conv_signal)"
     ],
     "language": "python",
     "metadata": {},
     "outputs": [
      {
       "output_type": "pyout",
       "prompt_number": 58,
       "text": [
        "[<matplotlib.lines.Line2D at 0x41bd210>]"
       ]
      },
      {
       "output_type": "display_data",
       "png": "[encoded data removed]"
      }
     ],
     "prompt_number": 58
    },
    {
     "cell_type": "markdown",
     "metadata": {},
     "source": [
      "----\n",
      "###distribuzioni statistiche\n",
      "\n",
      "il modulo **stats** contiene un gran numero di distribuzioni di probabilit\u00e0 che permettono di fittare distribuzioni ed estrarre numeri a caso dalle stesse"
     ]
    },
    {
     "cell_type": "code",
     "collapsed": false,
     "input": [
      "from scipy.stats import binom"
     ],
     "language": "python",
     "metadata": {},
     "outputs": [],
     "prompt_number": 59
    },
    {
     "cell_type": "code",
     "collapsed": false,
     "input": [
      "binom.rvs(10, 0.2, size=20)"
     ],
     "language": "python",
     "metadata": {},
     "outputs": [
      {
       "output_type": "pyout",
       "prompt_number": 60,
       "text": [
        "array([3, 2, 5, 1, 2, 0, 3, 1, 3, 1, 2, 2, 1, 3, 2, 2, 1, 3, 3, 4])"
       ]
      }
     ],
     "prompt_number": 60
    },
    {
     "cell_type": "code",
     "collapsed": false,
     "input": [
      "x = arange(0,11)\n",
      "p = binom.pmf(x, 10, 0.2)\n",
      "\n",
      "print p\n",
      "\n",
      "bar(x-0.5, p, width=1.0, edgecolor='k')\n",
      "show()"
     ],
     "language": "python",
     "metadata": {},
     "outputs": [
      {
       "output_type": "stream",
       "stream": "stdout",
       "text": [
        "[  1.07374182e-01   2.68435456e-01   3.01989888e-01   2.01326592e-01\n",
        "   8.80803840e-02   2.64241152e-02   5.50502400e-03   7.86432000e-04\n",
        "   7.37280000e-05   4.09600000e-06   1.02400000e-07]\n"
       ]
      },
      {
       "output_type": "display_data",
       "png": "[encoded data removed]"
      }
     ],
     "prompt_number": 62
    },
    {
     "cell_type": "markdown",
     "metadata": {},
     "source": [
      "----\n",
      "\n",
      "----\n",
      "\n",
      "----"
     ]
    },
    {
     "cell_type": "code",
     "collapsed": false,
     "input": [
      "#questo snippet mi permette di usare una visualizzazione pi\u00f9 gradevole\n",
      "from IPython.core.display import HTML\n",
      "def css_styling():\n",
      "    styles = open(\"./styles/custom.css\", \"r\").read()\n",
      "    return HTML(styles)\n",
      "css_styling()"
     ],
     "language": "python",
     "metadata": {},
     "outputs": []
    }
   ],
   "metadata": {}
  }
 ]
}