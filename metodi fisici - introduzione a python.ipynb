{
 "metadata": {
  "name": "metodi fisici - introduzione a python"
 },
 "nbformat": 3,
 "nbformat_minor": 0,
 "worksheets": [
  {
   "cells": [
    {
     "cell_type": "code",
     "collapsed": false,
     "input": [
      "#questo snippet mi permette di usare una visualizzazione pi\u00f9 carina\n",
      "from IPython.core.display import HTML\n",
      "def css_styling():\n",
      "    styles = open(\"./styles/custom.css\", \"r\").read()\n",
      "    return HTML(styles)\n",
      "css_styling()"
     ],
     "language": "python",
     "metadata": {},
     "outputs": [
      {
       "html": [
        "<style>\n",
        "    @font-face {\n",
        "        font-family: \"Computer Modern\";\n",
        "        src: url('http://mirrors.ctan.org/fonts/cm-unicode/fonts/otf/cmunss.otf');\n",
        "    }\n",
        "    div.cell{\n",
        "        width:800px;\n",
        "        margin-left:auto;\n",
        "        margin-right:auto;\n",
        "    }\n",
        "    h1 {\n",
        "        font-family: \"Charis SIL\", Palatino, serif;\n",
        "    }\n",
        "    h4{\n",
        "        margin-top:12px;\n",
        "        margin-bottom: 3px;\n",
        "       }\n",
        "    div.text_cell_render{\n",
        "        font-family: Computer Modern, \"Helvetica Neue\", Arial, Helvetica, Geneva, sans-serif;\n",
        "        line-height: 145%;\n",
        "        font-size: 120%;\n",
        "        width:800px;\n",
        "        margin-left:auto;\n",
        "        margin-right:auto;\n",
        "    }\n",
        "    .CodeMirror{\n",
        "            font-family: \"Source Code Pro\", source-code-pro,Consolas, monospace;\n",
        "    }\n",
        "    .prompt{\n",
        "        display: None;\n",
        "    }\n",
        "    .text_cell_render h5 {\n",
        "        font-weight: 300;\n",
        "        font-size: 16pt;\n",
        "        color: #4057A1;\n",
        "        font-style: italic;\n",
        "        margin-bottom: .5em;\n",
        "        margin-top: 0.5em;\n",
        "        display: block;\n",
        "    }\n",
        "    \n",
        "    .warning{\n",
        "        color: rgb( 240, 20, 20 )\n",
        "        }\n",
        "</style>\n",
        "<script>\n",
        "    MathJax.Hub.Config({\n",
        "                        TeX: {\n",
        "                           extensions: [\"AMSmath.js\"]\n",
        "                           },\n",
        "                tex2jax: {\n",
        "                    inlineMath: [ ['$','$'], [\"\\\\(\",\"\\\\)\"] ],\n",
        "                    displayMath: [ ['$$','$$'], [\"\\\\[\",\"\\\\]\"] ]\n",
        "                },\n",
        "                displayAlign: 'center', // Change this to 'center' to center equations.\n",
        "                \"HTML-CSS\": {\n",
        "                    styles: {'.MathJax_Display': {\"margin\": 4}}\n",
        "                }\n",
        "        });\n",
        "</script>"
       ],
       "output_type": "pyout",
       "prompt_number": 10,
       "text": [
        "<IPython.core.display.HTML at 0x34bcc90>"
       ]
      }
     ],
     "prompt_number": 10
    },
    {
     "cell_type": "markdown",
     "metadata": {},
     "source": [
      "----\n",
      "#Introduzione a Python\n",
      "\n",
      "https://www.python.org\n",
      "\n",
      "Potete trovare questa lezione (ed altre) sul mio sito github:\n",
      "\n",
      "https://github.com/EnricoGiampieri/lezionipython\n",
      "\n",
      "Il Python \u00e8 un linguaggio interpretato di alto livello.\n",
      "\n",
      "Questa \u00e8 una maniera complicata per dire che evita moltissimi dei dolori della programmazione classica: il fatto che sia interpretato significa che non sono necessari step di compilazione, rendendo pi\u00f9 semplice il ciclo sviluppo - esecuzione - correzione\n",
      "\n",
      "    >>> dimostrazione\n",
      "\n",
      "Python ha come principale linea guida il concetto di **leggibilit\u00e0**, cercando il pi\u00f9 possibile di rendere semplice agli sviluppatori scrivere librerie semplici ed intuitive.\n",
      "\n",
      "Questo permette di utilizzare soltanto python per sviluppare i prototipi del codice fino ad arrivare al codice di produzione, semplificando e velocizzando l'intero processo che parte dall'idea che si vuole implementare fino ad ottenere il risultato finale.\n",
      "\n",
      "Python supporta di base tutte le operazioni matematiche pi\u00f9 comuni, compreso il supporto per la matematica complessa, e tutti i costrutti pi\u00f9 comuni di programmazione (e molti altri) come:\n",
      "\n",
      "- if, elif, else\n",
      "- cicli for e while\n",
      "- definizione di funzioni e classi\n",
      "\n",
      "Una particolarit\u00e0 del ciclo **for** merita di essere sottolineata. Contrariamente a quanto accade nel C, non si limita a scorrere dei numeri in sequenza, ma sfoglia una lista e ne ritorna uno dopo l'altro tutti gli elementi."
     ]
    },
    {
     "cell_type": "code",
     "collapsed": false,
     "input": [
      "lista = [1, 4, 'pippo', ['lista innestata']]\n",
      "for elemento in lista:\n",
      "    print elemento"
     ],
     "language": "python",
     "metadata": {},
     "outputs": [
      {
       "output_type": "stream",
       "stream": "stdout",
       "text": [
        "1\n",
        "4\n",
        "pippo\n",
        "['lista innestata']\n"
       ]
      }
     ],
     "prompt_number": 1
    },
    {
     "cell_type": "markdown",
     "metadata": {},
     "source": [
      "Inclusi nel linguaggio di base arrivano anche molte strutture dati estremanente utili. Una lista non esaustiva include:\n",
      "\n",
      "- liste\n",
      "- stringhe\n",
      "- set\n",
      "- dizionari\n",
      "- deque\n",
      "- heap\n",
      "\n",
      "Una menzione particolare la meritano i dizionari, che permettono di memorizzare dei dati in modalit\u00e0 random (ovvero non sequenziale) accedendovi tramite nomi esplicativi"
     ]
    },
    {
     "cell_type": "code",
     "collapsed": false,
     "input": [
      "rubrica = dict()\n",
      "rubrica['Ludovico Fabbri'] = ('334-5678901', 'Via Larga 34, Bo')\n",
      "print rubrica['Ludovico Fabbri']"
     ],
     "language": "python",
     "metadata": {},
     "outputs": [
      {
       "output_type": "stream",
       "stream": "stdout",
       "text": [
        "('334-5678901', 'Via Larga 34, Bo')\n"
       ]
      }
     ],
     "prompt_number": 2
    },
    {
     "cell_type": "markdown",
     "metadata": {},
     "source": [
      "Tutte le funzionalit\u00e0 aggiuntive al linguaggio di base vengono fornite da delle librerie. Python arriva con un gran numero di librerie interne, ma quelle per il calcolo numerico vanno installate a parte.\n",
      "\n",
      "Una volta installata la libreria, per utilizzarla \u00e8 sufficiente il comando **import**. Per usare ad esempio le librerie di calcolo numerico sar\u00e0 necessario scrivere"
     ]
    },
    {
     "cell_type": "code",
     "collapsed": false,
     "input": [
      "import numpy"
     ],
     "language": "python",
     "metadata": {},
     "outputs": [],
     "prompt_number": 3
    },
    {
     "cell_type": "markdown",
     "metadata": {},
     "source": [
      "Questo crea un oggetto chiamato **numpy** che contiene tutte le classi e le funzioni di quella libreria. Per lanciare poi una funzione \u00e8 sufficiente scrivere\n"
     ]
    },
    {
     "cell_type": "code",
     "collapsed": false,
     "input": [
      "numpy.eye(3)"
     ],
     "language": "python",
     "metadata": {},
     "outputs": [
      {
       "output_type": "pyout",
       "prompt_number": 4,
       "text": [
        "array([[ 1.,  0.,  0.],\n",
        "       [ 0.,  1.,  0.],\n",
        "       [ 0.,  0.,  1.]])"
       ]
      }
     ],
     "prompt_number": 4
    },
    {
     "cell_type": "markdown",
     "metadata": {},
     "source": [
      "Questa funzione crea una matrice identit\u00e0. Posso assegnare il risultato di questa operazione ad una variabile (senza bisogno didichiararla)"
     ]
    },
    {
     "cell_type": "code",
     "collapsed": false,
     "input": [
      "identity = numpy.eye(3)\n",
      "identity"
     ],
     "language": "python",
     "metadata": {},
     "outputs": [
      {
       "output_type": "pyout",
       "prompt_number": 5,
       "text": [
        "array([[ 1.,  0.,  0.],\n",
        "       [ 0.,  1.,  0.],\n",
        "       [ 0.,  0.,  1.]])"
       ]
      }
     ],
     "prompt_number": 5
    },
    {
     "cell_type": "markdown",
     "metadata": {},
     "source": [
      "Questa variabile \u00e8 un **oggetto**. Python \u00e8 infatti un linguaggio fortemente orientato agli oggetti, anche se f\u00e0 del suo meglio per nasconderlo. Posso infatti accedere ai metodi della classe tramite la sintassi \n",
      "    \n",
      "    oggetto.funzione()"
     ]
    },
    {
     "cell_type": "code",
     "collapsed": false,
     "input": [
      "print identity.sum()"
     ],
     "language": "python",
     "metadata": {},
     "outputs": [
      {
       "output_type": "stream",
       "stream": "stdout",
       "text": [
        "3.0\n"
       ]
      }
     ],
     "prompt_number": 6
    },
    {
     "cell_type": "markdown",
     "metadata": {},
     "source": [
      "per sapere quali siano i metodi disponibili nell'oggetto possiamo eseguire la funzione help, come anche per avere informazioni sulle funzioni."
     ]
    },
    {
     "cell_type": "code",
     "collapsed": false,
     "input": [
      "help(identity.sum)"
     ],
     "language": "python",
     "metadata": {},
     "outputs": [
      {
       "output_type": "stream",
       "stream": "stdout",
       "text": [
        "Help on built-in function sum:\n",
        "\n",
        "sum(...)\n",
        "    a.sum(axis=None, dtype=None, out=None)\n",
        "    \n",
        "    Return the sum of the array elements over the given axis.\n",
        "    \n",
        "    Refer to `numpy.sum` for full documentation.\n",
        "    \n",
        "    See Also\n",
        "    --------\n",
        "    numpy.sum : equivalent function\n",
        "\n"
       ]
      }
     ],
     "prompt_number": 7
    },
    {
     "cell_type": "code",
     "collapsed": false,
     "input": [
      "#non mostro il risultato perch\u00e8 \u00e8 lungo qualche decina di pagine\n",
      "#help(identity)"
     ],
     "language": "python",
     "metadata": {},
     "outputs": [],
     "prompt_number": 8
    },
    {
     "cell_type": "markdown",
     "metadata": {},
     "source": [
      "\u00c8 possibile definire le proprie funzioni tramite il comando **def**.\n",
      "In questo caso creer\u00f2 una funzione che prende due oggetti e ne restituisce la somma.\n",
      "\n",
      "A python non interessa di che oggetti di tratti, fintantoch\u00e8 sia definita fra di loro una somma.\n",
      "Posso usare questa funzione per sommare indifferentemente fra di loro numeri, stringhe, liste o distribuzioni di probabilit\u00e0."
     ]
    },
    {
     "cell_type": "code",
     "collapsed": false,
     "input": [
      "def mia_funzione(a, b):\n",
      "    return a+b\n",
      "\n",
      "print mia_funzione(1, 2)\n",
      "print mia_funzione('hello ', 'world!')\n",
      "print mia_funzione([1, 2, 3], [4, 5, 6])"
     ],
     "language": "python",
     "metadata": {},
     "outputs": [
      {
       "output_type": "stream",
       "stream": "stdout",
       "text": [
        "3\n",
        "hello world!\n",
        "[1, 2, 3, 4, 5, 6]\n"
       ]
      }
     ],
     "prompt_number": 9
    },
    {
     "cell_type": "markdown",
     "metadata": {},
     "source": [
      "----\n",
      "##Utilizzare Python\n",
      "\n",
      "Esistono molti modi diversi di lavorare tramite Python.\n",
      "\n",
      "Il fondamentale \u00e8 tramite la shell di python, un terminale che esegue le righe di comando mano a mano che vengono inserite, ed \u00e8 estremamente utile per testare il codice al volo prima di inserirlo dentro un programma. Il terminale di python si pu\u00f2 lanciare da terminale digitando **python**.\n",
      "\n",
      "Il secondo metodo \u00e8 scrivere uno (o pi\u00f9) script contenente i comandi che si vogliono eseguire, e farlo eseguire da python come un programma qualsiasi tramite il comando **python nomedelfile.py**.\n",
      "\n",
      "Le cose pi\u00f9 interessanti di trovano per\u00f2 andando a cercare fra i vari programmi disponibili.\n",
      "\n",
      "Uno degli editor pi\u00f9 famosi per il calcolo scientifico in python \u00e8 **Spyder** (http://code.google.com/p/spyderlib/), che fornisce un'interfaccia molto simile a quella di Matlab.\n",
      "\n",
      "Un'altro approccio \u00e8 l'utilizzo di un IDE (Integrated Development Environment) completo, quale PyCharm, Wing o Eclipse. Il mio personale preferito, molto pi\u00f9 semplice ma con tutte le funzioni che mi servono \u00e8 **Ninja** (http://ninja-ide.org/).\n",
      "\n",
      "Fra tutti lo strumento per\u00f2 in assoluto pi\u00f9 potente \u00e8 sicuramente **IPython** (http://ipython.org/). IPython fornisce tre programmi:\n",
      "\n",
      "- la IPython shell, che \u00e8 descrivibile come un terminale python sotto steroidi, che pu\u00f2 tranquillamente sostituire la shell di sistema\n",
      "- La QTConsole, che contiene un ibrido fra una shell ed un sistema di gestione tramite GUI, e permette l'utilizzo dei grafici inline invece che in finestre separate.\n",
      "- Il Notebook, ovvero quello che st\u00f2 usando in questo momento, che \u00e8 un'interfaccia web ad un serve di esecuzione che permette di mescolare testo, codice, grafica e formule in un unico insieme. In particolare quello che st\u00f2 usando in questo momento \u00e8 la versione **0.13** di IPython, con qualche modifica per migliorare l'estetica complessiva."
     ]
    },
    {
     "cell_type": "code",
     "collapsed": false,
     "input": [],
     "language": "python",
     "metadata": {},
     "outputs": []
    }
   ],
   "metadata": {}
  }
 ]
}